{
 "cells": [
  {
   "cell_type": "code",
   "execution_count": 3,
   "id": "986a6ce1-2ffe-4c18-830d-3213eb6ccec5",
   "metadata": {},
   "outputs": [],
   "source": [
    "import pandas as pd\n",
    "import numpy as np\n",
    "import seaborn as sns\n",
    "import matplotlib\n",
    "import country_converter as coco"
   ]
  },
  {
   "cell_type": "code",
   "execution_count": 4,
   "id": "37ee6552-26dc-482c-8d07-e62e9812c61e",
   "metadata": {},
   "outputs": [],
   "source": [
    "df = pd.read_csv(r\"C:\\Users\\simbi\\Ironhack\\Proyecto\\datos_proyecto\\attacks.csv\", encoding =\"unicode_escape\")\n",
    "\n",
    "#df = pd.read_csv(r\"C:\\Users\\nuc_humbertore\\Ironhack\\primer_proyecto_DAPT\\datos_proyecto\\attacks.csv\", encoding =\"unicode_escape\")"
   ]
  },
  {
   "cell_type": "markdown",
   "id": "5e8c9f00-5045-42d3-a7da-9f7c3fa5ace8",
   "metadata": {
    "tags": []
   },
   "source": [
    "# Limpieza de los datos\n",
    "## 2.2 filas"
   ]
  },
  {
   "cell_type": "code",
   "execution_count": 5,
   "id": "e9f78955-9fae-41c3-b51e-f31d8d675e60",
   "metadata": {},
   "outputs": [
    {
     "data": {
      "text/html": [
       "<div>\n",
       "<style scoped>\n",
       "    .dataframe tbody tr th:only-of-type {\n",
       "        vertical-align: middle;\n",
       "    }\n",
       "\n",
       "    .dataframe tbody tr th {\n",
       "        vertical-align: top;\n",
       "    }\n",
       "\n",
       "    .dataframe thead th {\n",
       "        text-align: right;\n",
       "    }\n",
       "</style>\n",
       "<table border=\"1\" class=\"dataframe\">\n",
       "  <thead>\n",
       "    <tr style=\"text-align: right;\">\n",
       "      <th></th>\n",
       "      <th>Case Number</th>\n",
       "      <th>Date</th>\n",
       "      <th>Year</th>\n",
       "      <th>Type</th>\n",
       "      <th>Country</th>\n",
       "      <th>Area</th>\n",
       "      <th>Location</th>\n",
       "      <th>Activity</th>\n",
       "      <th>Name</th>\n",
       "      <th>Sex</th>\n",
       "      <th>...</th>\n",
       "      <th>Species</th>\n",
       "      <th>Investigator or Source</th>\n",
       "      <th>pdf</th>\n",
       "      <th>href formula</th>\n",
       "      <th>href</th>\n",
       "      <th>Case Number.1</th>\n",
       "      <th>Case Number.2</th>\n",
       "      <th>original order</th>\n",
       "      <th>Unnamed: 22</th>\n",
       "      <th>Unnamed: 23</th>\n",
       "    </tr>\n",
       "  </thead>\n",
       "  <tbody>\n",
       "    <tr>\n",
       "      <th>0</th>\n",
       "      <td>2018.06.25</td>\n",
       "      <td>25-Jun-2018</td>\n",
       "      <td>2018.0</td>\n",
       "      <td>Boating</td>\n",
       "      <td>USA</td>\n",
       "      <td>California</td>\n",
       "      <td>Oceanside, San Diego County</td>\n",
       "      <td>Paddling</td>\n",
       "      <td>Julie Wolfe</td>\n",
       "      <td>F</td>\n",
       "      <td>...</td>\n",
       "      <td>White shark</td>\n",
       "      <td>R. Collier, GSAF</td>\n",
       "      <td>2018.06.25-Wolfe.pdf</td>\n",
       "      <td>http://sharkattackfile.net/spreadsheets/pdf_di...</td>\n",
       "      <td>http://sharkattackfile.net/spreadsheets/pdf_di...</td>\n",
       "      <td>2018.06.25</td>\n",
       "      <td>2018.06.25</td>\n",
       "      <td>6303.0</td>\n",
       "      <td>NaN</td>\n",
       "      <td>NaN</td>\n",
       "    </tr>\n",
       "    <tr>\n",
       "      <th>1</th>\n",
       "      <td>2018.06.18</td>\n",
       "      <td>18-Jun-2018</td>\n",
       "      <td>2018.0</td>\n",
       "      <td>Unprovoked</td>\n",
       "      <td>USA</td>\n",
       "      <td>Georgia</td>\n",
       "      <td>St. Simon Island, Glynn County</td>\n",
       "      <td>Standing</td>\n",
       "      <td>Adyson McNeely</td>\n",
       "      <td>F</td>\n",
       "      <td>...</td>\n",
       "      <td>NaN</td>\n",
       "      <td>K.McMurray, TrackingSharks.com</td>\n",
       "      <td>2018.06.18-McNeely.pdf</td>\n",
       "      <td>http://sharkattackfile.net/spreadsheets/pdf_di...</td>\n",
       "      <td>http://sharkattackfile.net/spreadsheets/pdf_di...</td>\n",
       "      <td>2018.06.18</td>\n",
       "      <td>2018.06.18</td>\n",
       "      <td>6302.0</td>\n",
       "      <td>NaN</td>\n",
       "      <td>NaN</td>\n",
       "    </tr>\n",
       "    <tr>\n",
       "      <th>2</th>\n",
       "      <td>2018.06.09</td>\n",
       "      <td>09-Jun-2018</td>\n",
       "      <td>2018.0</td>\n",
       "      <td>Invalid</td>\n",
       "      <td>USA</td>\n",
       "      <td>Hawaii</td>\n",
       "      <td>Habush, Oahu</td>\n",
       "      <td>Surfing</td>\n",
       "      <td>John Denges</td>\n",
       "      <td>M</td>\n",
       "      <td>...</td>\n",
       "      <td>NaN</td>\n",
       "      <td>K.McMurray, TrackingSharks.com</td>\n",
       "      <td>2018.06.09-Denges.pdf</td>\n",
       "      <td>http://sharkattackfile.net/spreadsheets/pdf_di...</td>\n",
       "      <td>http://sharkattackfile.net/spreadsheets/pdf_di...</td>\n",
       "      <td>2018.06.09</td>\n",
       "      <td>2018.06.09</td>\n",
       "      <td>6301.0</td>\n",
       "      <td>NaN</td>\n",
       "      <td>NaN</td>\n",
       "    </tr>\n",
       "    <tr>\n",
       "      <th>3</th>\n",
       "      <td>2018.06.08</td>\n",
       "      <td>08-Jun-2018</td>\n",
       "      <td>2018.0</td>\n",
       "      <td>Unprovoked</td>\n",
       "      <td>AUSTRALIA</td>\n",
       "      <td>New South Wales</td>\n",
       "      <td>Arrawarra Headland</td>\n",
       "      <td>Surfing</td>\n",
       "      <td>male</td>\n",
       "      <td>M</td>\n",
       "      <td>...</td>\n",
       "      <td>2 m shark</td>\n",
       "      <td>B. Myatt, GSAF</td>\n",
       "      <td>2018.06.08-Arrawarra.pdf</td>\n",
       "      <td>http://sharkattackfile.net/spreadsheets/pdf_di...</td>\n",
       "      <td>http://sharkattackfile.net/spreadsheets/pdf_di...</td>\n",
       "      <td>2018.06.08</td>\n",
       "      <td>2018.06.08</td>\n",
       "      <td>6300.0</td>\n",
       "      <td>NaN</td>\n",
       "      <td>NaN</td>\n",
       "    </tr>\n",
       "    <tr>\n",
       "      <th>4</th>\n",
       "      <td>2018.06.04</td>\n",
       "      <td>04-Jun-2018</td>\n",
       "      <td>2018.0</td>\n",
       "      <td>Provoked</td>\n",
       "      <td>MEXICO</td>\n",
       "      <td>Colima</td>\n",
       "      <td>La Ticla</td>\n",
       "      <td>Free diving</td>\n",
       "      <td>Gustavo Ramos</td>\n",
       "      <td>M</td>\n",
       "      <td>...</td>\n",
       "      <td>Tiger shark, 3m</td>\n",
       "      <td>A .Kipper</td>\n",
       "      <td>2018.06.04-Ramos.pdf</td>\n",
       "      <td>http://sharkattackfile.net/spreadsheets/pdf_di...</td>\n",
       "      <td>http://sharkattackfile.net/spreadsheets/pdf_di...</td>\n",
       "      <td>2018.06.04</td>\n",
       "      <td>2018.06.04</td>\n",
       "      <td>6299.0</td>\n",
       "      <td>NaN</td>\n",
       "      <td>NaN</td>\n",
       "    </tr>\n",
       "    <tr>\n",
       "      <th>...</th>\n",
       "      <td>...</td>\n",
       "      <td>...</td>\n",
       "      <td>...</td>\n",
       "      <td>...</td>\n",
       "      <td>...</td>\n",
       "      <td>...</td>\n",
       "      <td>...</td>\n",
       "      <td>...</td>\n",
       "      <td>...</td>\n",
       "      <td>...</td>\n",
       "      <td>...</td>\n",
       "      <td>...</td>\n",
       "      <td>...</td>\n",
       "      <td>...</td>\n",
       "      <td>...</td>\n",
       "      <td>...</td>\n",
       "      <td>...</td>\n",
       "      <td>...</td>\n",
       "      <td>...</td>\n",
       "      <td>...</td>\n",
       "      <td>...</td>\n",
       "    </tr>\n",
       "    <tr>\n",
       "      <th>25718</th>\n",
       "      <td>NaN</td>\n",
       "      <td>NaN</td>\n",
       "      <td>NaN</td>\n",
       "      <td>NaN</td>\n",
       "      <td>NaN</td>\n",
       "      <td>NaN</td>\n",
       "      <td>NaN</td>\n",
       "      <td>NaN</td>\n",
       "      <td>NaN</td>\n",
       "      <td>NaN</td>\n",
       "      <td>...</td>\n",
       "      <td>NaN</td>\n",
       "      <td>NaN</td>\n",
       "      <td>NaN</td>\n",
       "      <td>NaN</td>\n",
       "      <td>NaN</td>\n",
       "      <td>NaN</td>\n",
       "      <td>NaN</td>\n",
       "      <td>NaN</td>\n",
       "      <td>NaN</td>\n",
       "      <td>NaN</td>\n",
       "    </tr>\n",
       "    <tr>\n",
       "      <th>25719</th>\n",
       "      <td>NaN</td>\n",
       "      <td>NaN</td>\n",
       "      <td>NaN</td>\n",
       "      <td>NaN</td>\n",
       "      <td>NaN</td>\n",
       "      <td>NaN</td>\n",
       "      <td>NaN</td>\n",
       "      <td>NaN</td>\n",
       "      <td>NaN</td>\n",
       "      <td>NaN</td>\n",
       "      <td>...</td>\n",
       "      <td>NaN</td>\n",
       "      <td>NaN</td>\n",
       "      <td>NaN</td>\n",
       "      <td>NaN</td>\n",
       "      <td>NaN</td>\n",
       "      <td>NaN</td>\n",
       "      <td>NaN</td>\n",
       "      <td>NaN</td>\n",
       "      <td>NaN</td>\n",
       "      <td>NaN</td>\n",
       "    </tr>\n",
       "    <tr>\n",
       "      <th>25720</th>\n",
       "      <td>NaN</td>\n",
       "      <td>NaN</td>\n",
       "      <td>NaN</td>\n",
       "      <td>NaN</td>\n",
       "      <td>NaN</td>\n",
       "      <td>NaN</td>\n",
       "      <td>NaN</td>\n",
       "      <td>NaN</td>\n",
       "      <td>NaN</td>\n",
       "      <td>NaN</td>\n",
       "      <td>...</td>\n",
       "      <td>NaN</td>\n",
       "      <td>NaN</td>\n",
       "      <td>NaN</td>\n",
       "      <td>NaN</td>\n",
       "      <td>NaN</td>\n",
       "      <td>NaN</td>\n",
       "      <td>NaN</td>\n",
       "      <td>NaN</td>\n",
       "      <td>NaN</td>\n",
       "      <td>NaN</td>\n",
       "    </tr>\n",
       "    <tr>\n",
       "      <th>25721</th>\n",
       "      <td>NaN</td>\n",
       "      <td>NaN</td>\n",
       "      <td>NaN</td>\n",
       "      <td>NaN</td>\n",
       "      <td>NaN</td>\n",
       "      <td>NaN</td>\n",
       "      <td>NaN</td>\n",
       "      <td>NaN</td>\n",
       "      <td>NaN</td>\n",
       "      <td>NaN</td>\n",
       "      <td>...</td>\n",
       "      <td>NaN</td>\n",
       "      <td>NaN</td>\n",
       "      <td>NaN</td>\n",
       "      <td>NaN</td>\n",
       "      <td>NaN</td>\n",
       "      <td>NaN</td>\n",
       "      <td>NaN</td>\n",
       "      <td>NaN</td>\n",
       "      <td>NaN</td>\n",
       "      <td>NaN</td>\n",
       "    </tr>\n",
       "    <tr>\n",
       "      <th>25722</th>\n",
       "      <td>xx</td>\n",
       "      <td>NaN</td>\n",
       "      <td>NaN</td>\n",
       "      <td>NaN</td>\n",
       "      <td>NaN</td>\n",
       "      <td>NaN</td>\n",
       "      <td>NaN</td>\n",
       "      <td>NaN</td>\n",
       "      <td>NaN</td>\n",
       "      <td>NaN</td>\n",
       "      <td>...</td>\n",
       "      <td>NaN</td>\n",
       "      <td>NaN</td>\n",
       "      <td>NaN</td>\n",
       "      <td>NaN</td>\n",
       "      <td>NaN</td>\n",
       "      <td>NaN</td>\n",
       "      <td>NaN</td>\n",
       "      <td>NaN</td>\n",
       "      <td>NaN</td>\n",
       "      <td>NaN</td>\n",
       "    </tr>\n",
       "  </tbody>\n",
       "</table>\n",
       "<p>25723 rows × 24 columns</p>\n",
       "</div>"
      ],
      "text/plain": [
       "      Case Number         Date    Year        Type    Country  \\\n",
       "0      2018.06.25  25-Jun-2018  2018.0     Boating        USA   \n",
       "1      2018.06.18  18-Jun-2018  2018.0  Unprovoked        USA   \n",
       "2      2018.06.09  09-Jun-2018  2018.0     Invalid        USA   \n",
       "3      2018.06.08  08-Jun-2018  2018.0  Unprovoked  AUSTRALIA   \n",
       "4      2018.06.04  04-Jun-2018  2018.0    Provoked     MEXICO   \n",
       "...           ...          ...     ...         ...        ...   \n",
       "25718         NaN          NaN     NaN         NaN        NaN   \n",
       "25719         NaN          NaN     NaN         NaN        NaN   \n",
       "25720         NaN          NaN     NaN         NaN        NaN   \n",
       "25721         NaN          NaN     NaN         NaN        NaN   \n",
       "25722          xx          NaN     NaN         NaN        NaN   \n",
       "\n",
       "                  Area                        Location     Activity  \\\n",
       "0           California     Oceanside, San Diego County     Paddling   \n",
       "1              Georgia  St. Simon Island, Glynn County     Standing   \n",
       "2               Hawaii                    Habush, Oahu      Surfing   \n",
       "3      New South Wales              Arrawarra Headland      Surfing   \n",
       "4               Colima                        La Ticla  Free diving   \n",
       "...                ...                             ...          ...   \n",
       "25718              NaN                             NaN          NaN   \n",
       "25719              NaN                             NaN          NaN   \n",
       "25720              NaN                             NaN          NaN   \n",
       "25721              NaN                             NaN          NaN   \n",
       "25722              NaN                             NaN          NaN   \n",
       "\n",
       "                 Name Sex   ...         Species   \\\n",
       "0         Julie Wolfe    F  ...      White shark   \n",
       "1      Adyson McNeely    F  ...              NaN   \n",
       "2         John Denges    M  ...              NaN   \n",
       "3                male    M  ...        2 m shark   \n",
       "4       Gustavo Ramos    M  ...  Tiger shark, 3m   \n",
       "...               ...  ...  ...              ...   \n",
       "25718             NaN  NaN  ...              NaN   \n",
       "25719             NaN  NaN  ...              NaN   \n",
       "25720             NaN  NaN  ...              NaN   \n",
       "25721             NaN  NaN  ...              NaN   \n",
       "25722             NaN  NaN  ...              NaN   \n",
       "\n",
       "               Investigator or Source                       pdf  \\\n",
       "0                    R. Collier, GSAF      2018.06.25-Wolfe.pdf   \n",
       "1      K.McMurray, TrackingSharks.com    2018.06.18-McNeely.pdf   \n",
       "2      K.McMurray, TrackingSharks.com     2018.06.09-Denges.pdf   \n",
       "3                      B. Myatt, GSAF  2018.06.08-Arrawarra.pdf   \n",
       "4                           A .Kipper      2018.06.04-Ramos.pdf   \n",
       "...                               ...                       ...   \n",
       "25718                             NaN                       NaN   \n",
       "25719                             NaN                       NaN   \n",
       "25720                             NaN                       NaN   \n",
       "25721                             NaN                       NaN   \n",
       "25722                             NaN                       NaN   \n",
       "\n",
       "                                            href formula  \\\n",
       "0      http://sharkattackfile.net/spreadsheets/pdf_di...   \n",
       "1      http://sharkattackfile.net/spreadsheets/pdf_di...   \n",
       "2      http://sharkattackfile.net/spreadsheets/pdf_di...   \n",
       "3      http://sharkattackfile.net/spreadsheets/pdf_di...   \n",
       "4      http://sharkattackfile.net/spreadsheets/pdf_di...   \n",
       "...                                                  ...   \n",
       "25718                                                NaN   \n",
       "25719                                                NaN   \n",
       "25720                                                NaN   \n",
       "25721                                                NaN   \n",
       "25722                                                NaN   \n",
       "\n",
       "                                                    href Case Number.1  \\\n",
       "0      http://sharkattackfile.net/spreadsheets/pdf_di...    2018.06.25   \n",
       "1      http://sharkattackfile.net/spreadsheets/pdf_di...    2018.06.18   \n",
       "2      http://sharkattackfile.net/spreadsheets/pdf_di...    2018.06.09   \n",
       "3      http://sharkattackfile.net/spreadsheets/pdf_di...    2018.06.08   \n",
       "4      http://sharkattackfile.net/spreadsheets/pdf_di...    2018.06.04   \n",
       "...                                                  ...           ...   \n",
       "25718                                                NaN           NaN   \n",
       "25719                                                NaN           NaN   \n",
       "25720                                                NaN           NaN   \n",
       "25721                                                NaN           NaN   \n",
       "25722                                                NaN           NaN   \n",
       "\n",
       "      Case Number.2 original order Unnamed: 22 Unnamed: 23  \n",
       "0        2018.06.25         6303.0         NaN         NaN  \n",
       "1        2018.06.18         6302.0         NaN         NaN  \n",
       "2        2018.06.09         6301.0         NaN         NaN  \n",
       "3        2018.06.08         6300.0         NaN         NaN  \n",
       "4        2018.06.04         6299.0         NaN         NaN  \n",
       "...             ...            ...         ...         ...  \n",
       "25718           NaN            NaN         NaN         NaN  \n",
       "25719           NaN            NaN         NaN         NaN  \n",
       "25720           NaN            NaN         NaN         NaN  \n",
       "25721           NaN            NaN         NaN         NaN  \n",
       "25722           NaN            NaN         NaN         NaN  \n",
       "\n",
       "[25723 rows x 24 columns]"
      ]
     },
     "execution_count": 5,
     "metadata": {},
     "output_type": "execute_result"
    }
   ],
   "source": [
    "def trim_all_columns(df):\n",
    "    \"\"\"\n",
    "    Trim whitespace from ends of each value across all series in dataframe\n",
    "    \"\"\"\n",
    "    trim_strings = lambda x: x.strip() if isinstance(x, str) else x\n",
    "    return df.applymap(trim_strings)\n",
    "\n",
    "trim_all_columns(df)"
   ]
  },
  {
   "cell_type": "code",
   "execution_count": 13,
   "id": "6d048715-7c8e-474e-a4b8-7a3e25a710e1",
   "metadata": {},
   "outputs": [],
   "source": [
    "df[\"Sex\"] = df[\"Sex \"].str.strip(to_strip=None)\n"
   ]
  },
  {
   "cell_type": "code",
   "execution_count": 14,
   "id": "43518f83-6fee-4bf3-8736-5955ca108ab4",
   "metadata": {},
   "outputs": [],
   "source": [
    "df.dropna(how='all',inplace = True)"
   ]
  },
  {
   "cell_type": "code",
   "execution_count": 15,
   "id": "845d8a99-a799-45d9-a3c2-3ab8a2bab4c0",
   "metadata": {},
   "outputs": [],
   "source": [
    "#Borramos las filas con valor 0 de Case Number\n",
    "\n",
    "igual_a_0 = df[ df[\"Case Number\"] == '0' ].index\n",
    "# Eliminar estos índices de fila del dataFrame\n",
    "df.drop(igual_a_0 , inplace=True)"
   ]
  },
  {
   "cell_type": "code",
   "execution_count": 16,
   "id": "74cbe278-5ed2-4de6-a8ef-2501b868861a",
   "metadata": {},
   "outputs": [
    {
     "data": {
      "text/plain": [
       "[6130, 4976, 5036, 6122, 6165, 5029, 6108, 6081, 6080, 5812]"
      ]
     },
     "execution_count": 16,
     "metadata": {},
     "output_type": "execute_result"
    }
   ],
   "source": [
    "# para comprobar cuantos nulos hay por fila y listar los 10 que tienen más\n",
    "\n",
    "nulos = df.isnull().sum(axis=1)\n",
    "nulos.sort_values(ascending = False).head(10).index\n",
    "nul = nulos.sort_values(ascending = False).head(10).index\n",
    "list(nul)"
   ]
  },
  {
   "cell_type": "code",
   "execution_count": 17,
   "id": "017502e0-ca48-435c-9b23-40d4c840670a",
   "metadata": {},
   "outputs": [],
   "source": [
    "#borramos los filas con menos de 10 valores que no son Null\n",
    "\n",
    "df.dropna(thresh=10, inplace=True)"
   ]
  },
  {
   "cell_type": "markdown",
   "id": "7bc4dca1-5a8d-43ea-830e-3933fcb11c94",
   "metadata": {},
   "source": [
    "## limpieza Fatal"
   ]
  },
  {
   "cell_type": "code",
   "execution_count": 27,
   "id": "87602304-743c-4542-a656-293c2f443c0b",
   "metadata": {},
   "outputs": [
    {
     "data": {
      "text/plain": [
       "array(['n', 'y', 'unknown'], dtype=object)"
      ]
     },
     "execution_count": 27,
     "metadata": {},
     "output_type": "execute_result"
    }
   ],
   "source": [
    "df.rename(columns = {\"Fatal (Y/N)\":'Fatal'}, inplace = True)\n",
    "df\n",
    "df[\"Fatal\"]=df[\"Fatal\"].str.lower()\n",
    "df[\"Fatal\"].unique()\n",
    "df[\"Fatal\"] = df.Fatal.str.replace(' ', '')\n",
    "df[\"Fatal\"] = df.Fatal.str.replace('2017', \"unknown\")\n",
    "df[\"Fatal\"] = df.Fatal.str.replace(\"m\",\"unknown\")\n",
    "df[\"Fatal\"] = df.Fatal.str.replace(\"unkown\",\"df[\"Sex\"]\")\n",
    "df.Fatal.fillna(value=\"unknown\", inplace=True)\n",
    "df[\"Fatal\"].unique()"
   ]
  },
  {
   "cell_type": "markdown",
   "id": "d06753c6-4eee-47e9-8c7f-eee26cece3ec",
   "metadata": {},
   "source": [
    "## limpieza Sex"
   ]
  },
  {
   "cell_type": "code",
   "execution_count": 35,
   "id": "5769b43d-3db3-43ec-8522-668c4da44f03",
   "metadata": {},
   "outputs": [],
   "source": [
    "df[\"Sex\"]=df[\"Sex\"].str.lower()\n"
   ]
  },
  {
   "cell_type": "code",
   "execution_count": 36,
   "id": "e21f2d52-7760-4087-b84a-1054d8d85f63",
   "metadata": {},
   "outputs": [],
   "source": [
    "df.loc[(df.loc[:, 'Sex'] != \"f\") & (df.loc[:, 'Sex'] != \"m\")] = \"notknown\""
   ]
  },
  {
   "cell_type": "code",
   "execution_count": 37,
   "id": "8712e9d1-ecbb-473d-a608-bd574ee19419",
   "metadata": {},
   "outputs": [
    {
     "data": {
      "text/html": [
       "<div>\n",
       "<style scoped>\n",
       "    .dataframe tbody tr th:only-of-type {\n",
       "        vertical-align: middle;\n",
       "    }\n",
       "\n",
       "    .dataframe tbody tr th {\n",
       "        vertical-align: top;\n",
       "    }\n",
       "\n",
       "    .dataframe thead th {\n",
       "        text-align: right;\n",
       "    }\n",
       "</style>\n",
       "<table border=\"1\" class=\"dataframe\">\n",
       "  <thead>\n",
       "    <tr style=\"text-align: right;\">\n",
       "      <th></th>\n",
       "      <th>Case Number</th>\n",
       "      <th>Date</th>\n",
       "      <th>Year</th>\n",
       "      <th>Type</th>\n",
       "      <th>Country</th>\n",
       "      <th>Area</th>\n",
       "      <th>Location</th>\n",
       "      <th>Activity</th>\n",
       "      <th>Name</th>\n",
       "      <th>Sex</th>\n",
       "      <th>...</th>\n",
       "      <th>Investigator or Source</th>\n",
       "      <th>pdf</th>\n",
       "      <th>href formula</th>\n",
       "      <th>href</th>\n",
       "      <th>Case Number.1</th>\n",
       "      <th>Case Number.2</th>\n",
       "      <th>original order</th>\n",
       "      <th>Unnamed: 22</th>\n",
       "      <th>Unnamed: 23</th>\n",
       "      <th>Sex</th>\n",
       "    </tr>\n",
       "  </thead>\n",
       "  <tbody>\n",
       "    <tr>\n",
       "      <th>4692</th>\n",
       "      <td>1942.11.25</td>\n",
       "      <td>25-Nov-1942</td>\n",
       "      <td>1942.0</td>\n",
       "      <td>Unprovoked</td>\n",
       "      <td>SOUTH AFRICA</td>\n",
       "      <td>KwaZulu-Natal</td>\n",
       "      <td>Umkomaas</td>\n",
       "      <td>Swimming</td>\n",
       "      <td>E.W. Bilton</td>\n",
       "      <td>M</td>\n",
       "      <td>...</td>\n",
       "      <td>M. Levine,GSAF</td>\n",
       "      <td>1942.11.25-Bilton.pdf</td>\n",
       "      <td>http://sharkattackfile.net/spreadsheets/pdf_di...</td>\n",
       "      <td>http://sharkattackfile.net/spreadsheets/pdf_di...</td>\n",
       "      <td>1942.11.25</td>\n",
       "      <td>1942.11.25</td>\n",
       "      <td>1611.0</td>\n",
       "      <td>NaN</td>\n",
       "      <td>NaN</td>\n",
       "      <td>m</td>\n",
       "    </tr>\n",
       "    <tr>\n",
       "      <th>1476</th>\n",
       "      <td>2006.05.31</td>\n",
       "      <td>31-May-2006</td>\n",
       "      <td>2006.0</td>\n",
       "      <td>Unprovoked</td>\n",
       "      <td>USA</td>\n",
       "      <td>Hawaii</td>\n",
       "      <td>O'ahu</td>\n",
       "      <td>Spearfishing</td>\n",
       "      <td>Ron Deguilmo</td>\n",
       "      <td>M</td>\n",
       "      <td>...</td>\n",
       "      <td>P. Immerz; Honolulu Advertiser, 6/1/2006</td>\n",
       "      <td>2006.05.31-Deguilmo.pdf</td>\n",
       "      <td>http://sharkattackfile.net/spreadsheets/pdf_di...</td>\n",
       "      <td>http://sharkattackfile.net/spreadsheets/pdf_di...</td>\n",
       "      <td>2006.05.31</td>\n",
       "      <td>2006.05.31</td>\n",
       "      <td>4827.0</td>\n",
       "      <td>NaN</td>\n",
       "      <td>NaN</td>\n",
       "      <td>m</td>\n",
       "    </tr>\n",
       "    <tr>\n",
       "      <th>6034</th>\n",
       "      <td>1849.06.08.a</td>\n",
       "      <td>08-Jun-1849</td>\n",
       "      <td>1849.0</td>\n",
       "      <td>Unprovoked</td>\n",
       "      <td>USA</td>\n",
       "      <td>Florida</td>\n",
       "      <td>Pensacola, Escambia County</td>\n",
       "      <td>Bathing</td>\n",
       "      <td>Mrs. Cracton</td>\n",
       "      <td>F</td>\n",
       "      <td>...</td>\n",
       "      <td>Adams Sentinel, 8/6/1849</td>\n",
       "      <td>1849.06.08.a-Cracton.pdf</td>\n",
       "      <td>http://sharkattackfile.net/spreadsheets/pdf_di...</td>\n",
       "      <td>http://sharkattackfile.net/spreadsheets/pdf_di...</td>\n",
       "      <td>1849.06.08.a</td>\n",
       "      <td>1849.06.08.a</td>\n",
       "      <td>269.0</td>\n",
       "      <td>NaN</td>\n",
       "      <td>NaN</td>\n",
       "      <td>f</td>\n",
       "    </tr>\n",
       "    <tr>\n",
       "      <th>4855</th>\n",
       "      <td>1937.02.11</td>\n",
       "      <td>11-Feb-1937</td>\n",
       "      <td>1937.0</td>\n",
       "      <td>Unprovoked</td>\n",
       "      <td>AUSTRALIA</td>\n",
       "      <td>New South Wales</td>\n",
       "      <td>Kempsey</td>\n",
       "      <td>Swimming ashore after launch capsized</td>\n",
       "      <td>Mr. Redman</td>\n",
       "      <td>M</td>\n",
       "      <td>...</td>\n",
       "      <td>Canberra Times, 2/12/1937</td>\n",
       "      <td>1937.02.11-Redman.pdf</td>\n",
       "      <td>http://sharkattackfile.net/spreadsheets/pdf_di...</td>\n",
       "      <td>http://sharkattackfile.net/spreadsheets/pdf_di...</td>\n",
       "      <td>1937.02.11</td>\n",
       "      <td>1937.02.11</td>\n",
       "      <td>1448.0</td>\n",
       "      <td>NaN</td>\n",
       "      <td>NaN</td>\n",
       "      <td>m</td>\n",
       "    </tr>\n",
       "    <tr>\n",
       "      <th>2580</th>\n",
       "      <td>1991.10.05</td>\n",
       "      <td>05-Oct-1991</td>\n",
       "      <td>1991.0</td>\n",
       "      <td>Unprovoked</td>\n",
       "      <td>USA</td>\n",
       "      <td>California</td>\n",
       "      <td>Horseshoe Reef, Scott Creek, Davenport, Santa ...</td>\n",
       "      <td>Surfing</td>\n",
       "      <td>John Ferrerira</td>\n",
       "      <td>M</td>\n",
       "      <td>...</td>\n",
       "      <td>R. Collier, pp.126-128 ; Orlando Sentinel, 10/...</td>\n",
       "      <td>1991.10.05-Ferreira_Collier.pdf</td>\n",
       "      <td>http://sharkattackfile.net/spreadsheets/pdf_di...</td>\n",
       "      <td>http://sharkattackfile.net/spreadsheets/pdf_di...</td>\n",
       "      <td>1991.10.05</td>\n",
       "      <td>1991.10.05</td>\n",
       "      <td>3723.0</td>\n",
       "      <td>NaN</td>\n",
       "      <td>NaN</td>\n",
       "      <td>m</td>\n",
       "    </tr>\n",
       "    <tr>\n",
       "      <th>...</th>\n",
       "      <td>...</td>\n",
       "      <td>...</td>\n",
       "      <td>...</td>\n",
       "      <td>...</td>\n",
       "      <td>...</td>\n",
       "      <td>...</td>\n",
       "      <td>...</td>\n",
       "      <td>...</td>\n",
       "      <td>...</td>\n",
       "      <td>...</td>\n",
       "      <td>...</td>\n",
       "      <td>...</td>\n",
       "      <td>...</td>\n",
       "      <td>...</td>\n",
       "      <td>...</td>\n",
       "      <td>...</td>\n",
       "      <td>...</td>\n",
       "      <td>...</td>\n",
       "      <td>...</td>\n",
       "      <td>...</td>\n",
       "      <td>...</td>\n",
       "    </tr>\n",
       "    <tr>\n",
       "      <th>2720</th>\n",
       "      <td>1988.08.11</td>\n",
       "      <td>11-Aug-1988</td>\n",
       "      <td>1988.0</td>\n",
       "      <td>Unprovoked</td>\n",
       "      <td>USA</td>\n",
       "      <td>California</td>\n",
       "      <td>Klamath River, Del Norte County</td>\n",
       "      <td>Surfing</td>\n",
       "      <td>Carl Lafazio</td>\n",
       "      <td>M</td>\n",
       "      <td>...</td>\n",
       "      <td>R. Collier, pp.102-104</td>\n",
       "      <td>1988.08.11-LaFazio_Collier.pdf</td>\n",
       "      <td>http://sharkattackfile.net/spreadsheets/pdf_di...</td>\n",
       "      <td>http://sharkattackfile.net/spreadsheets/pdf_di...</td>\n",
       "      <td>1988.08.11</td>\n",
       "      <td>1988.08.11</td>\n",
       "      <td>3583.0</td>\n",
       "      <td>NaN</td>\n",
       "      <td>NaN</td>\n",
       "      <td>m</td>\n",
       "    </tr>\n",
       "    <tr>\n",
       "      <th>5065</th>\n",
       "      <td>1929.10.02</td>\n",
       "      <td>02-Oct-1929</td>\n",
       "      <td>1929.0</td>\n",
       "      <td>Unprovoked</td>\n",
       "      <td>SPAIN</td>\n",
       "      <td>Valencia</td>\n",
       "      <td>Nasareth Beach</td>\n",
       "      <td>Fishing</td>\n",
       "      <td>Vicente Bonet</td>\n",
       "      <td>M</td>\n",
       "      <td>...</td>\n",
       "      <td>C. Moore. GSAF</td>\n",
       "      <td>1929.10.02-Bonet-Valencia.pdf</td>\n",
       "      <td>http://sharkattackfile.net/spreadsheets/pdf_di...</td>\n",
       "      <td>http://sharkattackfile.net/spreadsheets/pdf_di...</td>\n",
       "      <td>1929.10.02</td>\n",
       "      <td>1929.10.02</td>\n",
       "      <td>1238.0</td>\n",
       "      <td>NaN</td>\n",
       "      <td>NaN</td>\n",
       "      <td>m</td>\n",
       "    </tr>\n",
       "    <tr>\n",
       "      <th>6190</th>\n",
       "      <td>ND-0138</td>\n",
       "      <td>Before 1909</td>\n",
       "      <td>0.0</td>\n",
       "      <td>Unprovoked</td>\n",
       "      <td>AUSTRALIA</td>\n",
       "      <td>Queensland</td>\n",
       "      <td>Moreton Bay</td>\n",
       "      <td>Fell into the water</td>\n",
       "      <td>Lieutenant Hexton</td>\n",
       "      <td>M</td>\n",
       "      <td>...</td>\n",
       "      <td>Brisbane Courier, 1/28/1909</td>\n",
       "      <td>ND-0138-Hexton.pdf</td>\n",
       "      <td>http://sharkattackfile.net/spreadsheets/pdf_di...</td>\n",
       "      <td>http://sharkattackfile.net/spreadsheets/pdf_di...</td>\n",
       "      <td>ND-0138</td>\n",
       "      <td>ND-0138</td>\n",
       "      <td>113.0</td>\n",
       "      <td>NaN</td>\n",
       "      <td>NaN</td>\n",
       "      <td>m</td>\n",
       "    </tr>\n",
       "    <tr>\n",
       "      <th>4694</th>\n",
       "      <td>1942.11.21</td>\n",
       "      <td>21-Nov-1942</td>\n",
       "      <td>1942.0</td>\n",
       "      <td>Sea Disaster</td>\n",
       "      <td>INDIAN OCEAN</td>\n",
       "      <td>NaN</td>\n",
       "      <td>Bound from Cape Town for St. Helena</td>\n",
       "      <td>On 6-Nov-1942, the German submarine U-68 sank ...</td>\n",
       "      <td>male</td>\n",
       "      <td>M</td>\n",
       "      <td>...</td>\n",
       "      <td>Coppleson (1962), pp.207 &amp; 258</td>\n",
       "      <td>1942.11.21-City-of-Cairo.pdf</td>\n",
       "      <td>http://sharkattackfile.net/spreadsheets/pdf_di...</td>\n",
       "      <td>http://sharkattackfile.net/spreadsheets/pdf_di...</td>\n",
       "      <td>1942.11.21</td>\n",
       "      <td>1942.11.21</td>\n",
       "      <td>1609.0</td>\n",
       "      <td>NaN</td>\n",
       "      <td>NaN</td>\n",
       "      <td>m</td>\n",
       "    </tr>\n",
       "    <tr>\n",
       "      <th>4642</th>\n",
       "      <td>1944.09.00</td>\n",
       "      <td>Sep-1944</td>\n",
       "      <td>1944.0</td>\n",
       "      <td>Unprovoked</td>\n",
       "      <td>CARIBBEAN SEA</td>\n",
       "      <td>NaN</td>\n",
       "      <td>NaN</td>\n",
       "      <td>Fell overboard from US Navy PC boat</td>\n",
       "      <td>a sailor</td>\n",
       "      <td>M</td>\n",
       "      <td>...</td>\n",
       "      <td>E. Buleman, NMRI</td>\n",
       "      <td>1944.09.00-sailor.pdf</td>\n",
       "      <td>http://sharkattackfile.net/spreadsheets/pdf_di...</td>\n",
       "      <td>http://sharkattackfile.net/spreadsheets/pdf_di...</td>\n",
       "      <td>1944.09.00</td>\n",
       "      <td>1944.09.00</td>\n",
       "      <td>1661.0</td>\n",
       "      <td>NaN</td>\n",
       "      <td>NaN</td>\n",
       "      <td>m</td>\n",
       "    </tr>\n",
       "  </tbody>\n",
       "</table>\n",
       "<p>100 rows × 25 columns</p>\n",
       "</div>"
      ],
      "text/plain": [
       "       Case Number         Date    Year          Type        Country  \\\n",
       "4692    1942.11.25  25-Nov-1942  1942.0    Unprovoked   SOUTH AFRICA   \n",
       "1476    2006.05.31  31-May-2006  2006.0    Unprovoked            USA   \n",
       "6034  1849.06.08.a  08-Jun-1849  1849.0    Unprovoked            USA   \n",
       "4855    1937.02.11  11-Feb-1937  1937.0    Unprovoked      AUSTRALIA   \n",
       "2580    1991.10.05  05-Oct-1991  1991.0    Unprovoked            USA   \n",
       "...            ...          ...     ...           ...            ...   \n",
       "2720    1988.08.11  11-Aug-1988  1988.0    Unprovoked            USA   \n",
       "5065    1929.10.02  02-Oct-1929  1929.0    Unprovoked          SPAIN   \n",
       "6190       ND-0138  Before 1909     0.0    Unprovoked      AUSTRALIA   \n",
       "4694    1942.11.21  21-Nov-1942  1942.0  Sea Disaster   INDIAN OCEAN   \n",
       "4642    1944.09.00     Sep-1944  1944.0    Unprovoked  CARIBBEAN SEA   \n",
       "\n",
       "                 Area                                           Location  \\\n",
       "4692    KwaZulu-Natal                                           Umkomaas   \n",
       "1476           Hawaii                                              O'ahu   \n",
       "6034          Florida                         Pensacola, Escambia County   \n",
       "4855  New South Wales                                            Kempsey   \n",
       "2580       California  Horseshoe Reef, Scott Creek, Davenport, Santa ...   \n",
       "...               ...                                                ...   \n",
       "2720       California                    Klamath River, Del Norte County   \n",
       "5065         Valencia                                     Nasareth Beach   \n",
       "6190       Queensland                                        Moreton Bay   \n",
       "4694              NaN                Bound from Cape Town for St. Helena   \n",
       "4642              NaN                                                NaN   \n",
       "\n",
       "                                               Activity               Name  \\\n",
       "4692                                           Swimming        E.W. Bilton   \n",
       "1476                                       Spearfishing       Ron Deguilmo   \n",
       "6034                                            Bathing       Mrs. Cracton   \n",
       "4855              Swimming ashore after launch capsized         Mr. Redman   \n",
       "2580                                            Surfing     John Ferrerira   \n",
       "...                                                 ...                ...   \n",
       "2720                                            Surfing       Carl Lafazio   \n",
       "5065                                           Fishing       Vicente Bonet   \n",
       "6190                                Fell into the water  Lieutenant Hexton   \n",
       "4694  On 6-Nov-1942, the German submarine U-68 sank ...               male   \n",
       "4642                Fell overboard from US Navy PC boat           a sailor   \n",
       "\n",
       "     Sex   ...                             Investigator or Source  \\\n",
       "4692    M  ...                                    M. Levine,GSAF    \n",
       "1476    M  ...           P. Immerz; Honolulu Advertiser, 6/1/2006   \n",
       "6034    F  ...                           Adams Sentinel, 8/6/1849   \n",
       "4855    M  ...                          Canberra Times, 2/12/1937   \n",
       "2580    M  ...  R. Collier, pp.126-128 ; Orlando Sentinel, 10/...   \n",
       "...   ...  ...                                                ...   \n",
       "2720    M  ...                             R. Collier, pp.102-104   \n",
       "5065    M  ...                                     C. Moore. GSAF   \n",
       "6190    M  ...                        Brisbane Courier, 1/28/1909   \n",
       "4694    M  ...                    Coppleson (1962), pp.207 & 258    \n",
       "4642    M  ...                                   E. Buleman, NMRI   \n",
       "\n",
       "                                  pdf  \\\n",
       "4692            1942.11.25-Bilton.pdf   \n",
       "1476          2006.05.31-Deguilmo.pdf   \n",
       "6034         1849.06.08.a-Cracton.pdf   \n",
       "4855            1937.02.11-Redman.pdf   \n",
       "2580  1991.10.05-Ferreira_Collier.pdf   \n",
       "...                               ...   \n",
       "2720   1988.08.11-LaFazio_Collier.pdf   \n",
       "5065    1929.10.02-Bonet-Valencia.pdf   \n",
       "6190               ND-0138-Hexton.pdf   \n",
       "4694     1942.11.21-City-of-Cairo.pdf   \n",
       "4642            1944.09.00-sailor.pdf   \n",
       "\n",
       "                                           href formula  \\\n",
       "4692  http://sharkattackfile.net/spreadsheets/pdf_di...   \n",
       "1476  http://sharkattackfile.net/spreadsheets/pdf_di...   \n",
       "6034  http://sharkattackfile.net/spreadsheets/pdf_di...   \n",
       "4855  http://sharkattackfile.net/spreadsheets/pdf_di...   \n",
       "2580  http://sharkattackfile.net/spreadsheets/pdf_di...   \n",
       "...                                                 ...   \n",
       "2720  http://sharkattackfile.net/spreadsheets/pdf_di...   \n",
       "5065  http://sharkattackfile.net/spreadsheets/pdf_di...   \n",
       "6190  http://sharkattackfile.net/spreadsheets/pdf_di...   \n",
       "4694  http://sharkattackfile.net/spreadsheets/pdf_di...   \n",
       "4642  http://sharkattackfile.net/spreadsheets/pdf_di...   \n",
       "\n",
       "                                                   href Case Number.1  \\\n",
       "4692  http://sharkattackfile.net/spreadsheets/pdf_di...    1942.11.25   \n",
       "1476  http://sharkattackfile.net/spreadsheets/pdf_di...    2006.05.31   \n",
       "6034  http://sharkattackfile.net/spreadsheets/pdf_di...  1849.06.08.a   \n",
       "4855  http://sharkattackfile.net/spreadsheets/pdf_di...    1937.02.11   \n",
       "2580  http://sharkattackfile.net/spreadsheets/pdf_di...    1991.10.05   \n",
       "...                                                 ...           ...   \n",
       "2720  http://sharkattackfile.net/spreadsheets/pdf_di...    1988.08.11   \n",
       "5065  http://sharkattackfile.net/spreadsheets/pdf_di...    1929.10.02   \n",
       "6190  http://sharkattackfile.net/spreadsheets/pdf_di...       ND-0138   \n",
       "4694  http://sharkattackfile.net/spreadsheets/pdf_di...    1942.11.21   \n",
       "4642  http://sharkattackfile.net/spreadsheets/pdf_di...    1944.09.00   \n",
       "\n",
       "     Case Number.2 original order Unnamed: 22 Unnamed: 23 Sex  \n",
       "4692    1942.11.25         1611.0         NaN         NaN   m  \n",
       "1476    2006.05.31         4827.0         NaN         NaN   m  \n",
       "6034  1849.06.08.a          269.0         NaN         NaN   f  \n",
       "4855    1937.02.11         1448.0         NaN         NaN   m  \n",
       "2580    1991.10.05         3723.0         NaN         NaN   m  \n",
       "...            ...            ...         ...         ...  ..  \n",
       "2720    1988.08.11         3583.0         NaN         NaN   m  \n",
       "5065    1929.10.02         1238.0         NaN         NaN   m  \n",
       "6190       ND-0138          113.0         NaN         NaN   m  \n",
       "4694    1942.11.21         1609.0         NaN         NaN   m  \n",
       "4642    1944.09.00         1661.0         NaN         NaN   m  \n",
       "\n",
       "[100 rows x 25 columns]"
      ]
     },
     "execution_count": 37,
     "metadata": {},
     "output_type": "execute_result"
    }
   ],
   "source": [
    "df.sample(100)"
   ]
  },
  {
   "cell_type": "markdown",
   "id": "3bd5a2f9-fe81-436b-a48c-4665f668e98f",
   "metadata": {},
   "source": [
    "# Limpieza de los datos\n",
    "## 2.2 Columnas"
   ]
  },
  {
   "cell_type": "code",
   "execution_count": 7,
   "id": "c7ffeddd-7986-4948-9578-7bae79419918",
   "metadata": {},
   "outputs": [
    {
     "data": {
      "text/plain": [
       "Index(['Case Number', 'Date', 'Year', 'Type', 'Country', 'Area', 'Location',\n",
       "       'Activity', 'Name', 'Sex ', 'Age', 'Injury', 'Fatal (Y/N)', 'Time',\n",
       "       'Species ', 'Investigator or Source', 'pdf', 'href formula', 'href',\n",
       "       'Case Number.1', 'Case Number.2', 'original order', 'Unnamed: 22',\n",
       "       'Unnamed: 23'],\n",
       "      dtype='object')"
      ]
     },
     "execution_count": 7,
     "metadata": {},
     "output_type": "execute_result"
    }
   ],
   "source": [
    "df.columns"
   ]
  },
  {
   "cell_type": "code",
   "execution_count": 8,
   "id": "7ea58737-9976-4607-b6bb-567ff5f3e21d",
   "metadata": {},
   "outputs": [],
   "source": [
    "#Después de una exploración del df borramos las columnas\n",
    "#con datos no numéricos y que no se pueden categorizar \n",
    "#P. ej.enlaces y códigos repetidos y columnas basura sin datos"
   ]
  },
  {
   "cell_type": "code",
   "execution_count": 9,
   "id": "dd1f7684-c7b8-48a2-aa38-a3c11a6a5d29",
   "metadata": {},
   "outputs": [],
   "source": [
    "df.drop(['pdf', 'href formula', 'href','Name','Injury','Species ','Investigator or Source',\n",
    "       'Case Number.1', 'Case Number.2','Unnamed: 22','Unnamed: 23'], axis= 1, inplace=True)"
   ]
  },
  {
   "cell_type": "code",
   "execution_count": 10,
   "id": "99da1996-492e-4101-8dd7-7b00ac67e65e",
   "metadata": {},
   "outputs": [
    {
     "data": {
      "text/plain": [
       "Index(['Case Number', 'Date', 'Year', 'Type', 'Country', 'Area', 'Location',\n",
       "       'Activity', 'Sex ', 'Age', 'Fatal (Y/N)', 'Time', 'original order'],\n",
       "      dtype='object')"
      ]
     },
     "execution_count": 10,
     "metadata": {},
     "output_type": "execute_result"
    }
   ],
   "source": [
    "df.columns"
   ]
  },
  {
   "cell_type": "markdown",
   "id": "25b33ac2-fcfe-4ee9-bf48-5fe92e28b630",
   "metadata": {
    "tags": []
   },
   "source": [
    "# 3 Dar formato a los datos"
   ]
  },
  {
   "cell_type": "markdown",
   "id": "62eaa34c-5c72-4495-aca6-e08975d70670",
   "metadata": {
    "tags": []
   },
   "source": [
    "## Normalizar columna Age a int or float"
   ]
  },
  {
   "cell_type": "code",
   "execution_count": 11,
   "id": "59fdfb9a-4a23-40c8-a886-2e9271f876f3",
   "metadata": {},
   "outputs": [],
   "source": [
    "df[\"Age\"] = df.Age.str.strip()"
   ]
  },
  {
   "cell_type": "code",
   "execution_count": 12,
   "id": "a4dce3e5-f640-4b03-97fd-6b751c4ec22d",
   "metadata": {},
   "outputs": [],
   "source": [
    "df[\"Age_normalize\"] = pd.to_numeric(df['Age'], errors='coerce', downcast=\"integer\")"
   ]
  },
  {
   "cell_type": "code",
   "execution_count": 13,
   "id": "69a85f87-ca22-4fc0-a497-690f4e0d344f",
   "metadata": {},
   "outputs": [],
   "source": [
    "df[\"Age_normalize\"].fillna(value = 0, inplace=True)"
   ]
  },
  {
   "cell_type": "code",
   "execution_count": 14,
   "id": "bebd86fb-1e70-487d-9670-e5c16002a455",
   "metadata": {},
   "outputs": [],
   "source": [
    "df[\"Age_normalize\"] = df[\"Age_normalize\"].astype(int)"
   ]
  },
  {
   "cell_type": "code",
   "execution_count": null,
   "id": "a2545099-ba23-4273-8f3b-392415f9c8b3",
   "metadata": {
    "tags": []
   },
   "outputs": [],
   "source": []
  },
  {
   "cell_type": "code",
   "execution_count": 15,
   "id": "e79ffcc5-c566-474f-9af0-6c6b0fb60b58",
   "metadata": {},
   "outputs": [
    {
     "data": {
      "text/plain": [
       "array([57, 11, 48,  0, 18, 52, 15, 12, 32, 10, 21, 34, 30, 60, 33, 29, 54,\n",
       "       41, 37, 56, 19, 25, 69, 38, 55, 35, 46, 45, 14, 28, 20, 24, 26, 49,\n",
       "       22,  7, 31, 17, 40, 13, 42,  3,  8, 50, 16, 82, 73, 68, 51, 39, 58,\n",
       "       47, 61, 65, 36, 66, 43,  9, 72, 59,  6, 27, 64, 23, 71, 44, 62, 63,\n",
       "       70, 53, 77, 74,  5, 86, 84, 75, 87, 67,  1, 81, 78])"
      ]
     },
     "execution_count": 15,
     "metadata": {},
     "output_type": "execute_result"
    }
   ],
   "source": [
    "df[\"Age_normalize\"].unique()"
   ]
  },
  {
   "cell_type": "code",
   "execution_count": 16,
   "id": "e21235b3-fd67-4068-a7d2-c9d74eb8a879",
   "metadata": {},
   "outputs": [
    {
     "data": {
      "text/plain": [
       "<AxesSubplot:>"
      ]
     },
     "execution_count": 16,
     "metadata": {},
     "output_type": "execute_result"
    },
    {
     "data": {
      "image/png": "[encoded data removed]",
      "text/plain": [
       "<Figure size 1080x288 with 1 Axes>"
      ]
     },
     "metadata": {
      "needs_background": "light"
     },
     "output_type": "display_data"
    }
   ],
   "source": [
    "df.Age_normalize.hist(legend=True,bins=30, figsize = [15,4])"
   ]
  },
  {
   "cell_type": "markdown",
   "id": "2d227ca6-e57c-43e3-bea7-691bd0b8f849",
   "metadata": {
    "tags": []
   },
   "source": [
    "## Normalizar columna Date a datetime"
   ]
  },
  {
   "cell_type": "code",
   "execution_count": 84,
   "id": "287eb3ca-9f8b-439d-8e65-7d72b405de1a",
   "metadata": {},
   "outputs": [
    {
     "data": {
      "text/plain": [
       "'\\nPara normalizar las fechas rellenamos los NaN con una fecha futura para \\ndespués poder excluirla facilmente a la hora de trabajr con los datos\\nde esa columna\\n\\nExclude_date= \"2030-01-01 00:00:00\"\\n\\n'"
      ]
     },
     "execution_count": 84,
     "metadata": {},
     "output_type": "execute_result"
    }
   ],
   "source": [
    "\"\"\"\n",
    "Para normalizar las fechas rellenamos los NaN con una fecha futura para \n",
    "después poder excluirla facilmente a la hora de trabajr con los datos\n",
    "de esa columna\n",
    "\n",
    "Exclude_date= \"2030-01-01 00:00:00\"\n",
    "\n",
    "\"\"\""
   ]
  },
  {
   "cell_type": "code",
   "execution_count": 85,
   "id": "d97f9d0f-f028-4f3e-b5ce-f8a9657ca658",
   "metadata": {},
   "outputs": [
    {
     "data": {
      "text/plain": [
       "1"
      ]
     },
     "execution_count": 85,
     "metadata": {},
     "output_type": "execute_result"
    }
   ],
   "source": [
    "df['Date'].isnull().sum()"
   ]
  },
  {
   "cell_type": "code",
   "execution_count": 86,
   "id": "7dce6cb1-df09-4b3b-9dc4-79f639cf5cdb",
   "metadata": {},
   "outputs": [
    {
     "data": {
      "text/plain": [
       "0        25-Jun-2018\n",
       "1        18-Jun-2018\n",
       "2        09-Jun-2018\n",
       "3        08-Jun-2018\n",
       "4        04-Jun-2018\n",
       "            ...     \n",
       "6298     Before 1903\n",
       "6299       1900-1905\n",
       "6300       1883-1889\n",
       "6301       1845-1853\n",
       "25722            NaN\n",
       "Name: Date, Length: 6303, dtype: object"
      ]
     },
     "execution_count": 86,
     "metadata": {},
     "output_type": "execute_result"
    }
   ],
   "source": [
    "df['Date']"
   ]
  },
  {
   "cell_type": "code",
   "execution_count": 87,
   "id": "a10d007a-51fd-4254-bd34-f3dda3bd3d0c",
   "metadata": {},
   "outputs": [],
   "source": [
    "#convertimos Date a datetime para la columna 'Date_normalize'\n",
    "\n",
    "df['Date_normalize'] = pd.to_datetime(df['Date'], errors ='coerce')"
   ]
  },
  {
   "cell_type": "code",
   "execution_count": 88,
   "id": "091b9646-0e2b-4af1-ae42-2ac1a05bbac3",
   "metadata": {},
   "outputs": [
    {
     "data": {
      "text/plain": [
       "845"
      ]
     },
     "execution_count": 88,
     "metadata": {},
     "output_type": "execute_result"
    }
   ],
   "source": [
    "df['Date_normalize'].isnull().sum()"
   ]
  },
  {
   "cell_type": "code",
   "execution_count": 89,
   "id": "01d853b8-6f23-4744-bf5a-347c9a2a6a09",
   "metadata": {},
   "outputs": [
    {
     "data": {
      "text/plain": [
       "dtype('<M8[ns]')"
      ]
     },
     "execution_count": 89,
     "metadata": {},
     "output_type": "execute_result"
    }
   ],
   "source": [
    "df['Date_normalize'].dtypes"
   ]
  },
  {
   "cell_type": "code",
   "execution_count": 90,
   "id": "330870d4-44a1-46dd-bc1a-04b1b4956f14",
   "metadata": {},
   "outputs": [],
   "source": [
    "# Rellenanos los Nan con una fecha rara para poder filtrar luego. \n",
    "# OJO! esto convierte toda la columna en float\n",
    "Exclude_date = \"2030-01-01 00:00:00\"\n",
    "df['Date_normalize'].fillna(value = Exclude_date , inplace=True)"
   ]
  },
  {
   "cell_type": "code",
   "execution_count": 91,
   "id": "246280d5-058d-4d0a-b54d-0f2cca53afda",
   "metadata": {},
   "outputs": [
    {
     "data": {
      "text/plain": [
       "0       2018-06-25\n",
       "1       2018-06-18\n",
       "2       2018-06-09\n",
       "3       2018-06-08\n",
       "4       2018-06-04\n",
       "           ...    \n",
       "6298    2030-01-01\n",
       "6299    2030-01-01\n",
       "6300    2030-01-01\n",
       "6301    2030-01-01\n",
       "25722   2030-01-01\n",
       "Name: Date_normalize, Length: 6303, dtype: datetime64[ns]"
      ]
     },
     "execution_count": 91,
     "metadata": {},
     "output_type": "execute_result"
    }
   ],
   "source": [
    "df['Date_normalize']"
   ]
  },
  {
   "cell_type": "code",
   "execution_count": 92,
   "id": "2648bf9d-f37c-4fd3-b281-fb17edde02e6",
   "metadata": {},
   "outputs": [
    {
     "data": {
      "text/plain": [
       "0"
      ]
     },
     "execution_count": 92,
     "metadata": {},
     "output_type": "execute_result"
    }
   ],
   "source": [
    "df['Date_normalize'].isnull().sum()"
   ]
  },
  {
   "cell_type": "code",
   "execution_count": 93,
   "id": "3273e5a2-2798-489e-838d-09c2a111edf4",
   "metadata": {},
   "outputs": [
    {
     "data": {
      "text/plain": [
       "dtype('<M8[ns]')"
      ]
     },
     "execution_count": 93,
     "metadata": {},
     "output_type": "execute_result"
    }
   ],
   "source": [
    "df['Date_normalize'].dtypes"
   ]
  },
  {
   "cell_type": "code",
   "execution_count": 94,
   "id": "27076bdd-1152-455d-90cf-cc59f7f427b1",
   "metadata": {},
   "outputs": [],
   "source": [
    "#volvemos a convertir la columna de float a datetime \n",
    "df['Date_normalize'] = pd.to_datetime(df['Date_normalize'], errors ='coerce')"
   ]
  },
  {
   "cell_type": "code",
   "execution_count": 95,
   "id": "27eeaa13-91d9-4fa4-8fc3-125a22155324",
   "metadata": {},
   "outputs": [
    {
     "data": {
      "text/plain": [
       "0       2018-06-25\n",
       "1       2018-06-18\n",
       "2       2018-06-09\n",
       "3       2018-06-08\n",
       "4       2018-06-04\n",
       "           ...    \n",
       "6298    2030-01-01\n",
       "6299    2030-01-01\n",
       "6300    2030-01-01\n",
       "6301    2030-01-01\n",
       "25722   2030-01-01\n",
       "Name: Date_normalize, Length: 6303, dtype: datetime64[ns]"
      ]
     },
     "execution_count": 95,
     "metadata": {},
     "output_type": "execute_result"
    }
   ],
   "source": [
    "df['Date_normalize']"
   ]
  },
  {
   "cell_type": "code",
   "execution_count": 96,
   "id": "f0eb95ce-9b42-4233-ad52-9e8dfb217e29",
   "metadata": {},
   "outputs": [
    {
     "data": {
      "text/plain": [
       "0"
      ]
     },
     "execution_count": 96,
     "metadata": {},
     "output_type": "execute_result"
    }
   ],
   "source": [
    "df['Date_normalize'].isnull().sum()"
   ]
  },
  {
   "cell_type": "code",
   "execution_count": 97,
   "id": "e9dd4495-d3a0-4721-acba-66c81b9baedc",
   "metadata": {},
   "outputs": [
    {
     "data": {
      "text/plain": [
       "dtype('<M8[ns]')"
      ]
     },
     "execution_count": 97,
     "metadata": {},
     "output_type": "execute_result"
    }
   ],
   "source": [
    "df['Date_normalize'].dtypes"
   ]
  },
  {
   "cell_type": "code",
   "execution_count": 98,
   "id": "edad91d1-892e-4a68-bb89-3231244d20a9",
   "metadata": {},
   "outputs": [],
   "source": [
    "df['Year_Date'] = df['Date_normalize'].dt.year"
   ]
  },
  {
   "cell_type": "code",
   "execution_count": 99,
   "id": "11c1e162-fa24-426d-93cd-39ab692dd992",
   "metadata": {},
   "outputs": [
    {
     "data": {
      "text/plain": [
       "0"
      ]
     },
     "execution_count": 99,
     "metadata": {},
     "output_type": "execute_result"
    }
   ],
   "source": [
    "df['Year_Date'].isnull().sum()"
   ]
  },
  {
   "cell_type": "code",
   "execution_count": 100,
   "id": "57f0c3bd-6d9e-4a4e-9c75-b643b15f7c17",
   "metadata": {},
   "outputs": [],
   "source": [
    "df['Month_Date'] = df['Date_normalize'].dt.month"
   ]
  },
  {
   "cell_type": "code",
   "execution_count": 34,
   "id": "37c77fd8-6d73-4068-bdb6-6f0a989c7eb7",
   "metadata": {},
   "outputs": [],
   "source": [
    "df['Day_Date'] = df['Date_normalize'].dt.day_name()"
   ]
  },
  {
   "cell_type": "code",
   "execution_count": 35,
   "id": "7acc55e8-de00-4cc6-b5c6-1c12d0b134b6",
   "metadata": {},
   "outputs": [
    {
     "data": {
      "text/html": [
       "<div>\n",
       "<style scoped>\n",
       "    .dataframe tbody tr th:only-of-type {\n",
       "        vertical-align: middle;\n",
       "    }\n",
       "\n",
       "    .dataframe tbody tr th {\n",
       "        vertical-align: top;\n",
       "    }\n",
       "\n",
       "    .dataframe thead th {\n",
       "        text-align: right;\n",
       "    }\n",
       "</style>\n",
       "<table border=\"1\" class=\"dataframe\">\n",
       "  <thead>\n",
       "    <tr style=\"text-align: right;\">\n",
       "      <th></th>\n",
       "      <th>Case Number</th>\n",
       "      <th>Date</th>\n",
       "      <th>Year</th>\n",
       "      <th>Type</th>\n",
       "      <th>Country</th>\n",
       "      <th>Area</th>\n",
       "      <th>Location</th>\n",
       "      <th>Activity</th>\n",
       "      <th>Sex</th>\n",
       "      <th>Age</th>\n",
       "      <th>Fatal (Y/N)</th>\n",
       "      <th>Time</th>\n",
       "      <th>original order</th>\n",
       "      <th>Age_normalize</th>\n",
       "      <th>Date_normalize</th>\n",
       "      <th>Year_Date</th>\n",
       "      <th>Month_Date</th>\n",
       "      <th>Day_Date</th>\n",
       "    </tr>\n",
       "  </thead>\n",
       "  <tbody>\n",
       "    <tr>\n",
       "      <th>0</th>\n",
       "      <td>2018.06.25</td>\n",
       "      <td>25-Jun-2018</td>\n",
       "      <td>2018.0</td>\n",
       "      <td>Boating</td>\n",
       "      <td>USA</td>\n",
       "      <td>California</td>\n",
       "      <td>Oceanside, San Diego County</td>\n",
       "      <td>Paddling</td>\n",
       "      <td>F</td>\n",
       "      <td>57</td>\n",
       "      <td>N</td>\n",
       "      <td>18h00</td>\n",
       "      <td>6303.0</td>\n",
       "      <td>57</td>\n",
       "      <td>2018-06-25</td>\n",
       "      <td>2018</td>\n",
       "      <td>6</td>\n",
       "      <td>Monday</td>\n",
       "    </tr>\n",
       "    <tr>\n",
       "      <th>1</th>\n",
       "      <td>2018.06.18</td>\n",
       "      <td>18-Jun-2018</td>\n",
       "      <td>2018.0</td>\n",
       "      <td>Unprovoked</td>\n",
       "      <td>USA</td>\n",
       "      <td>Georgia</td>\n",
       "      <td>St. Simon Island, Glynn County</td>\n",
       "      <td>Standing</td>\n",
       "      <td>F</td>\n",
       "      <td>11</td>\n",
       "      <td>N</td>\n",
       "      <td>14h00  -15h00</td>\n",
       "      <td>6302.0</td>\n",
       "      <td>11</td>\n",
       "      <td>2018-06-18</td>\n",
       "      <td>2018</td>\n",
       "      <td>6</td>\n",
       "      <td>Monday</td>\n",
       "    </tr>\n",
       "    <tr>\n",
       "      <th>2</th>\n",
       "      <td>2018.06.09</td>\n",
       "      <td>09-Jun-2018</td>\n",
       "      <td>2018.0</td>\n",
       "      <td>Invalid</td>\n",
       "      <td>USA</td>\n",
       "      <td>Hawaii</td>\n",
       "      <td>Habush, Oahu</td>\n",
       "      <td>Surfing</td>\n",
       "      <td>M</td>\n",
       "      <td>48</td>\n",
       "      <td>N</td>\n",
       "      <td>07h45</td>\n",
       "      <td>6301.0</td>\n",
       "      <td>48</td>\n",
       "      <td>2018-06-09</td>\n",
       "      <td>2018</td>\n",
       "      <td>6</td>\n",
       "      <td>Saturday</td>\n",
       "    </tr>\n",
       "  </tbody>\n",
       "</table>\n",
       "</div>"
      ],
      "text/plain": [
       "  Case Number         Date    Year        Type Country        Area  \\\n",
       "0  2018.06.25  25-Jun-2018  2018.0     Boating     USA  California   \n",
       "1  2018.06.18  18-Jun-2018  2018.0  Unprovoked     USA     Georgia   \n",
       "2  2018.06.09  09-Jun-2018  2018.0     Invalid     USA      Hawaii   \n",
       "\n",
       "                         Location  Activity Sex  Age Fatal (Y/N)  \\\n",
       "0     Oceanside, San Diego County  Paddling    F  57           N   \n",
       "1  St. Simon Island, Glynn County  Standing    F  11           N   \n",
       "2                    Habush, Oahu   Surfing    M  48           N   \n",
       "\n",
       "            Time  original order  Age_normalize Date_normalize  Year_Date  \\\n",
       "0          18h00          6303.0             57     2018-06-25       2018   \n",
       "1  14h00  -15h00          6302.0             11     2018-06-18       2018   \n",
       "2          07h45          6301.0             48     2018-06-09       2018   \n",
       "\n",
       "   Month_Date  Day_Date  \n",
       "0           6    Monday  \n",
       "1           6    Monday  \n",
       "2           6  Saturday  "
      ]
     },
     "execution_count": 35,
     "metadata": {},
     "output_type": "execute_result"
    }
   ],
   "source": [
    "df.head(3)"
   ]
  },
  {
   "cell_type": "code",
   "execution_count": null,
   "id": "7a80d726-a060-4bdd-aa10-01ee0240e944",
   "metadata": {},
   "outputs": [],
   "source": []
  },
  {
   "cell_type": "code",
   "execution_count": 36,
   "id": "e7812bf9-4000-43e4-82b2-d54effed8c1a",
   "metadata": {},
   "outputs": [
    {
     "data": {
      "text/plain": [
       "Unprovoked      4595\n",
       "Provoked         574\n",
       "Invalid          547\n",
       "Sea Disaster     239\n",
       "Boating          203\n",
       "Boat             137\n",
       "Questionable       2\n",
       "Boatomg            1\n",
       "Name: Type, dtype: int64"
      ]
     },
     "execution_count": 36,
     "metadata": {},
     "output_type": "execute_result"
    }
   ],
   "source": [
    "df['Type'].value_counts() "
   ]
  },
  {
   "cell_type": "code",
   "execution_count": null,
   "id": "2e8ef8c9-6fa1-4d3f-ab62-11e57307aa81",
   "metadata": {},
   "outputs": [],
   "source": []
  },
  {
   "cell_type": "markdown",
   "id": "2a99fefe-1c2c-4d72-9223-259b6d9ea786",
   "metadata": {},
   "source": [
    "\"\"\"\n",
    "para estudiar:\n",
    "la manera en que si hay menos valores que x(en cantidad) en una columna esta pase a ser \"undefined\"\n",
    "o algo por el estilo. p ej en \"Type\" aparee Boatomg que es un error de tiping o Questionable que solo hay 2 valores \n",
    "\"\"\""
   ]
  },
  {
   "cell_type": "code",
   "execution_count": null,
   "id": "33ca7c68-d7aa-496f-91dc-217373ba07d5",
   "metadata": {},
   "outputs": [],
   "source": []
  },
  {
   "cell_type": "code",
   "execution_count": 38,
   "id": "a19597c6-202d-4695-b8e2-1dd2578660e2",
   "metadata": {},
   "outputs": [],
   "source": [
    "# limpiar columnas de espacios\n",
    "\n",
    "columnas = df.columns\n",
    "columnas = map(lambda x: x.strip(), columnas)\n",
    "df.columns = columnas\n",
    "\n"
   ]
  },
  {
   "cell_type": "code",
   "execution_count": 39,
   "id": "339c0a00-36d5-48a6-950a-cf0138b7bbaa",
   "metadata": {},
   "outputs": [
    {
     "data": {
      "text/plain": [
       "Index(['Case Number', 'Date', 'Year', 'Type', 'Country', 'Area', 'Location',\n",
       "       'Activity', 'Sex', 'Age', 'Fatal (Y/N)', 'Time', 'original order',\n",
       "       'Age_normalize', 'Date_normalize', 'Year_Date', 'Month_Date',\n",
       "       'Day_Date'],\n",
       "      dtype='object')"
      ]
     },
     "execution_count": 39,
     "metadata": {},
     "output_type": "execute_result"
    }
   ],
   "source": [
    "df.columns"
   ]
  },
  {
   "cell_type": "code",
   "execution_count": null,
   "id": "a0c8d065-3055-4b9e-971c-5135a3d97e1f",
   "metadata": {},
   "outputs": [],
   "source": [
    "df[\"Country\"] = coco.convert(names=df[\"Country\"], to='name_short')\n",
    "df[\"Country\"]=df[\"Country\"].str.lower()"
   ]
  },
  {
   "cell_type": "code",
   "execution_count": null,
   "id": "1fbddf9b-6240-43c0-b3da-e21605cf8f3f",
   "metadata": {},
   "outputs": [],
   "source": [
    "df[\"Country\"].nunique()"
   ]
  },
  {
   "cell_type": "code",
   "execution_count": 83,
   "id": "cc73b3b8-96a7-448d-aa0a-ba618a52d64d",
   "metadata": {},
   "outputs": [
    {
     "ename": "AttributeError",
     "evalue": "'DataFrame' object has no attribute 'Year_Date'",
     "output_type": "error",
     "traceback": [
      "\u001b[1;31m---------------------------------------------------------------------------\u001b[0m",
      "\u001b[1;31mAttributeError\u001b[0m                            Traceback (most recent call last)",
      "Input \u001b[1;32mIn [83]\u001b[0m, in \u001b[0;36m<cell line: 1>\u001b[1;34m()\u001b[0m\n\u001b[1;32m----> 1\u001b[0m year_filtrado \u001b[38;5;241m=\u001b[39m df[(\u001b[43mdf\u001b[49m\u001b[38;5;241;43m.\u001b[39;49m\u001b[43mYear_Date\u001b[49m \u001b[38;5;241m<\u001b[39m \u001b[38;5;241m2028\u001b[39m)]\n\u001b[0;32m      3\u001b[0m year_filtrado[\u001b[38;5;124m'\u001b[39m\u001b[38;5;124mYear_Date\u001b[39m\u001b[38;5;124m'\u001b[39m]\u001b[38;5;241m.\u001b[39mhist(legend\u001b[38;5;241m=\u001b[39m\u001b[38;5;28;01mTrue\u001b[39;00m,bins\u001b[38;5;241m=\u001b[39m \u001b[38;5;241m200\u001b[39m, figsize \u001b[38;5;241m=\u001b[39m [\u001b[38;5;241m15\u001b[39m,\u001b[38;5;241m4\u001b[39m])\n",
      "File \u001b[1;32m~\\anaconda3\\envs\\Ironhack\\lib\\site-packages\\pandas\\core\\generic.py:5575\u001b[0m, in \u001b[0;36mNDFrame.__getattr__\u001b[1;34m(self, name)\u001b[0m\n\u001b[0;32m   5568\u001b[0m \u001b[38;5;28;01mif\u001b[39;00m (\n\u001b[0;32m   5569\u001b[0m     name \u001b[38;5;129;01mnot\u001b[39;00m \u001b[38;5;129;01min\u001b[39;00m \u001b[38;5;28mself\u001b[39m\u001b[38;5;241m.\u001b[39m_internal_names_set\n\u001b[0;32m   5570\u001b[0m     \u001b[38;5;129;01mand\u001b[39;00m name \u001b[38;5;129;01mnot\u001b[39;00m \u001b[38;5;129;01min\u001b[39;00m \u001b[38;5;28mself\u001b[39m\u001b[38;5;241m.\u001b[39m_metadata\n\u001b[0;32m   5571\u001b[0m     \u001b[38;5;129;01mand\u001b[39;00m name \u001b[38;5;129;01mnot\u001b[39;00m \u001b[38;5;129;01min\u001b[39;00m \u001b[38;5;28mself\u001b[39m\u001b[38;5;241m.\u001b[39m_accessors\n\u001b[0;32m   5572\u001b[0m     \u001b[38;5;129;01mand\u001b[39;00m \u001b[38;5;28mself\u001b[39m\u001b[38;5;241m.\u001b[39m_info_axis\u001b[38;5;241m.\u001b[39m_can_hold_identifiers_and_holds_name(name)\n\u001b[0;32m   5573\u001b[0m ):\n\u001b[0;32m   5574\u001b[0m     \u001b[38;5;28;01mreturn\u001b[39;00m \u001b[38;5;28mself\u001b[39m[name]\n\u001b[1;32m-> 5575\u001b[0m \u001b[38;5;28;01mreturn\u001b[39;00m \u001b[38;5;28;43mobject\u001b[39;49m\u001b[38;5;241;43m.\u001b[39;49m\u001b[38;5;21;43m__getattribute__\u001b[39;49m\u001b[43m(\u001b[49m\u001b[38;5;28;43mself\u001b[39;49m\u001b[43m,\u001b[49m\u001b[43m \u001b[49m\u001b[43mname\u001b[49m\u001b[43m)\u001b[49m\n",
      "\u001b[1;31mAttributeError\u001b[0m: 'DataFrame' object has no attribute 'Year_Date'"
     ]
    }
   ],
   "source": [
    "year_filtrado = df[(df.Year_Date < 2028)]\n",
    "\n",
    "year_filtrado['Year_Date'].hist(legend=True,bins= 200, figsize = [15,4])"
   ]
  },
  {
   "cell_type": "code",
   "execution_count": 73,
   "id": "bdedcee5-381b-4221-bf3c-8248a60cf7ad",
   "metadata": {},
   "outputs": [
    {
     "ename": "ValueError",
     "evalue": "Could not interpret input 'Age'",
     "output_type": "error",
     "traceback": [
      "\u001b[1;31m---------------------------------------------------------------------------\u001b[0m",
      "\u001b[1;31mValueError\u001b[0m                                Traceback (most recent call last)",
      "Input \u001b[1;32mIn [73]\u001b[0m, in \u001b[0;36m<cell line: 1>\u001b[1;34m()\u001b[0m\n\u001b[1;32m----> 1\u001b[0m \u001b[43msns\u001b[49m\u001b[38;5;241;43m.\u001b[39;49m\u001b[43mcatplot\u001b[49m\u001b[43m(\u001b[49m\u001b[43mx\u001b[49m\u001b[38;5;241;43m=\u001b[39;49m\u001b[38;5;124;43m'\u001b[39;49m\u001b[38;5;124;43mAge\u001b[39;49m\u001b[38;5;124;43m'\u001b[39;49m\u001b[43m,\u001b[49m\u001b[43m \u001b[49m\u001b[43mkind\u001b[49m\u001b[38;5;241;43m=\u001b[39;49m\u001b[38;5;124;43m\"\u001b[39;49m\u001b[38;5;124;43mcount\u001b[39;49m\u001b[38;5;124;43m\"\u001b[39;49m\u001b[43m,\u001b[49m\u001b[43m \u001b[49m\u001b[43mpalette\u001b[49m\u001b[38;5;241;43m=\u001b[39;49m\u001b[38;5;124;43m\"\u001b[39;49m\u001b[38;5;124;43mch:.25\u001b[39;49m\u001b[38;5;124;43m\"\u001b[39;49m\u001b[43m)\u001b[49m\n",
      "File \u001b[1;32m~\\anaconda3\\envs\\Ironhack\\lib\\site-packages\\seaborn\\_decorators.py:46\u001b[0m, in \u001b[0;36m_deprecate_positional_args.<locals>.inner_f\u001b[1;34m(*args, **kwargs)\u001b[0m\n\u001b[0;32m     36\u001b[0m     warnings\u001b[38;5;241m.\u001b[39mwarn(\n\u001b[0;32m     37\u001b[0m         \u001b[38;5;124m\"\u001b[39m\u001b[38;5;124mPass the following variable\u001b[39m\u001b[38;5;132;01m{}\u001b[39;00m\u001b[38;5;124m as \u001b[39m\u001b[38;5;132;01m{}\u001b[39;00m\u001b[38;5;124mkeyword arg\u001b[39m\u001b[38;5;132;01m{}\u001b[39;00m\u001b[38;5;124m: \u001b[39m\u001b[38;5;132;01m{}\u001b[39;00m\u001b[38;5;124m. \u001b[39m\u001b[38;5;124m\"\u001b[39m\n\u001b[0;32m     38\u001b[0m         \u001b[38;5;124m\"\u001b[39m\u001b[38;5;124mFrom version 0.12, the only valid positional argument \u001b[39m\u001b[38;5;124m\"\u001b[39m\n\u001b[1;32m   (...)\u001b[0m\n\u001b[0;32m     43\u001b[0m         \u001b[38;5;167;01mFutureWarning\u001b[39;00m\n\u001b[0;32m     44\u001b[0m     )\n\u001b[0;32m     45\u001b[0m kwargs\u001b[38;5;241m.\u001b[39mupdate({k: arg \u001b[38;5;28;01mfor\u001b[39;00m k, arg \u001b[38;5;129;01min\u001b[39;00m \u001b[38;5;28mzip\u001b[39m(sig\u001b[38;5;241m.\u001b[39mparameters, args)})\n\u001b[1;32m---> 46\u001b[0m \u001b[38;5;28;01mreturn\u001b[39;00m f(\u001b[38;5;241m*\u001b[39m\u001b[38;5;241m*\u001b[39mkwargs)\n",
      "File \u001b[1;32m~\\anaconda3\\envs\\Ironhack\\lib\\site-packages\\seaborn\\categorical.py:3792\u001b[0m, in \u001b[0;36mcatplot\u001b[1;34m(x, y, hue, data, row, col, col_wrap, estimator, ci, n_boot, units, seed, order, hue_order, row_order, col_order, kind, height, aspect, orient, color, palette, legend, legend_out, sharex, sharey, margin_titles, facet_kws, **kwargs)\u001b[0m\n\u001b[0;32m   3790\u001b[0m p \u001b[38;5;241m=\u001b[39m _CategoricalPlotter()\n\u001b[0;32m   3791\u001b[0m p\u001b[38;5;241m.\u001b[39mrequire_numeric \u001b[38;5;241m=\u001b[39m plotter_class\u001b[38;5;241m.\u001b[39mrequire_numeric\n\u001b[1;32m-> 3792\u001b[0m \u001b[43mp\u001b[49m\u001b[38;5;241;43m.\u001b[39;49m\u001b[43mestablish_variables\u001b[49m\u001b[43m(\u001b[49m\u001b[43mx_\u001b[49m\u001b[43m,\u001b[49m\u001b[43m \u001b[49m\u001b[43my_\u001b[49m\u001b[43m,\u001b[49m\u001b[43m \u001b[49m\u001b[43mhue\u001b[49m\u001b[43m,\u001b[49m\u001b[43m \u001b[49m\u001b[43mdata\u001b[49m\u001b[43m,\u001b[49m\u001b[43m \u001b[49m\u001b[43morient\u001b[49m\u001b[43m,\u001b[49m\u001b[43m \u001b[49m\u001b[43morder\u001b[49m\u001b[43m,\u001b[49m\u001b[43m \u001b[49m\u001b[43mhue_order\u001b[49m\u001b[43m)\u001b[49m\n\u001b[0;32m   3793\u001b[0m \u001b[38;5;28;01mif\u001b[39;00m (\n\u001b[0;32m   3794\u001b[0m     order \u001b[38;5;129;01mis\u001b[39;00m \u001b[38;5;129;01mnot\u001b[39;00m \u001b[38;5;28;01mNone\u001b[39;00m\n\u001b[0;32m   3795\u001b[0m     \u001b[38;5;129;01mor\u001b[39;00m (sharex \u001b[38;5;129;01mand\u001b[39;00m p\u001b[38;5;241m.\u001b[39morient \u001b[38;5;241m==\u001b[39m \u001b[38;5;124m\"\u001b[39m\u001b[38;5;124mv\u001b[39m\u001b[38;5;124m\"\u001b[39m)\n\u001b[0;32m   3796\u001b[0m     \u001b[38;5;129;01mor\u001b[39;00m (sharey \u001b[38;5;129;01mand\u001b[39;00m p\u001b[38;5;241m.\u001b[39morient \u001b[38;5;241m==\u001b[39m \u001b[38;5;124m\"\u001b[39m\u001b[38;5;124mh\u001b[39m\u001b[38;5;124m\"\u001b[39m)\n\u001b[0;32m   3797\u001b[0m ):\n\u001b[0;32m   3798\u001b[0m     \u001b[38;5;66;03m# Sync categorical axis between facets to have the same categories\u001b[39;00m\n\u001b[0;32m   3799\u001b[0m     order \u001b[38;5;241m=\u001b[39m p\u001b[38;5;241m.\u001b[39mgroup_names\n",
      "File \u001b[1;32m~\\anaconda3\\envs\\Ironhack\\lib\\site-packages\\seaborn\\categorical.py:153\u001b[0m, in \u001b[0;36m_CategoricalPlotter.establish_variables\u001b[1;34m(self, x, y, hue, data, orient, order, hue_order, units)\u001b[0m\n\u001b[0;32m    151\u001b[0m     \u001b[38;5;28;01mif\u001b[39;00m \u001b[38;5;28misinstance\u001b[39m(var, \u001b[38;5;28mstr\u001b[39m):\n\u001b[0;32m    152\u001b[0m         err \u001b[38;5;241m=\u001b[39m \u001b[38;5;124m\"\u001b[39m\u001b[38;5;124mCould not interpret input \u001b[39m\u001b[38;5;124m'\u001b[39m\u001b[38;5;132;01m{}\u001b[39;00m\u001b[38;5;124m'\u001b[39m\u001b[38;5;124m\"\u001b[39m\u001b[38;5;241m.\u001b[39mformat(var)\n\u001b[1;32m--> 153\u001b[0m         \u001b[38;5;28;01mraise\u001b[39;00m \u001b[38;5;167;01mValueError\u001b[39;00m(err)\n\u001b[0;32m    155\u001b[0m \u001b[38;5;66;03m# Figure out the plotting orientation\u001b[39;00m\n\u001b[0;32m    156\u001b[0m orient \u001b[38;5;241m=\u001b[39m infer_orient(\n\u001b[0;32m    157\u001b[0m     x, y, orient, require_numeric\u001b[38;5;241m=\u001b[39m\u001b[38;5;28mself\u001b[39m\u001b[38;5;241m.\u001b[39mrequire_numeric\n\u001b[0;32m    158\u001b[0m )\n",
      "\u001b[1;31mValueError\u001b[0m: Could not interpret input 'Age'"
     ]
    }
   ],
   "source": [
    "sns.catplot(x='Age', kind=\"count\", palette=\"ch:.25\")"
   ]
  },
  {
   "cell_type": "code",
   "execution_count": null,
   "id": "82e9fc41-9d2e-4667-82a0-479392defcdf",
   "metadata": {},
   "outputs": [],
   "source": []
  },
  {
   "cell_type": "code",
   "execution_count": 53,
   "id": "ef18b7bb-2833-4b8e-9977-a6ff61dd6201",
   "metadata": {},
   "outputs": [
    {
     "data": {
      "text/plain": [
       "<AxesSubplot:>"
      ]
     },
     "execution_count": 53,
     "metadata": {},
     "output_type": "execute_result"
    },
    {
     "data": {
      "image/png": "[encoded data removed]",
      "text/plain": [
       "<Figure size 720x288 with 1 Axes>"
      ]
     },
     "metadata": {
      "needs_background": "light"
     },
     "output_type": "display_data"
    }
   ],
   "source": [
    "year_filtrado['Month_Date'].hist(legend=True,bins= 200, figsize = [10,4])\n"
   ]
  },
  {
   "cell_type": "code",
   "execution_count": 54,
   "id": "936ea9c5-e825-4fdd-a27c-45fe8805ed36",
   "metadata": {},
   "outputs": [
    {
     "data": {
      "text/plain": [
       "<AxesSubplot:>"
      ]
     },
     "execution_count": 54,
     "metadata": {},
     "output_type": "execute_result"
    },
    {
     "data": {
      "image/png": "[encoded data removed]",
      "text/plain": [
       "<Figure size 720x288 with 1 Axes>"
      ]
     },
     "metadata": {
      "needs_background": "light"
     },
     "output_type": "display_data"
    }
   ],
   "source": [
    "year_filtrado['Day_Date'].hist(legend=True,bins= 200, figsize = [10,4])"
   ]
  },
  {
   "cell_type": "code",
   "execution_count": 43,
   "id": "25c0fa27-e581-43a0-8964-c13287e02e73",
   "metadata": {},
   "outputs": [
    {
     "data": {
      "text/plain": [
       "pandas.core.frame.DataFrame"
      ]
     },
     "execution_count": 43,
     "metadata": {},
     "output_type": "execute_result"
    }
   ],
   "source": [
    "type(year_filtrado)\n",
    "\n",
    "# newdf = df[(df.Year_Date != 0)]"
   ]
  },
  {
   "cell_type": "code",
   "execution_count": 55,
   "id": "94d7e4d9-c84a-43c2-b556-c00374287eae",
   "metadata": {},
   "outputs": [
    {
     "data": {
      "text/plain": [
       "<AxesSubplot:>"
      ]
     },
     "execution_count": 55,
     "metadata": {},
     "output_type": "execute_result"
    },
    {
     "data": {
      "image/png": "[encoded data removed]",
      "text/plain": [
       "<Figure size 720x288 with 1 Axes>"
      ]
     },
     "metadata": {
      "needs_background": "light"
     },
     "output_type": "display_data"
    }
   ],
   "source": [
    "df['Type'].hist(legend=True,bins= 200, figsize = [10,4])"
   ]
  },
  {
   "cell_type": "code",
   "execution_count": 102,
   "id": "5001b5fc-ce74-48fa-9241-c03a19a52a01",
   "metadata": {},
   "outputs": [
    {
     "data": {
      "text/html": [
       "<div>\n",
       "<style scoped>\n",
       "    .dataframe tbody tr th:only-of-type {\n",
       "        vertical-align: middle;\n",
       "    }\n",
       "\n",
       "    .dataframe tbody tr th {\n",
       "        vertical-align: top;\n",
       "    }\n",
       "\n",
       "    .dataframe thead th {\n",
       "        text-align: right;\n",
       "    }\n",
       "</style>\n",
       "<table border=\"1\" class=\"dataframe\">\n",
       "  <thead>\n",
       "    <tr style=\"text-align: right;\">\n",
       "      <th></th>\n",
       "      <th>Case Number</th>\n",
       "      <th>Date</th>\n",
       "      <th>Year</th>\n",
       "      <th>Type</th>\n",
       "      <th>Country</th>\n",
       "      <th>Area</th>\n",
       "      <th>Location</th>\n",
       "      <th>Activity</th>\n",
       "      <th>Sex</th>\n",
       "      <th>Age</th>\n",
       "      <th>Fatal (Y/N)</th>\n",
       "      <th>Time</th>\n",
       "      <th>original order</th>\n",
       "      <th>Age_normalize</th>\n",
       "      <th>Date_normalize</th>\n",
       "      <th>Year_Date</th>\n",
       "      <th>Month_Date</th>\n",
       "      <th>Day_Date</th>\n",
       "    </tr>\n",
       "  </thead>\n",
       "  <tbody>\n",
       "    <tr>\n",
       "      <th>6160</th>\n",
       "      <td>1703.03.26</td>\n",
       "      <td>26-Mar-1703</td>\n",
       "      <td>1703.0</td>\n",
       "      <td>Unprovoked</td>\n",
       "      <td>BARBADOS</td>\n",
       "      <td>Southwest coast</td>\n",
       "      <td>Carlisle Bay</td>\n",
       "      <td>Swimming</td>\n",
       "      <td>M</td>\n",
       "      <td>19</td>\n",
       "      <td>N</td>\n",
       "      <td>Night</td>\n",
       "      <td>143.0</td>\n",
       "      <td>19</td>\n",
       "      <td>1703-03-26</td>\n",
       "      <td>1703</td>\n",
       "      <td>3</td>\n",
       "      <td>Monday</td>\n",
       "    </tr>\n",
       "    <tr>\n",
       "      <th>6159</th>\n",
       "      <td>1721.06.00</td>\n",
       "      <td>June 1721</td>\n",
       "      <td>1721.0</td>\n",
       "      <td>Unprovoked</td>\n",
       "      <td>ITALY</td>\n",
       "      <td>Sardinia</td>\n",
       "      <td>Ponte della Maddelena,</td>\n",
       "      <td>Swimming</td>\n",
       "      <td>M</td>\n",
       "      <td>NaN</td>\n",
       "      <td>Y</td>\n",
       "      <td>NaN</td>\n",
       "      <td>144.0</td>\n",
       "      <td>0</td>\n",
       "      <td>1721-06-01</td>\n",
       "      <td>1721</td>\n",
       "      <td>6</td>\n",
       "      <td>Sunday</td>\n",
       "    </tr>\n",
       "    <tr>\n",
       "      <th>6158</th>\n",
       "      <td>1723.00.00</td>\n",
       "      <td>1723</td>\n",
       "      <td>1723.0</td>\n",
       "      <td>Unprovoked</td>\n",
       "      <td>ROATAN</td>\n",
       "      <td>NaN</td>\n",
       "      <td>NaN</td>\n",
       "      <td>NaN</td>\n",
       "      <td>M</td>\n",
       "      <td>NaN</td>\n",
       "      <td>NaN</td>\n",
       "      <td>NaN</td>\n",
       "      <td>145.0</td>\n",
       "      <td>0</td>\n",
       "      <td>1723-01-01</td>\n",
       "      <td>1723</td>\n",
       "      <td>1</td>\n",
       "      <td>Friday</td>\n",
       "    </tr>\n",
       "    <tr>\n",
       "      <th>6157</th>\n",
       "      <td>1733.00.00</td>\n",
       "      <td>1733</td>\n",
       "      <td>1733.0</td>\n",
       "      <td>Invalid</td>\n",
       "      <td>ICELAND</td>\n",
       "      <td>Bardestrand</td>\n",
       "      <td>Talkknefiord</td>\n",
       "      <td>NaN</td>\n",
       "      <td>NaN</td>\n",
       "      <td>NaN</td>\n",
       "      <td>NaN</td>\n",
       "      <td>NaN</td>\n",
       "      <td>146.0</td>\n",
       "      <td>0</td>\n",
       "      <td>1733-01-01</td>\n",
       "      <td>1733</td>\n",
       "      <td>1</td>\n",
       "      <td>Thursday</td>\n",
       "    </tr>\n",
       "    <tr>\n",
       "      <th>6155</th>\n",
       "      <td>1742.12.17</td>\n",
       "      <td>17-Dec-1742</td>\n",
       "      <td>1742.0</td>\n",
       "      <td>Unprovoked</td>\n",
       "      <td>NaN</td>\n",
       "      <td>NaN</td>\n",
       "      <td>Carlisle Bay</td>\n",
       "      <td>Swimming</td>\n",
       "      <td>M</td>\n",
       "      <td>NaN</td>\n",
       "      <td>Y</td>\n",
       "      <td>NaN</td>\n",
       "      <td>148.0</td>\n",
       "      <td>0</td>\n",
       "      <td>1742-12-17</td>\n",
       "      <td>1742</td>\n",
       "      <td>12</td>\n",
       "      <td>Monday</td>\n",
       "    </tr>\n",
       "    <tr>\n",
       "      <th>...</th>\n",
       "      <td>...</td>\n",
       "      <td>...</td>\n",
       "      <td>...</td>\n",
       "      <td>...</td>\n",
       "      <td>...</td>\n",
       "      <td>...</td>\n",
       "      <td>...</td>\n",
       "      <td>...</td>\n",
       "      <td>...</td>\n",
       "      <td>...</td>\n",
       "      <td>...</td>\n",
       "      <td>...</td>\n",
       "      <td>...</td>\n",
       "      <td>...</td>\n",
       "      <td>...</td>\n",
       "      <td>...</td>\n",
       "      <td>...</td>\n",
       "      <td>...</td>\n",
       "    </tr>\n",
       "    <tr>\n",
       "      <th>30</th>\n",
       "      <td>2018.04.14</td>\n",
       "      <td>14-Apr-2018</td>\n",
       "      <td>2018.0</td>\n",
       "      <td>Unprovoked</td>\n",
       "      <td>BAHAMAS</td>\n",
       "      <td>New Providence</td>\n",
       "      <td>Nirvana Beach</td>\n",
       "      <td>Surfing</td>\n",
       "      <td>M</td>\n",
       "      <td>NaN</td>\n",
       "      <td>N</td>\n",
       "      <td>09h30</td>\n",
       "      <td>6273.0</td>\n",
       "      <td>0</td>\n",
       "      <td>2018-04-14</td>\n",
       "      <td>2018</td>\n",
       "      <td>4</td>\n",
       "      <td>Saturday</td>\n",
       "    </tr>\n",
       "    <tr>\n",
       "      <th>29</th>\n",
       "      <td>2018.04.15.a</td>\n",
       "      <td>15-Apr-2018</td>\n",
       "      <td>2018.0</td>\n",
       "      <td>Unprovoked</td>\n",
       "      <td>AUSTRALIA</td>\n",
       "      <td>Western Australia</td>\n",
       "      <td>Cobblestones, Margaret River Area</td>\n",
       "      <td>Surfing</td>\n",
       "      <td>M</td>\n",
       "      <td>37</td>\n",
       "      <td>N</td>\n",
       "      <td>08h00</td>\n",
       "      <td>6274.0</td>\n",
       "      <td>37</td>\n",
       "      <td>2018-04-15</td>\n",
       "      <td>2018</td>\n",
       "      <td>4</td>\n",
       "      <td>Sunday</td>\n",
       "    </tr>\n",
       "    <tr>\n",
       "      <th>28</th>\n",
       "      <td>2018.04.15.b</td>\n",
       "      <td>15-Apr-2018</td>\n",
       "      <td>2018.0</td>\n",
       "      <td>Unprovoked</td>\n",
       "      <td>AUSTRALIA</td>\n",
       "      <td>Western Australia</td>\n",
       "      <td>Lefthanders, Margaret River Area</td>\n",
       "      <td>Surfing</td>\n",
       "      <td>M</td>\n",
       "      <td>41</td>\n",
       "      <td>N</td>\n",
       "      <td>NaN</td>\n",
       "      <td>6275.0</td>\n",
       "      <td>41</td>\n",
       "      <td>2018-04-15</td>\n",
       "      <td>2018</td>\n",
       "      <td>4</td>\n",
       "      <td>Sunday</td>\n",
       "    </tr>\n",
       "    <tr>\n",
       "      <th>26</th>\n",
       "      <td>2018.04.15.d</td>\n",
       "      <td>15-Apr-2018</td>\n",
       "      <td>2018.0</td>\n",
       "      <td>Unprovoked</td>\n",
       "      <td>THAILAND</td>\n",
       "      <td>Hua Hin</td>\n",
       "      <td>Sai Noi Beach</td>\n",
       "      <td>Swimming</td>\n",
       "      <td>M</td>\n",
       "      <td>54</td>\n",
       "      <td>N</td>\n",
       "      <td>NaN</td>\n",
       "      <td>6277.0</td>\n",
       "      <td>54</td>\n",
       "      <td>2018-04-15</td>\n",
       "      <td>2018</td>\n",
       "      <td>4</td>\n",
       "      <td>Sunday</td>\n",
       "    </tr>\n",
       "    <tr>\n",
       "      <th>0</th>\n",
       "      <td>2018.06.25</td>\n",
       "      <td>25-Jun-2018</td>\n",
       "      <td>2018.0</td>\n",
       "      <td>Boating</td>\n",
       "      <td>USA</td>\n",
       "      <td>California</td>\n",
       "      <td>Oceanside, San Diego County</td>\n",
       "      <td>Paddling</td>\n",
       "      <td>F</td>\n",
       "      <td>57</td>\n",
       "      <td>N</td>\n",
       "      <td>18h00</td>\n",
       "      <td>6303.0</td>\n",
       "      <td>57</td>\n",
       "      <td>2018-06-25</td>\n",
       "      <td>2018</td>\n",
       "      <td>6</td>\n",
       "      <td>Monday</td>\n",
       "    </tr>\n",
       "  </tbody>\n",
       "</table>\n",
       "<p>5458 rows × 18 columns</p>\n",
       "</div>"
      ],
      "text/plain": [
       "       Case Number         Date    Year        Type    Country  \\\n",
       "6160    1703.03.26  26-Mar-1703  1703.0  Unprovoked   BARBADOS   \n",
       "6159    1721.06.00    June 1721  1721.0  Unprovoked      ITALY   \n",
       "6158    1723.00.00         1723  1723.0  Unprovoked     ROATAN   \n",
       "6157    1733.00.00         1733  1733.0     Invalid    ICELAND   \n",
       "6155    1742.12.17  17-Dec-1742  1742.0  Unprovoked        NaN   \n",
       "...            ...          ...     ...         ...        ...   \n",
       "30      2018.04.14  14-Apr-2018  2018.0  Unprovoked    BAHAMAS   \n",
       "29    2018.04.15.a  15-Apr-2018  2018.0  Unprovoked  AUSTRALIA   \n",
       "28    2018.04.15.b  15-Apr-2018  2018.0  Unprovoked  AUSTRALIA   \n",
       "26    2018.04.15.d  15-Apr-2018  2018.0  Unprovoked   THAILAND   \n",
       "0       2018.06.25  25-Jun-2018  2018.0     Boating        USA   \n",
       "\n",
       "                   Area                           Location  Activity  Sex  \\\n",
       "6160    Southwest coast                       Carlisle Bay  Swimming    M   \n",
       "6159           Sardinia             Ponte della Maddelena,  Swimming    M   \n",
       "6158                NaN                                NaN       NaN    M   \n",
       "6157        Bardestrand                       Talkknefiord       NaN  NaN   \n",
       "6155                NaN                       Carlisle Bay  Swimming    M   \n",
       "...                 ...                                ...       ...  ...   \n",
       "30       New Providence                      Nirvana Beach   Surfing    M   \n",
       "29    Western Australia  Cobblestones, Margaret River Area   Surfing    M   \n",
       "28    Western Australia   Lefthanders, Margaret River Area   Surfing    M   \n",
       "26              Hua Hin                      Sai Noi Beach  Swimming    M   \n",
       "0            California        Oceanside, San Diego County  Paddling    F   \n",
       "\n",
       "      Age Fatal (Y/N)   Time  original order  Age_normalize Date_normalize  \\\n",
       "6160   19           N  Night           143.0             19     1703-03-26   \n",
       "6159  NaN           Y    NaN           144.0              0     1721-06-01   \n",
       "6158  NaN         NaN    NaN           145.0              0     1723-01-01   \n",
       "6157  NaN         NaN    NaN           146.0              0     1733-01-01   \n",
       "6155  NaN           Y    NaN           148.0              0     1742-12-17   \n",
       "...   ...         ...    ...             ...            ...            ...   \n",
       "30    NaN           N  09h30          6273.0              0     2018-04-14   \n",
       "29     37           N  08h00          6274.0             37     2018-04-15   \n",
       "28     41           N    NaN          6275.0             41     2018-04-15   \n",
       "26     54           N    NaN          6277.0             54     2018-04-15   \n",
       "0      57           N  18h00          6303.0             57     2018-06-25   \n",
       "\n",
       "      Year_Date  Month_Date  Day_Date  \n",
       "6160       1703           3    Monday  \n",
       "6159       1721           6    Sunday  \n",
       "6158       1723           1    Friday  \n",
       "6157       1733           1  Thursday  \n",
       "6155       1742          12    Monday  \n",
       "...         ...         ...       ...  \n",
       "30         2018           4  Saturday  \n",
       "29         2018           4    Sunday  \n",
       "28         2018           4    Sunday  \n",
       "26         2018           4    Sunday  \n",
       "0          2018           6    Monday  \n",
       "\n",
       "[5458 rows x 18 columns]"
      ]
     },
     "execution_count": 102,
     "metadata": {},
     "output_type": "execute_result"
    }
   ],
   "source": [
    "year_filtrado.sort_values(\"Year_Date\", ascending=True)"
   ]
  },
  {
   "cell_type": "code",
   "execution_count": 78,
   "id": "eeb6ea2c-a705-4732-bb8e-cf73b14d7854",
   "metadata": {},
   "outputs": [],
   "source": [
    "df[\"Country filtrado\"] = df[\"Country\"].value_counts() < 2000\n"
   ]
  },
  {
   "cell_type": "code",
   "execution_count": 106,
   "id": "2ad15272-90f1-4411-b80b-31f7b2452f1a",
   "metadata": {},
   "outputs": [
    {
     "ename": "KeyError",
     "evalue": "'Age_normalize'",
     "output_type": "error",
     "traceback": [
      "\u001b[1;31m---------------------------------------------------------------------------\u001b[0m",
      "\u001b[1;31mKeyError\u001b[0m                                  Traceback (most recent call last)",
      "Input \u001b[1;32mIn [106]\u001b[0m, in \u001b[0;36m<cell line: 1>\u001b[1;34m()\u001b[0m\n\u001b[1;32m----> 1\u001b[0m \u001b[43mdf\u001b[49m\u001b[38;5;241;43m.\u001b[39;49m\u001b[43mgroupby\u001b[49m\u001b[43m(\u001b[49m\u001b[38;5;124;43m\"\u001b[39;49m\u001b[38;5;124;43mAge_normalize\u001b[39;49m\u001b[38;5;124;43m\"\u001b[39;49m\u001b[43m)\u001b[49m\u001b[38;5;241m.\u001b[39mplot\u001b[38;5;241m.\u001b[39mbar()\n",
      "File \u001b[1;32m~\\anaconda3\\envs\\Ironhack\\lib\\site-packages\\pandas\\core\\frame.py:7712\u001b[0m, in \u001b[0;36mDataFrame.groupby\u001b[1;34m(self, by, axis, level, as_index, sort, group_keys, squeeze, observed, dropna)\u001b[0m\n\u001b[0;32m   7707\u001b[0m axis \u001b[38;5;241m=\u001b[39m \u001b[38;5;28mself\u001b[39m\u001b[38;5;241m.\u001b[39m_get_axis_number(axis)\n\u001b[0;32m   7709\u001b[0m \u001b[38;5;66;03m# https://github.com/python/mypy/issues/7642\u001b[39;00m\n\u001b[0;32m   7710\u001b[0m \u001b[38;5;66;03m# error: Argument \"squeeze\" to \"DataFrameGroupBy\" has incompatible type\u001b[39;00m\n\u001b[0;32m   7711\u001b[0m \u001b[38;5;66;03m# \"Union[bool, NoDefault]\"; expected \"bool\"\u001b[39;00m\n\u001b[1;32m-> 7712\u001b[0m \u001b[38;5;28;01mreturn\u001b[39;00m \u001b[43mDataFrameGroupBy\u001b[49m\u001b[43m(\u001b[49m\n\u001b[0;32m   7713\u001b[0m \u001b[43m    \u001b[49m\u001b[43mobj\u001b[49m\u001b[38;5;241;43m=\u001b[39;49m\u001b[38;5;28;43mself\u001b[39;49m\u001b[43m,\u001b[49m\n\u001b[0;32m   7714\u001b[0m \u001b[43m    \u001b[49m\u001b[43mkeys\u001b[49m\u001b[38;5;241;43m=\u001b[39;49m\u001b[43mby\u001b[49m\u001b[43m,\u001b[49m\n\u001b[0;32m   7715\u001b[0m \u001b[43m    \u001b[49m\u001b[43maxis\u001b[49m\u001b[38;5;241;43m=\u001b[39;49m\u001b[43maxis\u001b[49m\u001b[43m,\u001b[49m\n\u001b[0;32m   7716\u001b[0m \u001b[43m    \u001b[49m\u001b[43mlevel\u001b[49m\u001b[38;5;241;43m=\u001b[39;49m\u001b[43mlevel\u001b[49m\u001b[43m,\u001b[49m\n\u001b[0;32m   7717\u001b[0m \u001b[43m    \u001b[49m\u001b[43mas_index\u001b[49m\u001b[38;5;241;43m=\u001b[39;49m\u001b[43mas_index\u001b[49m\u001b[43m,\u001b[49m\n\u001b[0;32m   7718\u001b[0m \u001b[43m    \u001b[49m\u001b[43msort\u001b[49m\u001b[38;5;241;43m=\u001b[39;49m\u001b[43msort\u001b[49m\u001b[43m,\u001b[49m\n\u001b[0;32m   7719\u001b[0m \u001b[43m    \u001b[49m\u001b[43mgroup_keys\u001b[49m\u001b[38;5;241;43m=\u001b[39;49m\u001b[43mgroup_keys\u001b[49m\u001b[43m,\u001b[49m\n\u001b[0;32m   7720\u001b[0m \u001b[43m    \u001b[49m\u001b[43msqueeze\u001b[49m\u001b[38;5;241;43m=\u001b[39;49m\u001b[43msqueeze\u001b[49m\u001b[43m,\u001b[49m\u001b[43m  \u001b[49m\u001b[38;5;66;43;03m# type: ignore[arg-type]\u001b[39;49;00m\n\u001b[0;32m   7721\u001b[0m \u001b[43m    \u001b[49m\u001b[43mobserved\u001b[49m\u001b[38;5;241;43m=\u001b[39;49m\u001b[43mobserved\u001b[49m\u001b[43m,\u001b[49m\n\u001b[0;32m   7722\u001b[0m \u001b[43m    \u001b[49m\u001b[43mdropna\u001b[49m\u001b[38;5;241;43m=\u001b[39;49m\u001b[43mdropna\u001b[49m\u001b[43m,\u001b[49m\n\u001b[0;32m   7723\u001b[0m \u001b[43m\u001b[49m\u001b[43m)\u001b[49m\n",
      "File \u001b[1;32m~\\anaconda3\\envs\\Ironhack\\lib\\site-packages\\pandas\\core\\groupby\\groupby.py:882\u001b[0m, in \u001b[0;36mGroupBy.__init__\u001b[1;34m(self, obj, keys, axis, level, grouper, exclusions, selection, as_index, sort, group_keys, squeeze, observed, mutated, dropna)\u001b[0m\n\u001b[0;32m    879\u001b[0m \u001b[38;5;28;01mif\u001b[39;00m grouper \u001b[38;5;129;01mis\u001b[39;00m \u001b[38;5;28;01mNone\u001b[39;00m:\n\u001b[0;32m    880\u001b[0m     \u001b[38;5;28;01mfrom\u001b[39;00m \u001b[38;5;21;01mpandas\u001b[39;00m\u001b[38;5;21;01m.\u001b[39;00m\u001b[38;5;21;01mcore\u001b[39;00m\u001b[38;5;21;01m.\u001b[39;00m\u001b[38;5;21;01mgroupby\u001b[39;00m\u001b[38;5;21;01m.\u001b[39;00m\u001b[38;5;21;01mgrouper\u001b[39;00m \u001b[38;5;28;01mimport\u001b[39;00m get_grouper\n\u001b[1;32m--> 882\u001b[0m     grouper, exclusions, obj \u001b[38;5;241m=\u001b[39m \u001b[43mget_grouper\u001b[49m\u001b[43m(\u001b[49m\n\u001b[0;32m    883\u001b[0m \u001b[43m        \u001b[49m\u001b[43mobj\u001b[49m\u001b[43m,\u001b[49m\n\u001b[0;32m    884\u001b[0m \u001b[43m        \u001b[49m\u001b[43mkeys\u001b[49m\u001b[43m,\u001b[49m\n\u001b[0;32m    885\u001b[0m \u001b[43m        \u001b[49m\u001b[43maxis\u001b[49m\u001b[38;5;241;43m=\u001b[39;49m\u001b[43maxis\u001b[49m\u001b[43m,\u001b[49m\n\u001b[0;32m    886\u001b[0m \u001b[43m        \u001b[49m\u001b[43mlevel\u001b[49m\u001b[38;5;241;43m=\u001b[39;49m\u001b[43mlevel\u001b[49m\u001b[43m,\u001b[49m\n\u001b[0;32m    887\u001b[0m \u001b[43m        \u001b[49m\u001b[43msort\u001b[49m\u001b[38;5;241;43m=\u001b[39;49m\u001b[43msort\u001b[49m\u001b[43m,\u001b[49m\n\u001b[0;32m    888\u001b[0m \u001b[43m        \u001b[49m\u001b[43mobserved\u001b[49m\u001b[38;5;241;43m=\u001b[39;49m\u001b[43mobserved\u001b[49m\u001b[43m,\u001b[49m\n\u001b[0;32m    889\u001b[0m \u001b[43m        \u001b[49m\u001b[43mmutated\u001b[49m\u001b[38;5;241;43m=\u001b[39;49m\u001b[38;5;28;43mself\u001b[39;49m\u001b[38;5;241;43m.\u001b[39;49m\u001b[43mmutated\u001b[49m\u001b[43m,\u001b[49m\n\u001b[0;32m    890\u001b[0m \u001b[43m        \u001b[49m\u001b[43mdropna\u001b[49m\u001b[38;5;241;43m=\u001b[39;49m\u001b[38;5;28;43mself\u001b[39;49m\u001b[38;5;241;43m.\u001b[39;49m\u001b[43mdropna\u001b[49m\u001b[43m,\u001b[49m\n\u001b[0;32m    891\u001b[0m \u001b[43m    \u001b[49m\u001b[43m)\u001b[49m\n\u001b[0;32m    893\u001b[0m \u001b[38;5;28mself\u001b[39m\u001b[38;5;241m.\u001b[39mobj \u001b[38;5;241m=\u001b[39m obj\n\u001b[0;32m    894\u001b[0m \u001b[38;5;28mself\u001b[39m\u001b[38;5;241m.\u001b[39maxis \u001b[38;5;241m=\u001b[39m obj\u001b[38;5;241m.\u001b[39m_get_axis_number(axis)\n",
      "File \u001b[1;32m~\\anaconda3\\envs\\Ironhack\\lib\\site-packages\\pandas\\core\\groupby\\grouper.py:882\u001b[0m, in \u001b[0;36mget_grouper\u001b[1;34m(obj, key, axis, level, sort, observed, mutated, validate, dropna)\u001b[0m\n\u001b[0;32m    880\u001b[0m         in_axis, level, gpr \u001b[38;5;241m=\u001b[39m \u001b[38;5;28;01mFalse\u001b[39;00m, gpr, \u001b[38;5;28;01mNone\u001b[39;00m\n\u001b[0;32m    881\u001b[0m     \u001b[38;5;28;01melse\u001b[39;00m:\n\u001b[1;32m--> 882\u001b[0m         \u001b[38;5;28;01mraise\u001b[39;00m \u001b[38;5;167;01mKeyError\u001b[39;00m(gpr)\n\u001b[0;32m    883\u001b[0m \u001b[38;5;28;01melif\u001b[39;00m \u001b[38;5;28misinstance\u001b[39m(gpr, Grouper) \u001b[38;5;129;01mand\u001b[39;00m gpr\u001b[38;5;241m.\u001b[39mkey \u001b[38;5;129;01mis\u001b[39;00m \u001b[38;5;129;01mnot\u001b[39;00m \u001b[38;5;28;01mNone\u001b[39;00m:\n\u001b[0;32m    884\u001b[0m     \u001b[38;5;66;03m# Add key to exclusions\u001b[39;00m\n\u001b[0;32m    885\u001b[0m     exclusions\u001b[38;5;241m.\u001b[39madd(gpr\u001b[38;5;241m.\u001b[39mkey)\n",
      "\u001b[1;31mKeyError\u001b[0m: 'Age_normalize'"
     ]
    }
   ],
   "source": [
    "df.groupby(\"Age_normalize\").plot.bar()"
   ]
  },
  {
   "cell_type": "code",
   "execution_count": null,
   "id": "a1e711d8-3a35-45cb-a520-7b7a5edf382d",
   "metadata": {},
   "outputs": [],
   "source": []
  }
 ],
 "metadata": {
  "kernelspec": {
   "display_name": "Python 3 (ipykernel)",
   "language": "python",
   "name": "python3"
  },
  "language_info": {
   "codemirror_mode": {
    "name": "ipython",
    "version": 3
   },
   "file_extension": ".py",
   "mimetype": "text/x-python",
   "name": "python",
   "nbconvert_exporter": "python",
   "pygments_lexer": "ipython3",
   "version": "3.9.12"
  }
 },
 "nbformat": 4,
 "nbformat_minor": 5
}
