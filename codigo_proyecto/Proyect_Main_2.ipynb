{
 "cells": [
  {
   "cell_type": "code",
   "execution_count": 12,
   "id": "986a6ce1-2ffe-4c18-830d-3213eb6ccec5",
   "metadata": {},
   "outputs": [],
   "source": [
    "import pandas as pd\n",
    "import numpy as np\n",
    "import seaborn as sns\n",
    "import matplotlib\n",
    "# import country_converter as coco"
   ]
  },
  {
   "cell_type": "code",
   "execution_count": 13,
   "id": "37ee6552-26dc-482c-8d07-e62e9812c61e",
   "metadata": {},
   "outputs": [],
   "source": [
    "df = pd.read_csv(r\"C:\\Users\\simbi\\Ironhack\\Proyecto\\datos_proyecto\\attacks.csv\", encoding =\"unicode_escape\")\n",
    "\n",
    "#df = pd.read_csv(r\"C:\\Users\\nuc_humbertore\\Ironhack\\primer_proyecto_DAPT\\datos_proyecto\\attacks.csv\", encoding =\"unicode_escape\")"
   ]
  },
  {
   "cell_type": "markdown",
   "id": "5e8c9f00-5045-42d3-a7da-9f7c3fa5ace8",
   "metadata": {
    "tags": []
   },
   "source": [
    "# Limpieza de los datos\n"
   ]
  },
  {
   "cell_type": "markdown",
   "id": "26ccaa2d-ce2c-484e-9dcc-04d3d3bf59d8",
   "metadata": {},
   "source": [
    "## 2.1 limpiar columnas de espacios"
   ]
  },
  {
   "cell_type": "code",
   "execution_count": 14,
   "id": "a42b6fea-8b54-445c-99e3-9c6576cd220a",
   "metadata": {},
   "outputs": [
    {
     "data": {
      "text/plain": [
       "Index(['Case Number', 'Date', 'Year', 'Type', 'Country', 'Area', 'Location',\n",
       "       'Activity', 'Name', 'Sex', 'Age', 'Injury', 'Fatal (Y/N)', 'Time',\n",
       "       'Species', 'Investigator or Source', 'pdf', 'href formula', 'href',\n",
       "       'Case Number.1', 'Case Number.2', 'original order', 'Unnamed: 22',\n",
       "       'Unnamed: 23'],\n",
       "      dtype='object')"
      ]
     },
     "execution_count": 14,
     "metadata": {},
     "output_type": "execute_result"
    }
   ],
   "source": [
    "# limpiar columnas de espacios\n",
    "\n",
    "columnas = df.columns\n",
    "columnas = map(lambda x: x.strip(), columnas)\n",
    "df.columns = columnas\n",
    "df.columns"
   ]
  },
  {
   "cell_type": "code",
   "execution_count": null,
   "id": "b1ae38a1-e4ad-4bdd-a7e8-b8cd678966d5",
   "metadata": {},
   "outputs": [],
   "source": []
  },
  {
   "cell_type": "markdown",
   "id": "31049af8-4a07-4b4c-b8dc-569c030feaf9",
   "metadata": {
    "tags": []
   },
   "source": [
    "## 2.2 identificar y eliminar las columnas inservibles"
   ]
  },
  {
   "cell_type": "code",
   "execution_count": 15,
   "id": "8dab7967-3f22-4b34-8c5f-33380ac8aae9",
   "metadata": {},
   "outputs": [
    {
     "data": {
      "text/plain": [
       "Index(['Case Number', 'Date', 'Year', 'Type', 'Country', 'Area', 'Location',\n",
       "       'Activity', 'Name', 'Sex', 'Age', 'Injury', 'Fatal (Y/N)', 'Time',\n",
       "       'Species', 'Investigator or Source', 'pdf', 'href formula', 'href',\n",
       "       'Case Number.1', 'Case Number.2', 'original order', 'Unnamed: 22',\n",
       "       'Unnamed: 23'],\n",
       "      dtype='object')"
      ]
     },
     "execution_count": 15,
     "metadata": {},
     "output_type": "execute_result"
    }
   ],
   "source": [
    "df.columns"
   ]
  },
  {
   "cell_type": "code",
   "execution_count": 16,
   "id": "82c59483-782d-4e30-8627-1b7f0f30de49",
   "metadata": {},
   "outputs": [],
   "source": [
    "#Después de una exploración del df borramos las columnas\n",
    "#con datos no numéricos y que no se pueden categorizar \n",
    "#P. ej.enlaces y códigos repetidos y columnas basura sin datos"
   ]
  },
  {
   "cell_type": "code",
   "execution_count": 17,
   "id": "b15e0d93-ad5d-499f-84a0-1cf9a321be1c",
   "metadata": {},
   "outputs": [],
   "source": [
    "df.drop(['pdf', 'href formula', 'href','Name','Injury','Species','Investigator or Source',\n",
    "       'Case Number.1', 'Case Number.2','Unnamed: 22','Unnamed: 23'], axis= 1, inplace=True)"
   ]
  },
  {
   "cell_type": "code",
   "execution_count": 18,
   "id": "4bd6a0d3-3204-4dd8-a55b-874fc84d46f4",
   "metadata": {},
   "outputs": [
    {
     "data": {
      "text/plain": [
       "Index(['Case Number', 'Date', 'Year', 'Type', 'Country', 'Area', 'Location',\n",
       "       'Activity', 'Sex', 'Age', 'Fatal (Y/N)', 'Time', 'original order'],\n",
       "      dtype='object')"
      ]
     },
     "execution_count": 18,
     "metadata": {},
     "output_type": "execute_result"
    }
   ],
   "source": [
    "df.columns"
   ]
  },
  {
   "cell_type": "code",
   "execution_count": null,
   "id": "046cb42b-8859-49fe-bbef-bc864987fb2b",
   "metadata": {},
   "outputs": [],
   "source": []
  },
  {
   "cell_type": "markdown",
   "id": "0307ff4e-4ac2-455b-bdcb-a65489a2ac15",
   "metadata": {},
   "source": [
    "## 2.2 filas"
   ]
  },
  {
   "cell_type": "code",
   "execution_count": 19,
   "id": "e9f78955-9fae-41c3-b51e-f31d8d675e60",
   "metadata": {},
   "outputs": [
    {
     "data": {
      "text/plain": [
       "'\\nNo funciona\\n\\ndef trim_all_columns(df):\\n    \\n    # Trim whitespace from ends of each value across all series in dataframe\\n    \\n    trim_strings = lambda x: x.strip() if isinstance(x, str) else x\\n    return df.applymap(trim_strings)\\n\\ntrim_all_columns(df)\\n\\n'"
      ]
     },
     "execution_count": 19,
     "metadata": {},
     "output_type": "execute_result"
    }
   ],
   "source": [
    "\n",
    "\"\"\"\n",
    "No funciona\n",
    "\n",
    "def trim_all_columns(df):\n",
    "    \n",
    "    # Trim whitespace from ends of each value across all series in dataframe\n",
    "    \n",
    "    trim_strings = lambda x: x.strip() if isinstance(x, str) else x\n",
    "    return df.applymap(trim_strings)\n",
    "\n",
    "trim_all_columns(df)\n",
    "\n",
    "\"\"\""
   ]
  },
  {
   "cell_type": "markdown",
   "id": "2870ca77-7ece-4a43-b9e8-03bd8f76d087",
   "metadata": {},
   "source": [
    "## Borramos todas las filas con 100% de Nan"
   ]
  },
  {
   "cell_type": "code",
   "execution_count": 20,
   "id": "43518f83-6fee-4bf3-8736-5955ca108ab4",
   "metadata": {},
   "outputs": [],
   "source": [
    "df.dropna(how='all',inplace = True)"
   ]
  },
  {
   "cell_type": "code",
   "execution_count": 21,
   "id": "74cbe278-5ed2-4de6-a8ef-2501b868861a",
   "metadata": {},
   "outputs": [
    {
     "data": {
      "text/plain": [
       "[25722, 7124, 7122, 7121, 7120, 7119, 7118, 7117, 7116, 7115]"
      ]
     },
     "execution_count": 21,
     "metadata": {},
     "output_type": "execute_result"
    }
   ],
   "source": [
    "# para comprobar cuantos nulos hay por fila y listar los 10 que tienen más\n",
    "\n",
    "nulos = df.isnull().sum(axis=1)\n",
    "nulos.sort_values(ascending = False).head(10).index\n",
    "nul = nulos.sort_values(ascending = False).head(10).index\n",
    "list(nul)"
   ]
  },
  {
   "cell_type": "markdown",
   "id": "07ce3c28-bb32-46e4-952f-bd71d9dcb139",
   "metadata": {},
   "source": [
    "## borramos los filas con menos de 5 valores que no son Null\n"
   ]
  },
  {
   "cell_type": "code",
   "execution_count": 22,
   "id": "570dd0a0-669d-4ffb-b40b-2e0cd06182b9",
   "metadata": {},
   "outputs": [],
   "source": [
    "#borramos los filas con menos de 10 valores que no son Null\n",
    "\n",
    "df.dropna(thresh=5, inplace=True)"
   ]
  },
  {
   "cell_type": "code",
   "execution_count": 23,
   "id": "9e329090-a2f4-4083-b9f8-99459eef5461",
   "metadata": {},
   "outputs": [
    {
     "data": {
      "text/plain": [
       "(6302, 13)"
      ]
     },
     "execution_count": 23,
     "metadata": {},
     "output_type": "execute_result"
    }
   ],
   "source": [
    "df.shape"
   ]
  },
  {
   "cell_type": "code",
   "execution_count": 24,
   "id": "3ef14690-d014-47e5-bb9d-01c37224fd73",
   "metadata": {},
   "outputs": [
    {
     "data": {
      "text/html": [
       "<div>\n",
       "<style scoped>\n",
       "    .dataframe tbody tr th:only-of-type {\n",
       "        vertical-align: middle;\n",
       "    }\n",
       "\n",
       "    .dataframe tbody tr th {\n",
       "        vertical-align: top;\n",
       "    }\n",
       "\n",
       "    .dataframe thead th {\n",
       "        text-align: right;\n",
       "    }\n",
       "</style>\n",
       "<table border=\"1\" class=\"dataframe\">\n",
       "  <thead>\n",
       "    <tr style=\"text-align: right;\">\n",
       "      <th></th>\n",
       "      <th>Case Number</th>\n",
       "      <th>Date</th>\n",
       "      <th>Year</th>\n",
       "      <th>Type</th>\n",
       "      <th>Country</th>\n",
       "      <th>Area</th>\n",
       "      <th>Location</th>\n",
       "      <th>Activity</th>\n",
       "      <th>Sex</th>\n",
       "      <th>Age</th>\n",
       "      <th>Fatal (Y/N)</th>\n",
       "      <th>Time</th>\n",
       "      <th>original order</th>\n",
       "    </tr>\n",
       "  </thead>\n",
       "  <tbody>\n",
       "    <tr>\n",
       "      <th>6299</th>\n",
       "      <td>ND.0003</td>\n",
       "      <td>1900-1905</td>\n",
       "      <td>0.0</td>\n",
       "      <td>Unprovoked</td>\n",
       "      <td>USA</td>\n",
       "      <td>North Carolina</td>\n",
       "      <td>Ocracoke Inlet</td>\n",
       "      <td>Swimming</td>\n",
       "      <td>M</td>\n",
       "      <td>NaN</td>\n",
       "      <td>Y</td>\n",
       "      <td>NaN</td>\n",
       "      <td>4.0</td>\n",
       "    </tr>\n",
       "    <tr>\n",
       "      <th>6300</th>\n",
       "      <td>ND.0002</td>\n",
       "      <td>1883-1889</td>\n",
       "      <td>0.0</td>\n",
       "      <td>Unprovoked</td>\n",
       "      <td>PANAMA</td>\n",
       "      <td>NaN</td>\n",
       "      <td>Panama Bay 8ºN, 79ºW</td>\n",
       "      <td>NaN</td>\n",
       "      <td>M</td>\n",
       "      <td>NaN</td>\n",
       "      <td>Y</td>\n",
       "      <td>NaN</td>\n",
       "      <td>3.0</td>\n",
       "    </tr>\n",
       "    <tr>\n",
       "      <th>6301</th>\n",
       "      <td>ND.0001</td>\n",
       "      <td>1845-1853</td>\n",
       "      <td>0.0</td>\n",
       "      <td>Unprovoked</td>\n",
       "      <td>CEYLON (SRI LANKA)</td>\n",
       "      <td>Eastern Province</td>\n",
       "      <td>Below the English fort, Trincomalee</td>\n",
       "      <td>Swimming</td>\n",
       "      <td>M</td>\n",
       "      <td>15</td>\n",
       "      <td>Y</td>\n",
       "      <td>NaN</td>\n",
       "      <td>2.0</td>\n",
       "    </tr>\n",
       "  </tbody>\n",
       "</table>\n",
       "</div>"
      ],
      "text/plain": [
       "     Case Number       Date  Year        Type             Country  \\\n",
       "6299     ND.0003  1900-1905   0.0  Unprovoked                 USA   \n",
       "6300     ND.0002  1883-1889   0.0  Unprovoked              PANAMA   \n",
       "6301     ND.0001  1845-1853   0.0  Unprovoked  CEYLON (SRI LANKA)   \n",
       "\n",
       "                  Area                             Location  Activity Sex  \\\n",
       "6299    North Carolina                       Ocracoke Inlet  Swimming   M   \n",
       "6300               NaN                 Panama Bay 8ºN, 79ºW       NaN   M   \n",
       "6301  Eastern Province  Below the English fort, Trincomalee  Swimming   M   \n",
       "\n",
       "      Age Fatal (Y/N) Time  original order  \n",
       "6299  NaN           Y  NaN             4.0  \n",
       "6300  NaN           Y  NaN             3.0  \n",
       "6301   15           Y  NaN             2.0  "
      ]
     },
     "execution_count": 24,
     "metadata": {},
     "output_type": "execute_result"
    }
   ],
   "source": [
    "df.tail(3)"
   ]
  },
  {
   "cell_type": "markdown",
   "id": "381c6df6-dd10-455e-8787-58270dbcedbf",
   "metadata": {},
   "source": [
    "# 3 Dar formato a los datos"
   ]
  },
  {
   "cell_type": "markdown",
   "id": "7bc4dca1-5a8d-43ea-830e-3933fcb11c94",
   "metadata": {},
   "source": [
    "## Nornalizar columna \"Fatal (Y/N)\""
   ]
  },
  {
   "cell_type": "code",
   "execution_count": 25,
   "id": "1f23d914-137e-4d80-a477-3e8a94ca0a32",
   "metadata": {},
   "outputs": [
    {
     "data": {
      "text/plain": [
       "array(['N', 'Y', nan, 'M', 'UNKNOWN', '2017', ' N', 'N ', 'y'],\n",
       "      dtype=object)"
      ]
     },
     "execution_count": 25,
     "metadata": {},
     "output_type": "execute_result"
    }
   ],
   "source": [
    "df[\"Fatal (Y/N)\"].unique()"
   ]
  },
  {
   "cell_type": "code",
   "execution_count": 26,
   "id": "53ab4303-cfbe-464f-9795-5f3126fd762c",
   "metadata": {},
   "outputs": [],
   "source": [
    "#Eliminamos espacios\n",
    "df[\"Fatal (Y/N)\"] = df[\"Fatal (Y/N)\"].str.strip(to_strip=None)\n",
    "\n",
    "#lo pasamos todo a minúsculas\n",
    "df[\"Fatal (Y/N)\"]=df[\"Fatal (Y/N)\"].str.lower()\n",
    "\n",
    "#dejamos los \"n\" y los \"y\" y transformamos el resto en \"notknown\"\n",
    "df.loc[(df.loc[:, \"Fatal (Y/N)\"] != \"n\") & (df.loc[:, \"Fatal (Y/N)\"] != \"y\")] = \"notknown\""
   ]
  },
  {
   "cell_type": "code",
   "execution_count": 27,
   "id": "aa359338-8444-4e5e-942a-671c8bbbfcea",
   "metadata": {},
   "outputs": [
    {
     "data": {
      "text/plain": [
       "array(['n', 'y', 'notknown'], dtype=object)"
      ]
     },
     "execution_count": 27,
     "metadata": {},
     "output_type": "execute_result"
    }
   ],
   "source": [
    "df[\"Fatal (Y/N)\"].unique()"
   ]
  },
  {
   "cell_type": "markdown",
   "id": "d06753c6-4eee-47e9-8c7f-eee26cece3ec",
   "metadata": {},
   "source": [
    "## Nornalizar columna \"Sex\""
   ]
  },
  {
   "cell_type": "code",
   "execution_count": 28,
   "id": "328ff0cf-fce8-4e91-b265-24f87f3118d2",
   "metadata": {},
   "outputs": [
    {
     "data": {
      "text/plain": [
       "array(['F', 'M', 'notknown', nan, 'M ', 'lli', 'N', '.'], dtype=object)"
      ]
     },
     "execution_count": 28,
     "metadata": {},
     "output_type": "execute_result"
    }
   ],
   "source": [
    "df[\"Sex\"].unique()"
   ]
  },
  {
   "cell_type": "code",
   "execution_count": 47,
   "id": "b7c44935-f90e-4b6e-87db-19f6f0c38db2",
   "metadata": {},
   "outputs": [],
   "source": [
    "#Eliminamos espacios\n",
    "df[\"Sex\"] = df[\"Sex\"].str.strip(to_strip=None)\n",
    "\n",
    "#lo pasamos todo a minúsculas\n",
    "df[\"Sex\"]=df[\"Sex\"].str.lower()\n",
    "\n",
    "#dejamos las \"f\" y las \"m\" y transformamos el resto en \"notknown\"\n",
    "df.loc[(df.loc[:, 'Sex'] != \"f\") & (df.loc[:, 'Sex'] != \"m\")] = \"notknown\""
   ]
  },
  {
   "cell_type": "code",
   "execution_count": 48,
   "id": "6b00b928-b116-4f46-8969-12af1562dbed",
   "metadata": {},
   "outputs": [
    {
     "data": {
      "text/plain": [
       "array(['f', 'm', 'notknown'], dtype=object)"
      ]
     },
     "execution_count": 48,
     "metadata": {},
     "output_type": "execute_result"
    }
   ],
   "source": [
    "df[\"Sex\"].unique()"
   ]
  },
  {
   "cell_type": "code",
   "execution_count": null,
   "id": "23235509-550a-4d4a-a123-2897bd4940d3",
   "metadata": {},
   "outputs": [],
   "source": []
  },
  {
   "cell_type": "markdown",
   "id": "62eaa34c-5c72-4495-aca6-e08975d70670",
   "metadata": {
    "tags": []
   },
   "source": [
    "## Normalizar columna Age a int or float"
   ]
  },
  {
   "cell_type": "code",
   "execution_count": 49,
   "id": "59fdfb9a-4a23-40c8-a886-2e9271f876f3",
   "metadata": {},
   "outputs": [],
   "source": [
    "df[\"Age\"] = df.Age.str.strip()"
   ]
  },
  {
   "cell_type": "code",
   "execution_count": 50,
   "id": "a4dce3e5-f640-4b03-97fd-6b751c4ec22d",
   "metadata": {},
   "outputs": [],
   "source": [
    "df[\"Age_normalize\"] = pd.to_numeric(df['Age'], errors='coerce', downcast=\"integer\")"
   ]
  },
  {
   "cell_type": "code",
   "execution_count": 51,
   "id": "69a85f87-ca22-4fc0-a497-690f4e0d344f",
   "metadata": {},
   "outputs": [],
   "source": [
    "df[\"Age_normalize\"].fillna(value = 0, inplace=True)"
   ]
  },
  {
   "cell_type": "code",
   "execution_count": 52,
   "id": "bebd86fb-1e70-487d-9670-e5c16002a455",
   "metadata": {},
   "outputs": [],
   "source": [
    "df[\"Age_normalize\"] = df[\"Age_normalize\"].astype(int)"
   ]
  },
  {
   "cell_type": "code",
   "execution_count": null,
   "id": "a2545099-ba23-4273-8f3b-392415f9c8b3",
   "metadata": {
    "tags": []
   },
   "outputs": [],
   "source": []
  },
  {
   "cell_type": "code",
   "execution_count": 53,
   "id": "e79ffcc5-c566-474f-9af0-6c6b0fb60b58",
   "metadata": {},
   "outputs": [
    {
     "data": {
      "text/plain": [
       "array([57, 11, 48,  0, 18, 52, 15, 12, 32, 10, 21, 34, 30, 60, 33, 29, 54,\n",
       "       41, 37, 56, 19, 25, 69, 38, 55, 35, 46, 45, 14, 28, 20, 24, 26, 49,\n",
       "       22,  7, 31, 17, 40, 13, 42,  3, 50, 16, 82, 73, 51, 39, 58, 47, 61,\n",
       "       65, 36, 66, 43,  9, 72, 59,  6, 64, 23, 71, 44, 27, 62, 68, 63, 70,\n",
       "       53,  8, 77, 74,  5, 86, 84, 87, 75,  1, 81, 78])"
      ]
     },
     "execution_count": 53,
     "metadata": {},
     "output_type": "execute_result"
    }
   ],
   "source": [
    "df[\"Age_normalize\"].unique()"
   ]
  },
  {
   "cell_type": "code",
   "execution_count": 139,
   "id": "3ed51e5c-f4fe-4ac1-8427-9623de0d502b",
   "metadata": {},
   "outputs": [],
   "source": [
    "edad = df[df[\"Age_normalize\"] > 0]"
   ]
  },
  {
   "cell_type": "code",
   "execution_count": null,
   "id": "adbad3bc-7129-410c-bcac-dcaa753acbe8",
   "metadata": {},
   "outputs": [],
   "source": []
  },
  {
   "cell_type": "code",
   "execution_count": 140,
   "id": "ff8f6986-43ff-4eb0-9e80-cd5c01b0e370",
   "metadata": {},
   "outputs": [
    {
     "data": {
      "text/plain": [
       "array([[<AxesSubplot:title={'center':'Age_normalize'}>,\n",
       "        <AxesSubplot:title={'center':'Date_normalize'}>],\n",
       "       [<AxesSubplot:title={'center':'Year_Date'}>,\n",
       "        <AxesSubplot:title={'center':'Month_Date'}>]], dtype=object)"
      ]
     },
     "execution_count": 140,
     "metadata": {},
     "output_type": "execute_result"
    },
    {
     "data": {
      "image/png": "[encoded data removed]",
      "text/plain": [
       "<Figure size 1080x288 with 4 Axes>"
      ]
     },
     "metadata": {
      "needs_background": "light"
     },
     "output_type": "display_data"
    }
   ],
   "source": [
    "df[df[\"Age_normalize\"] > 0].hist(legend=True,bins=50, figsize = [15,4])"
   ]
  },
  {
   "cell_type": "code",
   "execution_count": 55,
   "id": "e1cec1b3-8adb-484a-8bd3-07861864aca2",
   "metadata": {},
   "outputs": [
    {
     "data": {
      "text/plain": [
       "<AxesSubplot:>"
      ]
     },
     "execution_count": 55,
     "metadata": {},
     "output_type": "execute_result"
    },
    {
     "data": {
      "image/png": "[encoded data removed]",
      "text/plain": [
       "<Figure size 360x720 with 1 Axes>"
      ]
     },
     "metadata": {
      "needs_background": "light"
     },
     "output_type": "display_data"
    }
   ],
   "source": [
    "df[df[\"Age_normalize\"] > 0].boxplot(figsize=(5,10))"
   ]
  },
  {
   "cell_type": "code",
   "execution_count": 56,
   "id": "f805f867-194f-426a-b7fb-559096f7f5a1",
   "metadata": {},
   "outputs": [
    {
     "data": {
      "text/html": [
       "<div>\n",
       "<style scoped>\n",
       "    .dataframe tbody tr th:only-of-type {\n",
       "        vertical-align: middle;\n",
       "    }\n",
       "\n",
       "    .dataframe tbody tr th {\n",
       "        vertical-align: top;\n",
       "    }\n",
       "\n",
       "    .dataframe thead th {\n",
       "        text-align: right;\n",
       "    }\n",
       "</style>\n",
       "<table border=\"1\" class=\"dataframe\">\n",
       "  <thead>\n",
       "    <tr style=\"text-align: right;\">\n",
       "      <th></th>\n",
       "      <th>Age_normalize</th>\n",
       "    </tr>\n",
       "  </thead>\n",
       "  <tbody>\n",
       "    <tr>\n",
       "      <th>count</th>\n",
       "      <td>3112.000000</td>\n",
       "    </tr>\n",
       "    <tr>\n",
       "      <th>mean</th>\n",
       "      <td>27.287918</td>\n",
       "    </tr>\n",
       "    <tr>\n",
       "      <th>std</th>\n",
       "      <td>13.827193</td>\n",
       "    </tr>\n",
       "    <tr>\n",
       "      <th>min</th>\n",
       "      <td>1.000000</td>\n",
       "    </tr>\n",
       "    <tr>\n",
       "      <th>25%</th>\n",
       "      <td>17.000000</td>\n",
       "    </tr>\n",
       "    <tr>\n",
       "      <th>50%</th>\n",
       "      <td>24.000000</td>\n",
       "    </tr>\n",
       "    <tr>\n",
       "      <th>75%</th>\n",
       "      <td>35.000000</td>\n",
       "    </tr>\n",
       "    <tr>\n",
       "      <th>max</th>\n",
       "      <td>87.000000</td>\n",
       "    </tr>\n",
       "  </tbody>\n",
       "</table>\n",
       "</div>"
      ],
      "text/plain": [
       "       Age_normalize\n",
       "count    3112.000000\n",
       "mean       27.287918\n",
       "std        13.827193\n",
       "min         1.000000\n",
       "25%        17.000000\n",
       "50%        24.000000\n",
       "75%        35.000000\n",
       "max        87.000000"
      ]
     },
     "execution_count": 56,
     "metadata": {},
     "output_type": "execute_result"
    }
   ],
   "source": [
    "df[df[\"Age_normalize\"] > 0].describe()"
   ]
  },
  {
   "cell_type": "code",
   "execution_count": null,
   "id": "6320d27c-603c-4975-9e41-b2e525035ea1",
   "metadata": {},
   "outputs": [],
   "source": []
  },
  {
   "cell_type": "markdown",
   "id": "2d227ca6-e57c-43e3-bea7-691bd0b8f849",
   "metadata": {
    "tags": []
   },
   "source": [
    "## Normalizar columna Date a datetime"
   ]
  },
  {
   "cell_type": "code",
   "execution_count": 57,
   "id": "287eb3ca-9f8b-439d-8e65-7d72b405de1a",
   "metadata": {},
   "outputs": [
    {
     "data": {
      "text/plain": [
       "'\\nPara normalizar las fechas rellenamos los NaN con una fecha futura para \\ndespués poder excluirla facilmente a la hora de trabajr con los datos\\nde esa columna\\n\\nExclude_date= \"2030-01-01 00:00:00\"\\n\\n'"
      ]
     },
     "execution_count": 57,
     "metadata": {},
     "output_type": "execute_result"
    }
   ],
   "source": [
    "\"\"\"\n",
    "Para normalizar las fechas rellenamos los NaN con una fecha futura para \n",
    "después poder excluirla facilmente a la hora de trabajr con los datos\n",
    "de esa columna\n",
    "\n",
    "Exclude_date= \"2030-01-01 00:00:00\"\n",
    "\n",
    "\"\"\""
   ]
  },
  {
   "cell_type": "code",
   "execution_count": 58,
   "id": "d97f9d0f-f028-4f3e-b5ce-f8a9657ca658",
   "metadata": {},
   "outputs": [
    {
     "data": {
      "text/plain": [
       "0"
      ]
     },
     "execution_count": 58,
     "metadata": {},
     "output_type": "execute_result"
    }
   ],
   "source": [
    "df['Date'].isnull().sum()"
   ]
  },
  {
   "cell_type": "code",
   "execution_count": 59,
   "id": "7dce6cb1-df09-4b3b-9dc4-79f639cf5cdb",
   "metadata": {},
   "outputs": [
    {
     "data": {
      "text/plain": [
       "0       25-Jun-2018\n",
       "1       18-Jun-2018\n",
       "2       09-Jun-2018\n",
       "3       08-Jun-2018\n",
       "4       04-Jun-2018\n",
       "           ...     \n",
       "6297    Before 1903\n",
       "6298    Before 1903\n",
       "6299      1900-1905\n",
       "6300      1883-1889\n",
       "6301      1845-1853\n",
       "Name: Date, Length: 6302, dtype: object"
      ]
     },
     "execution_count": 59,
     "metadata": {},
     "output_type": "execute_result"
    }
   ],
   "source": [
    "df['Date']"
   ]
  },
  {
   "cell_type": "code",
   "execution_count": 60,
   "id": "a10d007a-51fd-4254-bd34-f3dda3bd3d0c",
   "metadata": {},
   "outputs": [],
   "source": [
    "#convertimos Date a datetime para la columna 'Date_normalize'\n",
    "\n",
    "df['Date_normalize'] = pd.to_datetime(df['Date'], errors ='coerce')"
   ]
  },
  {
   "cell_type": "code",
   "execution_count": 61,
   "id": "091b9646-0e2b-4af1-ae42-2ac1a05bbac3",
   "metadata": {},
   "outputs": [
    {
     "data": {
      "text/plain": [
       "1728"
      ]
     },
     "execution_count": 61,
     "metadata": {},
     "output_type": "execute_result"
    }
   ],
   "source": [
    "df['Date_normalize'].isnull().sum()"
   ]
  },
  {
   "cell_type": "code",
   "execution_count": 62,
   "id": "01d853b8-6f23-4744-bf5a-347c9a2a6a09",
   "metadata": {},
   "outputs": [
    {
     "data": {
      "text/plain": [
       "dtype('<M8[ns]')"
      ]
     },
     "execution_count": 62,
     "metadata": {},
     "output_type": "execute_result"
    }
   ],
   "source": [
    "df['Date_normalize'].dtypes"
   ]
  },
  {
   "cell_type": "code",
   "execution_count": 63,
   "id": "330870d4-44a1-46dd-bc1a-04b1b4956f14",
   "metadata": {},
   "outputs": [],
   "source": [
    "# Rellenanos los Nan con una fecha rara para poder filtrar luego. \n",
    "# OJO! esto convierte toda la columna en float\n",
    "Exclude_date = \"2030-01-01 00:00:00\"\n",
    "df['Date_normalize'].fillna(value = Exclude_date , inplace=True)"
   ]
  },
  {
   "cell_type": "code",
   "execution_count": 64,
   "id": "246280d5-058d-4d0a-b54d-0f2cca53afda",
   "metadata": {},
   "outputs": [
    {
     "data": {
      "text/plain": [
       "0      2018-06-25\n",
       "1      2018-06-18\n",
       "2      2018-06-09\n",
       "3      2018-06-08\n",
       "4      2018-06-04\n",
       "          ...    \n",
       "6297   2030-01-01\n",
       "6298   2030-01-01\n",
       "6299   2030-01-01\n",
       "6300   2030-01-01\n",
       "6301   2030-01-01\n",
       "Name: Date_normalize, Length: 6302, dtype: datetime64[ns]"
      ]
     },
     "execution_count": 64,
     "metadata": {},
     "output_type": "execute_result"
    }
   ],
   "source": [
    "df['Date_normalize']"
   ]
  },
  {
   "cell_type": "code",
   "execution_count": 65,
   "id": "2648bf9d-f37c-4fd3-b281-fb17edde02e6",
   "metadata": {},
   "outputs": [
    {
     "data": {
      "text/plain": [
       "0"
      ]
     },
     "execution_count": 65,
     "metadata": {},
     "output_type": "execute_result"
    }
   ],
   "source": [
    "df['Date_normalize'].isnull().sum()"
   ]
  },
  {
   "cell_type": "code",
   "execution_count": 66,
   "id": "3273e5a2-2798-489e-838d-09c2a111edf4",
   "metadata": {},
   "outputs": [
    {
     "data": {
      "text/plain": [
       "dtype('<M8[ns]')"
      ]
     },
     "execution_count": 66,
     "metadata": {},
     "output_type": "execute_result"
    }
   ],
   "source": [
    "df['Date_normalize'].dtypes"
   ]
  },
  {
   "cell_type": "code",
   "execution_count": 67,
   "id": "27076bdd-1152-455d-90cf-cc59f7f427b1",
   "metadata": {},
   "outputs": [],
   "source": [
    "#volvemos a convertir la columna de float a datetime \n",
    "df['Date_normalize'] = pd.to_datetime(df['Date_normalize'], errors ='coerce')"
   ]
  },
  {
   "cell_type": "code",
   "execution_count": 68,
   "id": "27eeaa13-91d9-4fa4-8fc3-125a22155324",
   "metadata": {},
   "outputs": [
    {
     "data": {
      "text/plain": [
       "0      2018-06-25\n",
       "1      2018-06-18\n",
       "2      2018-06-09\n",
       "3      2018-06-08\n",
       "4      2018-06-04\n",
       "          ...    \n",
       "6297   2030-01-01\n",
       "6298   2030-01-01\n",
       "6299   2030-01-01\n",
       "6300   2030-01-01\n",
       "6301   2030-01-01\n",
       "Name: Date_normalize, Length: 6302, dtype: datetime64[ns]"
      ]
     },
     "execution_count": 68,
     "metadata": {},
     "output_type": "execute_result"
    }
   ],
   "source": [
    "df['Date_normalize']"
   ]
  },
  {
   "cell_type": "code",
   "execution_count": 70,
   "id": "f0eb95ce-9b42-4233-ad52-9e8dfb217e29",
   "metadata": {},
   "outputs": [
    {
     "data": {
      "text/plain": [
       "0"
      ]
     },
     "execution_count": 70,
     "metadata": {},
     "output_type": "execute_result"
    }
   ],
   "source": [
    "df['Date_normalize'].isnull().sum()"
   ]
  },
  {
   "cell_type": "code",
   "execution_count": 71,
   "id": "e9dd4495-d3a0-4721-acba-66c81b9baedc",
   "metadata": {},
   "outputs": [
    {
     "data": {
      "text/plain": [
       "dtype('<M8[ns]')"
      ]
     },
     "execution_count": 71,
     "metadata": {},
     "output_type": "execute_result"
    }
   ],
   "source": [
    "df['Date_normalize'].dtypes"
   ]
  },
  {
   "cell_type": "code",
   "execution_count": 72,
   "id": "edad91d1-892e-4a68-bb89-3231244d20a9",
   "metadata": {},
   "outputs": [],
   "source": [
    "df['Year_Date'] = df['Date_normalize'].dt.year"
   ]
  },
  {
   "cell_type": "code",
   "execution_count": 73,
   "id": "11c1e162-fa24-426d-93cd-39ab692dd992",
   "metadata": {},
   "outputs": [
    {
     "data": {
      "text/plain": [
       "0"
      ]
     },
     "execution_count": 73,
     "metadata": {},
     "output_type": "execute_result"
    }
   ],
   "source": [
    "df['Year_Date'].isnull().sum()"
   ]
  },
  {
   "cell_type": "code",
   "execution_count": 74,
   "id": "57f0c3bd-6d9e-4a4e-9c75-b643b15f7c17",
   "metadata": {},
   "outputs": [],
   "source": [
    "df['Month_Date'] = df['Date_normalize'].dt.month"
   ]
  },
  {
   "cell_type": "code",
   "execution_count": 75,
   "id": "37c77fd8-6d73-4068-bdb6-6f0a989c7eb7",
   "metadata": {},
   "outputs": [],
   "source": [
    "df['Day_Date'] = df['Date_normalize'].dt.day_name()"
   ]
  },
  {
   "cell_type": "code",
   "execution_count": 76,
   "id": "7acc55e8-de00-4cc6-b5c6-1c12d0b134b6",
   "metadata": {},
   "outputs": [
    {
     "data": {
      "text/html": [
       "<div>\n",
       "<style scoped>\n",
       "    .dataframe tbody tr th:only-of-type {\n",
       "        vertical-align: middle;\n",
       "    }\n",
       "\n",
       "    .dataframe tbody tr th {\n",
       "        vertical-align: top;\n",
       "    }\n",
       "\n",
       "    .dataframe thead th {\n",
       "        text-align: right;\n",
       "    }\n",
       "</style>\n",
       "<table border=\"1\" class=\"dataframe\">\n",
       "  <thead>\n",
       "    <tr style=\"text-align: right;\">\n",
       "      <th></th>\n",
       "      <th>Case Number</th>\n",
       "      <th>Date</th>\n",
       "      <th>Year</th>\n",
       "      <th>Type</th>\n",
       "      <th>Country</th>\n",
       "      <th>Area</th>\n",
       "      <th>Location</th>\n",
       "      <th>Activity</th>\n",
       "      <th>Sex</th>\n",
       "      <th>Age</th>\n",
       "      <th>Fatal (Y/N)</th>\n",
       "      <th>Time</th>\n",
       "      <th>original order</th>\n",
       "      <th>Age_normalize</th>\n",
       "      <th>Date_normalize</th>\n",
       "      <th>Year_Date</th>\n",
       "      <th>Month_Date</th>\n",
       "      <th>Day_Date</th>\n",
       "    </tr>\n",
       "  </thead>\n",
       "  <tbody>\n",
       "    <tr>\n",
       "      <th>0</th>\n",
       "      <td>2018.06.25</td>\n",
       "      <td>25-Jun-2018</td>\n",
       "      <td>2018.0</td>\n",
       "      <td>Boating</td>\n",
       "      <td>USA</td>\n",
       "      <td>California</td>\n",
       "      <td>Oceanside, San Diego County</td>\n",
       "      <td>Paddling</td>\n",
       "      <td>f</td>\n",
       "      <td>57</td>\n",
       "      <td>n</td>\n",
       "      <td>18h00</td>\n",
       "      <td>6303.0</td>\n",
       "      <td>57</td>\n",
       "      <td>2018-06-25</td>\n",
       "      <td>2018</td>\n",
       "      <td>6</td>\n",
       "      <td>Monday</td>\n",
       "    </tr>\n",
       "    <tr>\n",
       "      <th>1</th>\n",
       "      <td>2018.06.18</td>\n",
       "      <td>18-Jun-2018</td>\n",
       "      <td>2018.0</td>\n",
       "      <td>Unprovoked</td>\n",
       "      <td>USA</td>\n",
       "      <td>Georgia</td>\n",
       "      <td>St. Simon Island, Glynn County</td>\n",
       "      <td>Standing</td>\n",
       "      <td>f</td>\n",
       "      <td>11</td>\n",
       "      <td>n</td>\n",
       "      <td>14h00  -15h00</td>\n",
       "      <td>6302.0</td>\n",
       "      <td>11</td>\n",
       "      <td>2018-06-18</td>\n",
       "      <td>2018</td>\n",
       "      <td>6</td>\n",
       "      <td>Monday</td>\n",
       "    </tr>\n",
       "    <tr>\n",
       "      <th>2</th>\n",
       "      <td>2018.06.09</td>\n",
       "      <td>09-Jun-2018</td>\n",
       "      <td>2018.0</td>\n",
       "      <td>Invalid</td>\n",
       "      <td>USA</td>\n",
       "      <td>Hawaii</td>\n",
       "      <td>Habush, Oahu</td>\n",
       "      <td>Surfing</td>\n",
       "      <td>m</td>\n",
       "      <td>48</td>\n",
       "      <td>n</td>\n",
       "      <td>07h45</td>\n",
       "      <td>6301.0</td>\n",
       "      <td>48</td>\n",
       "      <td>2018-06-09</td>\n",
       "      <td>2018</td>\n",
       "      <td>6</td>\n",
       "      <td>Saturday</td>\n",
       "    </tr>\n",
       "  </tbody>\n",
       "</table>\n",
       "</div>"
      ],
      "text/plain": [
       "  Case Number         Date    Year        Type Country        Area  \\\n",
       "0  2018.06.25  25-Jun-2018  2018.0     Boating     USA  California   \n",
       "1  2018.06.18  18-Jun-2018  2018.0  Unprovoked     USA     Georgia   \n",
       "2  2018.06.09  09-Jun-2018  2018.0     Invalid     USA      Hawaii   \n",
       "\n",
       "                         Location  Activity Sex Age Fatal (Y/N)  \\\n",
       "0     Oceanside, San Diego County  Paddling   f  57           n   \n",
       "1  St. Simon Island, Glynn County  Standing   f  11           n   \n",
       "2                    Habush, Oahu   Surfing   m  48           n   \n",
       "\n",
       "            Time original order  Age_normalize Date_normalize  Year_Date  \\\n",
       "0          18h00         6303.0             57     2018-06-25       2018   \n",
       "1  14h00  -15h00         6302.0             11     2018-06-18       2018   \n",
       "2          07h45         6301.0             48     2018-06-09       2018   \n",
       "\n",
       "   Month_Date  Day_Date  \n",
       "0           6    Monday  \n",
       "1           6    Monday  \n",
       "2           6  Saturday  "
      ]
     },
     "execution_count": 76,
     "metadata": {},
     "output_type": "execute_result"
    }
   ],
   "source": [
    "df.head(3)"
   ]
  },
  {
   "cell_type": "code",
   "execution_count": null,
   "id": "7a80d726-a060-4bdd-aa10-01ee0240e944",
   "metadata": {},
   "outputs": [],
   "source": []
  },
  {
   "cell_type": "code",
   "execution_count": 77,
   "id": "e7812bf9-4000-43e4-82b2-d54effed8c1a",
   "metadata": {},
   "outputs": [
    {
     "data": {
      "text/plain": [
       "Unprovoked      4391\n",
       "notknown        1072\n",
       "Provoked         510\n",
       "Sea Disaster     171\n",
       "Boating          100\n",
       "Boat              30\n",
       "Invalid           22\n",
       "Questionable       2\n",
       "Boatomg            1\n",
       "Name: Type, dtype: int64"
      ]
     },
     "execution_count": 77,
     "metadata": {},
     "output_type": "execute_result"
    }
   ],
   "source": [
    "df['Type'].value_counts() "
   ]
  },
  {
   "cell_type": "code",
   "execution_count": null,
   "id": "2e8ef8c9-6fa1-4d3f-ab62-11e57307aa81",
   "metadata": {},
   "outputs": [],
   "source": []
  },
  {
   "cell_type": "markdown",
   "id": "2a99fefe-1c2c-4d72-9223-259b6d9ea786",
   "metadata": {},
   "source": [
    "\"\"\"\n",
    "para estudiar:\n",
    "la manera en que si hay menos valores que x(en cantidad) en una columna esta pase a ser \"undefined\"\n",
    "o algo por el estilo. p ej en \"Type\" aparee Boatomg que es un error de tiping o Questionable que solo hay 2 valores \n",
    "\"\"\""
   ]
  },
  {
   "cell_type": "code",
   "execution_count": null,
   "id": "33ca7c68-d7aa-496f-91dc-217373ba07d5",
   "metadata": {},
   "outputs": [],
   "source": []
  },
  {
   "cell_type": "code",
   "execution_count": 78,
   "id": "a0c8d065-3055-4b9e-971c-5135a3d97e1f",
   "metadata": {},
   "outputs": [
    {
     "data": {
      "text/plain": [
       "'\\n\\n\\ndf[\"Country\"] = coco.convert(names=df[\"Country\"], to=\\'name_short\\')\\ndf[\"Country\"]=df[\"Country\"].str.lower()\\n\\n\\n\\n'"
      ]
     },
     "execution_count": 78,
     "metadata": {},
     "output_type": "execute_result"
    }
   ],
   "source": [
    "\n",
    "\"\"\"\n",
    "\n",
    "\n",
    "df[\"Country\"] = coco.convert(names=df[\"Country\"], to='name_short')\n",
    "df[\"Country\"]=df[\"Country\"].str.lower()\n",
    "\n",
    "\n",
    "\n",
    "\"\"\"\n"
   ]
  },
  {
   "cell_type": "code",
   "execution_count": 81,
   "id": "1fbddf9b-6240-43c0-b3da-e21605cf8f3f",
   "metadata": {},
   "outputs": [
    {
     "data": {
      "text/plain": [
       "'\\n\\n\\ndf[\"Country\"].nunique()\\n\\n'"
      ]
     },
     "execution_count": 81,
     "metadata": {},
     "output_type": "execute_result"
    }
   ],
   "source": [
    "\"\"\"\n",
    "\n",
    "\n",
    "df[\"Country\"].nunique()\n",
    "\n",
    "\"\"\""
   ]
  },
  {
   "cell_type": "code",
   "execution_count": 82,
   "id": "cc73b3b8-96a7-448d-aa0a-ba618a52d64d",
   "metadata": {},
   "outputs": [
    {
     "data": {
      "text/plain": [
       "<AxesSubplot:>"
      ]
     },
     "execution_count": 82,
     "metadata": {},
     "output_type": "execute_result"
    },
    {
     "data": {
      "image/png": "[encoded data removed]",
      "text/plain": [
       "<Figure size 1080x288 with 1 Axes>"
      ]
     },
     "metadata": {
      "needs_background": "light"
     },
     "output_type": "display_data"
    }
   ],
   "source": [
    "year_filtrado = df[(df.Year_Date < 2028)]\n",
    "#year_filtrado = df[df[\"Year_Date\"] != Exclude_date]\n",
    "#Exclude_date\n",
    "\n",
    "\n",
    "\n",
    "year_filtrado['Year_Date'].hist(legend=True,bins= 200, figsize = [15,4])"
   ]
  },
  {
   "cell_type": "code",
   "execution_count": null,
   "id": "6383e6fe-4bb6-4351-bb25-aeab87341e88",
   "metadata": {},
   "outputs": [],
   "source": []
  },
  {
   "cell_type": "code",
   "execution_count": 88,
   "id": "b0a457bb-74e9-46e5-bbf0-d9abc7882202",
   "metadata": {},
   "outputs": [
    {
     "data": {
      "text/plain": [
       "pandas.core.frame.DataFrame"
      ]
     },
     "execution_count": 88,
     "metadata": {},
     "output_type": "execute_result"
    }
   ],
   "source": [
    "type(year_filtrado)"
   ]
  },
  {
   "cell_type": "code",
   "execution_count": 92,
   "id": "a8529ddf-efd7-462d-9e9f-83629aa31d8c",
   "metadata": {},
   "outputs": [
    {
     "data": {
      "text/plain": [
       "(4574, 18)"
      ]
     },
     "execution_count": 92,
     "metadata": {},
     "output_type": "execute_result"
    }
   ],
   "source": [
    "year_filtrado.shape"
   ]
  },
  {
   "cell_type": "code",
   "execution_count": 117,
   "id": "c28a96ff-83dd-42e0-81c9-5fcb077545fc",
   "metadata": {},
   "outputs": [
    {
     "data": {
      "text/plain": [
       "Index(['Case Number', 'Date', 'Year', 'Type', 'Country', 'Area', 'Location',\n",
       "       'Activity', 'Sex', 'Age', 'Fatal (Y/N)', 'Time', 'original order',\n",
       "       'Age_normalize', 'Date_normalize', 'Year_Date', 'Month_Date',\n",
       "       'Day_Date'],\n",
       "      dtype='object')"
      ]
     },
     "execution_count": 117,
     "metadata": {},
     "output_type": "execute_result"
    }
   ],
   "source": [
    "df.columns"
   ]
  },
  {
   "cell_type": "code",
   "execution_count": null,
   "id": "17e131a3-9656-422e-a132-f0133a9acc67",
   "metadata": {},
   "outputs": [],
   "source": []
  },
  {
   "cell_type": "code",
   "execution_count": null,
   "id": "e873a0ac-00f8-48a1-9cca-4abb6e79ff94",
   "metadata": {},
   "outputs": [],
   "source": []
  },
  {
   "cell_type": "code",
   "execution_count": null,
   "id": "42d5c69a-67b1-43e3-8549-21cea37e89ea",
   "metadata": {},
   "outputs": [],
   "source": []
  },
  {
   "cell_type": "code",
   "execution_count": 96,
   "id": "82e9fc41-9d2e-4667-82a0-479392defcdf",
   "metadata": {},
   "outputs": [
    {
     "data": {
      "text/plain": [
       "array([[<AxesSubplot:title={'center':'Age_normalize'}>,\n",
       "        <AxesSubplot:title={'center':'Date_normalize'}>],\n",
       "       [<AxesSubplot:title={'center':'Year_Date'}>,\n",
       "        <AxesSubplot:title={'center':'Month_Date'}>]], dtype=object)"
      ]
     },
     "execution_count": 96,
     "metadata": {},
     "output_type": "execute_result"
    },
    {
     "data": {
      "image/png": "[encoded data removed]",
      "text/plain": [
       "<Figure size 1080x288 with 4 Axes>"
      ]
     },
     "metadata": {
      "needs_background": "light"
     },
     "output_type": "display_data"
    }
   ],
   "source": [
    "df[df['Year_Date'] != 2030].hist(legend=True,bins= 200, figsize = [15,4])"
   ]
  },
  {
   "cell_type": "code",
   "execution_count": 97,
   "id": "ef18b7bb-2833-4b8e-9977-a6ff61dd6201",
   "metadata": {},
   "outputs": [
    {
     "data": {
      "text/plain": [
       "<AxesSubplot:>"
      ]
     },
     "execution_count": 97,
     "metadata": {},
     "output_type": "execute_result"
    },
    {
     "data": {
      "image/png": "[encoded data removed]",
      "text/plain": [
       "<Figure size 720x288 with 1 Axes>"
      ]
     },
     "metadata": {
      "needs_background": "light"
     },
     "output_type": "display_data"
    }
   ],
   "source": [
    "year_filtrado['Month_Date'].hist(legend=True,bins= 200, figsize = [10,4])\n"
   ]
  },
  {
   "cell_type": "code",
   "execution_count": 98,
   "id": "936ea9c5-e825-4fdd-a27c-45fe8805ed36",
   "metadata": {},
   "outputs": [
    {
     "data": {
      "text/plain": [
       "<AxesSubplot:>"
      ]
     },
     "execution_count": 98,
     "metadata": {},
     "output_type": "execute_result"
    },
    {
     "data": {
      "image/png": "[encoded data removed]",
      "text/plain": [
       "<Figure size 720x288 with 1 Axes>"
      ]
     },
     "metadata": {
      "needs_background": "light"
     },
     "output_type": "display_data"
    }
   ],
   "source": [
    "year_filtrado['Day_Date'].hist(legend=True,bins= 200, figsize = [10,4])"
   ]
  },
  {
   "cell_type": "code",
   "execution_count": 99,
   "id": "7a055547-2faa-47fe-89e4-66cf631f79de",
   "metadata": {},
   "outputs": [
    {
     "data": {
      "text/plain": [
       "Case Number               object\n",
       "Date                      object\n",
       "Year                      object\n",
       "Type                      object\n",
       "Country                   object\n",
       "Area                      object\n",
       "Location                  object\n",
       "Activity                  object\n",
       "Sex                       object\n",
       "Age                       object\n",
       "Fatal (Y/N)               object\n",
       "Time                      object\n",
       "original order            object\n",
       "Age_normalize              int32\n",
       "Date_normalize    datetime64[ns]\n",
       "Year_Date                  int64\n",
       "Month_Date                 int64\n",
       "Day_Date                  object\n",
       "dtype: object"
      ]
     },
     "execution_count": 99,
     "metadata": {},
     "output_type": "execute_result"
    }
   ],
   "source": [
    "df.dtypes"
   ]
  },
  {
   "cell_type": "code",
   "execution_count": 100,
   "id": "25c0fa27-e581-43a0-8964-c13287e02e73",
   "metadata": {},
   "outputs": [
    {
     "data": {
      "text/plain": [
       "pandas.core.frame.DataFrame"
      ]
     },
     "execution_count": 100,
     "metadata": {},
     "output_type": "execute_result"
    }
   ],
   "source": [
    "type(year_filtrado)\n",
    "\n",
    "# newdf = df[(df.Year_Date != 0)]"
   ]
  },
  {
   "cell_type": "code",
   "execution_count": 101,
   "id": "94d7e4d9-c84a-43c2-b556-c00374287eae",
   "metadata": {},
   "outputs": [
    {
     "data": {
      "text/plain": [
       "<AxesSubplot:>"
      ]
     },
     "execution_count": 101,
     "metadata": {},
     "output_type": "execute_result"
    },
    {
     "data": {
      "image/png": "[encoded data removed]",
      "text/plain": [
       "<Figure size 720x288 with 1 Axes>"
      ]
     },
     "metadata": {
      "needs_background": "light"
     },
     "output_type": "display_data"
    }
   ],
   "source": [
    "df['Type'].hist(legend=True,bins= 200, figsize = [10,4])"
   ]
  },
  {
   "cell_type": "code",
   "execution_count": 102,
   "id": "5001b5fc-ce74-48fa-9241-c03a19a52a01",
   "metadata": {},
   "outputs": [
    {
     "data": {
      "text/html": [
       "<div>\n",
       "<style scoped>\n",
       "    .dataframe tbody tr th:only-of-type {\n",
       "        vertical-align: middle;\n",
       "    }\n",
       "\n",
       "    .dataframe tbody tr th {\n",
       "        vertical-align: top;\n",
       "    }\n",
       "\n",
       "    .dataframe thead th {\n",
       "        text-align: right;\n",
       "    }\n",
       "</style>\n",
       "<table border=\"1\" class=\"dataframe\">\n",
       "  <thead>\n",
       "    <tr style=\"text-align: right;\">\n",
       "      <th></th>\n",
       "      <th>Case Number</th>\n",
       "      <th>Date</th>\n",
       "      <th>Year</th>\n",
       "      <th>Type</th>\n",
       "      <th>Country</th>\n",
       "      <th>Area</th>\n",
       "      <th>Location</th>\n",
       "      <th>Activity</th>\n",
       "      <th>Sex</th>\n",
       "      <th>Age</th>\n",
       "      <th>Fatal (Y/N)</th>\n",
       "      <th>Time</th>\n",
       "      <th>original order</th>\n",
       "      <th>Age_normalize</th>\n",
       "      <th>Date_normalize</th>\n",
       "      <th>Year_Date</th>\n",
       "      <th>Month_Date</th>\n",
       "      <th>Day_Date</th>\n",
       "    </tr>\n",
       "  </thead>\n",
       "  <tbody>\n",
       "    <tr>\n",
       "      <th>6160</th>\n",
       "      <td>1703.03.26</td>\n",
       "      <td>26-Mar-1703</td>\n",
       "      <td>1703.0</td>\n",
       "      <td>Unprovoked</td>\n",
       "      <td>BARBADOS</td>\n",
       "      <td>Southwest coast</td>\n",
       "      <td>Carlisle Bay</td>\n",
       "      <td>Swimming</td>\n",
       "      <td>m</td>\n",
       "      <td>19</td>\n",
       "      <td>n</td>\n",
       "      <td>Night</td>\n",
       "      <td>143.0</td>\n",
       "      <td>19</td>\n",
       "      <td>1703-03-26</td>\n",
       "      <td>1703</td>\n",
       "      <td>3</td>\n",
       "      <td>Monday</td>\n",
       "    </tr>\n",
       "    <tr>\n",
       "      <th>6159</th>\n",
       "      <td>1721.06.00</td>\n",
       "      <td>June 1721</td>\n",
       "      <td>1721.0</td>\n",
       "      <td>Unprovoked</td>\n",
       "      <td>ITALY</td>\n",
       "      <td>Sardinia</td>\n",
       "      <td>Ponte della Maddelena,</td>\n",
       "      <td>Swimming</td>\n",
       "      <td>m</td>\n",
       "      <td>NaN</td>\n",
       "      <td>y</td>\n",
       "      <td>NaN</td>\n",
       "      <td>144.0</td>\n",
       "      <td>0</td>\n",
       "      <td>1721-06-01</td>\n",
       "      <td>1721</td>\n",
       "      <td>6</td>\n",
       "      <td>Sunday</td>\n",
       "    </tr>\n",
       "    <tr>\n",
       "      <th>6155</th>\n",
       "      <td>1742.12.17</td>\n",
       "      <td>17-Dec-1742</td>\n",
       "      <td>1742.0</td>\n",
       "      <td>Unprovoked</td>\n",
       "      <td>NaN</td>\n",
       "      <td>NaN</td>\n",
       "      <td>Carlisle Bay</td>\n",
       "      <td>Swimming</td>\n",
       "      <td>m</td>\n",
       "      <td>NaN</td>\n",
       "      <td>y</td>\n",
       "      <td>NaN</td>\n",
       "      <td>148.0</td>\n",
       "      <td>0</td>\n",
       "      <td>1742-12-17</td>\n",
       "      <td>1742</td>\n",
       "      <td>12</td>\n",
       "      <td>Monday</td>\n",
       "    </tr>\n",
       "    <tr>\n",
       "      <th>6154</th>\n",
       "      <td>1748.00.00</td>\n",
       "      <td>1748</td>\n",
       "      <td>1748.0</td>\n",
       "      <td>Unprovoked</td>\n",
       "      <td>PANAMA</td>\n",
       "      <td>Las Perlas archipelago</td>\n",
       "      <td>Taboga &amp; Isla del Rey</td>\n",
       "      <td>Pearl diving</td>\n",
       "      <td>m</td>\n",
       "      <td>NaN</td>\n",
       "      <td>y</td>\n",
       "      <td>NaN</td>\n",
       "      <td>149.0</td>\n",
       "      <td>0</td>\n",
       "      <td>1748-01-01</td>\n",
       "      <td>1748</td>\n",
       "      <td>1</td>\n",
       "      <td>Monday</td>\n",
       "    </tr>\n",
       "    <tr>\n",
       "      <th>6152</th>\n",
       "      <td>1749.00.00</td>\n",
       "      <td>1749</td>\n",
       "      <td>1749.0</td>\n",
       "      <td>Unprovoked</td>\n",
       "      <td>CUBA</td>\n",
       "      <td>Havana Province</td>\n",
       "      <td>Havana Harbor</td>\n",
       "      <td>Swimming</td>\n",
       "      <td>m</td>\n",
       "      <td>14</td>\n",
       "      <td>n</td>\n",
       "      <td>NaN</td>\n",
       "      <td>151.0</td>\n",
       "      <td>14</td>\n",
       "      <td>1749-01-01</td>\n",
       "      <td>1749</td>\n",
       "      <td>1</td>\n",
       "      <td>Wednesday</td>\n",
       "    </tr>\n",
       "    <tr>\n",
       "      <th>...</th>\n",
       "      <td>...</td>\n",
       "      <td>...</td>\n",
       "      <td>...</td>\n",
       "      <td>...</td>\n",
       "      <td>...</td>\n",
       "      <td>...</td>\n",
       "      <td>...</td>\n",
       "      <td>...</td>\n",
       "      <td>...</td>\n",
       "      <td>...</td>\n",
       "      <td>...</td>\n",
       "      <td>...</td>\n",
       "      <td>...</td>\n",
       "      <td>...</td>\n",
       "      <td>...</td>\n",
       "      <td>...</td>\n",
       "      <td>...</td>\n",
       "      <td>...</td>\n",
       "    </tr>\n",
       "    <tr>\n",
       "      <th>30</th>\n",
       "      <td>2018.04.14</td>\n",
       "      <td>14-Apr-2018</td>\n",
       "      <td>2018.0</td>\n",
       "      <td>Unprovoked</td>\n",
       "      <td>BAHAMAS</td>\n",
       "      <td>New Providence</td>\n",
       "      <td>Nirvana Beach</td>\n",
       "      <td>Surfing</td>\n",
       "      <td>m</td>\n",
       "      <td>NaN</td>\n",
       "      <td>n</td>\n",
       "      <td>09h30</td>\n",
       "      <td>6273.0</td>\n",
       "      <td>0</td>\n",
       "      <td>2018-04-14</td>\n",
       "      <td>2018</td>\n",
       "      <td>4</td>\n",
       "      <td>Saturday</td>\n",
       "    </tr>\n",
       "    <tr>\n",
       "      <th>29</th>\n",
       "      <td>2018.04.15.a</td>\n",
       "      <td>15-Apr-2018</td>\n",
       "      <td>2018.0</td>\n",
       "      <td>Unprovoked</td>\n",
       "      <td>AUSTRALIA</td>\n",
       "      <td>Western Australia</td>\n",
       "      <td>Cobblestones, Margaret River Area</td>\n",
       "      <td>Surfing</td>\n",
       "      <td>m</td>\n",
       "      <td>37</td>\n",
       "      <td>n</td>\n",
       "      <td>08h00</td>\n",
       "      <td>6274.0</td>\n",
       "      <td>37</td>\n",
       "      <td>2018-04-15</td>\n",
       "      <td>2018</td>\n",
       "      <td>4</td>\n",
       "      <td>Sunday</td>\n",
       "    </tr>\n",
       "    <tr>\n",
       "      <th>28</th>\n",
       "      <td>2018.04.15.b</td>\n",
       "      <td>15-Apr-2018</td>\n",
       "      <td>2018.0</td>\n",
       "      <td>Unprovoked</td>\n",
       "      <td>AUSTRALIA</td>\n",
       "      <td>Western Australia</td>\n",
       "      <td>Lefthanders, Margaret River Area</td>\n",
       "      <td>Surfing</td>\n",
       "      <td>m</td>\n",
       "      <td>41</td>\n",
       "      <td>n</td>\n",
       "      <td>NaN</td>\n",
       "      <td>6275.0</td>\n",
       "      <td>41</td>\n",
       "      <td>2018-04-15</td>\n",
       "      <td>2018</td>\n",
       "      <td>4</td>\n",
       "      <td>Sunday</td>\n",
       "    </tr>\n",
       "    <tr>\n",
       "      <th>40</th>\n",
       "      <td>2018.02.23</td>\n",
       "      <td>23-Feb-2018</td>\n",
       "      <td>2018.0</td>\n",
       "      <td>Unprovoked</td>\n",
       "      <td>AUSTRALIA</td>\n",
       "      <td>New South Wales</td>\n",
       "      <td>Little Congwong Beach, La Perouse</td>\n",
       "      <td>Swimming</td>\n",
       "      <td>f</td>\n",
       "      <td>55</td>\n",
       "      <td>n</td>\n",
       "      <td>19h00, Dusk</td>\n",
       "      <td>6263.0</td>\n",
       "      <td>55</td>\n",
       "      <td>2018-02-23</td>\n",
       "      <td>2018</td>\n",
       "      <td>2</td>\n",
       "      <td>Friday</td>\n",
       "    </tr>\n",
       "    <tr>\n",
       "      <th>0</th>\n",
       "      <td>2018.06.25</td>\n",
       "      <td>25-Jun-2018</td>\n",
       "      <td>2018.0</td>\n",
       "      <td>Boating</td>\n",
       "      <td>USA</td>\n",
       "      <td>California</td>\n",
       "      <td>Oceanside, San Diego County</td>\n",
       "      <td>Paddling</td>\n",
       "      <td>f</td>\n",
       "      <td>57</td>\n",
       "      <td>n</td>\n",
       "      <td>18h00</td>\n",
       "      <td>6303.0</td>\n",
       "      <td>57</td>\n",
       "      <td>2018-06-25</td>\n",
       "      <td>2018</td>\n",
       "      <td>6</td>\n",
       "      <td>Monday</td>\n",
       "    </tr>\n",
       "  </tbody>\n",
       "</table>\n",
       "<p>4574 rows × 18 columns</p>\n",
       "</div>"
      ],
      "text/plain": [
       "       Case Number         Date    Year        Type    Country  \\\n",
       "6160    1703.03.26  26-Mar-1703  1703.0  Unprovoked   BARBADOS   \n",
       "6159    1721.06.00    June 1721  1721.0  Unprovoked      ITALY   \n",
       "6155    1742.12.17  17-Dec-1742  1742.0  Unprovoked        NaN   \n",
       "6154    1748.00.00         1748  1748.0  Unprovoked     PANAMA   \n",
       "6152    1749.00.00         1749  1749.0  Unprovoked       CUBA   \n",
       "...            ...          ...     ...         ...        ...   \n",
       "30      2018.04.14  14-Apr-2018  2018.0  Unprovoked    BAHAMAS   \n",
       "29    2018.04.15.a  15-Apr-2018  2018.0  Unprovoked  AUSTRALIA   \n",
       "28    2018.04.15.b  15-Apr-2018  2018.0  Unprovoked  AUSTRALIA   \n",
       "40      2018.02.23  23-Feb-2018  2018.0  Unprovoked  AUSTRALIA   \n",
       "0       2018.06.25  25-Jun-2018  2018.0     Boating        USA   \n",
       "\n",
       "                        Area                            Location  \\\n",
       "6160         Southwest coast                        Carlisle Bay   \n",
       "6159                Sardinia              Ponte della Maddelena,   \n",
       "6155                     NaN                        Carlisle Bay   \n",
       "6154  Las Perlas archipelago               Taboga & Isla del Rey   \n",
       "6152         Havana Province                       Havana Harbor   \n",
       "...                      ...                                 ...   \n",
       "30            New Providence                       Nirvana Beach   \n",
       "29         Western Australia   Cobblestones, Margaret River Area   \n",
       "28         Western Australia    Lefthanders, Margaret River Area   \n",
       "40           New South Wales  Little Congwong Beach, La Perouse    \n",
       "0                 California         Oceanside, San Diego County   \n",
       "\n",
       "          Activity Sex  Age Fatal (Y/N)         Time original order  \\\n",
       "6160      Swimming   m   19           n        Night          143.0   \n",
       "6159      Swimming   m  NaN           y          NaN          144.0   \n",
       "6155      Swimming   m  NaN           y          NaN          148.0   \n",
       "6154  Pearl diving   m  NaN           y          NaN          149.0   \n",
       "6152      Swimming   m   14           n          NaN          151.0   \n",
       "...            ...  ..  ...         ...          ...            ...   \n",
       "30         Surfing   m  NaN           n        09h30         6273.0   \n",
       "29         Surfing   m   37           n        08h00         6274.0   \n",
       "28         Surfing   m   41           n          NaN         6275.0   \n",
       "40        Swimming   f   55           n  19h00, Dusk         6263.0   \n",
       "0         Paddling   f   57           n        18h00         6303.0   \n",
       "\n",
       "      Age_normalize Date_normalize  Year_Date  Month_Date   Day_Date  \n",
       "6160             19     1703-03-26       1703           3     Monday  \n",
       "6159              0     1721-06-01       1721           6     Sunday  \n",
       "6155              0     1742-12-17       1742          12     Monday  \n",
       "6154              0     1748-01-01       1748           1     Monday  \n",
       "6152             14     1749-01-01       1749           1  Wednesday  \n",
       "...             ...            ...        ...         ...        ...  \n",
       "30                0     2018-04-14       2018           4   Saturday  \n",
       "29               37     2018-04-15       2018           4     Sunday  \n",
       "28               41     2018-04-15       2018           4     Sunday  \n",
       "40               55     2018-02-23       2018           2     Friday  \n",
       "0                57     2018-06-25       2018           6     Monday  \n",
       "\n",
       "[4574 rows x 18 columns]"
      ]
     },
     "execution_count": 102,
     "metadata": {},
     "output_type": "execute_result"
    }
   ],
   "source": [
    "year_filtrado.sort_values(\"Year_Date\", ascending=True)"
   ]
  },
  {
   "cell_type": "code",
   "execution_count": 103,
   "id": "e48c57b9-c029-488e-8929-9001a5c0c2ab",
   "metadata": {},
   "outputs": [
    {
     "data": {
      "text/plain": [
       "Index(['Case Number', 'Date', 'Year', 'Type', 'Country', 'Area', 'Location',\n",
       "       'Activity', 'Sex', 'Age', 'Fatal (Y/N)', 'Time', 'original order',\n",
       "       'Age_normalize', 'Date_normalize', 'Year_Date', 'Month_Date',\n",
       "       'Day_Date'],\n",
       "      dtype='object')"
      ]
     },
     "execution_count": 103,
     "metadata": {},
     "output_type": "execute_result"
    }
   ],
   "source": [
    "df.columns"
   ]
  },
  {
   "cell_type": "markdown",
   "id": "1803d8cc-02b2-4c66-ab9e-7f4b02b082b9",
   "metadata": {},
   "source": [
    "## Sacar un Df con 2 columnas\n"
   ]
  },
  {
   "cell_type": "code",
   "execution_count": 111,
   "id": "211c4988-9478-4416-82b3-16ba4af412e7",
   "metadata": {},
   "outputs": [
    {
     "data": {
      "text/html": [
       "<div>\n",
       "<style scoped>\n",
       "    .dataframe tbody tr th:only-of-type {\n",
       "        vertical-align: middle;\n",
       "    }\n",
       "\n",
       "    .dataframe tbody tr th {\n",
       "        vertical-align: top;\n",
       "    }\n",
       "\n",
       "    .dataframe thead th {\n",
       "        text-align: right;\n",
       "    }\n",
       "</style>\n",
       "<table border=\"1\" class=\"dataframe\">\n",
       "  <thead>\n",
       "    <tr style=\"text-align: right;\">\n",
       "      <th></th>\n",
       "      <th>Year_Date</th>\n",
       "      <th>Age_normalize</th>\n",
       "    </tr>\n",
       "  </thead>\n",
       "  <tbody>\n",
       "    <tr>\n",
       "      <th>count</th>\n",
       "      <td>4574.000000</td>\n",
       "      <td>4574.000000</td>\n",
       "    </tr>\n",
       "    <tr>\n",
       "      <th>mean</th>\n",
       "      <td>1974.055969</td>\n",
       "      <td>17.911893</td>\n",
       "    </tr>\n",
       "    <tr>\n",
       "      <th>std</th>\n",
       "      <td>42.055267</td>\n",
       "      <td>17.164462</td>\n",
       "    </tr>\n",
       "    <tr>\n",
       "      <th>min</th>\n",
       "      <td>1703.000000</td>\n",
       "      <td>0.000000</td>\n",
       "    </tr>\n",
       "    <tr>\n",
       "      <th>25%</th>\n",
       "      <td>1955.000000</td>\n",
       "      <td>0.000000</td>\n",
       "    </tr>\n",
       "    <tr>\n",
       "      <th>50%</th>\n",
       "      <td>1988.000000</td>\n",
       "      <td>17.000000</td>\n",
       "    </tr>\n",
       "    <tr>\n",
       "      <th>75%</th>\n",
       "      <td>2007.000000</td>\n",
       "      <td>28.000000</td>\n",
       "    </tr>\n",
       "    <tr>\n",
       "      <th>max</th>\n",
       "      <td>2018.000000</td>\n",
       "      <td>87.000000</td>\n",
       "    </tr>\n",
       "  </tbody>\n",
       "</table>\n",
       "</div>"
      ],
      "text/plain": [
       "         Year_Date  Age_normalize\n",
       "count  4574.000000    4574.000000\n",
       "mean   1974.055969      17.911893\n",
       "std      42.055267      17.164462\n",
       "min    1703.000000       0.000000\n",
       "25%    1955.000000       0.000000\n",
       "50%    1988.000000      17.000000\n",
       "75%    2007.000000      28.000000\n",
       "max    2018.000000      87.000000"
      ]
     },
     "execution_count": 111,
     "metadata": {},
     "output_type": "execute_result"
    }
   ],
   "source": [
    "year_filtrado[['Year_Date','Age_normalize']].describe()"
   ]
  },
  {
   "cell_type": "markdown",
   "id": "44e7a715-0af7-42d1-bf1d-834db17f986b",
   "metadata": {},
   "source": [
    "filtrado de columnasplot"
   ]
  },
  {
   "cell_type": "code",
   "execution_count": 105,
   "id": "fab72f40-d570-47b4-9e30-15c9e6a0956b",
   "metadata": {},
   "outputs": [
    {
     "data": {
      "text/html": [
       "<div>\n",
       "<style scoped>\n",
       "    .dataframe tbody tr th:only-of-type {\n",
       "        vertical-align: middle;\n",
       "    }\n",
       "\n",
       "    .dataframe tbody tr th {\n",
       "        vertical-align: top;\n",
       "    }\n",
       "\n",
       "    .dataframe thead th {\n",
       "        text-align: right;\n",
       "    }\n",
       "</style>\n",
       "<table border=\"1\" class=\"dataframe\">\n",
       "  <thead>\n",
       "    <tr style=\"text-align: right;\">\n",
       "      <th></th>\n",
       "      <th>Case Number</th>\n",
       "      <th>Date</th>\n",
       "      <th>Year</th>\n",
       "      <th>Type</th>\n",
       "      <th>Country</th>\n",
       "      <th>Area</th>\n",
       "      <th>Location</th>\n",
       "      <th>Activity</th>\n",
       "      <th>Sex</th>\n",
       "      <th>Age</th>\n",
       "      <th>Fatal (Y/N)</th>\n",
       "      <th>Time</th>\n",
       "      <th>original order</th>\n",
       "      <th>Age_normalize</th>\n",
       "      <th>Date_normalize</th>\n",
       "      <th>Year_Date</th>\n",
       "      <th>Month_Date</th>\n",
       "      <th>Day_Date</th>\n",
       "    </tr>\n",
       "  </thead>\n",
       "  <tbody>\n",
       "    <tr>\n",
       "      <th>2</th>\n",
       "      <td>2018.06.09</td>\n",
       "      <td>09-Jun-2018</td>\n",
       "      <td>2018.0</td>\n",
       "      <td>Invalid</td>\n",
       "      <td>USA</td>\n",
       "      <td>Hawaii</td>\n",
       "      <td>Habush, Oahu</td>\n",
       "      <td>Surfing</td>\n",
       "      <td>m</td>\n",
       "      <td>48</td>\n",
       "      <td>n</td>\n",
       "      <td>07h45</td>\n",
       "      <td>6301.0</td>\n",
       "      <td>48</td>\n",
       "      <td>2018-06-09</td>\n",
       "      <td>2018</td>\n",
       "      <td>6</td>\n",
       "      <td>Saturday</td>\n",
       "    </tr>\n",
       "    <tr>\n",
       "      <th>3</th>\n",
       "      <td>2018.06.08</td>\n",
       "      <td>08-Jun-2018</td>\n",
       "      <td>2018.0</td>\n",
       "      <td>Unprovoked</td>\n",
       "      <td>AUSTRALIA</td>\n",
       "      <td>New South Wales</td>\n",
       "      <td>Arrawarra Headland</td>\n",
       "      <td>Surfing</td>\n",
       "      <td>m</td>\n",
       "      <td>NaN</td>\n",
       "      <td>n</td>\n",
       "      <td>NaN</td>\n",
       "      <td>6300.0</td>\n",
       "      <td>0</td>\n",
       "      <td>2018-06-08</td>\n",
       "      <td>2018</td>\n",
       "      <td>6</td>\n",
       "      <td>Friday</td>\n",
       "    </tr>\n",
       "    <tr>\n",
       "      <th>4</th>\n",
       "      <td>2018.06.04</td>\n",
       "      <td>04-Jun-2018</td>\n",
       "      <td>2018.0</td>\n",
       "      <td>Provoked</td>\n",
       "      <td>MEXICO</td>\n",
       "      <td>Colima</td>\n",
       "      <td>La Ticla</td>\n",
       "      <td>Free diving</td>\n",
       "      <td>m</td>\n",
       "      <td>NaN</td>\n",
       "      <td>n</td>\n",
       "      <td>NaN</td>\n",
       "      <td>6299.0</td>\n",
       "      <td>0</td>\n",
       "      <td>2018-06-04</td>\n",
       "      <td>2018</td>\n",
       "      <td>6</td>\n",
       "      <td>Monday</td>\n",
       "    </tr>\n",
       "    <tr>\n",
       "      <th>5</th>\n",
       "      <td>2018.06.03.b</td>\n",
       "      <td>03-Jun-2018</td>\n",
       "      <td>2018.0</td>\n",
       "      <td>Unprovoked</td>\n",
       "      <td>AUSTRALIA</td>\n",
       "      <td>New South Wales</td>\n",
       "      <td>Flat Rock, Ballina</td>\n",
       "      <td>Kite surfing</td>\n",
       "      <td>m</td>\n",
       "      <td>NaN</td>\n",
       "      <td>n</td>\n",
       "      <td>NaN</td>\n",
       "      <td>6298.0</td>\n",
       "      <td>0</td>\n",
       "      <td>2018-06-03</td>\n",
       "      <td>2018</td>\n",
       "      <td>6</td>\n",
       "      <td>Sunday</td>\n",
       "    </tr>\n",
       "    <tr>\n",
       "      <th>6</th>\n",
       "      <td>2018.06.03.a</td>\n",
       "      <td>03-Jun-2018</td>\n",
       "      <td>2018.0</td>\n",
       "      <td>Unprovoked</td>\n",
       "      <td>BRAZIL</td>\n",
       "      <td>Pernambuco</td>\n",
       "      <td>Piedade Beach, Recife</td>\n",
       "      <td>Swimming</td>\n",
       "      <td>m</td>\n",
       "      <td>18</td>\n",
       "      <td>y</td>\n",
       "      <td>Late afternoon</td>\n",
       "      <td>6297.0</td>\n",
       "      <td>18</td>\n",
       "      <td>2018-06-03</td>\n",
       "      <td>2018</td>\n",
       "      <td>6</td>\n",
       "      <td>Sunday</td>\n",
       "    </tr>\n",
       "    <tr>\n",
       "      <th>...</th>\n",
       "      <td>...</td>\n",
       "      <td>...</td>\n",
       "      <td>...</td>\n",
       "      <td>...</td>\n",
       "      <td>...</td>\n",
       "      <td>...</td>\n",
       "      <td>...</td>\n",
       "      <td>...</td>\n",
       "      <td>...</td>\n",
       "      <td>...</td>\n",
       "      <td>...</td>\n",
       "      <td>...</td>\n",
       "      <td>...</td>\n",
       "      <td>...</td>\n",
       "      <td>...</td>\n",
       "      <td>...</td>\n",
       "      <td>...</td>\n",
       "      <td>...</td>\n",
       "    </tr>\n",
       "    <tr>\n",
       "      <th>6297</th>\n",
       "      <td>ND.0005</td>\n",
       "      <td>Before 1903</td>\n",
       "      <td>0.0</td>\n",
       "      <td>Unprovoked</td>\n",
       "      <td>AUSTRALIA</td>\n",
       "      <td>Western Australia</td>\n",
       "      <td>Roebuck Bay</td>\n",
       "      <td>Diving</td>\n",
       "      <td>m</td>\n",
       "      <td>NaN</td>\n",
       "      <td>y</td>\n",
       "      <td>NaN</td>\n",
       "      <td>6.0</td>\n",
       "      <td>0</td>\n",
       "      <td>2030-01-01</td>\n",
       "      <td>2030</td>\n",
       "      <td>1</td>\n",
       "      <td>Tuesday</td>\n",
       "    </tr>\n",
       "    <tr>\n",
       "      <th>6298</th>\n",
       "      <td>ND.0004</td>\n",
       "      <td>Before 1903</td>\n",
       "      <td>0.0</td>\n",
       "      <td>Unprovoked</td>\n",
       "      <td>AUSTRALIA</td>\n",
       "      <td>Western Australia</td>\n",
       "      <td>NaN</td>\n",
       "      <td>Pearl diving</td>\n",
       "      <td>m</td>\n",
       "      <td>NaN</td>\n",
       "      <td>y</td>\n",
       "      <td>NaN</td>\n",
       "      <td>5.0</td>\n",
       "      <td>0</td>\n",
       "      <td>2030-01-01</td>\n",
       "      <td>2030</td>\n",
       "      <td>1</td>\n",
       "      <td>Tuesday</td>\n",
       "    </tr>\n",
       "    <tr>\n",
       "      <th>6299</th>\n",
       "      <td>ND.0003</td>\n",
       "      <td>1900-1905</td>\n",
       "      <td>0.0</td>\n",
       "      <td>Unprovoked</td>\n",
       "      <td>USA</td>\n",
       "      <td>North Carolina</td>\n",
       "      <td>Ocracoke Inlet</td>\n",
       "      <td>Swimming</td>\n",
       "      <td>m</td>\n",
       "      <td>NaN</td>\n",
       "      <td>y</td>\n",
       "      <td>NaN</td>\n",
       "      <td>4.0</td>\n",
       "      <td>0</td>\n",
       "      <td>2030-01-01</td>\n",
       "      <td>2030</td>\n",
       "      <td>1</td>\n",
       "      <td>Tuesday</td>\n",
       "    </tr>\n",
       "    <tr>\n",
       "      <th>6300</th>\n",
       "      <td>ND.0002</td>\n",
       "      <td>1883-1889</td>\n",
       "      <td>0.0</td>\n",
       "      <td>Unprovoked</td>\n",
       "      <td>PANAMA</td>\n",
       "      <td>NaN</td>\n",
       "      <td>Panama Bay 8ºN, 79ºW</td>\n",
       "      <td>NaN</td>\n",
       "      <td>m</td>\n",
       "      <td>NaN</td>\n",
       "      <td>y</td>\n",
       "      <td>NaN</td>\n",
       "      <td>3.0</td>\n",
       "      <td>0</td>\n",
       "      <td>2030-01-01</td>\n",
       "      <td>2030</td>\n",
       "      <td>1</td>\n",
       "      <td>Tuesday</td>\n",
       "    </tr>\n",
       "    <tr>\n",
       "      <th>6301</th>\n",
       "      <td>ND.0001</td>\n",
       "      <td>1845-1853</td>\n",
       "      <td>0.0</td>\n",
       "      <td>Unprovoked</td>\n",
       "      <td>CEYLON (SRI LANKA)</td>\n",
       "      <td>Eastern Province</td>\n",
       "      <td>Below the English fort, Trincomalee</td>\n",
       "      <td>Swimming</td>\n",
       "      <td>m</td>\n",
       "      <td>15</td>\n",
       "      <td>y</td>\n",
       "      <td>NaN</td>\n",
       "      <td>2.0</td>\n",
       "      <td>15</td>\n",
       "      <td>2030-01-01</td>\n",
       "      <td>2030</td>\n",
       "      <td>1</td>\n",
       "      <td>Tuesday</td>\n",
       "    </tr>\n",
       "  </tbody>\n",
       "</table>\n",
       "<p>4655 rows × 18 columns</p>\n",
       "</div>"
      ],
      "text/plain": [
       "       Case Number         Date    Year        Type             Country  \\\n",
       "2       2018.06.09  09-Jun-2018  2018.0     Invalid                 USA   \n",
       "3       2018.06.08  08-Jun-2018  2018.0  Unprovoked           AUSTRALIA   \n",
       "4       2018.06.04  04-Jun-2018  2018.0    Provoked              MEXICO   \n",
       "5     2018.06.03.b  03-Jun-2018  2018.0  Unprovoked           AUSTRALIA   \n",
       "6     2018.06.03.a  03-Jun-2018  2018.0  Unprovoked              BRAZIL   \n",
       "...            ...          ...     ...         ...                 ...   \n",
       "6297       ND.0005  Before 1903     0.0  Unprovoked           AUSTRALIA   \n",
       "6298       ND.0004  Before 1903     0.0  Unprovoked           AUSTRALIA   \n",
       "6299       ND.0003    1900-1905     0.0  Unprovoked                 USA   \n",
       "6300       ND.0002    1883-1889     0.0  Unprovoked              PANAMA   \n",
       "6301       ND.0001    1845-1853     0.0  Unprovoked  CEYLON (SRI LANKA)   \n",
       "\n",
       "                   Area                             Location      Activity  \\\n",
       "2                Hawaii                         Habush, Oahu       Surfing   \n",
       "3       New South Wales                   Arrawarra Headland       Surfing   \n",
       "4                Colima                             La Ticla   Free diving   \n",
       "5       New South Wales                   Flat Rock, Ballina  Kite surfing   \n",
       "6            Pernambuco                Piedade Beach, Recife      Swimming   \n",
       "...                 ...                                  ...           ...   \n",
       "6297  Western Australia                          Roebuck Bay        Diving   \n",
       "6298  Western Australia                                  NaN  Pearl diving   \n",
       "6299     North Carolina                       Ocracoke Inlet      Swimming   \n",
       "6300                NaN                 Panama Bay 8ºN, 79ºW           NaN   \n",
       "6301   Eastern Province  Below the English fort, Trincomalee      Swimming   \n",
       "\n",
       "     Sex  Age Fatal (Y/N)            Time original order  Age_normalize  \\\n",
       "2      m   48           n           07h45         6301.0             48   \n",
       "3      m  NaN           n             NaN         6300.0              0   \n",
       "4      m  NaN           n             NaN         6299.0              0   \n",
       "5      m  NaN           n             NaN         6298.0              0   \n",
       "6      m   18           y  Late afternoon         6297.0             18   \n",
       "...   ..  ...         ...             ...            ...            ...   \n",
       "6297   m  NaN           y             NaN            6.0              0   \n",
       "6298   m  NaN           y             NaN            5.0              0   \n",
       "6299   m  NaN           y             NaN            4.0              0   \n",
       "6300   m  NaN           y             NaN            3.0              0   \n",
       "6301   m   15           y             NaN            2.0             15   \n",
       "\n",
       "     Date_normalize  Year_Date  Month_Date  Day_Date  \n",
       "2        2018-06-09       2018           6  Saturday  \n",
       "3        2018-06-08       2018           6    Friday  \n",
       "4        2018-06-04       2018           6    Monday  \n",
       "5        2018-06-03       2018           6    Sunday  \n",
       "6        2018-06-03       2018           6    Sunday  \n",
       "...             ...        ...         ...       ...  \n",
       "6297     2030-01-01       2030           1   Tuesday  \n",
       "6298     2030-01-01       2030           1   Tuesday  \n",
       "6299     2030-01-01       2030           1   Tuesday  \n",
       "6300     2030-01-01       2030           1   Tuesday  \n",
       "6301     2030-01-01       2030           1   Tuesday  \n",
       "\n",
       "[4655 rows x 18 columns]"
      ]
     },
     "execution_count": 105,
     "metadata": {},
     "output_type": "execute_result"
    }
   ],
   "source": [
    "#filtrar solo a los hombres\n",
    "df[df[\"Sex\"] == \"m\"]"
   ]
  },
  {
   "cell_type": "markdown",
   "id": "ec3eecb0-e58d-499f-9165-5125633394b9",
   "metadata": {},
   "source": [
    "# pruebas\n"
   ]
  },
  {
   "cell_type": "code",
   "execution_count": null,
   "id": "81e66dcd-fcfb-4972-a8e3-507308718551",
   "metadata": {},
   "outputs": [],
   "source": []
  },
  {
   "cell_type": "code",
   "execution_count": 124,
   "id": "4b9a0364-eb3d-4e60-acf5-557186a79464",
   "metadata": {},
   "outputs": [],
   "source": [
    "# df[df[\"Age_normalize\"] > 0]"
   ]
  },
  {
   "cell_type": "code",
   "execution_count": 125,
   "id": "f1189505-aac0-496c-a4e8-4b1566f24111",
   "metadata": {},
   "outputs": [
    {
     "data": {
      "text/plain": [
       "m           4655\n",
       "notknown    1072\n",
       "f            575\n",
       "Name: Sex, dtype: int64"
      ]
     },
     "execution_count": 125,
     "metadata": {},
     "output_type": "execute_result"
    }
   ],
   "source": [
    "df['Sex'].value_counts()"
   ]
  },
  {
   "cell_type": "code",
   "execution_count": 141,
   "id": "863f9bc8-3f3f-4047-9d5d-920caea49eeb",
   "metadata": {},
   "outputs": [
    {
     "data": {
      "text/plain": [
       "n           3950\n",
       "y           1280\n",
       "notknown    1072\n",
       "Name: Fatal (Y/N), dtype: int64"
      ]
     },
     "execution_count": 141,
     "metadata": {},
     "output_type": "execute_result"
    }
   ],
   "source": [
    "df['Fatal (Y/N)'].value_counts()"
   ]
  },
  {
   "cell_type": "code",
   "execution_count": 127,
   "id": "d24db2e2-7e79-4d3a-9f73-2f65c03eb14e",
   "metadata": {},
   "outputs": [
    {
     "data": {
      "text/plain": [
       "Index(['Case Number', 'Date', 'Year', 'Type', 'Country', 'Area', 'Location',\n",
       "       'Activity', 'Sex', 'Age', 'Fatal (Y/N)', 'Time', 'original order',\n",
       "       'Age_normalize', 'Date_normalize', 'Year_Date', 'Month_Date',\n",
       "       'Day_Date'],\n",
       "      dtype='object')"
      ]
     },
     "execution_count": 127,
     "metadata": {},
     "output_type": "execute_result"
    }
   ],
   "source": [
    "df.columns"
   ]
  },
  {
   "cell_type": "code",
   "execution_count": 128,
   "id": "3fdce201-64a6-4d25-9f07-337d3fabcac9",
   "metadata": {},
   "outputs": [
    {
     "data": {
      "text/plain": [
       "n           3950\n",
       "y           1280\n",
       "notknown    1072\n",
       "Name: Fatal (Y/N), dtype: int64"
      ]
     },
     "execution_count": 128,
     "metadata": {},
     "output_type": "execute_result"
    }
   ],
   "source": [
    "df[\"Fatal (Y/N)\"].value_counts()"
   ]
  },
  {
   "cell_type": "code",
   "execution_count": 130,
   "id": "c908b75a-da1c-4b22-9133-b46635572bfc",
   "metadata": {},
   "outputs": [
    {
     "data": {
      "text/plain": [
       "<AxesSubplot:>"
      ]
     },
     "execution_count": 130,
     "metadata": {},
     "output_type": "execute_result"
    },
    {
     "data": {
      "image/png": "[encoded data removed]",
      "text/plain": [
       "<Figure size 432x288 with 1 Axes>"
      ]
     },
     "metadata": {
      "needs_background": "light"
     },
     "output_type": "display_data"
    }
   ],
   "source": [
    "year_filtrado[\"Month_Date\"].value_counts().plot()"
   ]
  },
  {
   "cell_type": "code",
   "execution_count": 157,
   "id": "b19df220-b1eb-4f1b-bba8-bb5014422fa0",
   "metadata": {},
   "outputs": [
    {
     "data": {
      "text/plain": [
       "<AxesSubplot:>"
      ]
     },
     "execution_count": 157,
     "metadata": {},
     "output_type": "execute_result"
    },
    {
     "data": {
      "image/png": "[encoded data removed]",
      "text/plain": [
       "<Figure size 432x288 with 1 Axes>"
      ]
     },
     "metadata": {
      "needs_background": "light"
     },
     "output_type": "display_data"
    }
   ],
   "source": [
    "df[\"Country\"].value_counts().nlargest(20).plot.bar()"
   ]
  },
  {
   "cell_type": "code",
   "execution_count": 153,
   "id": "6b5cd578-a972-4a46-aa6e-510b61468dcd",
   "metadata": {},
   "outputs": [
    {
     "name": "stdout",
     "output_type": "stream",
     "text": [
      "<class 'pandas.core.series.Series'>\n",
      "Int64Index: 6302 entries, 0 to 6301\n",
      "Series name: Country\n",
      "Non-Null Count  Dtype \n",
      "--------------  ----- \n",
      "6297 non-null   object\n",
      "dtypes: object(1)\n",
      "memory usage: 98.5+ KB\n"
     ]
    }
   ],
   "source": [
    "df[\"Country\"].info()"
   ]
  },
  {
   "cell_type": "code",
   "execution_count": 154,
   "id": "d4f45745-68b8-4e57-85a7-7d774859ad2f",
   "metadata": {},
   "outputs": [],
   "source": [
    "pd.set_option('display.max_rows', 10)"
   ]
  },
  {
   "cell_type": "code",
   "execution_count": 160,
   "id": "9e0f1119-be78-4813-b0a6-eef8af58db39",
   "metadata": {},
   "outputs": [
    {
     "data": {
      "text/plain": [
       "'\\n\\n\\nimport country_converter as coco\\n\\ndf[\"Country\"] = coco.convert(names=df[\"Country\"], to=\\'name_short\\')\\ndf[\"Country\"]=df[\"Country\"].str.lower()\\ndf[\"Country\"].value_counts()\\n\\n'"
      ]
     },
     "execution_count": 160,
     "metadata": {},
     "output_type": "execute_result"
    }
   ],
   "source": [
    "\"\"\"\n",
    "\n",
    "\n",
    "import country_converter as coco\n",
    "\n",
    "df[\"Country\"] = coco.convert(names=df[\"Country\"], to='name_short')\n",
    "df[\"Country\"]=df[\"Country\"].str.lower()\n",
    "df[\"Country\"].value_counts()\n",
    "\n",
    "\"\"\"\n"
   ]
  },
  {
   "cell_type": "code",
   "execution_count": 165,
   "id": "f5d5f50d-3d87-4062-835d-23810d8fcaa9",
   "metadata": {},
   "outputs": [
    {
     "data": {
      "text/plain": [
       "Index(['Case Number', 'Date', 'Year', 'Type', 'Country', 'Area', 'Location',\n",
       "       'Activity', 'Sex', 'Age', 'Fatal (Y/N)', 'Time', 'original order',\n",
       "       'Age_normalize', 'Date_normalize', 'Year_Date', 'Month_Date',\n",
       "       'Day_Date'],\n",
       "      dtype='object')"
      ]
     },
     "execution_count": 165,
     "metadata": {},
     "output_type": "execute_result"
    }
   ],
   "source": [
    "df.columns"
   ]
  },
  {
   "cell_type": "code",
   "execution_count": 159,
   "id": "960f15f1-7613-449c-8b53-85ae1c3a7060",
   "metadata": {},
   "outputs": [
    {
     "data": {
      "text/plain": [
       "<AxesSubplot:>"
      ]
     },
     "execution_count": 159,
     "metadata": {},
     "output_type": "execute_result"
    },
    {
     "data": {
      "image/png": "[encoded data removed]",
      "text/plain": [
       "<Figure size 432x288 with 1 Axes>"
      ]
     },
     "metadata": {
      "needs_background": "light"
     },
     "output_type": "display_data"
    }
   ],
   "source": [
    "df.Sex.value_counts().plot(kind='bar')"
   ]
  },
  {
   "cell_type": "code",
   "execution_count": 163,
   "id": "bb95a738-f4f7-4e0f-b1cd-1749a3c86676",
   "metadata": {},
   "outputs": [
    {
     "data": {
      "text/plain": [
       "<AxesSubplot:>"
      ]
     },
     "execution_count": 163,
     "metadata": {},
     "output_type": "execute_result"
    },
    {
     "data": {
      "image/png": "[encoded data removed]",
      "text/plain": [
       "<Figure size 432x288 with 1 Axes>"
      ]
     },
     "metadata": {
      "needs_background": "light"
     },
     "output_type": "display_data"
    }
   ],
   "source": [
    "df.Type.value_counts().plot(kind='bar')"
   ]
  },
  {
   "cell_type": "code",
   "execution_count": 167,
   "id": "d694a21f-0c0b-4c70-a9cf-d4e0462f2c4e",
   "metadata": {},
   "outputs": [
    {
     "ename": "NameError",
     "evalue": "name 'plt' is not defined",
     "output_type": "error",
     "traceback": [
      "\u001b[1;31m---------------------------------------------------------------------------\u001b[0m",
      "\u001b[1;31mNameError\u001b[0m                                 Traceback (most recent call last)",
      "Input \u001b[1;32mIn [167]\u001b[0m, in \u001b[0;36m<cell line: 4>\u001b[1;34m()\u001b[0m\n\u001b[0;32m      1\u001b[0m df\u001b[38;5;241m.\u001b[39mreset_index()\u001b[38;5;241m.\u001b[39mplot(\n\u001b[0;32m      2\u001b[0m     x\u001b[38;5;241m=\u001b[39m\u001b[38;5;124m\"\u001b[39m\u001b[38;5;124mindex\u001b[39m\u001b[38;5;124m\"\u001b[39m, y\u001b[38;5;241m=\u001b[39m[\u001b[38;5;124m\"\u001b[39m\u001b[38;5;124mMonth_Date\u001b[39m\u001b[38;5;124m\"\u001b[39m, \u001b[38;5;124m\"\u001b[39m\u001b[38;5;124mMonth_Date\u001b[39m\u001b[38;5;124m\"\u001b[39m], kind\u001b[38;5;241m=\u001b[39m\u001b[38;5;124m\"\u001b[39m\u001b[38;5;124mbar\u001b[39m\u001b[38;5;124m\"\u001b[39m\n\u001b[0;32m      3\u001b[0m )\n\u001b[1;32m----> 4\u001b[0m \u001b[43mplt\u001b[49m\u001b[38;5;241m.\u001b[39mtitle(\u001b[38;5;124m\"\u001b[39m\u001b[38;5;124mMince Pie Consumption 18/19\u001b[39m\u001b[38;5;124m\"\u001b[39m)\n\u001b[0;32m      5\u001b[0m plt\u001b[38;5;241m.\u001b[39mxlabel(\u001b[38;5;124m\"\u001b[39m\u001b[38;5;124mFamily Member\u001b[39m\u001b[38;5;124m\"\u001b[39m)\n\u001b[0;32m      6\u001b[0m plt\u001b[38;5;241m.\u001b[39mylabel(\u001b[38;5;124m\"\u001b[39m\u001b[38;5;124mPies Consumed\u001b[39m\u001b[38;5;124m\"\u001b[39m)\n",
      "\u001b[1;31mNameError\u001b[0m: name 'plt' is not defined"
     ]
    },
    {
     "data": {
      "image/png": "[encoded data removed]",
      "text/plain": [
       "<Figure size 432x288 with 1 Axes>"
      ]
     },
     "metadata": {
      "needs_background": "light"
     },
     "output_type": "display_data"
    }
   ],
   "source": [
    "df.reset_index().plot(\n",
    "    x=\"index\", y=[\"Month_Date\", \"Month_Date\"], kind=\"bar\"\n",
    ")\n",
    "plt.title(\"Mince Pie Consumption 18/19\")\n",
    "plt.xlabel(\"Family Member\")\n",
    "plt.ylabel(\"Pies Consumed\")"
   ]
  },
  {
   "cell_type": "code",
   "execution_count": 171,
   "id": "c2e7079a-0a53-4055-a68e-44070ca0c6ab",
   "metadata": {},
   "outputs": [
    {
     "data": {
      "text/plain": [
       "209"
      ]
     },
     "execution_count": 171,
     "metadata": {},
     "output_type": "execute_result"
    }
   ],
   "source": [
    "df[\"Year_Date\"].nunique()"
   ]
  },
  {
   "cell_type": "code",
   "execution_count": 172,
   "id": "39ccb2e8-7fc2-44ab-ae3b-7022ecd99a16",
   "metadata": {},
   "outputs": [
    {
     "data": {
      "text/plain": [
       "Index(['Case Number', 'Date', 'Year', 'Type', 'Country', 'Area', 'Location',\n",
       "       'Activity', 'Sex', 'Age', 'Fatal (Y/N)', 'Time', 'original order',\n",
       "       'Age_normalize', 'Date_normalize', 'Year_Date', 'Month_Date',\n",
       "       'Day_Date'],\n",
       "      dtype='object')"
      ]
     },
     "execution_count": 172,
     "metadata": {},
     "output_type": "execute_result"
    }
   ],
   "source": [
    "df.columns\n"
   ]
  },
  {
   "cell_type": "code",
   "execution_count": 186,
   "id": "cc599311-3189-44fc-aff3-01ecf2e60899",
   "metadata": {},
   "outputs": [],
   "source": [
    "sexo_muertes = df[['Sex','Fatal (Y/N)']]"
   ]
  },
  {
   "cell_type": "code",
   "execution_count": 187,
   "id": "9be64127-64ab-4dab-b180-41e3a2d9f036",
   "metadata": {},
   "outputs": [
    {
     "data": {
      "text/plain": [
       "Sex       Fatal (Y/N)\n",
       "m         n              3482\n",
       "          y              1173\n",
       "notknown  notknown       1072\n",
       "f         n               468\n",
       "          y               107\n",
       "dtype: int64"
      ]
     },
     "execution_count": 187,
     "metadata": {},
     "output_type": "execute_result"
    }
   ],
   "source": [
    "sexo_muertes.value_counts(['Sex','Fatal (Y/N)'])"
   ]
  },
  {
   "cell_type": "code",
   "execution_count": 188,
   "id": "b3714264-7e01-4bef-a898-8540bd286972",
   "metadata": {},
   "outputs": [
    {
     "data": {
      "text/plain": [
       "Int64Index([   0,    1,    2,    3,    4,    5,    6,    7,    8,    9,\n",
       "            ...\n",
       "            6292, 6293, 6294, 6295, 6296, 6297, 6298, 6299, 6300, 6301],\n",
       "           dtype='int64', length=6302)"
      ]
     },
     "execution_count": 188,
     "metadata": {},
     "output_type": "execute_result"
    }
   ],
   "source": [
    "sexo_muertes.index"
   ]
  },
  {
   "cell_type": "code",
   "execution_count": 184,
   "id": "2fb70bb1-0c7e-4f96-97d6-39d400b631f0",
   "metadata": {},
   "outputs": [
    {
     "data": {
      "text/plain": [
       "Index(['Case Number', 'Date', 'Year', 'Type', 'Country', 'Area', 'Location',\n",
       "       'Activity', 'Sex', 'Age', 'Fatal (Y/N)', 'Time', 'original order',\n",
       "       'Age_normalize', 'Date_normalize', 'Year_Date', 'Month_Date',\n",
       "       'Day_Date'],\n",
       "      dtype='object')"
      ]
     },
     "execution_count": 184,
     "metadata": {},
     "output_type": "execute_result"
    }
   ],
   "source": [
    "df.columns"
   ]
  },
  {
   "cell_type": "code",
   "execution_count": 205,
   "id": "fbc546a7-1b1a-4131-abd0-2444f61cd372",
   "metadata": {},
   "outputs": [
    {
     "data": {
      "text/plain": [
       "Text(0, 0.5, 'Cantidad')"
      ]
     },
     "execution_count": 205,
     "metadata": {},
     "output_type": "execute_result"
    },
    {
     "data": {
      "image/png": "[encoded data removed]",
      "text/plain": [
       "<Figure size 432x288 with 1 Axes>"
      ]
     },
     "metadata": {
      "needs_background": "light"
     },
     "output_type": "display_data"
    }
   ],
   "source": [
    "from matplotlib import pyplot as plt\n",
    "plotdata = sexo_muertes.value_counts(['Sex','Fatal (Y/N)'])\n",
    "\n",
    "plotdata.plot(kind=\"bar\")\n",
    "plt.title(\"supervicencia por género\")\n",
    "plt.xlabel(\"Sexo\")\n",
    "plt.ylabel(\"Cantidad\")"
   ]
  },
  {
   "cell_type": "code",
   "execution_count": null,
   "id": "8ea81ec0-2a77-4737-93cb-11c4a23db2f7",
   "metadata": {},
   "outputs": [],
   "source": []
  },
  {
   "cell_type": "code",
   "execution_count": null,
   "id": "e9c60f27-718f-4147-9743-f25eb1c84ace",
   "metadata": {},
   "outputs": [],
   "source": []
  },
  {
   "cell_type": "code",
   "execution_count": 194,
   "id": "fc4401df-0553-494e-b677-ab119b13521f",
   "metadata": {},
   "outputs": [
    {
     "ename": "KeyError",
     "evalue": "'[False] not in index'",
     "output_type": "error",
     "traceback": [
      "\u001b[1;31m---------------------------------------------------------------------------\u001b[0m",
      "\u001b[1;31mKeyError\u001b[0m                                  Traceback (most recent call last)",
      "Input \u001b[1;32mIn [194]\u001b[0m, in \u001b[0;36m<cell line: 1>\u001b[1;34m()\u001b[0m\n\u001b[1;32m----> 1\u001b[0m Mujeres_muertes \u001b[38;5;241m=\u001b[39m \u001b[43mdf\u001b[49m\u001b[43m[\u001b[49m\u001b[43m[\u001b[49m\u001b[38;5;124;43m'\u001b[39;49m\u001b[38;5;124;43mSex\u001b[39;49m\u001b[38;5;124;43m'\u001b[39;49m\u001b[43m,\u001b[49m\u001b[43m(\u001b[49m\u001b[38;5;124;43m'\u001b[39;49m\u001b[38;5;124;43mFatal (Y/N)\u001b[39;49m\u001b[38;5;124;43m'\u001b[39;49m\u001b[43m \u001b[49m\u001b[38;5;241;43m==\u001b[39;49m\u001b[43m \u001b[49m\u001b[38;5;124;43m\"\u001b[39;49m\u001b[38;5;124;43mn\u001b[39;49m\u001b[38;5;124;43m\"\u001b[39;49m\u001b[43m)\u001b[49m\u001b[43m]\u001b[49m\u001b[43m]\u001b[49m\n",
      "File \u001b[1;32m~\\anaconda3\\envs\\Ironhack\\lib\\site-packages\\pandas\\core\\frame.py:3511\u001b[0m, in \u001b[0;36mDataFrame.__getitem__\u001b[1;34m(self, key)\u001b[0m\n\u001b[0;32m   3509\u001b[0m     \u001b[38;5;28;01mif\u001b[39;00m is_iterator(key):\n\u001b[0;32m   3510\u001b[0m         key \u001b[38;5;241m=\u001b[39m \u001b[38;5;28mlist\u001b[39m(key)\n\u001b[1;32m-> 3511\u001b[0m     indexer \u001b[38;5;241m=\u001b[39m \u001b[38;5;28;43mself\u001b[39;49m\u001b[38;5;241;43m.\u001b[39;49m\u001b[43mcolumns\u001b[49m\u001b[38;5;241;43m.\u001b[39;49m\u001b[43m_get_indexer_strict\u001b[49m\u001b[43m(\u001b[49m\u001b[43mkey\u001b[49m\u001b[43m,\u001b[49m\u001b[43m \u001b[49m\u001b[38;5;124;43m\"\u001b[39;49m\u001b[38;5;124;43mcolumns\u001b[39;49m\u001b[38;5;124;43m\"\u001b[39;49m\u001b[43m)\u001b[49m[\u001b[38;5;241m1\u001b[39m]\n\u001b[0;32m   3513\u001b[0m \u001b[38;5;66;03m# take() does not accept boolean indexers\u001b[39;00m\n\u001b[0;32m   3514\u001b[0m \u001b[38;5;28;01mif\u001b[39;00m \u001b[38;5;28mgetattr\u001b[39m(indexer, \u001b[38;5;124m\"\u001b[39m\u001b[38;5;124mdtype\u001b[39m\u001b[38;5;124m\"\u001b[39m, \u001b[38;5;28;01mNone\u001b[39;00m) \u001b[38;5;241m==\u001b[39m \u001b[38;5;28mbool\u001b[39m:\n",
      "File \u001b[1;32m~\\anaconda3\\envs\\Ironhack\\lib\\site-packages\\pandas\\core\\indexes\\base.py:5782\u001b[0m, in \u001b[0;36mIndex._get_indexer_strict\u001b[1;34m(self, key, axis_name)\u001b[0m\n\u001b[0;32m   5779\u001b[0m \u001b[38;5;28;01melse\u001b[39;00m:\n\u001b[0;32m   5780\u001b[0m     keyarr, indexer, new_indexer \u001b[38;5;241m=\u001b[39m \u001b[38;5;28mself\u001b[39m\u001b[38;5;241m.\u001b[39m_reindex_non_unique(keyarr)\n\u001b[1;32m-> 5782\u001b[0m \u001b[38;5;28;43mself\u001b[39;49m\u001b[38;5;241;43m.\u001b[39;49m\u001b[43m_raise_if_missing\u001b[49m\u001b[43m(\u001b[49m\u001b[43mkeyarr\u001b[49m\u001b[43m,\u001b[49m\u001b[43m \u001b[49m\u001b[43mindexer\u001b[49m\u001b[43m,\u001b[49m\u001b[43m \u001b[49m\u001b[43maxis_name\u001b[49m\u001b[43m)\u001b[49m\n\u001b[0;32m   5784\u001b[0m keyarr \u001b[38;5;241m=\u001b[39m \u001b[38;5;28mself\u001b[39m\u001b[38;5;241m.\u001b[39mtake(indexer)\n\u001b[0;32m   5785\u001b[0m \u001b[38;5;28;01mif\u001b[39;00m \u001b[38;5;28misinstance\u001b[39m(key, Index):\n\u001b[0;32m   5786\u001b[0m     \u001b[38;5;66;03m# GH 42790 - Preserve name from an Index\u001b[39;00m\n",
      "File \u001b[1;32m~\\anaconda3\\envs\\Ironhack\\lib\\site-packages\\pandas\\core\\indexes\\base.py:5845\u001b[0m, in \u001b[0;36mIndex._raise_if_missing\u001b[1;34m(self, key, indexer, axis_name)\u001b[0m\n\u001b[0;32m   5842\u001b[0m     \u001b[38;5;28;01mraise\u001b[39;00m \u001b[38;5;167;01mKeyError\u001b[39;00m(\u001b[38;5;124mf\u001b[39m\u001b[38;5;124m\"\u001b[39m\u001b[38;5;124mNone of [\u001b[39m\u001b[38;5;132;01m{\u001b[39;00mkey\u001b[38;5;132;01m}\u001b[39;00m\u001b[38;5;124m] are in the [\u001b[39m\u001b[38;5;132;01m{\u001b[39;00maxis_name\u001b[38;5;132;01m}\u001b[39;00m\u001b[38;5;124m]\u001b[39m\u001b[38;5;124m\"\u001b[39m)\n\u001b[0;32m   5844\u001b[0m not_found \u001b[38;5;241m=\u001b[39m \u001b[38;5;28mlist\u001b[39m(ensure_index(key)[missing_mask\u001b[38;5;241m.\u001b[39mnonzero()[\u001b[38;5;241m0\u001b[39m]]\u001b[38;5;241m.\u001b[39munique())\n\u001b[1;32m-> 5845\u001b[0m \u001b[38;5;28;01mraise\u001b[39;00m \u001b[38;5;167;01mKeyError\u001b[39;00m(\u001b[38;5;124mf\u001b[39m\u001b[38;5;124m\"\u001b[39m\u001b[38;5;132;01m{\u001b[39;00mnot_found\u001b[38;5;132;01m}\u001b[39;00m\u001b[38;5;124m not in index\u001b[39m\u001b[38;5;124m\"\u001b[39m)\n",
      "\u001b[1;31mKeyError\u001b[0m: '[False] not in index'"
     ]
    }
   ],
   "source": []
  },
  {
   "cell_type": "code",
   "execution_count": 207,
   "id": "dd1c1e00-2c45-41af-8b30-bcb3d35f355c",
   "metadata": {},
   "outputs": [],
   "source": [
    "Mujeres = df[df['Sex'] == \"f\"]"
   ]
  },
  {
   "cell_type": "code",
   "execution_count": 210,
   "id": "889c2c5f-af25-4378-ae41-ededdf39ccd5",
   "metadata": {},
   "outputs": [
    {
     "data": {
      "text/plain": [
       "Sex\n",
       "m           4655\n",
       "notknown    1072\n",
       "f            575\n",
       "dtype: int64"
      ]
     },
     "execution_count": 210,
     "metadata": {},
     "output_type": "execute_result"
    }
   ],
   "source": [
    "df.value_counts(\"Sex\")"
   ]
  },
  {
   "cell_type": "code",
   "execution_count": 211,
   "id": "63508fc8-e393-4d89-aef5-788cc1d2f50b",
   "metadata": {},
   "outputs": [
    {
     "data": {
      "text/plain": [
       "Fatal (Y/N)\n",
       "n    468\n",
       "y    107\n",
       "dtype: int64"
      ]
     },
     "execution_count": 211,
     "metadata": {},
     "output_type": "execute_result"
    }
   ],
   "source": [
    "Mujeres.value_counts('Fatal (Y/N)')"
   ]
  },
  {
   "cell_type": "code",
   "execution_count": 212,
   "id": "4246ec01-e3a7-442e-af6d-2a29a9c130bb",
   "metadata": {},
   "outputs": [],
   "source": [
    "Hombres = df[df['Sex'] == \"m\"]"
   ]
  },
  {
   "cell_type": "code",
   "execution_count": 213,
   "id": "679014b6-9d0f-4755-bd83-112aa751e156",
   "metadata": {},
   "outputs": [
    {
     "data": {
      "text/plain": [
       "Sex\n",
       "m           4655\n",
       "notknown    1072\n",
       "f            575\n",
       "dtype: int64"
      ]
     },
     "execution_count": 213,
     "metadata": {},
     "output_type": "execute_result"
    }
   ],
   "source": [
    "df.value_counts(\"Sex\")"
   ]
  },
  {
   "cell_type": "code",
   "execution_count": 214,
   "id": "d44f1582-b6f9-47ed-98b5-1f48b6c1e783",
   "metadata": {},
   "outputs": [
    {
     "data": {
      "text/plain": [
       "Fatal (Y/N)\n",
       "n    3482\n",
       "y    1173\n",
       "dtype: int64"
      ]
     },
     "execution_count": 214,
     "metadata": {},
     "output_type": "execute_result"
    }
   ],
   "source": [
    "Hombres.value_counts('Fatal (Y/N)')"
   ]
  },
  {
   "cell_type": "code",
   "execution_count": 209,
   "id": "511437cc-a4e6-4b67-a619-7679f2a9a121",
   "metadata": {},
   "outputs": [
    {
     "data": {
      "text/plain": [
       "Text(0, 0.5, 'Cantidad')"
      ]
     },
     "execution_count": 209,
     "metadata": {},
     "output_type": "execute_result"
    },
    {
     "data": {
      "image/png": "[encoded data removed]",
      "text/plain": [
       "<Figure size 432x288 with 1 Axes>"
      ]
     },
     "metadata": {
      "needs_background": "light"
     },
     "output_type": "display_data"
    }
   ],
   "source": [
    "from matplotlib import pyplot as plt\n",
    "plotdata = Mujeres.value_counts(['Sex','Fatal (Y/N)'])\n",
    "\n",
    "\n",
    "\n",
    "plotdata.plot(kind=\"bar\")\n",
    "plt.title(\"supervicencia por género\")\n",
    "plt.xlabel(\"Sexo\")\n",
    "plt.ylabel(\"Cantidad\")"
   ]
  },
  {
   "cell_type": "code",
   "execution_count": null,
   "id": "0dcc5945-979e-4f71-9a4c-d6840a068603",
   "metadata": {},
   "outputs": [],
   "source": []
  },
  {
   "cell_type": "code",
   "execution_count": 41,
   "id": "d868de3b-4d8d-457e-9d24-6b41bc3aa893",
   "metadata": {},
   "outputs": [
    {
     "data": {
      "text/plain": [
       "0"
      ]
     },
     "execution_count": 41,
     "metadata": {},
     "output_type": "execute_result"
    }
   ],
   "source": []
  },
  {
   "cell_type": "code",
   "execution_count": null,
   "id": "f933cc52-201b-4017-8907-e336a634aade",
   "metadata": {},
   "outputs": [],
   "source": []
  },
  {
   "cell_type": "code",
   "execution_count": null,
   "id": "17d894bc-7566-4a2a-9375-ef70d98061d7",
   "metadata": {},
   "outputs": [],
   "source": [
    "from matplotlib import pyplot as plt\n",
    "plotdata = sexo_muertes.value_counts(['Sex','Fatal (Y/N)'])\n",
    "\n",
    "plotdata.plot(kind=\"bar\")\n",
    "plt.title(\"supervicencia por género\")\n",
    "plt.xlabel(\"Sexo\")\n",
    "plt.ylabel(\"Cantidad\")"
   ]
  },
  {
   "cell_type": "code",
   "execution_count": 221,
   "id": "79f56e99-c391-44de-9ef5-bf36bfd53985",
   "metadata": {},
   "outputs": [
    {
     "data": {
      "image/png": "[encoded data removed]",
      "text/plain": [
       "<Figure size 432x288 with 1 Axes>"
      ]
     },
     "metadata": {
      "needs_background": "light"
     },
     "output_type": "display_data"
    }
   ],
   "source": [
    "\"\"\"\n",
    "df = pd.DataFrame([[5.1, 3.5, 0], [4.9, 3.0, 0], [7.0, 3.2, 1],\n",
    "\n",
    "                   [6.4, 3.2, 1], [5.9, 3.0, 2]],\n",
    "\n",
    "                  columns=['length', 'width', 'species'])\n",
    "\"\"\"\n",
    "ax1 = df.plot.scatter(x='Year_Date',\n",
    "\n",
    "                      y='Sex',\n",
    "\n",
    "                     c='DarkBlue')"
   ]
  },
  {
   "cell_type": "code",
   "execution_count": 225,
   "id": "59375c4d-5ee9-4030-92c1-224cd3d39c7e",
   "metadata": {},
   "outputs": [
    {
     "ename": "SyntaxError",
     "evalue": "invalid syntax (2600923550.py, line 13)",
     "output_type": "error",
     "traceback": [
      "\u001b[1;36m  Input \u001b[1;32mIn [225]\u001b[1;36m\u001b[0m\n\u001b[1;33m    s=400)\u001b[0m\n\u001b[1;37m    ^\u001b[0m\n\u001b[1;31mSyntaxError\u001b[0m\u001b[1;31m:\u001b[0m invalid syntax\n"
     ]
    }
   ],
   "source": [
    "\"\"\"\n",
    "df = pd.DataFrame([[5.1, 3.5, 0], [4.9, 3.0, 0], [7.0, 3.2, 1],\n",
    "\n",
    "                   [6.4, 3.2, 1], [5.9, 3.0, 2]],\n",
    "\n",
    "                  columns=['length', 'width', 'species'])\n",
    "\"\"\"\n",
    "bx1 = df.plot.scatter(x='Year_Date',\n",
    "\n",
    "                      y='Age_normalize',\n",
    "\n",
    "                     c='DarkBlue'\n",
    "                     s=400)"
   ]
  },
  {
   "cell_type": "code",
   "execution_count": null,
   "id": "6f97fa18-31c7-44f6-ac41-154104171171",
   "metadata": {},
   "outputs": [],
   "source": []
  }
 ],
 "metadata": {
  "kernelspec": {
   "display_name": "Python 3 (ipykernel)",
   "language": "python",
   "name": "python3"
  },
  "language_info": {
   "codemirror_mode": {
    "name": "ipython",
    "version": 3
   },
   "file_extension": ".py",
   "mimetype": "text/x-python",
   "name": "python",
   "nbconvert_exporter": "python",
   "pygments_lexer": "ipython3",
   "version": "3.10.4"
  }
 },
 "nbformat": 4,
 "nbformat_minor": 5
}
