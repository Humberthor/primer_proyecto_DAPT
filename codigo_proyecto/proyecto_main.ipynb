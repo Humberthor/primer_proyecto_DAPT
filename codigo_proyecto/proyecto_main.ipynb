{
 "cells": [
  {
   "cell_type": "code",
   "execution_count": 1,
   "id": "6987daed-5368-49f0-b104-c415a2179473",
   "metadata": {},
   "outputs": [],
   "source": [
    "import pandas as pd\n",
    "import numpy as np\n",
    "import matplotlib "
   ]
  },
  {
   "cell_type": "code",
   "execution_count": 2,
   "id": "aa04d3cd-df63-44a0-a02b-e105c288a0d8",
   "metadata": {},
   "outputs": [],
   "source": [
    "#df = pd.read_csv(r\"C:\\Users\\simbi\\Ironhack\\Proyecto\\datos_proyecto\\attacks.csv\", encoding =\"unicode_escape\")\n",
    "\n",
    "df = pd.read_csv(r\"C:\\Users\\nuc_humbertore\\Ironhack\\primer_proyecto_DAPT\\datos_proyecto\\attacks.csv\", encoding =\"unicode_escape\")\n"
   ]
  },
  {
   "cell_type": "markdown",
   "id": "78f25a55-97ec-42ec-9dcf-521ff361e9dd",
   "metadata": {},
   "source": [
    "# 1 Revisión inicial del DF"
   ]
  },
  {
   "cell_type": "code",
   "execution_count": 3,
   "id": "5e7f61fa-553b-4c1b-a512-459275aa3aae",
   "metadata": {},
   "outputs": [
    {
     "name": "stdout",
     "output_type": "stream",
     "text": [
      "df.shape = (25723, 24)\n",
      "\n",
      "\n",
      "              Year  original order\n",
      "count  6300.000000     6309.000000\n",
      "mean   1927.272381     3155.999683\n",
      "std     281.116308     1821.396206\n",
      "min       0.000000        2.000000\n",
      "25%    1942.000000     1579.000000\n",
      "50%    1977.000000     3156.000000\n",
      "75%    2005.000000     4733.000000\n",
      "max    2018.000000     6310.000000\n",
      "\n",
      "\n",
      "<class 'pandas.core.frame.DataFrame'>\n",
      "RangeIndex: 25723 entries, 0 to 25722\n",
      "Data columns (total 24 columns):\n",
      " #   Column                  Non-Null Count  Dtype  \n",
      "---  ------                  --------------  -----  \n",
      " 0   Case Number             8702 non-null   object \n",
      " 1   Date                    6302 non-null   object \n",
      " 2   Year                    6300 non-null   float64\n",
      " 3   Type                    6298 non-null   object \n",
      " 4   Country                 6252 non-null   object \n",
      " 5   Area                    5847 non-null   object \n",
      " 6   Location                5762 non-null   object \n",
      " 7   Activity                5758 non-null   object \n",
      " 8   Name                    6092 non-null   object \n",
      " 9   Sex                     5737 non-null   object \n",
      " 10  Age                     3471 non-null   object \n",
      " 11  Injury                  6274 non-null   object \n",
      " 12  Fatal (Y/N)             5763 non-null   object \n",
      " 13  Time                    2948 non-null   object \n",
      " 14  Species                 3464 non-null   object \n",
      " 15  Investigator or Source  6285 non-null   object \n",
      " 16  pdf                     6302 non-null   object \n",
      " 17  href formula            6301 non-null   object \n",
      " 18  href                    6302 non-null   object \n",
      " 19  Case Number.1           6302 non-null   object \n",
      " 20  Case Number.2           6302 non-null   object \n",
      " 21  original order          6309 non-null   float64\n",
      " 22  Unnamed: 22             1 non-null      object \n",
      " 23  Unnamed: 23             2 non-null      object \n",
      "dtypes: float64(2), object(22)\n",
      "memory usage: 4.7+ MB\n",
      "None\n"
     ]
    }
   ],
   "source": [
    "print(f\"{df.shape = }\")\n",
    "print(\"\\n\")\n",
    "print(f\"{df.describe()}\")\n",
    "print(\"\\n\")\n",
    "print(f\"{df.info()}\")"
   ]
  },
  {
   "cell_type": "code",
   "execution_count": null,
   "id": "e2cd67ba-4b79-4a15-997a-01c0881f55e9",
   "metadata": {},
   "outputs": [],
   "source": []
  },
  {
   "cell_type": "code",
   "execution_count": 4,
   "id": "0028d33d-c14a-4a7e-878a-0873c207a90d",
   "metadata": {},
   "outputs": [
    {
     "data": {
      "text/plain": [
       "Case Number               17021\n",
       "Date                      19421\n",
       "Year                      19423\n",
       "Type                      19425\n",
       "Country                   19471\n",
       "Area                      19876\n",
       "Location                  19961\n",
       "Activity                  19965\n",
       "Name                      19631\n",
       "Sex                       19986\n",
       "Age                       22252\n",
       "Injury                    19449\n",
       "Fatal (Y/N)               19960\n",
       "Time                      22775\n",
       "Species                   22259\n",
       "Investigator or Source    19438\n",
       "pdf                       19421\n",
       "href formula              19422\n",
       "href                      19421\n",
       "Case Number.1             19421\n",
       "Case Number.2             19421\n",
       "original order            19414\n",
       "Unnamed: 22               25722\n",
       "Unnamed: 23               25721\n",
       "dtype: int64"
      ]
     },
     "execution_count": 4,
     "metadata": {},
     "output_type": "execute_result"
    }
   ],
   "source": [
    "df.isnull().sum()"
   ]
  },
  {
   "cell_type": "markdown",
   "id": "dcb5f8cc-0812-4e42-9019-f98dc101208c",
   "metadata": {
    "tags": []
   },
   "source": [
    "# Limpieza de los datos\n",
    "## 2.2 filas"
   ]
  },
  {
   "cell_type": "code",
   "execution_count": 5,
   "id": "e5aed8d0-eaa1-47e3-92bc-499f6974d4b1",
   "metadata": {},
   "outputs": [],
   "source": [
    "#Tomamos la columna \"Case Number\" como base \n",
    "#y eliminamos del DF todas las filas que tengan NaN en esta columna\n",
    "\n",
    "df.dropna(subset=[\"Case Number\"], inplace=True)"
   ]
  },
  {
   "cell_type": "code",
   "execution_count": 6,
   "id": "33967579-4495-4654-abf1-79a9857d39ff",
   "metadata": {},
   "outputs": [],
   "source": [
    "#Borramos las filas con valor 0 de Case Number\n",
    "\n",
    "indexNames = df[ df[\"Case Number\"] == '0' ].index\n",
    "# Eliminar estos índices de fila del dataFrame\n",
    "df.drop(indexNames , inplace=True)"
   ]
  },
  {
   "cell_type": "code",
   "execution_count": 7,
   "id": "8122f1cc-2e08-457d-abb3-f2934b2ca31c",
   "metadata": {},
   "outputs": [
    {
     "name": "stdout",
     "output_type": "stream",
     "text": [
      "df.shape = (6302, 24)\n",
      "\n",
      "\n",
      "<class 'pandas.core.frame.DataFrame'>\n",
      "Int64Index: 6302 entries, 0 to 25722\n",
      "Data columns (total 24 columns):\n",
      " #   Column                  Non-Null Count  Dtype  \n",
      "---  ------                  --------------  -----  \n",
      " 0   Case Number             6302 non-null   object \n",
      " 1   Date                    6301 non-null   object \n",
      " 2   Year                    6299 non-null   float64\n",
      " 3   Type                    6297 non-null   object \n",
      " 4   Country                 6251 non-null   object \n",
      " 5   Area                    5846 non-null   object \n",
      " 6   Location                5761 non-null   object \n",
      " 7   Activity                5757 non-null   object \n",
      " 8   Name                    6091 non-null   object \n",
      " 9   Sex                     5736 non-null   object \n",
      " 10  Age                     3471 non-null   object \n",
      " 11  Injury                  6273 non-null   object \n",
      " 12  Fatal (Y/N)             5762 non-null   object \n",
      " 13  Time                    2948 non-null   object \n",
      " 14  Species                 3464 non-null   object \n",
      " 15  Investigator or Source  6284 non-null   object \n",
      " 16  pdf                     6301 non-null   object \n",
      " 17  href formula            6300 non-null   object \n",
      " 18  href                    6301 non-null   object \n",
      " 19  Case Number.1           6301 non-null   object \n",
      " 20  Case Number.2           6301 non-null   object \n",
      " 21  original order          6301 non-null   float64\n",
      " 22  Unnamed: 22             1 non-null      object \n",
      " 23  Unnamed: 23             2 non-null      object \n",
      "dtypes: float64(2), object(22)\n",
      "memory usage: 1.2+ MB\n",
      "None\n"
     ]
    }
   ],
   "source": [
    "print(f\"{df.shape = }\")\n",
    "print(\"\\n\")\n",
    "print(f\"{df.info()}\")"
   ]
  },
  {
   "cell_type": "code",
   "execution_count": 8,
   "id": "bf8de8fa-160e-4ba1-949d-b14ce0e64ef7",
   "metadata": {},
   "outputs": [
    {
     "data": {
      "text/plain": [
       "25722    23\n",
       "5036     10\n",
       "6165     10\n",
       "6122     10\n",
       "4976     10\n",
       "6130     10\n",
       "6080     10\n",
       "6108     10\n",
       "3378      9\n",
       "5029      9\n",
       "dtype: int64"
      ]
     },
     "execution_count": 8,
     "metadata": {},
     "output_type": "execute_result"
    }
   ],
   "source": [
    "# para comprobar cuantos nulos hay por fila y listar los 10 que tienen más\n",
    "\n",
    "nulos = df.isnull().sum(axis=1)\n",
    "nulos.sort_values(ascending = False).head(10)"
   ]
  },
  {
   "cell_type": "code",
   "execution_count": 9,
   "id": "07a98dcd-c292-4e0f-bd2c-0ad81ab5a5c1",
   "metadata": {},
   "outputs": [],
   "source": [
    "#borramos los filas con menos de 10 valores que no son Null\n",
    "\n",
    "df.dropna(thresh=10, inplace=True)"
   ]
  },
  {
   "cell_type": "code",
   "execution_count": 10,
   "id": "c4f04c6e-0865-4c69-9b52-0ea2e5a8c82d",
   "metadata": {},
   "outputs": [
    {
     "data": {
      "text/html": [
       "<div>\n",
       "<style scoped>\n",
       "    .dataframe tbody tr th:only-of-type {\n",
       "        vertical-align: middle;\n",
       "    }\n",
       "\n",
       "    .dataframe tbody tr th {\n",
       "        vertical-align: top;\n",
       "    }\n",
       "\n",
       "    .dataframe thead th {\n",
       "        text-align: right;\n",
       "    }\n",
       "</style>\n",
       "<table border=\"1\" class=\"dataframe\">\n",
       "  <thead>\n",
       "    <tr style=\"text-align: right;\">\n",
       "      <th></th>\n",
       "      <th>Case Number</th>\n",
       "      <th>Date</th>\n",
       "      <th>Year</th>\n",
       "      <th>Type</th>\n",
       "      <th>Country</th>\n",
       "      <th>Area</th>\n",
       "      <th>Location</th>\n",
       "      <th>Activity</th>\n",
       "      <th>Name</th>\n",
       "      <th>Sex</th>\n",
       "      <th>...</th>\n",
       "      <th>Species</th>\n",
       "      <th>Investigator or Source</th>\n",
       "      <th>pdf</th>\n",
       "      <th>href formula</th>\n",
       "      <th>href</th>\n",
       "      <th>Case Number.1</th>\n",
       "      <th>Case Number.2</th>\n",
       "      <th>original order</th>\n",
       "      <th>Unnamed: 22</th>\n",
       "      <th>Unnamed: 23</th>\n",
       "    </tr>\n",
       "  </thead>\n",
       "  <tbody>\n",
       "    <tr>\n",
       "      <th>6300</th>\n",
       "      <td>ND.0002</td>\n",
       "      <td>1883-1889</td>\n",
       "      <td>0.0</td>\n",
       "      <td>Unprovoked</td>\n",
       "      <td>PANAMA</td>\n",
       "      <td>NaN</td>\n",
       "      <td>Panama Bay 8ºN, 79ºW</td>\n",
       "      <td>NaN</td>\n",
       "      <td>Jules Patterson</td>\n",
       "      <td>M</td>\n",
       "      <td>...</td>\n",
       "      <td>NaN</td>\n",
       "      <td>The Sun, 10/20/1938</td>\n",
       "      <td>ND-0002-JulesPatterson.pdf</td>\n",
       "      <td>http://sharkattackfile.net/spreadsheets/pdf_di...</td>\n",
       "      <td>http://sharkattackfile.net/spreadsheets/pdf_di...</td>\n",
       "      <td>ND.0002</td>\n",
       "      <td>ND.0002</td>\n",
       "      <td>3.0</td>\n",
       "      <td>NaN</td>\n",
       "      <td>NaN</td>\n",
       "    </tr>\n",
       "    <tr>\n",
       "      <th>6301</th>\n",
       "      <td>ND.0001</td>\n",
       "      <td>1845-1853</td>\n",
       "      <td>0.0</td>\n",
       "      <td>Unprovoked</td>\n",
       "      <td>CEYLON (SRI LANKA)</td>\n",
       "      <td>Eastern Province</td>\n",
       "      <td>Below the English fort, Trincomalee</td>\n",
       "      <td>Swimming</td>\n",
       "      <td>male</td>\n",
       "      <td>M</td>\n",
       "      <td>...</td>\n",
       "      <td>NaN</td>\n",
       "      <td>S.W. Baker</td>\n",
       "      <td>ND-0001-Ceylon.pdf</td>\n",
       "      <td>http://sharkattackfile.net/spreadsheets/pdf_di...</td>\n",
       "      <td>http://sharkattackfile.net/spreadsheets/pdf_di...</td>\n",
       "      <td>ND.0001</td>\n",
       "      <td>ND.0001</td>\n",
       "      <td>2.0</td>\n",
       "      <td>NaN</td>\n",
       "      <td>NaN</td>\n",
       "    </tr>\n",
       "  </tbody>\n",
       "</table>\n",
       "<p>2 rows × 24 columns</p>\n",
       "</div>"
      ],
      "text/plain": [
       "     Case Number       Date  Year        Type             Country  \\\n",
       "6300     ND.0002  1883-1889   0.0  Unprovoked              PANAMA   \n",
       "6301     ND.0001  1845-1853   0.0  Unprovoked  CEYLON (SRI LANKA)   \n",
       "\n",
       "                  Area                             Location  Activity  \\\n",
       "6300               NaN                 Panama Bay 8ºN, 79ºW       NaN   \n",
       "6301  Eastern Province  Below the English fort, Trincomalee  Swimming   \n",
       "\n",
       "                 Name Sex   ... Species  Investigator or Source  \\\n",
       "6300  Jules Patterson    M  ...      NaN    The Sun, 10/20/1938   \n",
       "6301             male    M  ...      NaN             S.W. Baker   \n",
       "\n",
       "                             pdf  \\\n",
       "6300  ND-0002-JulesPatterson.pdf   \n",
       "6301          ND-0001-Ceylon.pdf   \n",
       "\n",
       "                                           href formula  \\\n",
       "6300  http://sharkattackfile.net/spreadsheets/pdf_di...   \n",
       "6301  http://sharkattackfile.net/spreadsheets/pdf_di...   \n",
       "\n",
       "                                                   href Case Number.1  \\\n",
       "6300  http://sharkattackfile.net/spreadsheets/pdf_di...       ND.0002   \n",
       "6301  http://sharkattackfile.net/spreadsheets/pdf_di...       ND.0001   \n",
       "\n",
       "     Case Number.2 original order Unnamed: 22 Unnamed: 23  \n",
       "6300       ND.0002            3.0         NaN         NaN  \n",
       "6301       ND.0001            2.0         NaN         NaN  \n",
       "\n",
       "[2 rows x 24 columns]"
      ]
     },
     "execution_count": 10,
     "metadata": {},
     "output_type": "execute_result"
    }
   ],
   "source": [
    "df.tail(2)"
   ]
  },
  {
   "cell_type": "code",
   "execution_count": 11,
   "id": "3237db20-fac2-4f85-9943-b9aa37af906d",
   "metadata": {},
   "outputs": [
    {
     "name": "stdout",
     "output_type": "stream",
     "text": [
      "df.shape = (6301, 24)\n",
      "<class 'pandas.core.frame.DataFrame'>\n",
      "Int64Index: 6301 entries, 0 to 6301\n",
      "Data columns (total 24 columns):\n",
      " #   Column                  Non-Null Count  Dtype  \n",
      "---  ------                  --------------  -----  \n",
      " 0   Case Number             6301 non-null   object \n",
      " 1   Date                    6301 non-null   object \n",
      " 2   Year                    6299 non-null   float64\n",
      " 3   Type                    6297 non-null   object \n",
      " 4   Country                 6251 non-null   object \n",
      " 5   Area                    5846 non-null   object \n",
      " 6   Location                5761 non-null   object \n",
      " 7   Activity                5757 non-null   object \n",
      " 8   Name                    6091 non-null   object \n",
      " 9   Sex                     5736 non-null   object \n",
      " 10  Age                     3471 non-null   object \n",
      " 11  Injury                  6273 non-null   object \n",
      " 12  Fatal (Y/N)             5762 non-null   object \n",
      " 13  Time                    2948 non-null   object \n",
      " 14  Species                 3464 non-null   object \n",
      " 15  Investigator or Source  6284 non-null   object \n",
      " 16  pdf                     6301 non-null   object \n",
      " 17  href formula            6300 non-null   object \n",
      " 18  href                    6301 non-null   object \n",
      " 19  Case Number.1           6301 non-null   object \n",
      " 20  Case Number.2           6301 non-null   object \n",
      " 21  original order          6301 non-null   float64\n",
      " 22  Unnamed: 22             1 non-null      object \n",
      " 23  Unnamed: 23             2 non-null      object \n",
      "dtypes: float64(2), object(22)\n",
      "memory usage: 1.2+ MB\n",
      "None\n"
     ]
    }
   ],
   "source": [
    "print(f\"{df.shape = }\")\n",
    "print(df.info())"
   ]
  },
  {
   "cell_type": "markdown",
   "id": "c17b62fb-066d-4c91-9fd0-a384b59ceb1b",
   "metadata": {},
   "source": [
    "# Limpieza de los datos\n",
    "## 2.2 Columnas"
   ]
  },
  {
   "cell_type": "code",
   "execution_count": 12,
   "id": "666f4061-d042-40f0-b331-164446ffb12f",
   "metadata": {},
   "outputs": [
    {
     "data": {
      "text/html": [
       "<div>\n",
       "<style scoped>\n",
       "    .dataframe tbody tr th:only-of-type {\n",
       "        vertical-align: middle;\n",
       "    }\n",
       "\n",
       "    .dataframe tbody tr th {\n",
       "        vertical-align: top;\n",
       "    }\n",
       "\n",
       "    .dataframe thead th {\n",
       "        text-align: right;\n",
       "    }\n",
       "</style>\n",
       "<table border=\"1\" class=\"dataframe\">\n",
       "  <thead>\n",
       "    <tr style=\"text-align: right;\">\n",
       "      <th></th>\n",
       "      <th>Case Number</th>\n",
       "      <th>Date</th>\n",
       "      <th>Year</th>\n",
       "      <th>Type</th>\n",
       "      <th>Country</th>\n",
       "      <th>Area</th>\n",
       "      <th>Location</th>\n",
       "      <th>Activity</th>\n",
       "      <th>Name</th>\n",
       "      <th>Sex</th>\n",
       "      <th>...</th>\n",
       "      <th>Species</th>\n",
       "      <th>Investigator or Source</th>\n",
       "      <th>pdf</th>\n",
       "      <th>href formula</th>\n",
       "      <th>href</th>\n",
       "      <th>Case Number.1</th>\n",
       "      <th>Case Number.2</th>\n",
       "      <th>original order</th>\n",
       "      <th>Unnamed: 22</th>\n",
       "      <th>Unnamed: 23</th>\n",
       "    </tr>\n",
       "  </thead>\n",
       "  <tbody>\n",
       "    <tr>\n",
       "      <th>4616</th>\n",
       "      <td>1945.09.19</td>\n",
       "      <td>19-Sep-1945</td>\n",
       "      <td>1945.0</td>\n",
       "      <td>Sea Disaster</td>\n",
       "      <td>OKINAWA</td>\n",
       "      <td>NaN</td>\n",
       "      <td>NaN</td>\n",
       "      <td>American minesweeper USS YMS-472 foundered in ...</td>\n",
       "      <td>Lowell J. Bemis</td>\n",
       "      <td>M</td>\n",
       "      <td>...</td>\n",
       "      <td>NaN</td>\n",
       "      <td>Mid-Pacific Stars &amp; Stripes, 10/22/1945</td>\n",
       "      <td>1945.09.19-Bemis.pdf</td>\n",
       "      <td>http://sharkattackfile.net/spreadsheets/pdf_di...</td>\n",
       "      <td>http://sharkattackfile.net/spreadsheets/pdf_di...</td>\n",
       "      <td>1945.09.19</td>\n",
       "      <td>1945.09.19</td>\n",
       "      <td>1687.0</td>\n",
       "      <td>NaN</td>\n",
       "      <td>NaN</td>\n",
       "    </tr>\n",
       "    <tr>\n",
       "      <th>5589</th>\n",
       "      <td>1898.08.22</td>\n",
       "      <td>22-Aug-1898</td>\n",
       "      <td>1898.0</td>\n",
       "      <td>Unprovoked</td>\n",
       "      <td>USA</td>\n",
       "      <td>New York</td>\n",
       "      <td>Prince's Bay, Staten Island</td>\n",
       "      <td>Swimming</td>\n",
       "      <td>Charles E. Boone</td>\n",
       "      <td>M</td>\n",
       "      <td>...</td>\n",
       "      <td>NaN</td>\n",
       "      <td>Lima News, 9/27/1898</td>\n",
       "      <td>1898.08.22-Boone.pdf</td>\n",
       "      <td>http://sharkattackfile.net/spreadsheets/pdf_di...</td>\n",
       "      <td>http://sharkattackfile.net/spreadsheets/pdf_di...</td>\n",
       "      <td>1898.08.22</td>\n",
       "      <td>1898.08.22</td>\n",
       "      <td>714.0</td>\n",
       "      <td>NaN</td>\n",
       "      <td>NaN</td>\n",
       "    </tr>\n",
       "  </tbody>\n",
       "</table>\n",
       "<p>2 rows × 24 columns</p>\n",
       "</div>"
      ],
      "text/plain": [
       "     Case Number         Date    Year          Type  Country      Area  \\\n",
       "4616  1945.09.19  19-Sep-1945  1945.0  Sea Disaster  OKINAWA       NaN   \n",
       "5589  1898.08.22  22-Aug-1898  1898.0    Unprovoked      USA  New York   \n",
       "\n",
       "                         Location  \\\n",
       "4616                          NaN   \n",
       "5589  Prince's Bay, Staten Island   \n",
       "\n",
       "                                               Activity              Name  \\\n",
       "4616  American minesweeper USS YMS-472 foundered in ...   Lowell J. Bemis   \n",
       "5589                                           Swimming  Charles E. Boone   \n",
       "\n",
       "     Sex   ... Species                    Investigator or Source  \\\n",
       "4616    M  ...      NaN  Mid-Pacific Stars & Stripes, 10/22/1945   \n",
       "5589    M  ...      NaN                     Lima News, 9/27/1898   \n",
       "\n",
       "                       pdf                                       href formula  \\\n",
       "4616  1945.09.19-Bemis.pdf  http://sharkattackfile.net/spreadsheets/pdf_di...   \n",
       "5589  1898.08.22-Boone.pdf  http://sharkattackfile.net/spreadsheets/pdf_di...   \n",
       "\n",
       "                                                   href Case Number.1  \\\n",
       "4616  http://sharkattackfile.net/spreadsheets/pdf_di...    1945.09.19   \n",
       "5589  http://sharkattackfile.net/spreadsheets/pdf_di...    1898.08.22   \n",
       "\n",
       "     Case Number.2 original order Unnamed: 22 Unnamed: 23  \n",
       "4616    1945.09.19         1687.0         NaN         NaN  \n",
       "5589    1898.08.22          714.0         NaN         NaN  \n",
       "\n",
       "[2 rows x 24 columns]"
      ]
     },
     "execution_count": 12,
     "metadata": {},
     "output_type": "execute_result"
    }
   ],
   "source": [
    "df.sample(2)"
   ]
  },
  {
   "cell_type": "code",
   "execution_count": 13,
   "id": "9631ff0c-879e-4f7a-bb84-55ae1e59e99b",
   "metadata": {},
   "outputs": [
    {
     "data": {
      "text/plain": [
       "Index(['Case Number', 'Date', 'Year', 'Type', 'Country', 'Area', 'Location',\n",
       "       'Activity', 'Name', 'Sex ', 'Age', 'Injury', 'Fatal (Y/N)', 'Time',\n",
       "       'Species ', 'Investigator or Source', 'pdf', 'href formula', 'href',\n",
       "       'Case Number.1', 'Case Number.2', 'original order', 'Unnamed: 22',\n",
       "       'Unnamed: 23'],\n",
       "      dtype='object')"
      ]
     },
     "execution_count": 13,
     "metadata": {},
     "output_type": "execute_result"
    }
   ],
   "source": [
    "df.columns"
   ]
  },
  {
   "cell_type": "code",
   "execution_count": 14,
   "id": "ee3e5d99-68ee-4288-b771-bc093a22ee71",
   "metadata": {},
   "outputs": [],
   "source": [
    "#Después de una exploración del df borramos las columnas\n",
    "#con datos no numéricos y que no se pueden categorizar \n",
    "#P. ej.enlaces y códigos repetidos y columnas basura sin datos"
   ]
  },
  {
   "cell_type": "code",
   "execution_count": 15,
   "id": "e4002fab-2c49-423b-b431-aa1ce9ec79e9",
   "metadata": {},
   "outputs": [],
   "source": [
    "df.drop(['pdf', 'href formula', 'href',\n",
    "       'Case Number.1', 'Case Number.2','Unnamed: 22','Unnamed: 23'], axis= 1, inplace=True)"
   ]
  },
  {
   "cell_type": "code",
   "execution_count": 16,
   "id": "a1ab9f00-5141-4f15-8937-bc19ba950cdf",
   "metadata": {},
   "outputs": [
    {
     "name": "stdout",
     "output_type": "stream",
     "text": [
      "Index(['Case Number', 'Date', 'Year', 'Type', 'Country', 'Area', 'Location',\n",
      "       'Activity', 'Name', 'Sex ', 'Age', 'Injury', 'Fatal (Y/N)', 'Time',\n",
      "       'Species ', 'Investigator or Source', 'original order'],\n",
      "      dtype='object')\n"
     ]
    },
    {
     "data": {
      "text/plain": [
       "(6301, 17)"
      ]
     },
     "execution_count": 16,
     "metadata": {},
     "output_type": "execute_result"
    }
   ],
   "source": [
    "print(df.columns)\n",
    "df.shape"
   ]
  },
  {
   "cell_type": "markdown",
   "id": "934c9cdc-7a5d-4472-a08b-dd4104f2a31a",
   "metadata": {
    "tags": []
   },
   "source": [
    "# 3 Dar formato a los datos"
   ]
  },
  {
   "cell_type": "markdown",
   "id": "66d537eb-c89c-4d99-a921-6a19bd4c44a3",
   "metadata": {
    "tags": []
   },
   "source": [
    "## Normalizar columna Age a int or float"
   ]
  },
  {
   "cell_type": "code",
   "execution_count": 17,
   "id": "7b1fb928-435f-4b43-ac52-992d99f3b109",
   "metadata": {},
   "outputs": [],
   "source": [
    "\n",
    "df[\"Age_normalize\"] = pd.to_numeric(df['Age'], errors='coerce', downcast=\"integer\")\n",
    "\n",
    "#df[\"Age_normalize\"] = df.to_numeric(df['Age'])\n",
    "\n",
    "#df[\"Age_normalize\"] = df['Age'].astype('int32', errors = 'ignore')\n",
    "\n",
    "#df[\"Age_normalize\"]= df[\"Age_normalize\"].astype('int64', errors = 'ignore')"
   ]
  },
  {
   "cell_type": "code",
   "execution_count": 18,
   "id": "ab32eca6-2420-47b9-8937-15bda04dbb9a",
   "metadata": {},
   "outputs": [
    {
     "data": {
      "text/plain": [
       "dtype('float64')"
      ]
     },
     "execution_count": 18,
     "metadata": {},
     "output_type": "execute_result"
    }
   ],
   "source": [
    "df[\"Age_normalize\"].dtypes"
   ]
  },
  {
   "cell_type": "code",
   "execution_count": 19,
   "id": "2cf19bd7-fa26-4ea3-a5f7-9ee00c6606d0",
   "metadata": {},
   "outputs": [
    {
     "data": {
      "text/plain": [
       "array([57., 11., 48., ..., nan, nan, 15.])"
      ]
     },
     "execution_count": 19,
     "metadata": {},
     "output_type": "execute_result"
    }
   ],
   "source": [
    "df[\"Age_normalize\"].values"
   ]
  },
  {
   "cell_type": "code",
   "execution_count": 20,
   "id": "69b3c2ae-88a1-4ee7-a356-38aa9f153fc2",
   "metadata": {},
   "outputs": [
    {
     "data": {
      "text/plain": [
       "102"
      ]
     },
     "execution_count": 20,
     "metadata": {},
     "output_type": "execute_result"
    }
   ],
   "source": [
    "# ¿Cuantos datos se pierden en la conversión de \"Age\" a \"Age_normalize\"?\n",
    "\n",
    "datos_age_perdidos = df[\"Age_normalize\"].isna().sum() - df[\"Age\"].isna().sum()\n",
    "datos_age_perdidos"
   ]
  },
  {
   "cell_type": "code",
   "execution_count": 21,
   "id": "f4538708-9348-4687-ad4d-42ea162686f5",
   "metadata": {},
   "outputs": [
    {
     "data": {
      "text/plain": [
       "27.36835856337192"
      ]
     },
     "execution_count": 21,
     "metadata": {},
     "output_type": "execute_result"
    }
   ],
   "source": [
    "media_age = df[\"Age_normalize\"].mean()\n",
    "media_age"
   ]
  },
  {
   "cell_type": "code",
   "execution_count": 22,
   "id": "15b16a1a-f2c2-4d91-95c1-bcd8c750feb1",
   "metadata": {},
   "outputs": [
    {
     "name": "stdout",
     "output_type": "stream",
     "text": [
      "<class 'pandas.core.frame.DataFrame'>\n",
      "Int64Index: 6301 entries, 0 to 6301\n",
      "Data columns (total 18 columns):\n",
      " #   Column                  Non-Null Count  Dtype  \n",
      "---  ------                  --------------  -----  \n",
      " 0   Case Number             6301 non-null   object \n",
      " 1   Date                    6301 non-null   object \n",
      " 2   Year                    6299 non-null   float64\n",
      " 3   Type                    6297 non-null   object \n",
      " 4   Country                 6251 non-null   object \n",
      " 5   Area                    5846 non-null   object \n",
      " 6   Location                5761 non-null   object \n",
      " 7   Activity                5757 non-null   object \n",
      " 8   Name                    6091 non-null   object \n",
      " 9   Sex                     5736 non-null   object \n",
      " 10  Age                     3471 non-null   object \n",
      " 11  Injury                  6273 non-null   object \n",
      " 12  Fatal (Y/N)             5762 non-null   object \n",
      " 13  Time                    2948 non-null   object \n",
      " 14  Species                 3464 non-null   object \n",
      " 15  Investigator or Source  6284 non-null   object \n",
      " 16  original order          6301 non-null   float64\n",
      " 17  Age_normalize           3369 non-null   float64\n",
      "dtypes: float64(3), object(15)\n",
      "memory usage: 935.3+ KB\n"
     ]
    }
   ],
   "source": [
    "df.info()"
   ]
  },
  {
   "cell_type": "code",
   "execution_count": 23,
   "id": "cca2c42f-c9e4-4655-9fd3-881557140381",
   "metadata": {},
   "outputs": [
    {
     "data": {
      "text/html": [
       "<div>\n",
       "<style scoped>\n",
       "    .dataframe tbody tr th:only-of-type {\n",
       "        vertical-align: middle;\n",
       "    }\n",
       "\n",
       "    .dataframe tbody tr th {\n",
       "        vertical-align: top;\n",
       "    }\n",
       "\n",
       "    .dataframe thead th {\n",
       "        text-align: right;\n",
       "    }\n",
       "</style>\n",
       "<table border=\"1\" class=\"dataframe\">\n",
       "  <thead>\n",
       "    <tr style=\"text-align: right;\">\n",
       "      <th></th>\n",
       "      <th>Case Number</th>\n",
       "      <th>Date</th>\n",
       "      <th>Year</th>\n",
       "      <th>Type</th>\n",
       "      <th>Country</th>\n",
       "      <th>Area</th>\n",
       "      <th>Location</th>\n",
       "      <th>Activity</th>\n",
       "      <th>Name</th>\n",
       "      <th>Sex</th>\n",
       "      <th>Age</th>\n",
       "      <th>Injury</th>\n",
       "      <th>Fatal (Y/N)</th>\n",
       "      <th>Time</th>\n",
       "      <th>Species</th>\n",
       "      <th>Investigator or Source</th>\n",
       "      <th>original order</th>\n",
       "      <th>Age_normalize</th>\n",
       "    </tr>\n",
       "  </thead>\n",
       "  <tbody>\n",
       "    <tr>\n",
       "      <th>0</th>\n",
       "      <td>2018.06.25</td>\n",
       "      <td>25-Jun-2018</td>\n",
       "      <td>2018.0</td>\n",
       "      <td>Boating</td>\n",
       "      <td>USA</td>\n",
       "      <td>California</td>\n",
       "      <td>Oceanside, San Diego County</td>\n",
       "      <td>Paddling</td>\n",
       "      <td>Julie Wolfe</td>\n",
       "      <td>F</td>\n",
       "      <td>57</td>\n",
       "      <td>No injury to occupant, outrigger canoe and pad...</td>\n",
       "      <td>N</td>\n",
       "      <td>18h00</td>\n",
       "      <td>White shark</td>\n",
       "      <td>R. Collier, GSAF</td>\n",
       "      <td>6303.0</td>\n",
       "      <td>57.0</td>\n",
       "    </tr>\n",
       "    <tr>\n",
       "      <th>1</th>\n",
       "      <td>2018.06.18</td>\n",
       "      <td>18-Jun-2018</td>\n",
       "      <td>2018.0</td>\n",
       "      <td>Unprovoked</td>\n",
       "      <td>USA</td>\n",
       "      <td>Georgia</td>\n",
       "      <td>St. Simon Island, Glynn County</td>\n",
       "      <td>Standing</td>\n",
       "      <td>Adyson McNeely</td>\n",
       "      <td>F</td>\n",
       "      <td>11</td>\n",
       "      <td>Minor injury to left thigh</td>\n",
       "      <td>N</td>\n",
       "      <td>14h00  -15h00</td>\n",
       "      <td>NaN</td>\n",
       "      <td>K.McMurray, TrackingSharks.com</td>\n",
       "      <td>6302.0</td>\n",
       "      <td>11.0</td>\n",
       "    </tr>\n",
       "    <tr>\n",
       "      <th>2</th>\n",
       "      <td>2018.06.09</td>\n",
       "      <td>09-Jun-2018</td>\n",
       "      <td>2018.0</td>\n",
       "      <td>Invalid</td>\n",
       "      <td>USA</td>\n",
       "      <td>Hawaii</td>\n",
       "      <td>Habush, Oahu</td>\n",
       "      <td>Surfing</td>\n",
       "      <td>John Denges</td>\n",
       "      <td>M</td>\n",
       "      <td>48</td>\n",
       "      <td>Injury to left lower leg from surfboard skeg</td>\n",
       "      <td>N</td>\n",
       "      <td>07h45</td>\n",
       "      <td>NaN</td>\n",
       "      <td>K.McMurray, TrackingSharks.com</td>\n",
       "      <td>6301.0</td>\n",
       "      <td>48.0</td>\n",
       "    </tr>\n",
       "    <tr>\n",
       "      <th>3</th>\n",
       "      <td>2018.06.08</td>\n",
       "      <td>08-Jun-2018</td>\n",
       "      <td>2018.0</td>\n",
       "      <td>Unprovoked</td>\n",
       "      <td>AUSTRALIA</td>\n",
       "      <td>New South Wales</td>\n",
       "      <td>Arrawarra Headland</td>\n",
       "      <td>Surfing</td>\n",
       "      <td>male</td>\n",
       "      <td>M</td>\n",
       "      <td>NaN</td>\n",
       "      <td>Minor injury to lower leg</td>\n",
       "      <td>N</td>\n",
       "      <td>NaN</td>\n",
       "      <td>2 m shark</td>\n",
       "      <td>B. Myatt, GSAF</td>\n",
       "      <td>6300.0</td>\n",
       "      <td>NaN</td>\n",
       "    </tr>\n",
       "  </tbody>\n",
       "</table>\n",
       "</div>"
      ],
      "text/plain": [
       "  Case Number         Date    Year        Type    Country             Area  \\\n",
       "0  2018.06.25  25-Jun-2018  2018.0     Boating        USA       California   \n",
       "1  2018.06.18  18-Jun-2018  2018.0  Unprovoked        USA          Georgia   \n",
       "2  2018.06.09  09-Jun-2018  2018.0     Invalid        USA           Hawaii   \n",
       "3  2018.06.08  08-Jun-2018  2018.0  Unprovoked  AUSTRALIA  New South Wales   \n",
       "\n",
       "                         Location  Activity             Name Sex   Age  \\\n",
       "0     Oceanside, San Diego County  Paddling      Julie Wolfe    F   57   \n",
       "1  St. Simon Island, Glynn County  Standing  Adyson McNeely     F   11   \n",
       "2                    Habush, Oahu   Surfing      John Denges    M   48   \n",
       "3              Arrawarra Headland   Surfing             male    M  NaN   \n",
       "\n",
       "                                              Injury Fatal (Y/N)  \\\n",
       "0  No injury to occupant, outrigger canoe and pad...           N   \n",
       "1                         Minor injury to left thigh           N   \n",
       "2       Injury to left lower leg from surfboard skeg           N   \n",
       "3                          Minor injury to lower leg           N   \n",
       "\n",
       "            Time     Species           Investigator or Source  original order  \\\n",
       "0          18h00  White shark                R. Collier, GSAF          6303.0   \n",
       "1  14h00  -15h00          NaN  K.McMurray, TrackingSharks.com          6302.0   \n",
       "2          07h45          NaN  K.McMurray, TrackingSharks.com          6301.0   \n",
       "3            NaN    2 m shark                  B. Myatt, GSAF          6300.0   \n",
       "\n",
       "   Age_normalize  \n",
       "0           57.0  \n",
       "1           11.0  \n",
       "2           48.0  \n",
       "3            NaN  "
      ]
     },
     "execution_count": 23,
     "metadata": {},
     "output_type": "execute_result"
    }
   ],
   "source": [
    "df.head(4)"
   ]
  },
  {
   "cell_type": "code",
   "execution_count": 24,
   "id": "a32a32a7-6431-4846-9d80-2afacecbc12d",
   "metadata": {},
   "outputs": [
    {
     "data": {
      "text/plain": [
       "array([57., 11., 48., nan, 18., 52., 15., 12., 32., 10., 21., 34., 30.,\n",
       "       60., 33., 29., 54., 41., 37., 56., 19., 25., 69., 38., 55., 35.,\n",
       "       46., 45., 14., 28., 20., 24., 26., 49., 22.,  7., 31., 17., 40.,\n",
       "       13., 42.,  3.,  8., 50., 16., 82., 73., 68., 51., 39., 58., 47.,\n",
       "       61., 65., 36., 66., 43.,  9., 72., 59.,  6., 27., 64., 23., 71.,\n",
       "       44., 62., 63., 70., 53., 77., 74.,  5., 86., 84., 75., 87., 67.,\n",
       "        1., 81., 78.])"
      ]
     },
     "execution_count": 24,
     "metadata": {},
     "output_type": "execute_result"
    }
   ],
   "source": [
    "df[\"Age_normalize\"].unique()"
   ]
  },
  {
   "cell_type": "code",
   "execution_count": 25,
   "id": "8b8163fb-978e-4ef2-b1c6-693f701b6c03",
   "metadata": {},
   "outputs": [
    {
     "data": {
      "text/plain": [
       "array(['57', '11', '48', nan, '18', '52', '15', '12', '32', '10', '21',\n",
       "       '34', '30', '60', '33', '29', '54', '41', '37', '56', '19', '25',\n",
       "       '69', '38', '55', '35', '46', '45', '14', '40s', '28', '20', '24',\n",
       "       '26', '49', '22', '7', '31', '17', '40', '13', '42', '3', '8',\n",
       "       '50', '16', '82', '73', '20s', '68', '51', '39', '58', 'Teen',\n",
       "       '47', '61', '65', '36', '66', '43', '60s', '9', '72', '59', '6',\n",
       "       '27', '64', '23', '71', '44', '62', '63', '70', '18 months', '53',\n",
       "       '30s', '50s', 'teen', '77', '74', '28 & 26', '5', '86', '18 or 20',\n",
       "       '12 or 13', '46 & 34', '28, 23 & 30', 'Teens', '36 & 26',\n",
       "       '8 or 10', '84', '\\xa0 ', ' ', '30 or 36', '6½', '21 & ?', '75',\n",
       "       '33 or 37', 'mid-30s', '23 & 20', ' 30', '7      &    31', ' 28',\n",
       "       '20?', \"60's\", '32 & 30', '16 to 18', '87', '67', 'Elderly',\n",
       "       'mid-20s', 'Ca. 33', '74 ', '45 ', '21 or 26', '20 ', '>50',\n",
       "       '18 to 22', 'adult', '9 & 12', '? & 19', '9 months', '25 to 35',\n",
       "       '23 & 26', '1', '(adult)', '33 & 37', '25 or 28',\n",
       "       '37, 67, 35, 27,  ? & 27', '21, 34,24 & 35', '30 & 32', '50 & 30',\n",
       "       '17 & 35', 'X', '\"middle-age\"', '13 or 18', '34 & 19', '33 & 26',\n",
       "       '2 to 3 months', 'MAKE LINE GREEN', ' 43', '81', '\"young\"',\n",
       "       '7 or 8', '78', '17 & 16', 'F', 'Both 11', '9 or 10', 'young',\n",
       "       '36 & 23', '  ', 'A.M.', '?    &   14', '10 or 12', '31 or 33',\n",
       "       '2½', '13 or 14'], dtype=object)"
      ]
     },
     "execution_count": 25,
     "metadata": {},
     "output_type": "execute_result"
    }
   ],
   "source": [
    "df[\"Age\"].unique()"
   ]
  },
  {
   "cell_type": "code",
   "execution_count": 26,
   "id": "4cf6b0be-5ab7-4056-8409-e9f01e2dc5f7",
   "metadata": {},
   "outputs": [
    {
     "data": {
      "text/plain": [
       "array(['Paddling', 'Standing', 'Surfing', ...,\n",
       "       'Crew swimming alongside their anchored ship',\n",
       "       '4 men were bathing', 'Wreck of  large double sailing canoe'],\n",
       "      dtype=object)"
      ]
     },
     "execution_count": 26,
     "metadata": {},
     "output_type": "execute_result"
    }
   ],
   "source": [
    "df[\"Activity\"].unique()"
   ]
  },
  {
   "cell_type": "code",
   "execution_count": 27,
   "id": "a8004e82-ba02-4725-becd-c255f88475aa",
   "metadata": {},
   "outputs": [
    {
     "data": {
      "text/plain": [
       "Case Number                object\n",
       "Date                       object\n",
       "Year                      float64\n",
       "Type                       object\n",
       "Country                    object\n",
       "Area                       object\n",
       "Location                   object\n",
       "Activity                   object\n",
       "Name                       object\n",
       "Sex                        object\n",
       "Age                        object\n",
       "Injury                     object\n",
       "Fatal (Y/N)                object\n",
       "Time                       object\n",
       "Species                    object\n",
       "Investigator or Source     object\n",
       "original order            float64\n",
       "Age_normalize             float64\n",
       "dtype: object"
      ]
     },
     "execution_count": 27,
     "metadata": {},
     "output_type": "execute_result"
    }
   ],
   "source": [
    "df.dtypes"
   ]
  },
  {
   "cell_type": "code",
   "execution_count": 28,
   "id": "f4495495-8b68-4154-b115-73023435420a",
   "metadata": {},
   "outputs": [
    {
     "data": {
      "text/plain": [
       "80"
      ]
     },
     "execution_count": 28,
     "metadata": {},
     "output_type": "execute_result"
    }
   ],
   "source": [
    "df.Age_normalize.nunique()"
   ]
  },
  {
   "cell_type": "code",
   "execution_count": 29,
   "id": "8eb1a258-c1fc-449c-8071-441cc27aece9",
   "metadata": {},
   "outputs": [
    {
     "data": {
      "text/plain": [
       "<AxesSubplot:>"
      ]
     },
     "execution_count": 29,
     "metadata": {},
     "output_type": "execute_result"
    },
    {
     "data": {
      "image/png": "[encoded data removed]",
      "text/plain": [
       "<Figure size 1080x288 with 1 Axes>"
      ]
     },
     "metadata": {
      "needs_background": "light"
     },
     "output_type": "display_data"
    }
   ],
   "source": [
    "df.Age_normalize.hist(legend=True,bins= 80, figsize = [15,4])"
   ]
  },
  {
   "cell_type": "markdown",
   "id": "bed0169f-a161-4cf5-ab87-0d56c6104db9",
   "metadata": {},
   "source": []
  },
  {
   "cell_type": "markdown",
   "id": "daccfd82-a596-4cc2-8a4a-8a4ec161fcbb",
   "metadata": {
    "tags": []
   },
   "source": [
    "## Normalizar columna Date a datetime"
   ]
  },
  {
   "cell_type": "code",
   "execution_count": 30,
   "id": "a41c18f3-f3ab-4875-917e-ec833f7b9e19",
   "metadata": {},
   "outputs": [],
   "source": [
    "df['Datetime'] = pd.to_datetime(df['Date'], errors ='coerce')"
   ]
  },
  {
   "cell_type": "code",
   "execution_count": 31,
   "id": "75b1697f-6def-4a02-978a-8439cb088451",
   "metadata": {},
   "outputs": [
    {
     "data": {
      "text/plain": [
       "5458"
      ]
     },
     "execution_count": 31,
     "metadata": {},
     "output_type": "execute_result"
    }
   ],
   "source": [
    "df['Datetime'].count()"
   ]
  },
  {
   "cell_type": "code",
   "execution_count": 32,
   "id": "00a05752-2c00-495e-8755-19cddfc8fbef",
   "metadata": {},
   "outputs": [
    {
     "data": {
      "text/plain": [
       "4605"
      ]
     },
     "execution_count": 32,
     "metadata": {},
     "output_type": "execute_result"
    }
   ],
   "source": [
    "df['Datetime'].nunique()"
   ]
  },
  {
   "cell_type": "code",
   "execution_count": 33,
   "id": "e7806fe1-03f3-453f-a9d4-ebba230a8907",
   "metadata": {},
   "outputs": [
    {
     "data": {
      "text/plain": [
       "5432"
      ]
     },
     "execution_count": 33,
     "metadata": {},
     "output_type": "execute_result"
    }
   ],
   "source": [
    "df['Date'].nunique()"
   ]
  },
  {
   "cell_type": "code",
   "execution_count": 34,
   "id": "8b3f345c-f91f-4348-84cd-3361a4fa5fd2",
   "metadata": {},
   "outputs": [
    {
     "name": "stdout",
     "output_type": "stream",
     "text": [
      "<class 'pandas.core.frame.DataFrame'>\n",
      "Int64Index: 6301 entries, 0 to 6301\n",
      "Data columns (total 19 columns):\n",
      " #   Column                  Non-Null Count  Dtype         \n",
      "---  ------                  --------------  -----         \n",
      " 0   Case Number             6301 non-null   object        \n",
      " 1   Date                    6301 non-null   object        \n",
      " 2   Year                    6299 non-null   float64       \n",
      " 3   Type                    6297 non-null   object        \n",
      " 4   Country                 6251 non-null   object        \n",
      " 5   Area                    5846 non-null   object        \n",
      " 6   Location                5761 non-null   object        \n",
      " 7   Activity                5757 non-null   object        \n",
      " 8   Name                    6091 non-null   object        \n",
      " 9   Sex                     5736 non-null   object        \n",
      " 10  Age                     3471 non-null   object        \n",
      " 11  Injury                  6273 non-null   object        \n",
      " 12  Fatal (Y/N)             5762 non-null   object        \n",
      " 13  Time                    2948 non-null   object        \n",
      " 14  Species                 3464 non-null   object        \n",
      " 15  Investigator or Source  6284 non-null   object        \n",
      " 16  original order          6301 non-null   float64       \n",
      " 17  Age_normalize           3369 non-null   float64       \n",
      " 18  Datetime                5458 non-null   datetime64[ns]\n",
      "dtypes: datetime64[ns](1), float64(3), object(15)\n",
      "memory usage: 984.5+ KB\n"
     ]
    }
   ],
   "source": [
    "df.info()"
   ]
  },
  {
   "cell_type": "code",
   "execution_count": 35,
   "id": "e191eaa5-b988-40fd-a825-de2c45ff9362",
   "metadata": {},
   "outputs": [
    {
     "data": {
      "text/html": [
       "<div>\n",
       "<style scoped>\n",
       "    .dataframe tbody tr th:only-of-type {\n",
       "        vertical-align: middle;\n",
       "    }\n",
       "\n",
       "    .dataframe tbody tr th {\n",
       "        vertical-align: top;\n",
       "    }\n",
       "\n",
       "    .dataframe thead th {\n",
       "        text-align: right;\n",
       "    }\n",
       "</style>\n",
       "<table border=\"1\" class=\"dataframe\">\n",
       "  <thead>\n",
       "    <tr style=\"text-align: right;\">\n",
       "      <th></th>\n",
       "      <th>Year</th>\n",
       "      <th>Datetime</th>\n",
       "    </tr>\n",
       "  </thead>\n",
       "  <tbody>\n",
       "    <tr>\n",
       "      <th>2888</th>\n",
       "      <td>1984.0</td>\n",
       "      <td>1984-07-24</td>\n",
       "    </tr>\n",
       "    <tr>\n",
       "      <th>1256</th>\n",
       "      <td>2008.0</td>\n",
       "      <td>2008-05-24</td>\n",
       "    </tr>\n",
       "    <tr>\n",
       "      <th>819</th>\n",
       "      <td>2012.0</td>\n",
       "      <td>2012-02-06</td>\n",
       "    </tr>\n",
       "    <tr>\n",
       "      <th>5823</th>\n",
       "      <td>1880.0</td>\n",
       "      <td>1880-01-22</td>\n",
       "    </tr>\n",
       "    <tr>\n",
       "      <th>2499</th>\n",
       "      <td>1993.0</td>\n",
       "      <td>1993-04-01</td>\n",
       "    </tr>\n",
       "    <tr>\n",
       "      <th>1288</th>\n",
       "      <td>2008.0</td>\n",
       "      <td>NaT</td>\n",
       "    </tr>\n",
       "    <tr>\n",
       "      <th>214</th>\n",
       "      <td>2016.0</td>\n",
       "      <td>2016-09-18</td>\n",
       "    </tr>\n",
       "    <tr>\n",
       "      <th>1911</th>\n",
       "      <td>2001.0</td>\n",
       "      <td>2001-08-31</td>\n",
       "    </tr>\n",
       "    <tr>\n",
       "      <th>2732</th>\n",
       "      <td>1988.0</td>\n",
       "      <td>1988-06-01</td>\n",
       "    </tr>\n",
       "    <tr>\n",
       "      <th>2692</th>\n",
       "      <td>1989.0</td>\n",
       "      <td>1989-02-19</td>\n",
       "    </tr>\n",
       "  </tbody>\n",
       "</table>\n",
       "</div>"
      ],
      "text/plain": [
       "        Year   Datetime\n",
       "2888  1984.0 1984-07-24\n",
       "1256  2008.0 2008-05-24\n",
       "819   2012.0 2012-02-06\n",
       "5823  1880.0 1880-01-22\n",
       "2499  1993.0 1993-04-01\n",
       "1288  2008.0        NaT\n",
       "214   2016.0 2016-09-18\n",
       "1911  2001.0 2001-08-31\n",
       "2732  1988.0 1988-06-01\n",
       "2692  1989.0 1989-02-19"
      ]
     },
     "execution_count": 35,
     "metadata": {},
     "output_type": "execute_result"
    }
   ],
   "source": [
    "df[[\"Year\",\"Datetime\"]].sample(10)"
   ]
  },
  {
   "cell_type": "code",
   "execution_count": 47,
   "id": "c77b342f-fbe4-4d6b-8b0b-0b390bfc1296",
   "metadata": {},
   "outputs": [
    {
     "data": {
      "text/plain": [
       "1984"
      ]
     },
     "execution_count": 47,
     "metadata": {},
     "output_type": "execute_result"
    }
   ],
   "source": [
    "df.iloc[2888][\"Datetime\"].year"
   ]
  },
  {
   "cell_type": "code",
   "execution_count": 37,
   "id": "543dbfb7-7179-4537-87e1-fc6e73a3703d",
   "metadata": {},
   "outputs": [
    {
     "data": {
      "text/plain": [
       "Case Number               6301\n",
       "Date                      6301\n",
       "Year                      6299\n",
       "Type                      6297\n",
       "Country                   6251\n",
       "Area                      5846\n",
       "Location                  5761\n",
       "Activity                  5757\n",
       "Name                      6091\n",
       "Sex                       5736\n",
       "Age                       3471\n",
       "Injury                    6273\n",
       "Fatal (Y/N)               5762\n",
       "Time                      2948\n",
       "Species                   3464\n",
       "Investigator or Source    6284\n",
       "original order            6301\n",
       "Age_normalize             3369\n",
       "Datetime                  5458\n",
       "dtype: int64"
      ]
     },
     "execution_count": 37,
     "metadata": {},
     "output_type": "execute_result"
    }
   ],
   "source": [
    "df.count()"
   ]
  },
  {
   "cell_type": "code",
   "execution_count": 38,
   "id": "a38b05fe-e965-42af-a287-1e25620d25d6",
   "metadata": {},
   "outputs": [
    {
     "data": {
      "text/plain": [
       "Case Number                       object\n",
       "Date                              object\n",
       "Year                             float64\n",
       "Type                              object\n",
       "Country                           object\n",
       "Area                              object\n",
       "Location                          object\n",
       "Activity                          object\n",
       "Name                              object\n",
       "Sex                               object\n",
       "Age                               object\n",
       "Injury                            object\n",
       "Fatal (Y/N)                       object\n",
       "Time                              object\n",
       "Species                           object\n",
       "Investigator or Source            object\n",
       "original order                   float64\n",
       "Age_normalize                    float64\n",
       "Datetime                  datetime64[ns]\n",
       "dtype: object"
      ]
     },
     "execution_count": 38,
     "metadata": {},
     "output_type": "execute_result"
    }
   ],
   "source": [
    "df.dtypes"
   ]
  },
  {
   "cell_type": "code",
   "execution_count": 39,
   "id": "b85331b4-ca32-4aff-8935-f367a6caf7e3",
   "metadata": {},
   "outputs": [
    {
     "data": {
      "text/plain": [
       "Case Number                  0\n",
       "Date                         0\n",
       "Year                         2\n",
       "Type                         4\n",
       "Country                     50\n",
       "Area                       455\n",
       "Location                   540\n",
       "Activity                   544\n",
       "Name                       210\n",
       "Sex                        565\n",
       "Age                       2830\n",
       "Injury                      28\n",
       "Fatal (Y/N)                539\n",
       "Time                      3353\n",
       "Species                   2837\n",
       "Investigator or Source      17\n",
       "original order               0\n",
       "Age_normalize             2932\n",
       "Datetime                   843\n",
       "dtype: int64"
      ]
     },
     "execution_count": 39,
     "metadata": {},
     "output_type": "execute_result"
    }
   ],
   "source": [
    "df.isnull().sum()"
   ]
  },
  {
   "cell_type": "code",
   "execution_count": 51,
   "id": "8dec8ab6-8fcc-4edd-a264-e25e2fd331f2",
   "metadata": {},
   "outputs": [],
   "source": [
    "def year_to_int(x):\n",
    "    try:\n",
    "        z = str(x).split(\".\")\n",
    "        return (int(z[0]))\n",
    "    except:\n",
    "        pass\n",
    "        "
   ]
  },
  {
   "cell_type": "code",
   "execution_count": 52,
   "id": "30ac0efc-b7eb-463e-80e4-d76053cb5906",
   "metadata": {},
   "outputs": [],
   "source": [
    "df[\"borr\"] = df.Year.apply(year_to_int)"
   ]
  },
  {
   "cell_type": "markdown",
   "id": "f8c3cee4-eb8b-4c52-afb5-c5f091eaa21b",
   "metadata": {},
   "source": [
    "def feet2cm(x):\n",
    "    (f,i) = x.split('-')\n",
    "    return 30.48 * int(f) + 2.54 * int(i)"
   ]
  },
  {
   "cell_type": "markdown",
   "id": "b3463b37-19d1-493c-a7ce-e3899c0b5736",
   "metadata": {},
   "source": [
    "nba['altura_cm'] = nba.Height.apply(feet2cm)"
   ]
  },
  {
   "cell_type": "code",
   "execution_count": 58,
   "id": "ed368d3b-1b65-49e5-b2a5-ee843bc92023",
   "metadata": {},
   "outputs": [],
   "source": [
    "\n",
    "df['año'] = pd.to_datetime(df[\"borr\"],format=\"%Y\", errors ='coerce')"
   ]
  },
  {
   "cell_type": "code",
   "execution_count": 59,
   "id": "816f1970-4b1e-40c1-8300-62e336a383a8",
   "metadata": {},
   "outputs": [
    {
     "data": {
      "text/plain": [
       "dtype('<M8[ns]')"
      ]
     },
     "execution_count": 59,
     "metadata": {},
     "output_type": "execute_result"
    }
   ],
   "source": [
    "df['año'].dtypes"
   ]
  },
  {
   "cell_type": "code",
   "execution_count": 61,
   "id": "d50ebf30-e4d0-4697-89a6-ddca24fde68d",
   "metadata": {},
   "outputs": [
    {
     "ename": "AttributeError",
     "evalue": "'Series' object has no attribute 'samples'",
     "output_type": "error",
     "traceback": [
      "\u001b[1;31m---------------------------------------------------------------------------\u001b[0m",
      "\u001b[1;31mAttributeError\u001b[0m                            Traceback (most recent call last)",
      "Input \u001b[1;32mIn [61]\u001b[0m, in \u001b[0;36m<cell line: 1>\u001b[1;34m()\u001b[0m\n\u001b[1;32m----> 1\u001b[0m \u001b[43mdf\u001b[49m\u001b[43m[\u001b[49m\u001b[38;5;124;43m'\u001b[39;49m\u001b[38;5;124;43maño\u001b[39;49m\u001b[38;5;124;43m'\u001b[39;49m\u001b[43m]\u001b[49m\u001b[38;5;241;43m.\u001b[39;49m\u001b[43msamples\u001b[49m(\u001b[38;5;241m30\u001b[39m)\n",
      "File \u001b[1;32m~\\anaconda3\\envs\\ironhack_env\\lib\\site-packages\\pandas\\core\\generic.py:5575\u001b[0m, in \u001b[0;36mNDFrame.__getattr__\u001b[1;34m(self, name)\u001b[0m\n\u001b[0;32m   5568\u001b[0m \u001b[38;5;28;01mif\u001b[39;00m (\n\u001b[0;32m   5569\u001b[0m     name \u001b[38;5;129;01mnot\u001b[39;00m \u001b[38;5;129;01min\u001b[39;00m \u001b[38;5;28mself\u001b[39m\u001b[38;5;241m.\u001b[39m_internal_names_set\n\u001b[0;32m   5570\u001b[0m     \u001b[38;5;129;01mand\u001b[39;00m name \u001b[38;5;129;01mnot\u001b[39;00m \u001b[38;5;129;01min\u001b[39;00m \u001b[38;5;28mself\u001b[39m\u001b[38;5;241m.\u001b[39m_metadata\n\u001b[0;32m   5571\u001b[0m     \u001b[38;5;129;01mand\u001b[39;00m name \u001b[38;5;129;01mnot\u001b[39;00m \u001b[38;5;129;01min\u001b[39;00m \u001b[38;5;28mself\u001b[39m\u001b[38;5;241m.\u001b[39m_accessors\n\u001b[0;32m   5572\u001b[0m     \u001b[38;5;129;01mand\u001b[39;00m \u001b[38;5;28mself\u001b[39m\u001b[38;5;241m.\u001b[39m_info_axis\u001b[38;5;241m.\u001b[39m_can_hold_identifiers_and_holds_name(name)\n\u001b[0;32m   5573\u001b[0m ):\n\u001b[0;32m   5574\u001b[0m     \u001b[38;5;28;01mreturn\u001b[39;00m \u001b[38;5;28mself\u001b[39m[name]\n\u001b[1;32m-> 5575\u001b[0m \u001b[38;5;28;01mreturn\u001b[39;00m \u001b[38;5;28;43mobject\u001b[39;49m\u001b[38;5;241;43m.\u001b[39;49m\u001b[38;5;21;43m__getattribute__\u001b[39;49m\u001b[43m(\u001b[49m\u001b[38;5;28;43mself\u001b[39;49m\u001b[43m,\u001b[49m\u001b[43m \u001b[49m\u001b[43mname\u001b[49m\u001b[43m)\u001b[49m\n",
      "\u001b[1;31mAttributeError\u001b[0m: 'Series' object has no attribute 'samples'"
     ]
    }
   ],
   "source": [
    "df['año'].samples(30)"
   ]
  },
  {
   "cell_type": "code",
   "execution_count": 56,
   "id": "50ef436b-db51-480b-b8d3-22a81f002359",
   "metadata": {},
   "outputs": [],
   "source": [
    "# df['año'].isnull().sum()"
   ]
  },
  {
   "cell_type": "code",
   "execution_count": 63,
   "id": "9c7df5d7-6158-421f-ba42-4b8061687c1f",
   "metadata": {},
   "outputs": [
    {
     "data": {
      "text/plain": [
       "140"
      ]
     },
     "execution_count": 63,
     "metadata": {},
     "output_type": "execute_result"
    }
   ],
   "source": [
    "df[\"borr\"].isnull().sum()\n",
    "df[\"año\"].isnull().sum()"
   ]
  },
  {
   "cell_type": "code",
   "execution_count": 50,
   "id": "554482ef-a869-4d30-bb10-cd07a3347144",
   "metadata": {},
   "outputs": [
    {
     "name": "stdout",
     "output_type": "stream",
     "text": [
      "<class 'pandas.core.frame.DataFrame'>\n",
      "Int64Index: 6301 entries, 0 to 6301\n",
      "Data columns (total 20 columns):\n",
      " #   Column                  Non-Null Count  Dtype         \n",
      "---  ------                  --------------  -----         \n",
      " 0   Case Number             6301 non-null   object        \n",
      " 1   Date                    6301 non-null   object        \n",
      " 2   Year                    6299 non-null   float64       \n",
      " 3   Type                    6297 non-null   object        \n",
      " 4   Country                 6251 non-null   object        \n",
      " 5   Area                    5846 non-null   object        \n",
      " 6   Location                5761 non-null   object        \n",
      " 7   Activity                5757 non-null   object        \n",
      " 8   Name                    6091 non-null   object        \n",
      " 9   Sex                     5736 non-null   object        \n",
      " 10  Age                     3471 non-null   object        \n",
      " 11  Injury                  6273 non-null   object        \n",
      " 12  Fatal (Y/N)             5762 non-null   object        \n",
      " 13  Time                    2948 non-null   object        \n",
      " 14  Species                 3464 non-null   object        \n",
      " 15  Investigator or Source  6284 non-null   object        \n",
      " 16  original order          6301 non-null   float64       \n",
      " 17  Age_normalize           3369 non-null   float64       \n",
      " 18  Datetime                5458 non-null   datetime64[ns]\n",
      " 19  borr                    6301 non-null   object        \n",
      "dtypes: datetime64[ns](1), float64(3), object(16)\n",
      "memory usage: 1.0+ MB\n"
     ]
    }
   ],
   "source": [
    "df.info()"
   ]
  },
  {
   "cell_type": "code",
   "execution_count": null,
   "id": "ce2e8ecc-e2a8-43a3-ac09-fc0c41e14e7d",
   "metadata": {},
   "outputs": [],
   "source": []
  }
 ],
 "metadata": {
  "kernelspec": {
   "display_name": "Python 3 (ipykernel)",
   "language": "python",
   "name": "python3"
  },
  "language_info": {
   "codemirror_mode": {
    "name": "ipython",
    "version": 3
   },
   "file_extension": ".py",
   "mimetype": "text/x-python",
   "name": "python",
   "nbconvert_exporter": "python",
   "pygments_lexer": "ipython3",
   "version": "3.10.4"
  }
 },
 "nbformat": 4,
 "nbformat_minor": 5
}
