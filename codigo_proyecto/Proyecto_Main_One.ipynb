{
 "cells": [
  {
   "cell_type": "code",
   "execution_count": 1,
   "id": "6db79ed7-a195-4bcd-a385-00d6556e00b7",
   "metadata": {},
   "outputs": [],
   "source": [
    "import pandas as pd\n",
    "import numpy as np\n",
    "import seaborn as sns\n",
    "import matplotlib\n",
    "import matplotlib.pyplot as plt\n",
    "# import country_converter as coco"
   ]
  },
  {
   "cell_type": "code",
   "execution_count": 2,
   "id": "817075a9-b83b-4e6a-82ec-3bc3c0014d16",
   "metadata": {},
   "outputs": [],
   "source": [
    "#df = pd.read_csv(r\"C:\\Users\\simbi\\Ironhack\\Proyecto\\datos_proyecto\\attacks.csv\", encoding =\"unicode_escape\")\n",
    "\n",
    "df = pd.read_csv(r\"C:\\Users\\nuc_humbertore\\Ironhack\\Proyecto\\primer_proyecto_DAPT\\datos_proyecto\\attacks.csv\", encoding =\"unicode_escape\")"
   ]
  },
  {
   "cell_type": "markdown",
   "id": "f44ca695-e1d5-40f5-904a-99ca374b7b06",
   "metadata": {
    "tags": []
   },
   "source": [
    "# Limpieza de los datos\n"
   ]
  },
  {
   "cell_type": "markdown",
   "id": "9b12a519-e1c3-4b70-8782-586cc09f25f8",
   "metadata": {},
   "source": [
    "## 2.1 limpiar columnas de espacios"
   ]
  },
  {
   "cell_type": "code",
   "execution_count": 3,
   "id": "f14a71c0-c534-4329-9325-b2270ae5a993",
   "metadata": {},
   "outputs": [],
   "source": [
    "# limpiar columnas de espacios\n",
    "\n",
    "columnas = df.columns\n",
    "columnas = map(lambda x: x.strip(), columnas)\n",
    "df.columns = columnas"
   ]
  },
  {
   "cell_type": "markdown",
   "id": "83ef1901-f1a3-496b-8b36-e85a6831209c",
   "metadata": {
    "tags": []
   },
   "source": [
    "## 2.2 identificar y eliminar las columnas inservibles"
   ]
  },
  {
   "cell_type": "code",
   "execution_count": 4,
   "id": "ca76b362-75bd-4cda-8155-6d675264cfa4",
   "metadata": {},
   "outputs": [
    {
     "data": {
      "text/plain": [
       "Index(['Case Number', 'Date', 'Year', 'Type', 'Country', 'Area', 'Location',\n",
       "       'Activity', 'Name', 'Sex', 'Age', 'Injury', 'Fatal (Y/N)', 'Time',\n",
       "       'Species', 'Investigator or Source', 'pdf', 'href formula', 'href',\n",
       "       'Case Number.1', 'Case Number.2', 'original order', 'Unnamed: 22',\n",
       "       'Unnamed: 23'],\n",
       "      dtype='object')"
      ]
     },
     "execution_count": 4,
     "metadata": {},
     "output_type": "execute_result"
    }
   ],
   "source": [
    "df.columns"
   ]
  },
  {
   "cell_type": "code",
   "execution_count": 5,
   "id": "44d1aadb-f3fa-4f6e-94fb-26318ee71f5a",
   "metadata": {},
   "outputs": [],
   "source": [
    "#Después de una exploración del df borramos las columnas\n",
    "#con datos no numéricos y que no se pueden categorizar \n",
    "#P. ej.enlaces y códigos repetidos y columnas basura sin datos"
   ]
  },
  {
   "cell_type": "code",
   "execution_count": 6,
   "id": "63ae08d2-67d8-4cfb-9c53-b7f4ff185c6c",
   "metadata": {},
   "outputs": [],
   "source": [
    "df.drop(['Year', 'Type', 'Area', 'Location',\n",
    "       'Activity', 'Name', 'Injury', 'Time',\n",
    "       'Species', 'Investigator or Source', 'pdf', 'href formula', 'href',\n",
    "       'Case Number.1', 'Case Number.2', 'original order', 'Unnamed: 22',\n",
    "       'Unnamed: 23'], axis= 1, inplace=True)"
   ]
  },
  {
   "cell_type": "code",
   "execution_count": 7,
   "id": "c253bc22-ee94-4e36-826e-c4415d89f65d",
   "metadata": {},
   "outputs": [
    {
     "data": {
      "text/plain": [
       "Index(['Case Number', 'Date', 'Country', 'Sex', 'Age', 'Fatal (Y/N)'], dtype='object')"
      ]
     },
     "execution_count": 7,
     "metadata": {},
     "output_type": "execute_result"
    }
   ],
   "source": [
    "df.columns"
   ]
  },
  {
   "cell_type": "code",
   "execution_count": 8,
   "id": "f9e35384-768f-42dc-849f-e728d0379171",
   "metadata": {},
   "outputs": [
    {
     "data": {
      "text/plain": [
       "(25723, 6)"
      ]
     },
     "execution_count": 8,
     "metadata": {},
     "output_type": "execute_result"
    }
   ],
   "source": [
    "df.shape"
   ]
  },
  {
   "cell_type": "markdown",
   "id": "7f6415c2-46da-4404-8332-7fd2d5a9dad5",
   "metadata": {},
   "source": [
    "## 2.2 filas"
   ]
  },
  {
   "cell_type": "markdown",
   "id": "8cb8b03c-ddc4-4318-a052-6cfd9767e351",
   "metadata": {},
   "source": [
    "## Borramos todas las filas con 100% de Nan"
   ]
  },
  {
   "cell_type": "code",
   "execution_count": 9,
   "id": "0854b1bd-bb1f-451e-b53d-c06c010a10b6",
   "metadata": {},
   "outputs": [],
   "source": [
    "df.dropna(how='all',inplace = True)"
   ]
  },
  {
   "cell_type": "code",
   "execution_count": 10,
   "id": "a71e71e0-ba02-4349-aabe-0418176435b5",
   "metadata": {},
   "outputs": [
    {
     "data": {
      "text/plain": [
       "[25722, 7121, 7128, 7127, 7126, 7125, 7124, 7123, 7122, 7120]"
      ]
     },
     "execution_count": 10,
     "metadata": {},
     "output_type": "execute_result"
    }
   ],
   "source": [
    "# para comprobar cuantos nulos hay por fila y listar los 10 que tienen más\n",
    "\n",
    "nulos = df.isnull().sum(axis=1)\n",
    "nulos.sort_values(ascending = False).head(10).index\n",
    "nul = nulos.sort_values(ascending = False).head(10).index\n",
    "list(nul)"
   ]
  },
  {
   "cell_type": "code",
   "execution_count": 11,
   "id": "09ae7b4b-ffaa-44b1-a5f6-b37e48c4cc05",
   "metadata": {},
   "outputs": [
    {
     "data": {
      "text/plain": [
       "(8703, 6)"
      ]
     },
     "execution_count": 11,
     "metadata": {},
     "output_type": "execute_result"
    }
   ],
   "source": [
    "df.shape"
   ]
  },
  {
   "cell_type": "markdown",
   "id": "2ecb49f7-9b22-4bbd-a9b3-9df488d64ddd",
   "metadata": {},
   "source": [
    "## borramos los filas con menos de 5 valores que no son Null\n"
   ]
  },
  {
   "cell_type": "code",
   "execution_count": 12,
   "id": "cc876c02-5b53-44ec-b117-cbf408df4d74",
   "metadata": {},
   "outputs": [],
   "source": [
    "#borramos los filas con menos de 10 valores que no son Null\n",
    "\n",
    "df.dropna(thresh=4, inplace=True)"
   ]
  },
  {
   "cell_type": "code",
   "execution_count": 13,
   "id": "e255bcd9-b5e7-4e9e-ab53-cd6b89ed5911",
   "metadata": {},
   "outputs": [
    {
     "data": {
      "text/plain": [
       "(6222, 6)"
      ]
     },
     "execution_count": 13,
     "metadata": {},
     "output_type": "execute_result"
    }
   ],
   "source": [
    "df.shape"
   ]
  },
  {
   "cell_type": "code",
   "execution_count": 14,
   "id": "25b88d5c-0da9-4855-9650-5f115ed4201c",
   "metadata": {},
   "outputs": [
    {
     "data": {
      "text/html": [
       "<div>\n",
       "<style scoped>\n",
       "    .dataframe tbody tr th:only-of-type {\n",
       "        vertical-align: middle;\n",
       "    }\n",
       "\n",
       "    .dataframe tbody tr th {\n",
       "        vertical-align: top;\n",
       "    }\n",
       "\n",
       "    .dataframe thead th {\n",
       "        text-align: right;\n",
       "    }\n",
       "</style>\n",
       "<table border=\"1\" class=\"dataframe\">\n",
       "  <thead>\n",
       "    <tr style=\"text-align: right;\">\n",
       "      <th></th>\n",
       "      <th>Case Number</th>\n",
       "      <th>Date</th>\n",
       "      <th>Country</th>\n",
       "      <th>Sex</th>\n",
       "      <th>Age</th>\n",
       "      <th>Fatal (Y/N)</th>\n",
       "    </tr>\n",
       "  </thead>\n",
       "  <tbody>\n",
       "    <tr>\n",
       "      <th>count</th>\n",
       "      <td>6221</td>\n",
       "      <td>6222</td>\n",
       "      <td>6178</td>\n",
       "      <td>5735</td>\n",
       "      <td>3471</td>\n",
       "      <td>5760</td>\n",
       "    </tr>\n",
       "    <tr>\n",
       "      <th>unique</th>\n",
       "      <td>6205</td>\n",
       "      <td>5362</td>\n",
       "      <td>211</td>\n",
       "      <td>6</td>\n",
       "      <td>157</td>\n",
       "      <td>8</td>\n",
       "    </tr>\n",
       "    <tr>\n",
       "      <th>top</th>\n",
       "      <td>1983.06.15</td>\n",
       "      <td>1957</td>\n",
       "      <td>USA</td>\n",
       "      <td>M</td>\n",
       "      <td>17</td>\n",
       "      <td>N</td>\n",
       "    </tr>\n",
       "    <tr>\n",
       "      <th>freq</th>\n",
       "      <td>2</td>\n",
       "      <td>11</td>\n",
       "      <td>2214</td>\n",
       "      <td>5092</td>\n",
       "      <td>154</td>\n",
       "      <td>4292</td>\n",
       "    </tr>\n",
       "  </tbody>\n",
       "</table>\n",
       "</div>"
      ],
      "text/plain": [
       "       Case Number  Date Country   Sex   Age Fatal (Y/N)\n",
       "count         6221  6222    6178  5735  3471        5760\n",
       "unique        6205  5362     211     6   157           8\n",
       "top     1983.06.15  1957     USA     M    17           N\n",
       "freq             2    11    2214  5092   154        4292"
      ]
     },
     "execution_count": 14,
     "metadata": {},
     "output_type": "execute_result"
    }
   ],
   "source": [
    "df.describe()"
   ]
  },
  {
   "cell_type": "markdown",
   "id": "eb3550d1-61c0-4ba4-aa87-a44b44a722d9",
   "metadata": {},
   "source": [
    "# 3 Dar formato a los datos"
   ]
  },
  {
   "cell_type": "markdown",
   "id": "611f0f2d-67d0-4850-877c-347792ae5ecc",
   "metadata": {},
   "source": [
    "## Nornalizar columna \"Fatal (Y/N)\""
   ]
  },
  {
   "cell_type": "code",
   "execution_count": 15,
   "id": "2dd5c0fa-ac1f-4cc9-9a46-98d697448be5",
   "metadata": {},
   "outputs": [
    {
     "data": {
      "text/plain": [
       "array(['N', 'Y', nan, 'M', 'UNKNOWN', '2017', ' N', 'N ', 'y'],\n",
       "      dtype=object)"
      ]
     },
     "execution_count": 15,
     "metadata": {},
     "output_type": "execute_result"
    }
   ],
   "source": [
    "df[\"Fatal (Y/N)\"].unique()"
   ]
  },
  {
   "cell_type": "code",
   "execution_count": 16,
   "id": "e9dcd483-0c59-4acf-a911-eee6191a3232",
   "metadata": {},
   "outputs": [],
   "source": [
    "#Eliminamos espacios\n",
    "df[\"Fatal (Y/N)\"] = df[\"Fatal (Y/N)\"].str.strip(to_strip=None)\n",
    "\n",
    "#lo pasamos todo a minúsculas\n",
    "df[\"Fatal (Y/N)\"]=df[\"Fatal (Y/N)\"].str.lower()\n",
    "\n",
    "#dejamos los \"n\" y los \"y\" y transformamos el resto en \"notknown\"\n",
    "df.loc[(df.loc[:, \"Fatal (Y/N)\"] != \"n\") & (df.loc[:, \"Fatal (Y/N)\"] != \"y\")] = \"notknown\""
   ]
  },
  {
   "cell_type": "code",
   "execution_count": 17,
   "id": "10c72df5-7d6b-45e7-ac8f-b6b3b276ba21",
   "metadata": {},
   "outputs": [
    {
     "data": {
      "text/plain": [
       "array(['n', 'y', 'notknown'], dtype=object)"
      ]
     },
     "execution_count": 17,
     "metadata": {},
     "output_type": "execute_result"
    }
   ],
   "source": [
    "df[\"Fatal (Y/N)\"].unique()"
   ]
  },
  {
   "cell_type": "markdown",
   "id": "57d48b58-3cf5-48a1-9f8f-4d617f723627",
   "metadata": {},
   "source": [
    "## Nornalizar columna \"Sex\""
   ]
  },
  {
   "cell_type": "code",
   "execution_count": 18,
   "id": "585f3ee9-aa8c-4811-8792-662f119e0dcd",
   "metadata": {},
   "outputs": [
    {
     "data": {
      "text/plain": [
       "array(['F', 'M', 'notknown', nan, 'M ', 'lli', 'N', '.'], dtype=object)"
      ]
     },
     "execution_count": 18,
     "metadata": {},
     "output_type": "execute_result"
    }
   ],
   "source": [
    "df[\"Sex\"].unique()"
   ]
  },
  {
   "cell_type": "code",
   "execution_count": 19,
   "id": "fef001ff-6c3f-4dcb-962f-b4bc1d462e68",
   "metadata": {},
   "outputs": [],
   "source": [
    "#Eliminamos espacios\n",
    "df[\"Sex\"] = df[\"Sex\"].str.strip(to_strip=None)\n",
    "\n",
    "#lo pasamos todo a minúsculas\n",
    "df[\"Sex\"]=df[\"Sex\"].str.lower()\n",
    "\n",
    "#dejamos las \"f\" y las \"m\" y transformamos el resto en \"notknown\"\n",
    "df.loc[(df.loc[:, 'Sex'] != \"f\") & (df.loc[:, 'Sex'] != \"m\")] = \"notknown\""
   ]
  },
  {
   "cell_type": "code",
   "execution_count": 20,
   "id": "91637410-ba40-4b99-a23b-6dc588bf64cd",
   "metadata": {},
   "outputs": [
    {
     "data": {
      "text/plain": [
       "array(['f', 'm', 'notknown'], dtype=object)"
      ]
     },
     "execution_count": 20,
     "metadata": {},
     "output_type": "execute_result"
    }
   ],
   "source": [
    "df[\"Sex\"].unique()"
   ]
  },
  {
   "cell_type": "code",
   "execution_count": null,
   "id": "8a950fed-d453-41b7-be6a-e4c010707ae3",
   "metadata": {},
   "outputs": [],
   "source": []
  },
  {
   "cell_type": "markdown",
   "id": "4ea0a8c2-4aec-42d5-9db7-6cfa4845bfd9",
   "metadata": {
    "tags": []
   },
   "source": [
    "## Normalizar columna Age a int or float"
   ]
  },
  {
   "cell_type": "code",
   "execution_count": 21,
   "id": "922ac835-c8b1-478b-90bc-b23afb8c46d5",
   "metadata": {},
   "outputs": [],
   "source": [
    "df[\"Age\"] = df.Age.str.strip()"
   ]
  },
  {
   "cell_type": "code",
   "execution_count": 22,
   "id": "d9c4322e-921e-44d8-b806-adf1e4093416",
   "metadata": {},
   "outputs": [],
   "source": [
    "df[\"Age_normalize\"] = pd.to_numeric(df['Age'], errors='coerce', downcast=\"integer\")"
   ]
  },
  {
   "cell_type": "code",
   "execution_count": 23,
   "id": "65ee8e55-7082-4221-84ef-27d51d134d8b",
   "metadata": {},
   "outputs": [],
   "source": [
    "df[\"Age_normalize\"].fillna(value = 0, inplace=True)"
   ]
  },
  {
   "cell_type": "code",
   "execution_count": 24,
   "id": "301c64dc-c1ca-4669-b437-cc3f030b692e",
   "metadata": {},
   "outputs": [],
   "source": [
    "df[\"Age_normalize\"] = df[\"Age_normalize\"].astype(int)"
   ]
  },
  {
   "cell_type": "code",
   "execution_count": null,
   "id": "2c033f3c-fda6-43b1-88a8-a6c93a776258",
   "metadata": {
    "tags": []
   },
   "outputs": [],
   "source": []
  },
  {
   "cell_type": "code",
   "execution_count": 26,
   "id": "ae005ede-f137-4d4e-9961-374612d5d45a",
   "metadata": {},
   "outputs": [
    {
     "data": {
      "text/plain": [
       "array([[<AxesSubplot:title={'center':'Age_normalize'}>]], dtype=object)"
      ]
     },
     "execution_count": 26,
     "metadata": {},
     "output_type": "execute_result"
    },
    {
     "data": {
      "image/png": "[encoded data removed]",
      "text/plain": [
       "<Figure size 1080x720 with 1 Axes>"
      ]
     },
     "metadata": {
      "needs_background": "light"
     },
     "output_type": "display_data"
    }
   ],
   "source": [
    "df[df[\"Age_normalize\"] > 0].hist(legend=True,bins=70, figsize = [15,10])"
   ]
  },
  {
   "cell_type": "code",
   "execution_count": 132,
   "id": "bc7b9039-d96f-4335-a9e0-beb69a56c03e",
   "metadata": {},
   "outputs": [
    {
     "data": {
      "text/plain": [
       "<AxesSubplot:>"
      ]
     },
     "execution_count": 132,
     "metadata": {},
     "output_type": "execute_result"
    },
    {
     "data": {
      "image/png": "[encoded data removed]",
      "text/plain": [
       "<Figure size 360x720 with 1 Axes>"
      ]
     },
     "metadata": {
      "needs_background": "light"
     },
     "output_type": "display_data"
    }
   ],
   "source": [
    "df[df[\"Age_normalize\"] > 0].boxplot(figsize=(5,10))"
   ]
  },
  {
   "cell_type": "markdown",
   "id": "d67701d6-3ce0-492d-809b-e05cbb24e76a",
   "metadata": {},
   "source": [
    "# Diferencias por sexo\n",
    "## Edad"
   ]
  },
  {
   "cell_type": "code",
   "execution_count": 30,
   "id": "ab8eb9b9-375d-4eee-bd1b-1bcc956c29cc",
   "metadata": {},
   "outputs": [
    {
     "data": {
      "text/html": [
       "<div>\n",
       "<style scoped>\n",
       "    .dataframe tbody tr th:only-of-type {\n",
       "        vertical-align: middle;\n",
       "    }\n",
       "\n",
       "    .dataframe tbody tr th {\n",
       "        vertical-align: top;\n",
       "    }\n",
       "\n",
       "    .dataframe thead th {\n",
       "        text-align: right;\n",
       "    }\n",
       "</style>\n",
       "<table border=\"1\" class=\"dataframe\">\n",
       "  <thead>\n",
       "    <tr style=\"text-align: right;\">\n",
       "      <th></th>\n",
       "      <th>Age_normalize</th>\n",
       "    </tr>\n",
       "  </thead>\n",
       "  <tbody>\n",
       "    <tr>\n",
       "      <th>count</th>\n",
       "      <td>408.000000</td>\n",
       "    </tr>\n",
       "    <tr>\n",
       "      <th>mean</th>\n",
       "      <td>27.098039</td>\n",
       "    </tr>\n",
       "    <tr>\n",
       "      <th>std</th>\n",
       "      <td>16.482146</td>\n",
       "    </tr>\n",
       "    <tr>\n",
       "      <th>min</th>\n",
       "      <td>3.000000</td>\n",
       "    </tr>\n",
       "    <tr>\n",
       "      <th>25%</th>\n",
       "      <td>14.000000</td>\n",
       "    </tr>\n",
       "    <tr>\n",
       "      <th>50%</th>\n",
       "      <td>21.000000</td>\n",
       "    </tr>\n",
       "    <tr>\n",
       "      <th>75%</th>\n",
       "      <td>38.000000</td>\n",
       "    </tr>\n",
       "    <tr>\n",
       "      <th>max</th>\n",
       "      <td>77.000000</td>\n",
       "    </tr>\n",
       "  </tbody>\n",
       "</table>\n",
       "</div>"
      ],
      "text/plain": [
       "       Age_normalize\n",
       "count     408.000000\n",
       "mean       27.098039\n",
       "std        16.482146\n",
       "min         3.000000\n",
       "25%        14.000000\n",
       "50%        21.000000\n",
       "75%        38.000000\n",
       "max        77.000000"
      ]
     },
     "execution_count": 30,
     "metadata": {},
     "output_type": "execute_result"
    }
   ],
   "source": [
    "df[(df[\"Age_normalize\"] > 0) & (df[\"Sex\"] == \"f\")].describe()"
   ]
  },
  {
   "cell_type": "code",
   "execution_count": 40,
   "id": "7ebc8570-4e73-4c0b-a0bf-212cdee82f8f",
   "metadata": {},
   "outputs": [
    {
     "data": {
      "text/html": [
       "<div>\n",
       "<style scoped>\n",
       "    .dataframe tbody tr th:only-of-type {\n",
       "        vertical-align: middle;\n",
       "    }\n",
       "\n",
       "    .dataframe tbody tr th {\n",
       "        vertical-align: top;\n",
       "    }\n",
       "\n",
       "    .dataframe thead th {\n",
       "        text-align: right;\n",
       "    }\n",
       "</style>\n",
       "<table border=\"1\" class=\"dataframe\">\n",
       "  <thead>\n",
       "    <tr style=\"text-align: right;\">\n",
       "      <th></th>\n",
       "      <th>Age_normalize</th>\n",
       "    </tr>\n",
       "  </thead>\n",
       "  <tbody>\n",
       "    <tr>\n",
       "      <th>count</th>\n",
       "      <td>2704.000000</td>\n",
       "    </tr>\n",
       "    <tr>\n",
       "      <th>mean</th>\n",
       "      <td>27.316568</td>\n",
       "    </tr>\n",
       "    <tr>\n",
       "      <th>std</th>\n",
       "      <td>13.384286</td>\n",
       "    </tr>\n",
       "    <tr>\n",
       "      <th>min</th>\n",
       "      <td>1.000000</td>\n",
       "    </tr>\n",
       "    <tr>\n",
       "      <th>25%</th>\n",
       "      <td>17.000000</td>\n",
       "    </tr>\n",
       "    <tr>\n",
       "      <th>50%</th>\n",
       "      <td>24.000000</td>\n",
       "    </tr>\n",
       "    <tr>\n",
       "      <th>75%</th>\n",
       "      <td>35.000000</td>\n",
       "    </tr>\n",
       "    <tr>\n",
       "      <th>max</th>\n",
       "      <td>87.000000</td>\n",
       "    </tr>\n",
       "  </tbody>\n",
       "</table>\n",
       "</div>"
      ],
      "text/plain": [
       "       Age_normalize\n",
       "count    2704.000000\n",
       "mean       27.316568\n",
       "std        13.384286\n",
       "min         1.000000\n",
       "25%        17.000000\n",
       "50%        24.000000\n",
       "75%        35.000000\n",
       "max        87.000000"
      ]
     },
     "execution_count": 40,
     "metadata": {},
     "output_type": "execute_result"
    }
   ],
   "source": [
    "df[(df[\"Age_normalize\"] > 0) & (df[\"Sex\"] == \"m\")].describe()"
   ]
  },
  {
   "cell_type": "code",
   "execution_count": 41,
   "id": "d566150c-efaf-4864-80c7-f8d73bed64df",
   "metadata": {},
   "outputs": [
    {
     "data": {
      "text/html": [
       "<div>\n",
       "<style scoped>\n",
       "    .dataframe tbody tr th:only-of-type {\n",
       "        vertical-align: middle;\n",
       "    }\n",
       "\n",
       "    .dataframe tbody tr th {\n",
       "        vertical-align: top;\n",
       "    }\n",
       "\n",
       "    .dataframe thead th {\n",
       "        text-align: right;\n",
       "    }\n",
       "</style>\n",
       "<table border=\"1\" class=\"dataframe\">\n",
       "  <thead>\n",
       "    <tr style=\"text-align: right;\">\n",
       "      <th></th>\n",
       "      <th>Age_normalize</th>\n",
       "    </tr>\n",
       "  </thead>\n",
       "  <tbody>\n",
       "    <tr>\n",
       "      <th>count</th>\n",
       "      <td>521.000000</td>\n",
       "    </tr>\n",
       "    <tr>\n",
       "      <th>mean</th>\n",
       "      <td>26.783109</td>\n",
       "    </tr>\n",
       "    <tr>\n",
       "      <th>std</th>\n",
       "      <td>13.477366</td>\n",
       "    </tr>\n",
       "    <tr>\n",
       "      <th>min</th>\n",
       "      <td>1.000000</td>\n",
       "    </tr>\n",
       "    <tr>\n",
       "      <th>25%</th>\n",
       "      <td>17.000000</td>\n",
       "    </tr>\n",
       "    <tr>\n",
       "      <th>50%</th>\n",
       "      <td>22.000000</td>\n",
       "    </tr>\n",
       "    <tr>\n",
       "      <th>75%</th>\n",
       "      <td>33.000000</td>\n",
       "    </tr>\n",
       "    <tr>\n",
       "      <th>max</th>\n",
       "      <td>84.000000</td>\n",
       "    </tr>\n",
       "  </tbody>\n",
       "</table>\n",
       "</div>"
      ],
      "text/plain": [
       "       Age_normalize\n",
       "count     521.000000\n",
       "mean       26.783109\n",
       "std        13.477366\n",
       "min         1.000000\n",
       "25%        17.000000\n",
       "50%        22.000000\n",
       "75%        33.000000\n",
       "max        84.000000"
      ]
     },
     "execution_count": 41,
     "metadata": {},
     "output_type": "execute_result"
    }
   ],
   "source": [
    "df[(df[\"Age_normalize\"] > 0) & (df[\"Sex\"] == \"m\") & (df[\"Fatal (Y/N)\"] == \"y\")].describe()"
   ]
  },
  {
   "cell_type": "code",
   "execution_count": 42,
   "id": "bc81d35f-2b04-4fd5-b001-6440ef656349",
   "metadata": {},
   "outputs": [
    {
     "data": {
      "text/html": [
       "<div>\n",
       "<style scoped>\n",
       "    .dataframe tbody tr th:only-of-type {\n",
       "        vertical-align: middle;\n",
       "    }\n",
       "\n",
       "    .dataframe tbody tr th {\n",
       "        vertical-align: top;\n",
       "    }\n",
       "\n",
       "    .dataframe thead th {\n",
       "        text-align: right;\n",
       "    }\n",
       "</style>\n",
       "<table border=\"1\" class=\"dataframe\">\n",
       "  <thead>\n",
       "    <tr style=\"text-align: right;\">\n",
       "      <th></th>\n",
       "      <th>Age_normalize</th>\n",
       "    </tr>\n",
       "  </thead>\n",
       "  <tbody>\n",
       "    <tr>\n",
       "      <th>count</th>\n",
       "      <td>2183.000000</td>\n",
       "    </tr>\n",
       "    <tr>\n",
       "      <th>mean</th>\n",
       "      <td>27.443885</td>\n",
       "    </tr>\n",
       "    <tr>\n",
       "      <th>std</th>\n",
       "      <td>13.361931</td>\n",
       "    </tr>\n",
       "    <tr>\n",
       "      <th>min</th>\n",
       "      <td>3.000000</td>\n",
       "    </tr>\n",
       "    <tr>\n",
       "      <th>25%</th>\n",
       "      <td>17.000000</td>\n",
       "    </tr>\n",
       "    <tr>\n",
       "      <th>50%</th>\n",
       "      <td>24.000000</td>\n",
       "    </tr>\n",
       "    <tr>\n",
       "      <th>75%</th>\n",
       "      <td>35.000000</td>\n",
       "    </tr>\n",
       "    <tr>\n",
       "      <th>max</th>\n",
       "      <td>87.000000</td>\n",
       "    </tr>\n",
       "  </tbody>\n",
       "</table>\n",
       "</div>"
      ],
      "text/plain": [
       "       Age_normalize\n",
       "count    2183.000000\n",
       "mean       27.443885\n",
       "std        13.361931\n",
       "min         3.000000\n",
       "25%        17.000000\n",
       "50%        24.000000\n",
       "75%        35.000000\n",
       "max        87.000000"
      ]
     },
     "execution_count": 42,
     "metadata": {},
     "output_type": "execute_result"
    }
   ],
   "source": [
    "df[(df[\"Age_normalize\"] > 0) & (df[\"Sex\"] == \"m\") & (df[\"Fatal (Y/N)\"] == \"n\")].describe()"
   ]
  },
  {
   "cell_type": "code",
   "execution_count": 43,
   "id": "82de0758-4d2e-43a5-ad7c-3fe5f6ebf141",
   "metadata": {},
   "outputs": [
    {
     "data": {
      "text/html": [
       "<div>\n",
       "<style scoped>\n",
       "    .dataframe tbody tr th:only-of-type {\n",
       "        vertical-align: middle;\n",
       "    }\n",
       "\n",
       "    .dataframe tbody tr th {\n",
       "        vertical-align: top;\n",
       "    }\n",
       "\n",
       "    .dataframe thead th {\n",
       "        text-align: right;\n",
       "    }\n",
       "</style>\n",
       "<table border=\"1\" class=\"dataframe\">\n",
       "  <thead>\n",
       "    <tr style=\"text-align: right;\">\n",
       "      <th></th>\n",
       "      <th>Age_normalize</th>\n",
       "    </tr>\n",
       "  </thead>\n",
       "  <tbody>\n",
       "    <tr>\n",
       "      <th>count</th>\n",
       "      <td>66.000000</td>\n",
       "    </tr>\n",
       "    <tr>\n",
       "      <th>mean</th>\n",
       "      <td>30.681818</td>\n",
       "    </tr>\n",
       "    <tr>\n",
       "      <th>std</th>\n",
       "      <td>18.911258</td>\n",
       "    </tr>\n",
       "    <tr>\n",
       "      <th>min</th>\n",
       "      <td>3.000000</td>\n",
       "    </tr>\n",
       "    <tr>\n",
       "      <th>25%</th>\n",
       "      <td>17.250000</td>\n",
       "    </tr>\n",
       "    <tr>\n",
       "      <th>50%</th>\n",
       "      <td>24.000000</td>\n",
       "    </tr>\n",
       "    <tr>\n",
       "      <th>75%</th>\n",
       "      <td>41.750000</td>\n",
       "    </tr>\n",
       "    <tr>\n",
       "      <th>max</th>\n",
       "      <td>77.000000</td>\n",
       "    </tr>\n",
       "  </tbody>\n",
       "</table>\n",
       "</div>"
      ],
      "text/plain": [
       "       Age_normalize\n",
       "count      66.000000\n",
       "mean       30.681818\n",
       "std        18.911258\n",
       "min         3.000000\n",
       "25%        17.250000\n",
       "50%        24.000000\n",
       "75%        41.750000\n",
       "max        77.000000"
      ]
     },
     "execution_count": 43,
     "metadata": {},
     "output_type": "execute_result"
    }
   ],
   "source": [
    "df[(df[\"Age_normalize\"] > 0) & (df[\"Sex\"] == \"f\") & (df[\"Fatal (Y/N)\"] == \"y\")].describe()"
   ]
  },
  {
   "cell_type": "code",
   "execution_count": 44,
   "id": "5d28ba7d-f51f-4c36-bb29-ebc804ec26ad",
   "metadata": {},
   "outputs": [
    {
     "data": {
      "text/html": [
       "<div>\n",
       "<style scoped>\n",
       "    .dataframe tbody tr th:only-of-type {\n",
       "        vertical-align: middle;\n",
       "    }\n",
       "\n",
       "    .dataframe tbody tr th {\n",
       "        vertical-align: top;\n",
       "    }\n",
       "\n",
       "    .dataframe thead th {\n",
       "        text-align: right;\n",
       "    }\n",
       "</style>\n",
       "<table border=\"1\" class=\"dataframe\">\n",
       "  <thead>\n",
       "    <tr style=\"text-align: right;\">\n",
       "      <th></th>\n",
       "      <th>Age_normalize</th>\n",
       "    </tr>\n",
       "  </thead>\n",
       "  <tbody>\n",
       "    <tr>\n",
       "      <th>count</th>\n",
       "      <td>342.000000</td>\n",
       "    </tr>\n",
       "    <tr>\n",
       "      <th>mean</th>\n",
       "      <td>26.406433</td>\n",
       "    </tr>\n",
       "    <tr>\n",
       "      <th>std</th>\n",
       "      <td>15.909246</td>\n",
       "    </tr>\n",
       "    <tr>\n",
       "      <th>min</th>\n",
       "      <td>3.000000</td>\n",
       "    </tr>\n",
       "    <tr>\n",
       "      <th>25%</th>\n",
       "      <td>14.000000</td>\n",
       "    </tr>\n",
       "    <tr>\n",
       "      <th>50%</th>\n",
       "      <td>20.500000</td>\n",
       "    </tr>\n",
       "    <tr>\n",
       "      <th>75%</th>\n",
       "      <td>37.750000</td>\n",
       "    </tr>\n",
       "    <tr>\n",
       "      <th>max</th>\n",
       "      <td>70.000000</td>\n",
       "    </tr>\n",
       "  </tbody>\n",
       "</table>\n",
       "</div>"
      ],
      "text/plain": [
       "       Age_normalize\n",
       "count     342.000000\n",
       "mean       26.406433\n",
       "std        15.909246\n",
       "min         3.000000\n",
       "25%        14.000000\n",
       "50%        20.500000\n",
       "75%        37.750000\n",
       "max        70.000000"
      ]
     },
     "execution_count": 44,
     "metadata": {},
     "output_type": "execute_result"
    }
   ],
   "source": [
    "df[(df[\"Age_normalize\"] > 0) & (df[\"Sex\"] == \"f\") & (df[\"Fatal (Y/N)\"] == \"n\")].describe()"
   ]
  },
  {
   "cell_type": "code",
   "execution_count": null,
   "id": "36941586-3718-4bb2-a316-6fc51faf07a0",
   "metadata": {},
   "outputs": [],
   "source": []
  },
  {
   "cell_type": "code",
   "execution_count": null,
   "id": "6e995b70-5c51-4581-9699-d95db671c196",
   "metadata": {},
   "outputs": [],
   "source": []
  },
  {
   "cell_type": "code",
   "execution_count": null,
   "id": "40356e08-e9cc-4f86-92db-8d60e0789618",
   "metadata": {},
   "outputs": [],
   "source": []
  },
  {
   "cell_type": "code",
   "execution_count": null,
   "id": "0f90de8a-f4c6-41a0-8d66-1e63bdc3a29b",
   "metadata": {},
   "outputs": [],
   "source": [
    "mujeres = df[\"Sex\"] == \"f\"\n",
    "\n",
    "\n",
    "df_mujeres = df[mujeres]\n",
    "df_mujeres[df_mujeres[\"Age_normalize\"] > 0].mean()"
   ]
  },
  {
   "cell_type": "code",
   "execution_count": null,
   "id": "028fd42d-4b0e-46cd-aa83-f5b4419fa56f",
   "metadata": {},
   "outputs": [],
   "source": []
  },
  {
   "cell_type": "code",
   "execution_count": null,
   "id": "a575cf55-2e31-4622-8c37-1fb1f35519d2",
   "metadata": {},
   "outputs": [],
   "source": []
  },
  {
   "cell_type": "code",
   "execution_count": null,
   "id": "b53c6dc2-0f32-4687-a06c-b7945fbc0da2",
   "metadata": {},
   "outputs": [],
   "source": []
  },
  {
   "cell_type": "code",
   "execution_count": 46,
   "id": "20c9c898-51cc-4765-95e6-e3463190dcac",
   "metadata": {},
   "outputs": [],
   "source": [
    "Mujeres = df[df['Sex'] == \"f\"]"
   ]
  },
  {
   "cell_type": "code",
   "execution_count": 47,
   "id": "500027e7-917e-40f5-a99c-589c022c0cea",
   "metadata": {},
   "outputs": [
    {
     "data": {
      "text/plain": [
       "Sex\n",
       "m           4655\n",
       "notknown     992\n",
       "f            575\n",
       "dtype: int64"
      ]
     },
     "execution_count": 47,
     "metadata": {},
     "output_type": "execute_result"
    }
   ],
   "source": [
    "df.value_counts(\"Sex\")"
   ]
  },
  {
   "cell_type": "code",
   "execution_count": 48,
   "id": "1e30bb6c-2102-4a7e-97e1-fa63e800281d",
   "metadata": {},
   "outputs": [
    {
     "data": {
      "text/plain": [
       "Fatal (Y/N)\n",
       "n    468\n",
       "y    107\n",
       "dtype: int64"
      ]
     },
     "execution_count": 48,
     "metadata": {},
     "output_type": "execute_result"
    }
   ],
   "source": [
    "Mujeres.value_counts('Fatal (Y/N)')"
   ]
  },
  {
   "cell_type": "code",
   "execution_count": 49,
   "id": "687c16f1-d099-4a90-82ad-542302d205eb",
   "metadata": {},
   "outputs": [],
   "source": [
    "Hombres = df[df['Sex'] == \"m\"]"
   ]
  },
  {
   "cell_type": "code",
   "execution_count": 50,
   "id": "264fcae2-53b9-4320-a1a2-b65c6459cf33",
   "metadata": {},
   "outputs": [
    {
     "data": {
      "text/plain": [
       "Sex\n",
       "m           4655\n",
       "notknown     992\n",
       "f            575\n",
       "dtype: int64"
      ]
     },
     "execution_count": 50,
     "metadata": {},
     "output_type": "execute_result"
    }
   ],
   "source": [
    "df.value_counts(\"Sex\")"
   ]
  },
  {
   "cell_type": "code",
   "execution_count": 51,
   "id": "592411db-78d2-4b2c-ae29-adec59388007",
   "metadata": {},
   "outputs": [
    {
     "data": {
      "text/plain": [
       "Fatal (Y/N)\n",
       "n    3482\n",
       "y    1173\n",
       "dtype: int64"
      ]
     },
     "execution_count": 51,
     "metadata": {},
     "output_type": "execute_result"
    }
   ],
   "source": [
    "Hombres.value_counts('Fatal (Y/N)')"
   ]
  },
  {
   "cell_type": "code",
   "execution_count": 53,
   "id": "30aeebc5-8592-42bd-9c83-cf2388fac80d",
   "metadata": {},
   "outputs": [
    {
     "data": {
      "text/plain": [
       "Text(0, 0.5, 'Cantidad')"
      ]
     },
     "execution_count": 53,
     "metadata": {},
     "output_type": "execute_result"
    },
    {
     "data": {
      "image/png": "[encoded data removed]",
      "text/plain": [
       "<Figure size 432x288 with 1 Axes>"
      ]
     },
     "metadata": {},
     "output_type": "display_data"
    }
   ],
   "source": [
    "from matplotlib import pyplot as plt\n",
    "plotdata = Mujeres.value_counts(['Sex','Fatal (Y/N)'])\n",
    "\n",
    "\n",
    "\n",
    "plotdata.plot(kind=\"pie\")\n",
    "plt.title(\"supervicencia por género\")\n",
    "plt.xlabel(\"Mujeres\")\n",
    "plt.ylabel(\"Cantidad\")"
   ]
  },
  {
   "cell_type": "code",
   "execution_count": 55,
   "id": "39bb3673-01d5-44b2-9bfb-735cc783dc4b",
   "metadata": {},
   "outputs": [
    {
     "data": {
      "text/plain": [
       "Text(0, 0.5, 'Cantidad')"
      ]
     },
     "execution_count": 55,
     "metadata": {},
     "output_type": "execute_result"
    },
    {
     "data": {
      "image/png": "[encoded data removed]",
      "text/plain": [
       "<Figure size 432x288 with 1 Axes>"
      ]
     },
     "metadata": {},
     "output_type": "display_data"
    }
   ],
   "source": [
    "plotdata = Hombres.value_counts(['Fatal (Y/N)'])\n",
    "\n",
    "\n",
    "\n",
    "plotdata.plot(kind=\"pie\")\n",
    "plt.title(\"supervicencia por género\")\n",
    "plt.xlabel(\"Hombres\")\n",
    "plt.ylabel(\"Cantidad\")"
   ]
  },
  {
   "cell_type": "code",
   "execution_count": null,
   "id": "bac9c224-9f92-4de2-89ff-f185c3489d6c",
   "metadata": {},
   "outputs": [],
   "source": []
  },
  {
   "cell_type": "code",
   "execution_count": null,
   "id": "32487517-73b9-4b82-8e1f-2a8e529066c7",
   "metadata": {},
   "outputs": [],
   "source": []
  },
  {
   "cell_type": "code",
   "execution_count": 60,
   "id": "a8d8fa5c-4fb0-4520-9512-121fda81d7e8",
   "metadata": {},
   "outputs": [],
   "source": [
    "desco = df[df['Sex'] == \"notknown\"]"
   ]
  },
  {
   "cell_type": "code",
   "execution_count": 61,
   "id": "0644675c-c7bb-41dd-b752-a9240c181598",
   "metadata": {},
   "outputs": [
    {
     "data": {
      "text/plain": [
       "Fatal (Y/N)\n",
       "notknown    992\n",
       "dtype: int64"
      ]
     },
     "execution_count": 61,
     "metadata": {},
     "output_type": "execute_result"
    }
   ],
   "source": [
    "desco.value_counts('Fatal (Y/N)')"
   ]
  },
  {
   "cell_type": "code",
   "execution_count": null,
   "id": "fc0cd3d3-4466-4906-b016-ba06ebcc5165",
   "metadata": {},
   "outputs": [],
   "source": []
  },
  {
   "cell_type": "code",
   "execution_count": null,
   "id": "c85073c6-b19b-4174-bdb8-fa4cb29fed8d",
   "metadata": {},
   "outputs": [],
   "source": []
  },
  {
   "cell_type": "code",
   "execution_count": null,
   "id": "415cbd65-51e5-4f94-b517-3551c06ef175",
   "metadata": {},
   "outputs": [],
   "source": []
  },
  {
   "cell_type": "code",
   "execution_count": null,
   "id": "918f1d8c-93db-4c40-8dc5-e6a7afc569a7",
   "metadata": {},
   "outputs": [],
   "source": []
  },
  {
   "cell_type": "code",
   "execution_count": null,
   "id": "010fb571-49ae-4734-b2c8-1c43e4a65acc",
   "metadata": {},
   "outputs": [],
   "source": []
  },
  {
   "cell_type": "code",
   "execution_count": null,
   "id": "850c8748-81cd-4b34-b79d-b04918870cae",
   "metadata": {},
   "outputs": [],
   "source": []
  },
  {
   "cell_type": "code",
   "execution_count": null,
   "id": "040b442b-18cb-4d7e-a538-093a38a1609b",
   "metadata": {},
   "outputs": [],
   "source": []
  },
  {
   "cell_type": "code",
   "execution_count": null,
   "id": "3417da3b-6b66-4313-8c31-6777b739e5d4",
   "metadata": {},
   "outputs": [],
   "source": []
  },
  {
   "cell_type": "code",
   "execution_count": 56,
   "id": "f8d4ca10-abe8-4aa6-aba5-7d6e20ec2a0e",
   "metadata": {},
   "outputs": [
    {
     "data": {
      "text/plain": [
       "Text(0, 0.5, 'Cantidad')"
      ]
     },
     "execution_count": 56,
     "metadata": {},
     "output_type": "execute_result"
    },
    {
     "data": {
      "image/png": "[encoded data removed]",
      "text/plain": [
       "<Figure size 432x288 with 1 Axes>"
      ]
     },
     "metadata": {},
     "output_type": "display_data"
    }
   ],
   "source": [
    "from matplotlib import pyplot as plt\n",
    "plotdata = df.value_counts(['Sex','Fatal (Y/N)'])\n",
    "\n",
    "\n",
    "\n",
    "plotdata.plot(kind=\"pie\")\n",
    "plt.title(\"supervicencia por género\")\n",
    "plt.xlabel(\"Mujeres\")\n",
    "plt.ylabel(\"Cantidad\")"
   ]
  },
  {
   "cell_type": "code",
   "execution_count": 58,
   "id": "0c4406d4-9236-4ee7-b0c6-f7ecf8575c22",
   "metadata": {},
   "outputs": [
    {
     "data": {
      "text/html": [
       "<div>\n",
       "<style scoped>\n",
       "    .dataframe tbody tr th:only-of-type {\n",
       "        vertical-align: middle;\n",
       "    }\n",
       "\n",
       "    .dataframe tbody tr th {\n",
       "        vertical-align: top;\n",
       "    }\n",
       "\n",
       "    .dataframe thead th {\n",
       "        text-align: right;\n",
       "    }\n",
       "</style>\n",
       "<table border=\"1\" class=\"dataframe\">\n",
       "  <thead>\n",
       "    <tr style=\"text-align: right;\">\n",
       "      <th></th>\n",
       "      <th>Age_normalize</th>\n",
       "    </tr>\n",
       "  </thead>\n",
       "  <tbody>\n",
       "    <tr>\n",
       "      <th>count</th>\n",
       "      <td>4655.000000</td>\n",
       "    </tr>\n",
       "    <tr>\n",
       "      <th>mean</th>\n",
       "      <td>15.867669</td>\n",
       "    </tr>\n",
       "    <tr>\n",
       "      <th>std</th>\n",
       "      <td>16.904103</td>\n",
       "    </tr>\n",
       "    <tr>\n",
       "      <th>min</th>\n",
       "      <td>0.000000</td>\n",
       "    </tr>\n",
       "    <tr>\n",
       "      <th>25%</th>\n",
       "      <td>0.000000</td>\n",
       "    </tr>\n",
       "    <tr>\n",
       "      <th>50%</th>\n",
       "      <td>15.000000</td>\n",
       "    </tr>\n",
       "    <tr>\n",
       "      <th>75%</th>\n",
       "      <td>26.000000</td>\n",
       "    </tr>\n",
       "    <tr>\n",
       "      <th>max</th>\n",
       "      <td>87.000000</td>\n",
       "    </tr>\n",
       "  </tbody>\n",
       "</table>\n",
       "</div>"
      ],
      "text/plain": [
       "       Age_normalize\n",
       "count    4655.000000\n",
       "mean       15.867669\n",
       "std        16.904103\n",
       "min         0.000000\n",
       "25%         0.000000\n",
       "50%        15.000000\n",
       "75%        26.000000\n",
       "max        87.000000"
      ]
     },
     "execution_count": 58,
     "metadata": {},
     "output_type": "execute_result"
    }
   ],
   "source": [
    "Hombres.describe()"
   ]
  },
  {
   "cell_type": "code",
   "execution_count": 59,
   "id": "2399c68f-2b72-40fb-9e5a-1d1e8aa4cd3a",
   "metadata": {},
   "outputs": [
    {
     "data": {
      "text/html": [
       "<div>\n",
       "<style scoped>\n",
       "    .dataframe tbody tr th:only-of-type {\n",
       "        vertical-align: middle;\n",
       "    }\n",
       "\n",
       "    .dataframe tbody tr th {\n",
       "        vertical-align: top;\n",
       "    }\n",
       "\n",
       "    .dataframe thead th {\n",
       "        text-align: right;\n",
       "    }\n",
       "</style>\n",
       "<table border=\"1\" class=\"dataframe\">\n",
       "  <thead>\n",
       "    <tr style=\"text-align: right;\">\n",
       "      <th></th>\n",
       "      <th>Age_normalize</th>\n",
       "    </tr>\n",
       "  </thead>\n",
       "  <tbody>\n",
       "    <tr>\n",
       "      <th>count</th>\n",
       "      <td>575.000000</td>\n",
       "    </tr>\n",
       "    <tr>\n",
       "      <th>mean</th>\n",
       "      <td>19.227826</td>\n",
       "    </tr>\n",
       "    <tr>\n",
       "      <th>std</th>\n",
       "      <td>18.553020</td>\n",
       "    </tr>\n",
       "    <tr>\n",
       "      <th>min</th>\n",
       "      <td>0.000000</td>\n",
       "    </tr>\n",
       "    <tr>\n",
       "      <th>25%</th>\n",
       "      <td>0.000000</td>\n",
       "    </tr>\n",
       "    <tr>\n",
       "      <th>50%</th>\n",
       "      <td>15.000000</td>\n",
       "    </tr>\n",
       "    <tr>\n",
       "      <th>75%</th>\n",
       "      <td>30.000000</td>\n",
       "    </tr>\n",
       "    <tr>\n",
       "      <th>max</th>\n",
       "      <td>77.000000</td>\n",
       "    </tr>\n",
       "  </tbody>\n",
       "</table>\n",
       "</div>"
      ],
      "text/plain": [
       "       Age_normalize\n",
       "count     575.000000\n",
       "mean       19.227826\n",
       "std        18.553020\n",
       "min         0.000000\n",
       "25%         0.000000\n",
       "50%        15.000000\n",
       "75%        30.000000\n",
       "max        77.000000"
      ]
     },
     "execution_count": 59,
     "metadata": {},
     "output_type": "execute_result"
    }
   ],
   "source": [
    "Mujeres.describe()"
   ]
  },
  {
   "cell_type": "code",
   "execution_count": null,
   "id": "dea3851d-29c4-4939-9069-0caefb514272",
   "metadata": {},
   "outputs": [],
   "source": []
  },
  {
   "cell_type": "code",
   "execution_count": null,
   "id": "a44e771c-1758-491f-99f6-fbf66b5e047a",
   "metadata": {},
   "outputs": [],
   "source": []
  },
  {
   "cell_type": "code",
   "execution_count": null,
   "id": "4faa53a7-63ef-44b6-aae5-b9df0748fbcd",
   "metadata": {},
   "outputs": [],
   "source": []
  },
  {
   "cell_type": "code",
   "execution_count": null,
   "id": "e27674b6-a719-416b-97c6-8c9b92bc1a10",
   "metadata": {},
   "outputs": [],
   "source": []
  },
  {
   "cell_type": "code",
   "execution_count": null,
   "id": "f4c66bff-2d07-4b9d-9c57-9a1f00cc5a3a",
   "metadata": {},
   "outputs": [],
   "source": []
  },
  {
   "cell_type": "code",
   "execution_count": null,
   "id": "1fa122fa-18d0-4e0f-b676-a9d79934e82f",
   "metadata": {},
   "outputs": [],
   "source": []
  },
  {
   "cell_type": "markdown",
   "id": "c4437684-3744-4051-851b-4116709c11b0",
   "metadata": {
    "tags": []
   },
   "source": [
    "## Normalizar columna Date a datetime"
   ]
  },
  {
   "cell_type": "code",
   "execution_count": 134,
   "id": "f5125d03-eb4e-4960-bc13-b01c5e53c1d0",
   "metadata": {},
   "outputs": [
    {
     "data": {
      "text/plain": [
       "'\\nPara normalizar las fechas rellenamos los NaN con una fecha futura para \\ndespués poder excluirla facilmente a la hora de trabajr con los datos\\nde esa columna\\n\\nExclude_date= \"2030-01-01 00:00:00\"\\n\\n'"
      ]
     },
     "execution_count": 134,
     "metadata": {},
     "output_type": "execute_result"
    }
   ],
   "source": [
    "\"\"\"\n",
    "Para normalizar las fechas rellenamos los NaN con una fecha futura para \n",
    "después poder excluirla facilmente a la hora de trabajr con los datos\n",
    "de esa columna\n",
    "\n",
    "Exclude_date= \"2030-01-01 00:00:00\"\n",
    "\n",
    "\"\"\""
   ]
  },
  {
   "cell_type": "code",
   "execution_count": 135,
   "id": "500704ac-151b-49a9-bf1d-4a60ac58402e",
   "metadata": {},
   "outputs": [
    {
     "data": {
      "text/plain": [
       "0"
      ]
     },
     "execution_count": 135,
     "metadata": {},
     "output_type": "execute_result"
    }
   ],
   "source": [
    "df['Date'].isnull().sum()"
   ]
  },
  {
   "cell_type": "code",
   "execution_count": 136,
   "id": "7a6c3a9e-acd5-443d-b13e-fcedf3c42c85",
   "metadata": {},
   "outputs": [
    {
     "data": {
      "text/plain": [
       "0       25-Jun-2018\n",
       "1       18-Jun-2018\n",
       "2       09-Jun-2018\n",
       "3       08-Jun-2018\n",
       "4       04-Jun-2018\n",
       "           ...     \n",
       "6297    Before 1903\n",
       "6298    Before 1903\n",
       "6299      1900-1905\n",
       "6300      1883-1889\n",
       "6301      1845-1853\n",
       "Name: Date, Length: 6222, dtype: object"
      ]
     },
     "execution_count": 136,
     "metadata": {},
     "output_type": "execute_result"
    }
   ],
   "source": [
    "df['Date']"
   ]
  },
  {
   "cell_type": "code",
   "execution_count": 137,
   "id": "66da4d56-29e3-4462-a7d5-cb30209a88f9",
   "metadata": {},
   "outputs": [],
   "source": [
    "#convertimos Date a datetime para la columna 'Date_normalize'\n",
    "\n",
    "df['Date_normalize'] = pd.to_datetime(df['Date'], errors ='coerce')"
   ]
  },
  {
   "cell_type": "code",
   "execution_count": 139,
   "id": "8269fe85-5e22-42d4-b813-8938091bb8c0",
   "metadata": {},
   "outputs": [
    {
     "data": {
      "text/plain": [
       "1648"
      ]
     },
     "execution_count": 139,
     "metadata": {},
     "output_type": "execute_result"
    }
   ],
   "source": [
    "df['Date_normalize'].isnull().sum()"
   ]
  },
  {
   "cell_type": "code",
   "execution_count": 140,
   "id": "a8479bd0-245f-430c-95e2-6a11811cc1c2",
   "metadata": {},
   "outputs": [
    {
     "data": {
      "text/plain": [
       "dtype('<M8[ns]')"
      ]
     },
     "execution_count": 140,
     "metadata": {},
     "output_type": "execute_result"
    }
   ],
   "source": [
    "df['Date_normalize'].dtypes"
   ]
  },
  {
   "cell_type": "code",
   "execution_count": 141,
   "id": "7f827887-c8a7-4bc4-95e8-8acbbd578711",
   "metadata": {},
   "outputs": [],
   "source": [
    "# Rellenanos los Nan con una fecha rara para poder filtrar luego. \n",
    "# OJO! esto convierte toda la columna en float\n",
    "Exclude_date = \"2030-01-01 00:00:00\"\n",
    "df['Date_normalize'].fillna(value = Exclude_date , inplace=True)"
   ]
  },
  {
   "cell_type": "code",
   "execution_count": 143,
   "id": "6f634191-370a-40b4-9586-ba79146c3b56",
   "metadata": {},
   "outputs": [
    {
     "data": {
      "text/plain": [
       "0      2018-06-25\n",
       "1      2018-06-18\n",
       "2      2018-06-09\n",
       "3      2018-06-08\n",
       "4      2018-06-04\n",
       "          ...    \n",
       "6297   2030-01-01\n",
       "6298   2030-01-01\n",
       "6299   2030-01-01\n",
       "6300   2030-01-01\n",
       "6301   2030-01-01\n",
       "Name: Date_normalize, Length: 6222, dtype: datetime64[ns]"
      ]
     },
     "execution_count": 143,
     "metadata": {},
     "output_type": "execute_result"
    }
   ],
   "source": [
    "df['Date_normalize']"
   ]
  },
  {
   "cell_type": "code",
   "execution_count": 144,
   "id": "06761370-9cef-43a9-a7ef-b0bec1034d52",
   "metadata": {},
   "outputs": [
    {
     "data": {
      "text/plain": [
       "0"
      ]
     },
     "execution_count": 144,
     "metadata": {},
     "output_type": "execute_result"
    }
   ],
   "source": [
    "df['Date_normalize'].isnull().sum()"
   ]
  },
  {
   "cell_type": "code",
   "execution_count": 145,
   "id": "66eb395e-16fb-42e9-9f7c-9714a7aa49d3",
   "metadata": {},
   "outputs": [
    {
     "data": {
      "text/plain": [
       "dtype('<M8[ns]')"
      ]
     },
     "execution_count": 145,
     "metadata": {},
     "output_type": "execute_result"
    }
   ],
   "source": [
    "df['Date_normalize'].dtypes"
   ]
  },
  {
   "cell_type": "code",
   "execution_count": 162,
   "id": "2823e3f2-6cf0-4288-b40a-8bdb0f92d0eb",
   "metadata": {},
   "outputs": [],
   "source": [
    "#volvemos a convertir la columna de float a datetime \n",
    "df['Date_normalize'] = pd.to_datetime(df['Date_normalize'], errors ='coerce')"
   ]
  },
  {
   "cell_type": "code",
   "execution_count": 163,
   "id": "34dd868e-3f36-4852-86ce-a0bc38cb1084",
   "metadata": {},
   "outputs": [
    {
     "data": {
      "text/plain": [
       "0      2018-06-25\n",
       "1      2018-06-18\n",
       "2      2018-06-09\n",
       "3      2018-06-08\n",
       "4      2018-06-04\n",
       "          ...    \n",
       "6297   2030-01-01\n",
       "6298   2030-01-01\n",
       "6299   2030-01-01\n",
       "6300   2030-01-01\n",
       "6301   2030-01-01\n",
       "Name: Date_normalize, Length: 6222, dtype: datetime64[ns]"
      ]
     },
     "execution_count": 163,
     "metadata": {},
     "output_type": "execute_result"
    }
   ],
   "source": [
    "df['Date_normalize']"
   ]
  },
  {
   "cell_type": "code",
   "execution_count": 164,
   "id": "dcca5f24-1ba5-4644-b48e-68468e825981",
   "metadata": {},
   "outputs": [
    {
     "data": {
      "text/plain": [
       "0"
      ]
     },
     "execution_count": 164,
     "metadata": {},
     "output_type": "execute_result"
    }
   ],
   "source": [
    "df['Date_normalize'].isnull().sum()"
   ]
  },
  {
   "cell_type": "code",
   "execution_count": 165,
   "id": "2f0f421e-5cc5-4502-a422-4bd05f9def2a",
   "metadata": {},
   "outputs": [
    {
     "data": {
      "text/plain": [
       "dtype('<M8[ns]')"
      ]
     },
     "execution_count": 165,
     "metadata": {},
     "output_type": "execute_result"
    }
   ],
   "source": [
    "df['Date_normalize'].dtypes"
   ]
  },
  {
   "cell_type": "code",
   "execution_count": 166,
   "id": "3ea6a96c-a67d-44aa-97aa-badca253a071",
   "metadata": {},
   "outputs": [],
   "source": [
    "df['Year_Date'] = df['Date_normalize'].dt.year"
   ]
  },
  {
   "cell_type": "code",
   "execution_count": 167,
   "id": "ff4801ea-b4bc-4396-940f-83a134a5809a",
   "metadata": {},
   "outputs": [
    {
     "data": {
      "text/plain": [
       "0"
      ]
     },
     "execution_count": 167,
     "metadata": {},
     "output_type": "execute_result"
    }
   ],
   "source": [
    "df['Year_Date'].isnull().sum()"
   ]
  },
  {
   "cell_type": "code",
   "execution_count": 168,
   "id": "ab374eca-e6a8-40c2-9445-5435c2f80083",
   "metadata": {},
   "outputs": [],
   "source": [
    "df['Month_Date'] = df['Date_normalize'].dt.month"
   ]
  },
  {
   "cell_type": "code",
   "execution_count": 169,
   "id": "01cfe10a-4f9b-4167-b207-f95a911e4fe6",
   "metadata": {},
   "outputs": [],
   "source": [
    "df['Day_Date'] = df['Date_normalize'].dt.day_name()"
   ]
  },
  {
   "cell_type": "code",
   "execution_count": 170,
   "id": "48522e35-c510-4eb1-894c-e76e29c3e86d",
   "metadata": {},
   "outputs": [
    {
     "data": {
      "text/html": [
       "<div>\n",
       "<style scoped>\n",
       "    .dataframe tbody tr th:only-of-type {\n",
       "        vertical-align: middle;\n",
       "    }\n",
       "\n",
       "    .dataframe tbody tr th {\n",
       "        vertical-align: top;\n",
       "    }\n",
       "\n",
       "    .dataframe thead th {\n",
       "        text-align: right;\n",
       "    }\n",
       "</style>\n",
       "<table border=\"1\" class=\"dataframe\">\n",
       "  <thead>\n",
       "    <tr style=\"text-align: right;\">\n",
       "      <th></th>\n",
       "      <th>Case Number</th>\n",
       "      <th>Date</th>\n",
       "      <th>Country</th>\n",
       "      <th>Sex</th>\n",
       "      <th>Age</th>\n",
       "      <th>Fatal (Y/N)</th>\n",
       "      <th>Age_normalize</th>\n",
       "      <th>Date_normalize</th>\n",
       "      <th>Year_Date</th>\n",
       "      <th>Month_Date</th>\n",
       "      <th>Day_Date</th>\n",
       "    </tr>\n",
       "  </thead>\n",
       "  <tbody>\n",
       "    <tr>\n",
       "      <th>0</th>\n",
       "      <td>2018.06.25</td>\n",
       "      <td>25-Jun-2018</td>\n",
       "      <td>USA</td>\n",
       "      <td>f</td>\n",
       "      <td>57</td>\n",
       "      <td>n</td>\n",
       "      <td>57</td>\n",
       "      <td>2018-06-25</td>\n",
       "      <td>2018</td>\n",
       "      <td>6</td>\n",
       "      <td>Monday</td>\n",
       "    </tr>\n",
       "    <tr>\n",
       "      <th>1</th>\n",
       "      <td>2018.06.18</td>\n",
       "      <td>18-Jun-2018</td>\n",
       "      <td>USA</td>\n",
       "      <td>f</td>\n",
       "      <td>11</td>\n",
       "      <td>n</td>\n",
       "      <td>11</td>\n",
       "      <td>2018-06-18</td>\n",
       "      <td>2018</td>\n",
       "      <td>6</td>\n",
       "      <td>Monday</td>\n",
       "    </tr>\n",
       "    <tr>\n",
       "      <th>2</th>\n",
       "      <td>2018.06.09</td>\n",
       "      <td>09-Jun-2018</td>\n",
       "      <td>USA</td>\n",
       "      <td>m</td>\n",
       "      <td>48</td>\n",
       "      <td>n</td>\n",
       "      <td>48</td>\n",
       "      <td>2018-06-09</td>\n",
       "      <td>2018</td>\n",
       "      <td>6</td>\n",
       "      <td>Saturday</td>\n",
       "    </tr>\n",
       "  </tbody>\n",
       "</table>\n",
       "</div>"
      ],
      "text/plain": [
       "  Case Number         Date Country Sex Age Fatal (Y/N)  Age_normalize  \\\n",
       "0  2018.06.25  25-Jun-2018     USA   f  57           n             57   \n",
       "1  2018.06.18  18-Jun-2018     USA   f  11           n             11   \n",
       "2  2018.06.09  09-Jun-2018     USA   m  48           n             48   \n",
       "\n",
       "  Date_normalize  Year_Date  Month_Date  Day_Date  \n",
       "0     2018-06-25       2018           6    Monday  \n",
       "1     2018-06-18       2018           6    Monday  \n",
       "2     2018-06-09       2018           6  Saturday  "
      ]
     },
     "execution_count": 170,
     "metadata": {},
     "output_type": "execute_result"
    }
   ],
   "source": [
    "df.head(3)"
   ]
  },
  {
   "cell_type": "code",
   "execution_count": null,
   "id": "3ca5ebdd-f82a-4e14-abf3-4e3290fd2633",
   "metadata": {},
   "outputs": [],
   "source": []
  },
  {
   "cell_type": "code",
   "execution_count": 171,
   "id": "ddf89f8d-c656-4de1-8536-c1de9bae6fbb",
   "metadata": {},
   "outputs": [
    {
     "data": {
      "text/plain": [
       "209"
      ]
     },
     "execution_count": 171,
     "metadata": {},
     "output_type": "execute_result"
    }
   ],
   "source": [
    "df[\"Year_Date\"].nunique()"
   ]
  },
  {
   "cell_type": "code",
   "execution_count": null,
   "id": "81cedeb0-c490-4894-bdda-bcdbb01a5222",
   "metadata": {},
   "outputs": [],
   "source": []
  },
  {
   "cell_type": "markdown",
   "id": "c20f8ad5-7d28-42e6-900f-c4d32d80db56",
   "metadata": {},
   "source": [
    "\"\"\"\n",
    "para estudiar:\n",
    "la manera en que si hay menos valores que x(en cantidad) en una columna esta pase a ser \"undefined\"\n",
    "o algo por el estilo. p ej en \"Type\" aparee Boatomg que es un error de tiping o Questionable que solo hay 2 valores \n",
    "\"\"\""
   ]
  },
  {
   "cell_type": "code",
   "execution_count": null,
   "id": "a05be35b-53ec-44ed-991b-8d179b4de274",
   "metadata": {},
   "outputs": [],
   "source": []
  },
  {
   "cell_type": "code",
   "execution_count": 172,
   "id": "2fbf8566-3dd0-46c6-a9e6-8d851c4ca31e",
   "metadata": {},
   "outputs": [
    {
     "data": {
      "text/plain": [
       "'\\n\\n\\ndf[\"Country\"] = coco.convert(names=df[\"Country\"], to=\\'name_short\\')\\ndf[\"Country\"]=df[\"Country\"].str.lower()\\n\\n\\n\\n'"
      ]
     },
     "execution_count": 172,
     "metadata": {},
     "output_type": "execute_result"
    }
   ],
   "source": [
    "\n",
    "\"\"\"\n",
    "\n",
    "\n",
    "df[\"Country\"] = coco.convert(names=df[\"Country\"], to='name_short')\n",
    "df[\"Country\"]=df[\"Country\"].str.lower()\n",
    "\n",
    "\n",
    "\n",
    "\"\"\"\n"
   ]
  },
  {
   "cell_type": "code",
   "execution_count": 173,
   "id": "68541a41-24b2-4221-8777-f5921042f06e",
   "metadata": {},
   "outputs": [
    {
     "data": {
      "text/plain": [
       "'\\n\\n\\ndf[\"Country\"].nunique()\\n\\n'"
      ]
     },
     "execution_count": 173,
     "metadata": {},
     "output_type": "execute_result"
    }
   ],
   "source": [
    "\"\"\"\n",
    "\n",
    "\n",
    "df[\"Country\"].nunique()\n",
    "\n",
    "\"\"\""
   ]
  },
  {
   "cell_type": "code",
   "execution_count": 174,
   "id": "ca0d28fa-de87-43cc-83a2-1f2390d66867",
   "metadata": {},
   "outputs": [
    {
     "data": {
      "text/plain": [
       "<AxesSubplot:>"
      ]
     },
     "execution_count": 174,
     "metadata": {},
     "output_type": "execute_result"
    },
    {
     "data": {
      "image/png": "[encoded data removed]",
      "text/plain": [
       "<Figure size 1080x288 with 1 Axes>"
      ]
     },
     "metadata": {
      "needs_background": "light"
     },
     "output_type": "display_data"
    }
   ],
   "source": [
    "year_filtrado = df[(df.Year_Date < 2028)]\n",
    "#year_filtrado = df[df[\"Year_Date\"] != Exclude_date]\n",
    "#Exclude_date\n",
    "\n",
    "\n",
    "\n",
    "year_filtrado['Year_Date'].hist(legend=True,bins= 200, figsize = [15,4])"
   ]
  },
  {
   "cell_type": "code",
   "execution_count": null,
   "id": "142233fd-6b67-4924-ae62-73898c449c34",
   "metadata": {},
   "outputs": [],
   "source": []
  },
  {
   "cell_type": "code",
   "execution_count": 175,
   "id": "92137349-cdd0-4a72-9db9-ee30b7afaaa9",
   "metadata": {},
   "outputs": [
    {
     "data": {
      "text/plain": [
       "pandas.core.frame.DataFrame"
      ]
     },
     "execution_count": 175,
     "metadata": {},
     "output_type": "execute_result"
    }
   ],
   "source": [
    "type(year_filtrado)"
   ]
  },
  {
   "cell_type": "code",
   "execution_count": 176,
   "id": "fad93d3b-e0f8-428d-86ea-f47ea2ed5f1b",
   "metadata": {},
   "outputs": [
    {
     "data": {
      "text/plain": [
       "(4574, 11)"
      ]
     },
     "execution_count": 176,
     "metadata": {},
     "output_type": "execute_result"
    }
   ],
   "source": [
    "year_filtrado.shape"
   ]
  },
  {
   "cell_type": "code",
   "execution_count": 177,
   "id": "9799e1d0-98a2-4332-a3b1-64df0c168fc4",
   "metadata": {},
   "outputs": [
    {
     "data": {
      "text/plain": [
       "Index(['Case Number', 'Date', 'Country', 'Sex', 'Age', 'Fatal (Y/N)',\n",
       "       'Age_normalize', 'Date_normalize', 'Year_Date', 'Month_Date',\n",
       "       'Day_Date'],\n",
       "      dtype='object')"
      ]
     },
     "execution_count": 177,
     "metadata": {},
     "output_type": "execute_result"
    }
   ],
   "source": [
    "df.columns"
   ]
  },
  {
   "cell_type": "code",
   "execution_count": null,
   "id": "f667a15a-770f-46d5-a508-25e0b97fa836",
   "metadata": {},
   "outputs": [],
   "source": []
  },
  {
   "cell_type": "code",
   "execution_count": null,
   "id": "4fa43eeb-5dfc-4c9b-87f1-9e45d73f48fb",
   "metadata": {},
   "outputs": [],
   "source": []
  },
  {
   "cell_type": "code",
   "execution_count": null,
   "id": "14507592-c06d-4009-94aa-7d5e0ca707ca",
   "metadata": {},
   "outputs": [],
   "source": []
  },
  {
   "cell_type": "code",
   "execution_count": 178,
   "id": "b1d3c306-18b4-4811-9c3e-552f93a44472",
   "metadata": {},
   "outputs": [
    {
     "data": {
      "text/plain": [
       "array([[<AxesSubplot:title={'center':'Age_normalize'}>,\n",
       "        <AxesSubplot:title={'center':'Date_normalize'}>],\n",
       "       [<AxesSubplot:title={'center':'Year_Date'}>,\n",
       "        <AxesSubplot:title={'center':'Month_Date'}>]], dtype=object)"
      ]
     },
     "execution_count": 178,
     "metadata": {},
     "output_type": "execute_result"
    },
    {
     "data": {
      "image/png": "[encoded data removed]",
      "text/plain": [
       "<Figure size 1080x288 with 4 Axes>"
      ]
     },
     "metadata": {
      "needs_background": "light"
     },
     "output_type": "display_data"
    }
   ],
   "source": [
    "df[df['Year_Date'] != 2030].hist(legend=True,bins= 200, figsize = [15,4])"
   ]
  },
  {
   "cell_type": "code",
   "execution_count": 179,
   "id": "ad57a2f5-a872-4679-94e8-42b89a360ee5",
   "metadata": {},
   "outputs": [
    {
     "data": {
      "text/plain": [
       "<AxesSubplot:>"
      ]
     },
     "execution_count": 179,
     "metadata": {},
     "output_type": "execute_result"
    },
    {
     "data": {
      "image/png": "[encoded data removed]",
      "text/plain": [
       "<Figure size 720x288 with 1 Axes>"
      ]
     },
     "metadata": {
      "needs_background": "light"
     },
     "output_type": "display_data"
    }
   ],
   "source": [
    "year_filtrado['Month_Date'].hist(legend=True,bins= 200, figsize = [10,4])\n"
   ]
  },
  {
   "cell_type": "code",
   "execution_count": 180,
   "id": "8030586f-32a2-418e-8e52-710ff8460e83",
   "metadata": {},
   "outputs": [
    {
     "data": {
      "text/plain": [
       "<AxesSubplot:>"
      ]
     },
     "execution_count": 180,
     "metadata": {},
     "output_type": "execute_result"
    },
    {
     "data": {
      "image/png": "[encoded data removed]",
      "text/plain": [
       "<Figure size 720x288 with 1 Axes>"
      ]
     },
     "metadata": {
      "needs_background": "light"
     },
     "output_type": "display_data"
    }
   ],
   "source": [
    "year_filtrado['Day_Date'].hist(legend=True,bins= 200, figsize = [10,4])"
   ]
  },
  {
   "cell_type": "code",
   "execution_count": 181,
   "id": "de430723-00e2-4815-a34b-0020514da63a",
   "metadata": {},
   "outputs": [
    {
     "data": {
      "text/plain": [
       "Case Number               object\n",
       "Date                      object\n",
       "Country                   object\n",
       "Sex                       object\n",
       "Age                       object\n",
       "Fatal (Y/N)               object\n",
       "Age_normalize              int32\n",
       "Date_normalize    datetime64[ns]\n",
       "Year_Date                  int64\n",
       "Month_Date                 int64\n",
       "Day_Date                  object\n",
       "dtype: object"
      ]
     },
     "execution_count": 181,
     "metadata": {},
     "output_type": "execute_result"
    }
   ],
   "source": [
    "df.dtypes"
   ]
  },
  {
   "cell_type": "code",
   "execution_count": 182,
   "id": "e0d469af-e82a-44aa-aed0-365515fba879",
   "metadata": {},
   "outputs": [
    {
     "data": {
      "text/plain": [
       "pandas.core.frame.DataFrame"
      ]
     },
     "execution_count": 182,
     "metadata": {},
     "output_type": "execute_result"
    }
   ],
   "source": [
    "type(year_filtrado)\n",
    "\n",
    "# newdf = df[(df.Year_Date != 0)]"
   ]
  },
  {
   "cell_type": "code",
   "execution_count": 184,
   "id": "1478e544-fe4f-4116-87fa-070937b704cc",
   "metadata": {},
   "outputs": [
    {
     "data": {
      "text/plain": [
       "<AxesSubplot:>"
      ]
     },
     "execution_count": 184,
     "metadata": {},
     "output_type": "execute_result"
    },
    {
     "data": {
      "image/png": "[encoded data removed]",
      "text/plain": [
       "<Figure size 720x288 with 1 Axes>"
      ]
     },
     "metadata": {
      "needs_background": "light"
     },
     "output_type": "display_data"
    }
   ],
   "source": [
    "df['Sex'].hist(legend=True,bins= 200, figsize = [10,4])"
   ]
  },
  {
   "cell_type": "code",
   "execution_count": 185,
   "id": "9bf9e256-c4ea-46ed-b082-c91fcd21cdce",
   "metadata": {},
   "outputs": [
    {
     "data": {
      "text/html": [
       "<div>\n",
       "<style scoped>\n",
       "    .dataframe tbody tr th:only-of-type {\n",
       "        vertical-align: middle;\n",
       "    }\n",
       "\n",
       "    .dataframe tbody tr th {\n",
       "        vertical-align: top;\n",
       "    }\n",
       "\n",
       "    .dataframe thead th {\n",
       "        text-align: right;\n",
       "    }\n",
       "</style>\n",
       "<table border=\"1\" class=\"dataframe\">\n",
       "  <thead>\n",
       "    <tr style=\"text-align: right;\">\n",
       "      <th></th>\n",
       "      <th>Case Number</th>\n",
       "      <th>Date</th>\n",
       "      <th>Country</th>\n",
       "      <th>Sex</th>\n",
       "      <th>Age</th>\n",
       "      <th>Fatal (Y/N)</th>\n",
       "      <th>Age_normalize</th>\n",
       "      <th>Date_normalize</th>\n",
       "      <th>Year_Date</th>\n",
       "      <th>Month_Date</th>\n",
       "      <th>Day_Date</th>\n",
       "    </tr>\n",
       "  </thead>\n",
       "  <tbody>\n",
       "    <tr>\n",
       "      <th>6160</th>\n",
       "      <td>1703.03.26</td>\n",
       "      <td>26-Mar-1703</td>\n",
       "      <td>BARBADOS</td>\n",
       "      <td>m</td>\n",
       "      <td>19</td>\n",
       "      <td>n</td>\n",
       "      <td>19</td>\n",
       "      <td>1703-03-26</td>\n",
       "      <td>1703</td>\n",
       "      <td>3</td>\n",
       "      <td>Monday</td>\n",
       "    </tr>\n",
       "    <tr>\n",
       "      <th>6159</th>\n",
       "      <td>1721.06.00</td>\n",
       "      <td>June 1721</td>\n",
       "      <td>ITALY</td>\n",
       "      <td>m</td>\n",
       "      <td>NaN</td>\n",
       "      <td>y</td>\n",
       "      <td>0</td>\n",
       "      <td>1721-06-01</td>\n",
       "      <td>1721</td>\n",
       "      <td>6</td>\n",
       "      <td>Sunday</td>\n",
       "    </tr>\n",
       "    <tr>\n",
       "      <th>6155</th>\n",
       "      <td>1742.12.17</td>\n",
       "      <td>17-Dec-1742</td>\n",
       "      <td>NaN</td>\n",
       "      <td>m</td>\n",
       "      <td>NaN</td>\n",
       "      <td>y</td>\n",
       "      <td>0</td>\n",
       "      <td>1742-12-17</td>\n",
       "      <td>1742</td>\n",
       "      <td>12</td>\n",
       "      <td>Monday</td>\n",
       "    </tr>\n",
       "    <tr>\n",
       "      <th>6154</th>\n",
       "      <td>1748.00.00</td>\n",
       "      <td>1748</td>\n",
       "      <td>PANAMA</td>\n",
       "      <td>m</td>\n",
       "      <td>NaN</td>\n",
       "      <td>y</td>\n",
       "      <td>0</td>\n",
       "      <td>1748-01-01</td>\n",
       "      <td>1748</td>\n",
       "      <td>1</td>\n",
       "      <td>Monday</td>\n",
       "    </tr>\n",
       "    <tr>\n",
       "      <th>6152</th>\n",
       "      <td>1749.00.00</td>\n",
       "      <td>1749</td>\n",
       "      <td>CUBA</td>\n",
       "      <td>m</td>\n",
       "      <td>14</td>\n",
       "      <td>n</td>\n",
       "      <td>14</td>\n",
       "      <td>1749-01-01</td>\n",
       "      <td>1749</td>\n",
       "      <td>1</td>\n",
       "      <td>Wednesday</td>\n",
       "    </tr>\n",
       "    <tr>\n",
       "      <th>...</th>\n",
       "      <td>...</td>\n",
       "      <td>...</td>\n",
       "      <td>...</td>\n",
       "      <td>...</td>\n",
       "      <td>...</td>\n",
       "      <td>...</td>\n",
       "      <td>...</td>\n",
       "      <td>...</td>\n",
       "      <td>...</td>\n",
       "      <td>...</td>\n",
       "      <td>...</td>\n",
       "    </tr>\n",
       "    <tr>\n",
       "      <th>30</th>\n",
       "      <td>2018.04.14</td>\n",
       "      <td>14-Apr-2018</td>\n",
       "      <td>BAHAMAS</td>\n",
       "      <td>m</td>\n",
       "      <td>NaN</td>\n",
       "      <td>n</td>\n",
       "      <td>0</td>\n",
       "      <td>2018-04-14</td>\n",
       "      <td>2018</td>\n",
       "      <td>4</td>\n",
       "      <td>Saturday</td>\n",
       "    </tr>\n",
       "    <tr>\n",
       "      <th>29</th>\n",
       "      <td>2018.04.15.a</td>\n",
       "      <td>15-Apr-2018</td>\n",
       "      <td>AUSTRALIA</td>\n",
       "      <td>m</td>\n",
       "      <td>37</td>\n",
       "      <td>n</td>\n",
       "      <td>37</td>\n",
       "      <td>2018-04-15</td>\n",
       "      <td>2018</td>\n",
       "      <td>4</td>\n",
       "      <td>Sunday</td>\n",
       "    </tr>\n",
       "    <tr>\n",
       "      <th>28</th>\n",
       "      <td>2018.04.15.b</td>\n",
       "      <td>15-Apr-2018</td>\n",
       "      <td>AUSTRALIA</td>\n",
       "      <td>m</td>\n",
       "      <td>41</td>\n",
       "      <td>n</td>\n",
       "      <td>41</td>\n",
       "      <td>2018-04-15</td>\n",
       "      <td>2018</td>\n",
       "      <td>4</td>\n",
       "      <td>Sunday</td>\n",
       "    </tr>\n",
       "    <tr>\n",
       "      <th>40</th>\n",
       "      <td>2018.02.23</td>\n",
       "      <td>23-Feb-2018</td>\n",
       "      <td>AUSTRALIA</td>\n",
       "      <td>f</td>\n",
       "      <td>55</td>\n",
       "      <td>n</td>\n",
       "      <td>55</td>\n",
       "      <td>2018-02-23</td>\n",
       "      <td>2018</td>\n",
       "      <td>2</td>\n",
       "      <td>Friday</td>\n",
       "    </tr>\n",
       "    <tr>\n",
       "      <th>0</th>\n",
       "      <td>2018.06.25</td>\n",
       "      <td>25-Jun-2018</td>\n",
       "      <td>USA</td>\n",
       "      <td>f</td>\n",
       "      <td>57</td>\n",
       "      <td>n</td>\n",
       "      <td>57</td>\n",
       "      <td>2018-06-25</td>\n",
       "      <td>2018</td>\n",
       "      <td>6</td>\n",
       "      <td>Monday</td>\n",
       "    </tr>\n",
       "  </tbody>\n",
       "</table>\n",
       "<p>4574 rows × 11 columns</p>\n",
       "</div>"
      ],
      "text/plain": [
       "       Case Number         Date    Country Sex  Age Fatal (Y/N)  \\\n",
       "6160    1703.03.26  26-Mar-1703   BARBADOS   m   19           n   \n",
       "6159    1721.06.00    June 1721      ITALY   m  NaN           y   \n",
       "6155    1742.12.17  17-Dec-1742        NaN   m  NaN           y   \n",
       "6154    1748.00.00         1748     PANAMA   m  NaN           y   \n",
       "6152    1749.00.00         1749       CUBA   m   14           n   \n",
       "...            ...          ...        ...  ..  ...         ...   \n",
       "30      2018.04.14  14-Apr-2018    BAHAMAS   m  NaN           n   \n",
       "29    2018.04.15.a  15-Apr-2018  AUSTRALIA   m   37           n   \n",
       "28    2018.04.15.b  15-Apr-2018  AUSTRALIA   m   41           n   \n",
       "40      2018.02.23  23-Feb-2018  AUSTRALIA   f   55           n   \n",
       "0       2018.06.25  25-Jun-2018        USA   f   57           n   \n",
       "\n",
       "      Age_normalize Date_normalize  Year_Date  Month_Date   Day_Date  \n",
       "6160             19     1703-03-26       1703           3     Monday  \n",
       "6159              0     1721-06-01       1721           6     Sunday  \n",
       "6155              0     1742-12-17       1742          12     Monday  \n",
       "6154              0     1748-01-01       1748           1     Monday  \n",
       "6152             14     1749-01-01       1749           1  Wednesday  \n",
       "...             ...            ...        ...         ...        ...  \n",
       "30                0     2018-04-14       2018           4   Saturday  \n",
       "29               37     2018-04-15       2018           4     Sunday  \n",
       "28               41     2018-04-15       2018           4     Sunday  \n",
       "40               55     2018-02-23       2018           2     Friday  \n",
       "0                57     2018-06-25       2018           6     Monday  \n",
       "\n",
       "[4574 rows x 11 columns]"
      ]
     },
     "execution_count": 185,
     "metadata": {},
     "output_type": "execute_result"
    }
   ],
   "source": [
    "year_filtrado.sort_values(\"Year_Date\", ascending=True)"
   ]
  },
  {
   "cell_type": "code",
   "execution_count": 186,
   "id": "5cafa518-0c52-4776-b806-88d2c79ceb95",
   "metadata": {},
   "outputs": [
    {
     "data": {
      "text/plain": [
       "Index(['Case Number', 'Date', 'Country', 'Sex', 'Age', 'Fatal (Y/N)',\n",
       "       'Age_normalize', 'Date_normalize', 'Year_Date', 'Month_Date',\n",
       "       'Day_Date'],\n",
       "      dtype='object')"
      ]
     },
     "execution_count": 186,
     "metadata": {},
     "output_type": "execute_result"
    }
   ],
   "source": [
    "df.columns"
   ]
  },
  {
   "cell_type": "markdown",
   "id": "ce1e95c7-a627-43b8-b0aa-1533afd7f960",
   "metadata": {},
   "source": [
    "## Sacar un Df con 2 columnas\n"
   ]
  },
  {
   "cell_type": "code",
   "execution_count": 187,
   "id": "86d723cf-f968-4f8e-9065-a2f6788681a6",
   "metadata": {},
   "outputs": [
    {
     "data": {
      "text/html": [
       "<div>\n",
       "<style scoped>\n",
       "    .dataframe tbody tr th:only-of-type {\n",
       "        vertical-align: middle;\n",
       "    }\n",
       "\n",
       "    .dataframe tbody tr th {\n",
       "        vertical-align: top;\n",
       "    }\n",
       "\n",
       "    .dataframe thead th {\n",
       "        text-align: right;\n",
       "    }\n",
       "</style>\n",
       "<table border=\"1\" class=\"dataframe\">\n",
       "  <thead>\n",
       "    <tr style=\"text-align: right;\">\n",
       "      <th></th>\n",
       "      <th>Year_Date</th>\n",
       "      <th>Age_normalize</th>\n",
       "    </tr>\n",
       "  </thead>\n",
       "  <tbody>\n",
       "    <tr>\n",
       "      <th>count</th>\n",
       "      <td>4574.000000</td>\n",
       "      <td>4574.000000</td>\n",
       "    </tr>\n",
       "    <tr>\n",
       "      <th>mean</th>\n",
       "      <td>1974.055969</td>\n",
       "      <td>17.911893</td>\n",
       "    </tr>\n",
       "    <tr>\n",
       "      <th>std</th>\n",
       "      <td>42.055267</td>\n",
       "      <td>17.164462</td>\n",
       "    </tr>\n",
       "    <tr>\n",
       "      <th>min</th>\n",
       "      <td>1703.000000</td>\n",
       "      <td>0.000000</td>\n",
       "    </tr>\n",
       "    <tr>\n",
       "      <th>25%</th>\n",
       "      <td>1955.000000</td>\n",
       "      <td>0.000000</td>\n",
       "    </tr>\n",
       "    <tr>\n",
       "      <th>50%</th>\n",
       "      <td>1988.000000</td>\n",
       "      <td>17.000000</td>\n",
       "    </tr>\n",
       "    <tr>\n",
       "      <th>75%</th>\n",
       "      <td>2007.000000</td>\n",
       "      <td>28.000000</td>\n",
       "    </tr>\n",
       "    <tr>\n",
       "      <th>max</th>\n",
       "      <td>2018.000000</td>\n",
       "      <td>87.000000</td>\n",
       "    </tr>\n",
       "  </tbody>\n",
       "</table>\n",
       "</div>"
      ],
      "text/plain": [
       "         Year_Date  Age_normalize\n",
       "count  4574.000000    4574.000000\n",
       "mean   1974.055969      17.911893\n",
       "std      42.055267      17.164462\n",
       "min    1703.000000       0.000000\n",
       "25%    1955.000000       0.000000\n",
       "50%    1988.000000      17.000000\n",
       "75%    2007.000000      28.000000\n",
       "max    2018.000000      87.000000"
      ]
     },
     "execution_count": 187,
     "metadata": {},
     "output_type": "execute_result"
    }
   ],
   "source": [
    "year_filtrado[['Year_Date','Age_normalize']].describe()"
   ]
  },
  {
   "cell_type": "markdown",
   "id": "569663da-8706-4fd4-b591-dcc4b7a27c5c",
   "metadata": {},
   "source": [
    "filtrado de columnasplot"
   ]
  },
  {
   "cell_type": "code",
   "execution_count": 188,
   "id": "456a4b70-ce90-4b64-860e-1f2520ab6561",
   "metadata": {},
   "outputs": [
    {
     "data": {
      "text/html": [
       "<div>\n",
       "<style scoped>\n",
       "    .dataframe tbody tr th:only-of-type {\n",
       "        vertical-align: middle;\n",
       "    }\n",
       "\n",
       "    .dataframe tbody tr th {\n",
       "        vertical-align: top;\n",
       "    }\n",
       "\n",
       "    .dataframe thead th {\n",
       "        text-align: right;\n",
       "    }\n",
       "</style>\n",
       "<table border=\"1\" class=\"dataframe\">\n",
       "  <thead>\n",
       "    <tr style=\"text-align: right;\">\n",
       "      <th></th>\n",
       "      <th>Case Number</th>\n",
       "      <th>Date</th>\n",
       "      <th>Country</th>\n",
       "      <th>Sex</th>\n",
       "      <th>Age</th>\n",
       "      <th>Fatal (Y/N)</th>\n",
       "      <th>Age_normalize</th>\n",
       "      <th>Date_normalize</th>\n",
       "      <th>Year_Date</th>\n",
       "      <th>Month_Date</th>\n",
       "      <th>Day_Date</th>\n",
       "    </tr>\n",
       "  </thead>\n",
       "  <tbody>\n",
       "    <tr>\n",
       "      <th>2</th>\n",
       "      <td>2018.06.09</td>\n",
       "      <td>09-Jun-2018</td>\n",
       "      <td>USA</td>\n",
       "      <td>m</td>\n",
       "      <td>48</td>\n",
       "      <td>n</td>\n",
       "      <td>48</td>\n",
       "      <td>2018-06-09</td>\n",
       "      <td>2018</td>\n",
       "      <td>6</td>\n",
       "      <td>Saturday</td>\n",
       "    </tr>\n",
       "    <tr>\n",
       "      <th>3</th>\n",
       "      <td>2018.06.08</td>\n",
       "      <td>08-Jun-2018</td>\n",
       "      <td>AUSTRALIA</td>\n",
       "      <td>m</td>\n",
       "      <td>NaN</td>\n",
       "      <td>n</td>\n",
       "      <td>0</td>\n",
       "      <td>2018-06-08</td>\n",
       "      <td>2018</td>\n",
       "      <td>6</td>\n",
       "      <td>Friday</td>\n",
       "    </tr>\n",
       "    <tr>\n",
       "      <th>4</th>\n",
       "      <td>2018.06.04</td>\n",
       "      <td>04-Jun-2018</td>\n",
       "      <td>MEXICO</td>\n",
       "      <td>m</td>\n",
       "      <td>NaN</td>\n",
       "      <td>n</td>\n",
       "      <td>0</td>\n",
       "      <td>2018-06-04</td>\n",
       "      <td>2018</td>\n",
       "      <td>6</td>\n",
       "      <td>Monday</td>\n",
       "    </tr>\n",
       "    <tr>\n",
       "      <th>5</th>\n",
       "      <td>2018.06.03.b</td>\n",
       "      <td>03-Jun-2018</td>\n",
       "      <td>AUSTRALIA</td>\n",
       "      <td>m</td>\n",
       "      <td>NaN</td>\n",
       "      <td>n</td>\n",
       "      <td>0</td>\n",
       "      <td>2018-06-03</td>\n",
       "      <td>2018</td>\n",
       "      <td>6</td>\n",
       "      <td>Sunday</td>\n",
       "    </tr>\n",
       "    <tr>\n",
       "      <th>6</th>\n",
       "      <td>2018.06.03.a</td>\n",
       "      <td>03-Jun-2018</td>\n",
       "      <td>BRAZIL</td>\n",
       "      <td>m</td>\n",
       "      <td>18</td>\n",
       "      <td>y</td>\n",
       "      <td>18</td>\n",
       "      <td>2018-06-03</td>\n",
       "      <td>2018</td>\n",
       "      <td>6</td>\n",
       "      <td>Sunday</td>\n",
       "    </tr>\n",
       "    <tr>\n",
       "      <th>...</th>\n",
       "      <td>...</td>\n",
       "      <td>...</td>\n",
       "      <td>...</td>\n",
       "      <td>...</td>\n",
       "      <td>...</td>\n",
       "      <td>...</td>\n",
       "      <td>...</td>\n",
       "      <td>...</td>\n",
       "      <td>...</td>\n",
       "      <td>...</td>\n",
       "      <td>...</td>\n",
       "    </tr>\n",
       "    <tr>\n",
       "      <th>6297</th>\n",
       "      <td>ND.0005</td>\n",
       "      <td>Before 1903</td>\n",
       "      <td>AUSTRALIA</td>\n",
       "      <td>m</td>\n",
       "      <td>NaN</td>\n",
       "      <td>y</td>\n",
       "      <td>0</td>\n",
       "      <td>2030-01-01</td>\n",
       "      <td>2030</td>\n",
       "      <td>1</td>\n",
       "      <td>Tuesday</td>\n",
       "    </tr>\n",
       "    <tr>\n",
       "      <th>6298</th>\n",
       "      <td>ND.0004</td>\n",
       "      <td>Before 1903</td>\n",
       "      <td>AUSTRALIA</td>\n",
       "      <td>m</td>\n",
       "      <td>NaN</td>\n",
       "      <td>y</td>\n",
       "      <td>0</td>\n",
       "      <td>2030-01-01</td>\n",
       "      <td>2030</td>\n",
       "      <td>1</td>\n",
       "      <td>Tuesday</td>\n",
       "    </tr>\n",
       "    <tr>\n",
       "      <th>6299</th>\n",
       "      <td>ND.0003</td>\n",
       "      <td>1900-1905</td>\n",
       "      <td>USA</td>\n",
       "      <td>m</td>\n",
       "      <td>NaN</td>\n",
       "      <td>y</td>\n",
       "      <td>0</td>\n",
       "      <td>2030-01-01</td>\n",
       "      <td>2030</td>\n",
       "      <td>1</td>\n",
       "      <td>Tuesday</td>\n",
       "    </tr>\n",
       "    <tr>\n",
       "      <th>6300</th>\n",
       "      <td>ND.0002</td>\n",
       "      <td>1883-1889</td>\n",
       "      <td>PANAMA</td>\n",
       "      <td>m</td>\n",
       "      <td>NaN</td>\n",
       "      <td>y</td>\n",
       "      <td>0</td>\n",
       "      <td>2030-01-01</td>\n",
       "      <td>2030</td>\n",
       "      <td>1</td>\n",
       "      <td>Tuesday</td>\n",
       "    </tr>\n",
       "    <tr>\n",
       "      <th>6301</th>\n",
       "      <td>ND.0001</td>\n",
       "      <td>1845-1853</td>\n",
       "      <td>CEYLON (SRI LANKA)</td>\n",
       "      <td>m</td>\n",
       "      <td>15</td>\n",
       "      <td>y</td>\n",
       "      <td>15</td>\n",
       "      <td>2030-01-01</td>\n",
       "      <td>2030</td>\n",
       "      <td>1</td>\n",
       "      <td>Tuesday</td>\n",
       "    </tr>\n",
       "  </tbody>\n",
       "</table>\n",
       "<p>4655 rows × 11 columns</p>\n",
       "</div>"
      ],
      "text/plain": [
       "       Case Number         Date             Country Sex  Age Fatal (Y/N)  \\\n",
       "2       2018.06.09  09-Jun-2018                 USA   m   48           n   \n",
       "3       2018.06.08  08-Jun-2018           AUSTRALIA   m  NaN           n   \n",
       "4       2018.06.04  04-Jun-2018              MEXICO   m  NaN           n   \n",
       "5     2018.06.03.b  03-Jun-2018           AUSTRALIA   m  NaN           n   \n",
       "6     2018.06.03.a  03-Jun-2018              BRAZIL   m   18           y   \n",
       "...            ...          ...                 ...  ..  ...         ...   \n",
       "6297       ND.0005  Before 1903           AUSTRALIA   m  NaN           y   \n",
       "6298       ND.0004  Before 1903           AUSTRALIA   m  NaN           y   \n",
       "6299       ND.0003    1900-1905                 USA   m  NaN           y   \n",
       "6300       ND.0002    1883-1889              PANAMA   m  NaN           y   \n",
       "6301       ND.0001    1845-1853  CEYLON (SRI LANKA)   m   15           y   \n",
       "\n",
       "      Age_normalize Date_normalize  Year_Date  Month_Date  Day_Date  \n",
       "2                48     2018-06-09       2018           6  Saturday  \n",
       "3                 0     2018-06-08       2018           6    Friday  \n",
       "4                 0     2018-06-04       2018           6    Monday  \n",
       "5                 0     2018-06-03       2018           6    Sunday  \n",
       "6                18     2018-06-03       2018           6    Sunday  \n",
       "...             ...            ...        ...         ...       ...  \n",
       "6297              0     2030-01-01       2030           1   Tuesday  \n",
       "6298              0     2030-01-01       2030           1   Tuesday  \n",
       "6299              0     2030-01-01       2030           1   Tuesday  \n",
       "6300              0     2030-01-01       2030           1   Tuesday  \n",
       "6301             15     2030-01-01       2030           1   Tuesday  \n",
       "\n",
       "[4655 rows x 11 columns]"
      ]
     },
     "execution_count": 188,
     "metadata": {},
     "output_type": "execute_result"
    }
   ],
   "source": [
    "#filtrar solo a los hombres\n",
    "df[df[\"Sex\"] == \"m\"]"
   ]
  }
 ],
 "metadata": {
  "kernelspec": {
   "display_name": "Python 3 (ipykernel)",
   "language": "python",
   "name": "python3"
  },
  "language_info": {
   "codemirror_mode": {
    "name": "ipython",
    "version": 3
   },
   "file_extension": ".py",
   "mimetype": "text/x-python",
   "name": "python",
   "nbconvert_exporter": "python",
   "pygments_lexer": "ipython3",
   "version": "3.10.4"
  }
 },
 "nbformat": 4,
 "nbformat_minor": 5
}
