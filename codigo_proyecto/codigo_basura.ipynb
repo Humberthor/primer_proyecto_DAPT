{
 "cells": [
  {
   "cell_type": "code",
   "execution_count": 6,
   "id": "1ee9008d-e491-4111-8882-dbb7483300c1",
   "metadata": {},
   "outputs": [],
   "source": [
    "import pandas as pd\n",
    "import numpy as np"
   ]
  },
  {
   "cell_type": "code",
   "execution_count": 7,
   "id": "8d7276cb-e48f-4420-9db1-8a784c053cfa",
   "metadata": {},
   "outputs": [],
   "source": [
    "df = pd.read_csv(r\"C:\\Users\\simbi\\Ironhack\\Proyecto\\datos_proyecto\\attacks.csv\", encoding =\"unicode_escape\")"
   ]
  },
  {
   "cell_type": "code",
   "execution_count": 8,
   "id": "93939b30-4c3b-43ec-abe6-ff1f823f3156",
   "metadata": {},
   "outputs": [
    {
     "data": {
      "text/plain": [
       "(25723, 24)"
      ]
     },
     "execution_count": 8,
     "metadata": {},
     "output_type": "execute_result"
    }
   ],
   "source": [
    "df.shape"
   ]
  },
  {
   "cell_type": "code",
   "execution_count": 9,
   "id": "cc36d191-ff05-450e-9094-7af57d38d4be",
   "metadata": {},
   "outputs": [],
   "source": [
    "original = pd.Series(sorted(df[\"original order\"].iloc[:6304]))"
   ]
  },
  {
   "cell_type": "code",
   "execution_count": null,
   "id": "5c579763-550e-4af3-bde6-2c24056f9c8b",
   "metadata": {},
   "outputs": [],
   "source": []
  },
  {
   "cell_type": "code",
   "execution_count": null,
   "id": "76d8fb37-a05f-48cd-9d69-5065d6805218",
   "metadata": {},
   "outputs": [],
   "source": [
    "original.tail(20)"
   ]
  },
  {
   "cell_type": "code",
   "execution_count": null,
   "id": "2ffd177c-8351-45df-8238-c60aec9546f8",
   "metadata": {},
   "outputs": [],
   "source": []
  },
  {
   "cell_type": "code",
   "execution_count": null,
   "id": "2dd2ab01-e55b-4fab-b017-d4bd7f157c71",
   "metadata": {},
   "outputs": [],
   "source": []
  },
  {
   "cell_type": "code",
   "execution_count": null,
   "id": "79e58d47-225f-4e8e-b3e3-59a5be1a328a",
   "metadata": {},
   "outputs": [],
   "source": []
  },
  {
   "cell_type": "code",
   "execution_count": 2,
   "id": "70d4747f-cd1c-4aa1-bfa2-89c2ead3864b",
   "metadata": {},
   "outputs": [
    {
     "ename": "NameError",
     "evalue": "name 'df' is not defined",
     "output_type": "error",
     "traceback": [
      "\u001b[1;31m---------------------------------------------------------------------------\u001b[0m",
      "\u001b[1;31mNameError\u001b[0m                                 Traceback (most recent call last)",
      "Input \u001b[1;32mIn [2]\u001b[0m, in \u001b[0;36m<cell line: 1>\u001b[1;34m()\u001b[0m\n\u001b[1;32m----> 1\u001b[0m \u001b[43mdf\u001b[49m\u001b[38;5;241m.\u001b[39mdescribe()\n",
      "\u001b[1;31mNameError\u001b[0m: name 'df' is not defined"
     ]
    }
   ],
   "source": [
    "df.describe()"
   ]
  },
  {
   "cell_type": "code",
   "execution_count": 3,
   "id": "3e7f37ce-c5c4-47bf-9bfe-eb9e0cb6018c",
   "metadata": {},
   "outputs": [
    {
     "ename": "NameError",
     "evalue": "name 'df' is not defined",
     "output_type": "error",
     "traceback": [
      "\u001b[1;31m---------------------------------------------------------------------------\u001b[0m",
      "\u001b[1;31mNameError\u001b[0m                                 Traceback (most recent call last)",
      "Input \u001b[1;32mIn [3]\u001b[0m, in \u001b[0;36m<cell line: 1>\u001b[1;34m()\u001b[0m\n\u001b[1;32m----> 1\u001b[0m \u001b[43mdf\u001b[49m\u001b[38;5;241m.\u001b[39minfo()\n",
      "\u001b[1;31mNameError\u001b[0m: name 'df' is not defined"
     ]
    }
   ],
   "source": [
    "df.info()"
   ]
  },
  {
   "cell_type": "code",
   "execution_count": 9,
   "id": "2f667568-7e55-4b2e-9f9a-ee6d50f232c1",
   "metadata": {},
   "outputs": [
    {
     "data": {
      "text/html": [
       "<div>\n",
       "<style scoped>\n",
       "    .dataframe tbody tr th:only-of-type {\n",
       "        vertical-align: middle;\n",
       "    }\n",
       "\n",
       "    .dataframe tbody tr th {\n",
       "        vertical-align: top;\n",
       "    }\n",
       "\n",
       "    .dataframe thead th {\n",
       "        text-align: right;\n",
       "    }\n",
       "</style>\n",
       "<table border=\"1\" class=\"dataframe\">\n",
       "  <thead>\n",
       "    <tr style=\"text-align: right;\">\n",
       "      <th></th>\n",
       "      <th>Case Number</th>\n",
       "      <th>Date</th>\n",
       "      <th>Year</th>\n",
       "      <th>Type</th>\n",
       "      <th>Country</th>\n",
       "      <th>Area</th>\n",
       "      <th>Location</th>\n",
       "      <th>Activity</th>\n",
       "      <th>Name</th>\n",
       "      <th>Sex</th>\n",
       "      <th>...</th>\n",
       "      <th>Species</th>\n",
       "      <th>Investigator or Source</th>\n",
       "      <th>pdf</th>\n",
       "      <th>href formula</th>\n",
       "      <th>href</th>\n",
       "      <th>Case Number.1</th>\n",
       "      <th>Case Number.2</th>\n",
       "      <th>original order</th>\n",
       "      <th>Unnamed: 22</th>\n",
       "      <th>Unnamed: 23</th>\n",
       "    </tr>\n",
       "  </thead>\n",
       "  <tbody>\n",
       "    <tr>\n",
       "      <th>0</th>\n",
       "      <td>2018.06.25</td>\n",
       "      <td>25-Jun-2018</td>\n",
       "      <td>2018.0</td>\n",
       "      <td>Boating</td>\n",
       "      <td>USA</td>\n",
       "      <td>California</td>\n",
       "      <td>Oceanside, San Diego County</td>\n",
       "      <td>Paddling</td>\n",
       "      <td>Julie Wolfe</td>\n",
       "      <td>F</td>\n",
       "      <td>...</td>\n",
       "      <td>White shark</td>\n",
       "      <td>R. Collier, GSAF</td>\n",
       "      <td>2018.06.25-Wolfe.pdf</td>\n",
       "      <td>http://sharkattackfile.net/spreadsheets/pdf_di...</td>\n",
       "      <td>http://sharkattackfile.net/spreadsheets/pdf_di...</td>\n",
       "      <td>2018.06.25</td>\n",
       "      <td>2018.06.25</td>\n",
       "      <td>6303.0</td>\n",
       "      <td>NaN</td>\n",
       "      <td>NaN</td>\n",
       "    </tr>\n",
       "    <tr>\n",
       "      <th>1</th>\n",
       "      <td>2018.06.18</td>\n",
       "      <td>18-Jun-2018</td>\n",
       "      <td>2018.0</td>\n",
       "      <td>Unprovoked</td>\n",
       "      <td>USA</td>\n",
       "      <td>Georgia</td>\n",
       "      <td>St. Simon Island, Glynn County</td>\n",
       "      <td>Standing</td>\n",
       "      <td>Adyson McNeely</td>\n",
       "      <td>F</td>\n",
       "      <td>...</td>\n",
       "      <td>NaN</td>\n",
       "      <td>K.McMurray, TrackingSharks.com</td>\n",
       "      <td>2018.06.18-McNeely.pdf</td>\n",
       "      <td>http://sharkattackfile.net/spreadsheets/pdf_di...</td>\n",
       "      <td>http://sharkattackfile.net/spreadsheets/pdf_di...</td>\n",
       "      <td>2018.06.18</td>\n",
       "      <td>2018.06.18</td>\n",
       "      <td>6302.0</td>\n",
       "      <td>NaN</td>\n",
       "      <td>NaN</td>\n",
       "    </tr>\n",
       "    <tr>\n",
       "      <th>2</th>\n",
       "      <td>2018.06.09</td>\n",
       "      <td>09-Jun-2018</td>\n",
       "      <td>2018.0</td>\n",
       "      <td>Invalid</td>\n",
       "      <td>USA</td>\n",
       "      <td>Hawaii</td>\n",
       "      <td>Habush, Oahu</td>\n",
       "      <td>Surfing</td>\n",
       "      <td>John Denges</td>\n",
       "      <td>M</td>\n",
       "      <td>...</td>\n",
       "      <td>NaN</td>\n",
       "      <td>K.McMurray, TrackingSharks.com</td>\n",
       "      <td>2018.06.09-Denges.pdf</td>\n",
       "      <td>http://sharkattackfile.net/spreadsheets/pdf_di...</td>\n",
       "      <td>http://sharkattackfile.net/spreadsheets/pdf_di...</td>\n",
       "      <td>2018.06.09</td>\n",
       "      <td>2018.06.09</td>\n",
       "      <td>6301.0</td>\n",
       "      <td>NaN</td>\n",
       "      <td>NaN</td>\n",
       "    </tr>\n",
       "  </tbody>\n",
       "</table>\n",
       "<p>3 rows × 24 columns</p>\n",
       "</div>"
      ],
      "text/plain": [
       "  Case Number         Date    Year        Type Country        Area  \\\n",
       "0  2018.06.25  25-Jun-2018  2018.0     Boating     USA  California   \n",
       "1  2018.06.18  18-Jun-2018  2018.0  Unprovoked     USA     Georgia   \n",
       "2  2018.06.09  09-Jun-2018  2018.0     Invalid     USA      Hawaii   \n",
       "\n",
       "                         Location  Activity             Name Sex   ...  \\\n",
       "0     Oceanside, San Diego County  Paddling      Julie Wolfe    F  ...   \n",
       "1  St. Simon Island, Glynn County  Standing  Adyson McNeely     F  ...   \n",
       "2                    Habush, Oahu   Surfing      John Denges    M  ...   \n",
       "\n",
       "      Species           Investigator or Source                     pdf  \\\n",
       "0  White shark                R. Collier, GSAF    2018.06.25-Wolfe.pdf   \n",
       "1          NaN  K.McMurray, TrackingSharks.com  2018.06.18-McNeely.pdf   \n",
       "2          NaN  K.McMurray, TrackingSharks.com   2018.06.09-Denges.pdf   \n",
       "\n",
       "                                        href formula  \\\n",
       "0  http://sharkattackfile.net/spreadsheets/pdf_di...   \n",
       "1  http://sharkattackfile.net/spreadsheets/pdf_di...   \n",
       "2  http://sharkattackfile.net/spreadsheets/pdf_di...   \n",
       "\n",
       "                                                href Case Number.1  \\\n",
       "0  http://sharkattackfile.net/spreadsheets/pdf_di...    2018.06.25   \n",
       "1  http://sharkattackfile.net/spreadsheets/pdf_di...    2018.06.18   \n",
       "2  http://sharkattackfile.net/spreadsheets/pdf_di...    2018.06.09   \n",
       "\n",
       "  Case Number.2 original order Unnamed: 22 Unnamed: 23  \n",
       "0    2018.06.25         6303.0         NaN         NaN  \n",
       "1    2018.06.18         6302.0         NaN         NaN  \n",
       "2    2018.06.09         6301.0         NaN         NaN  \n",
       "\n",
       "[3 rows x 24 columns]"
      ]
     },
     "execution_count": 9,
     "metadata": {},
     "output_type": "execute_result"
    }
   ],
   "source": [
    "df.head(3)"
   ]
  },
  {
   "cell_type": "code",
   "execution_count": 27,
   "id": "88d9e63d-7a89-469f-8146-77424b63bb99",
   "metadata": {},
   "outputs": [
    {
     "name": "stdout",
     "output_type": "stream",
     "text": [
      "Case Number \n",
      "0               2400\n",
      "1980.07.00         2\n",
      "2006.09.02         2\n",
      "2005.04.06         2\n",
      "2009.12.18         2\n",
      "                ... \n",
      "1959.07.30         1\n",
      "1959.07.28         1\n",
      "1959.07.25.b       1\n",
      "1959.07.25.a       1\n",
      "xx                 1\n",
      "Length: 6287, dtype: int64\n",
      "*****************************\n",
      "Date          \n",
      "1957              11\n",
      "1942               9\n",
      "1956               8\n",
      "1958               7\n",
      "1950               7\n",
      "                  ..\n",
      "16-Feb-2005        1\n",
      "16-Feb-2004        1\n",
      "16-Feb-2002        1\n",
      "16-Feb-1981        1\n",
      "\\n1951.12.15.R     1\n",
      "Length: 5433, dtype: int64\n",
      "*****************************\n",
      "Year  \n",
      "2015.0    143\n",
      "2017.0    136\n",
      "2016.0    130\n",
      "2011.0    128\n",
      "2014.0    127\n",
      "         ... \n",
      "1807.0      1\n",
      "1805.0      1\n",
      "1804.0      1\n",
      "1802.0      1\n",
      "1791.0      1\n",
      "Length: 249, dtype: int64\n",
      "*****************************\n",
      "Type        \n",
      "Unprovoked      4595\n",
      "Provoked         574\n",
      "Invalid          547\n",
      "Sea Disaster     239\n",
      "Boating          203\n",
      "Boat             137\n",
      "Questionable       2\n",
      "Boatomg            1\n",
      "dtype: int64\n",
      "*****************************\n",
      "Country         \n",
      "USA                 2229\n",
      "AUSTRALIA           1338\n",
      "SOUTH AFRICA         579\n",
      "PAPUA NEW GUINEA     134\n",
      "NEW ZEALAND          128\n",
      "                    ... \n",
      "GUATEMALA              1\n",
      "GREENLAND              1\n",
      "GRAND CAYMAN           1\n",
      "GHANA                  1\n",
      "MALDIVES               1\n",
      "Length: 212, dtype: int64\n",
      "*****************************\n",
      "Area            \n",
      "Florida             1037\n",
      "New South Wales      486\n",
      "Queensland           311\n",
      "Hawaii               298\n",
      "California           290\n",
      "                    ... \n",
      "Illeginni Atoll        1\n",
      "Illinois               1\n",
      "Imperia Province       1\n",
      "In Convoy OB 274       1\n",
      "Madeira Islands        1\n",
      "Length: 825, dtype: int64\n",
      "*****************************\n",
      "Location                                                       \n",
      "New Smyrna Beach, Volusia County                                   163\n",
      "Daytona Beach, Volusia County                                       30\n",
      "Ponce Inlet, Volusia County                                         20\n",
      "Melbourne Beach, Brevard County                                     18\n",
      "Myrtle Beach, Horry County                                          17\n",
      "                                                                  ... \n",
      "Howard E. Futch Memorial Park at Paradise Beach, Brevard County      1\n",
      "Huahine                                                              1\n",
      "Hugenot Beach , Jacksonville, Duval County                           1\n",
      "Huguenot Memorial Park, Duval County                                 1\n",
      "Île de Sable                                                         1\n",
      "Length: 4108, dtype: int64\n",
      "*****************************\n",
      "Activity                                    \n",
      "Surfing                                         971\n",
      "Swimming                                        869\n",
      "Fishing                                         431\n",
      "Spearfishing                                    333\n",
      "Bathing                                         162\n",
      "                                               ... \n",
      "Fishing, stepped on hooked shark's head           1\n",
      "Fishing, standing in water washing fish           1\n",
      "Fishing, standing in water next to purse net      1\n",
      "Fishing, standing in waist-deep water             1\n",
      "yachtsman in a zodiac                             1\n",
      "Length: 1532, dtype: int64\n",
      "*****************************\n",
      "Name             \n",
      "male                 550\n",
      "female                97\n",
      "boy                   23\n",
      "2 males               16\n",
      "boat                  14\n",
      "                    ... \n",
      "George Wright          1\n",
      "George Walter          1\n",
      "George Wainwright      1\n",
      "George Vanderbilt      1\n",
      "young male             1\n",
      "Length: 5230, dtype: int64\n",
      "*****************************\n",
      "Sex \n",
      "M       5094\n",
      "F        637\n",
      "M          2\n",
      "N          2\n",
      ".          1\n",
      "lli        1\n",
      "dtype: int64\n",
      "*****************************\n",
      "Age           \n",
      "17                154\n",
      "18                150\n",
      "19                142\n",
      "20                141\n",
      "15                139\n",
      "                 ... \n",
      "60s                 1\n",
      "60's                1\n",
      "21, 34,24 & 35      1\n",
      "23 & 20             1\n",
      "                    1\n",
      "Length: 157, dtype: int64\n",
      "*****************************\n",
      "Injury                                                                                                                                   \n",
      "FATAL                                                                                                                                        802\n",
      "Survived                                                                                                                                      97\n",
      "Foot bitten                                                                                                                                   87\n",
      "No injury                                                                                                                                     82\n",
      "Leg bitten                                                                                                                                    72\n",
      "                                                                                                                                            ... \n",
      "He was was bitten on the arm by small sharks & died, but it was not clear if he died as result of the bite or death resulted from drowing      1\n",
      "Head & arm bitten                                                                                                                              1\n",
      "Head & torso bitten                                                                                                                            1\n",
      "Head bitten by captive shark PROVOKED INCIDENT                                                                                                 1\n",
      "Put hand through hatch, shark nearly bit off thumb                                                                                           1\n",
      "Length: 3737, dtype: int64\n",
      "*****************************\n",
      "Fatal (Y/N)\n",
      "N              4293\n",
      "Y              1388\n",
      "UNKNOWN          71\n",
      " N                7\n",
      "2017              1\n",
      "M                 1\n",
      "N                 1\n",
      "y                 1\n",
      "dtype: int64\n",
      "*****************************\n",
      "Time          \n",
      "Afternoon         187\n",
      "11h00             128\n",
      "Morning           121\n",
      "12h00             109\n",
      "15h00             108\n",
      "                 ... \n",
      "16h23               1\n",
      "16h25               1\n",
      "09h30 / 15h30       1\n",
      "16h30 or 18h00      1\n",
      "                    1\n",
      "Length: 366, dtype: int64\n",
      "*****************************\n",
      "Species                                                                                                                                                      \n",
      "White shark                                                                                                                                                      163\n",
      "Shark involvement prior to death was not confirmed                                                                                                               105\n",
      "Invalid                                                                                                                                                          102\n",
      "Shark involvement not confirmed                                                                                                                                   88\n",
      "Tiger shark                                                                                                                                                       73\n",
      "                                                                                                                                                                ... \n",
      "C. macrurus captured 48 hours after attack with tissue removed from man in its gut; species identified by G.P. Whitley,  reported as C. obscurus by  R. Steel      1\n",
      "C. leucas tooth fragment recovered from kayak                                                                                                                      1\n",
      "Bull sharks x 2                                                                                                                                                    1\n",
      "Bull sharks to 1.5 m [5']  in length                                                                                                                               1\n",
      "Porbeagle shark                                                                                                                                                    1\n",
      "Length: 1549, dtype: int64\n",
      "*****************************\n",
      "Investigator or Source                                       \n",
      "C. Moore, GSAF                                                   105\n",
      "C. Creswell, GSAF                                                 92\n",
      "S. Petersohn, GSAF                                                82\n",
      "R. Collier                                                        55\n",
      "T. Peake, GSAF                                                    48\n",
      "                                                                ... \n",
      "H. Wessel, Orlando Sentinel, 8/1/2001                              1\n",
      "H. Trong &                 U. Phuong,.Saigon Daily, 1/13/2010      1\n",
      "H. Taunton; N. Bartlett,  pp. 233-234                              1\n",
      "H. Taunton; N. Bartlett,  p. 234                                   1\n",
      "zinfos974                                                          1\n",
      "Length: 4969, dtype: int64\n",
      "*****************************\n",
      "pdf                               \n",
      "1935.06.05.R-SolomonIslands.pdf       2\n",
      "1907.10.16.R-HongKong.pdf             2\n",
      "1923.00.00.a-NJ fisherman.pdf         2\n",
      "1898.00.00.R-Syria.pdf                2\n",
      "1931.09.21.a-b-Holaday-Barrows.pdf    2\n",
      "                                     ..\n",
      "1959.09.10.R-India.pdf                1\n",
      "1959.09.02-NV-InflatableRaft.pdf      1\n",
      "1959.09.00-French-woman.pdf           1\n",
      "1959.08.31.R-Azores.pdf               1\n",
      "ND-0154-Folsom.pdf                    1\n",
      "Length: 6291, dtype: int64\n",
      "*****************************\n",
      "href formula                                                                             \n",
      "http://sharkattackfile.net/spreadsheets/pdf_directory/1916.07.12.a-b-Stillwell-Fisher.pdf    2\n",
      "http://sharkattackfile.net/spreadsheets/pdf_directory/1907.10.16.R-HongKong.pdf              2\n",
      "http://sharkattackfile.net/spreadsheets/pdf_directory/1916.12.08.a-b-German.pdf              2\n",
      "http://sharkattackfile.net/spreadsheets/pdf_directory/1906.09.27.R.a&b-Munich-Swede.pdf      2\n",
      "http://sharkattackfile.net/spreadsheets/pdf_directory/1923.00.00.a-NJ fisherman.pdf          2\n",
      "                                                                                            ..\n",
      "http://sharkattackfile.net/spreadsheets/pdf_directory/1959.09.00-French-woman.pdf            1\n",
      "http://sharkattackfile.net/spreadsheets/pdf_directory/1959.08.31.R-Azores.pdf                1\n",
      "http://sharkattackfile.net/spreadsheets/pdf_directory/1959.08.30-Cox.pdf                     1\n",
      "http://sharkattackfile.net/spreadsheets/pdf_directory/1959.08.25-Fukushi.pdf                 1\n",
      "pdf-directory/2013.05.27.b-Ena.pdf                                                           1\n",
      "Length: 6290, dtype: int64\n",
      "*****************************\n",
      "href                                                                                     \n",
      "http://sharkattackfile.net/spreadsheets/pdf_directory/w014.01.25-Grant.pdf                   4\n",
      "http://sharkattackfile.net/spreadsheets/pdf_directory/2014.10.02.b-Vandenberg.pdf            3\n",
      "http://sharkattackfile.net/spreadsheets/pdf_directory/1929.03.04.a-b.Roads-Aldridge.pdf      2\n",
      "http://sharkattackfile.net/spreadsheets/pdf_directory/1916.07.12.a-b-Stillwell-Fisher.pdf    2\n",
      "http://sharkattackfile.net/spreadsheets/pdf_directory/1907.10.16.R-HongKong.pdf              2\n",
      "                                                                                            ..\n",
      "http://sharkattackfile.net/spreadsheets/pdf_directory/1959.09.27-Rawlinson.pdf               1\n",
      "http://sharkattackfile.net/spreadsheets/pdf_directory/1959.09.26.b-Walker.pdf                1\n",
      "http://sharkattackfile.net/spreadsheets/pdf_directory/1959.09.26.a-Wines.pdf                 1\n",
      "http://sharkattackfile.net/spreadsheets/pdf_directory/1959.09.11-Tervo.pdf                   1\n",
      "pdf_directory2014.01.04-Riano.pdf                                                            1\n",
      "Length: 6285, dtype: int64\n",
      "*****************************\n",
      "Case Number.1\n",
      "2013.10.05       2\n",
      "1952.08.04       2\n",
      "1913.08.27.R     2\n",
      "1907.10.16.R     2\n",
      "1980.07.00       2\n",
      "                ..\n",
      "1959.07.30       1\n",
      "1959.07.28       1\n",
      "1959.07.25.b     1\n",
      "1959.07.25.a     1\n",
      "ND.0110          1\n",
      "Length: 6285, dtype: int64\n",
      "*****************************\n",
      "Case Number.2\n",
      "1962.06.11.b     2\n",
      "2006.09.02       2\n",
      "2013.10.05       2\n",
      "2014.08.02       2\n",
      "2005.04.06       2\n",
      "                ..\n",
      "1959.07.28       1\n",
      "1959.07.25.b     1\n",
      "1959.07.25.a     1\n",
      "1959.07.23.b     1\n",
      "ND.0110          1\n",
      "Length: 6286, dtype: int64\n",
      "*****************************\n",
      "original order\n",
      "569.0             2\n",
      "2.0               1\n",
      "4214.0            1\n",
      "4213.0            1\n",
      "4212.0            1\n",
      "                 ..\n",
      "2104.0            1\n",
      "2103.0            1\n",
      "2102.0            1\n",
      "2101.0            1\n",
      "6310.0            1\n",
      "Length: 6308, dtype: int64\n",
      "*****************************\n",
      "Unnamed: 22 \n",
      "stopped here    1\n",
      "dtype: int64\n",
      "*****************************\n",
      "Unnamed: 23    \n",
      "Teramo             1\n",
      "change filename    1\n",
      "dtype: int64\n",
      "*****************************\n"
     ]
    }
   ],
   "source": [
    "for col in df.columns:\n",
    "    print(df.value_counts([col]))\n",
    "    print(\"*****************************\")"
   ]
  },
  {
   "cell_type": "code",
   "execution_count": null,
   "id": "0404d359-8389-43c8-82c6-940a238463d6",
   "metadata": {},
   "outputs": [],
   "source": []
  },
  {
   "cell_type": "code",
   "execution_count": 13,
   "id": "35e07aa0-60f1-4d4e-90dc-d0eb2ad8d53e",
   "metadata": {},
   "outputs": [
    {
     "data": {
      "text/plain": [
       "Index(['Case Number', 'Date', 'Year', 'Type', 'Country', 'Area', 'Location',\n",
       "       'Activity', 'Name', 'Sex ', 'Age', 'Injury', 'Fatal (Y/N)', 'Time',\n",
       "       'Species ', 'Investigator or Source', 'pdf', 'href formula', 'href',\n",
       "       'Case Number.1', 'Case Number.2', 'original order', 'Unnamed: 22',\n",
       "       'Unnamed: 23'],\n",
       "      dtype='object')"
      ]
     },
     "execution_count": 13,
     "metadata": {},
     "output_type": "execute_result"
    }
   ],
   "source": [
    "df.columns"
   ]
  },
  {
   "cell_type": "code",
   "execution_count": 20,
   "id": "4ec74722-a883-4b49-a6c2-7763ebc7c598",
   "metadata": {},
   "outputs": [
    {
     "data": {
      "text/plain": [
       "array(['Boating', 'Unprovoked', 'Invalid', 'Provoked', 'Questionable',\n",
       "       'Sea Disaster', nan, 'Boat', 'Boatomg'], dtype=object)"
      ]
     },
     "execution_count": 20,
     "metadata": {},
     "output_type": "execute_result"
    }
   ],
   "source": [
    "df['Type'].unique()"
   ]
  },
  {
   "cell_type": "code",
   "execution_count": 21,
   "id": "3b8b830f-12ed-46e2-bbe4-bda18b41293d",
   "metadata": {},
   "outputs": [
    {
     "data": {
      "text/plain": [
       "count           6298\n",
       "unique             8\n",
       "top       Unprovoked\n",
       "freq            4595\n",
       "Name: Type, dtype: object"
      ]
     },
     "execution_count": 21,
     "metadata": {},
     "output_type": "execute_result"
    }
   ],
   "source": [
    "df['Type'].describe()"
   ]
  },
  {
   "cell_type": "code",
   "execution_count": 23,
   "id": "4c07d66f-bd97-4d02-8d13-3f85c42328f1",
   "metadata": {},
   "outputs": [
    {
     "data": {
      "text/plain": [
       "Type        \n",
       "Unprovoked      4595\n",
       "Provoked         574\n",
       "Invalid          547\n",
       "Sea Disaster     239\n",
       "Boating          203\n",
       "Boat             137\n",
       "Questionable       2\n",
       "Boatomg            1\n",
       "dtype: int64"
      ]
     },
     "execution_count": 23,
     "metadata": {},
     "output_type": "execute_result"
    }
   ],
   "source": [
    "df.value_counts(['Type'])"
   ]
  },
  {
   "cell_type": "markdown",
   "id": "652907a8-d882-40c4-9a0a-0b5d21e67905",
   "metadata": {},
   "source": []
  },
  {
   "cell_type": "code",
   "execution_count": 34,
   "id": "7b139dc1-ee0d-47e1-8bc5-fbd98f19f118",
   "metadata": {},
   "outputs": [
    {
     "data": {
      "text/plain": [
       "Country                              \n",
       "USA                                      2229\n",
       "AUSTRALIA                                1338\n",
       "SOUTH AFRICA                              579\n",
       "PAPUA NEW GUINEA                          134\n",
       "NEW ZEALAND                               128\n",
       "BRAZIL                                    112\n",
       "BAHAMAS                                   109\n",
       "MEXICO                                     89\n",
       "ITALY                                      71\n",
       "FIJI                                       62\n",
       "PHILIPPINES                                61\n",
       "REUNION                                    60\n",
       "NEW CALEDONIA                              53\n",
       "CUBA                                       46\n",
       "MOZAMBIQUE                                 45\n",
       "SPAIN                                      44\n",
       "INDIA                                      40\n",
       "EGYPT                                      38\n",
       "CROATIA                                    34\n",
       "JAPAN                                      34\n",
       "PANAMA                                     32\n",
       "SOLOMON ISLANDS                            30\n",
       "IRAN                                       29\n",
       "JAMAICA                                    27\n",
       "FRENCH POLYNESIA                           25\n",
       "GREECE                                     25\n",
       "HONG KONG                                  24\n",
       "INDONESIA                                  23\n",
       "ENGLAND                                    23\n",
       "COSTA RICA                                 17\n",
       "ATLANTIC OCEAN                             17\n",
       "PACIFIC OCEAN                              17\n",
       "BERMUDA                                    16\n",
       "TONGA                                      15\n",
       "VIETNAM                                    15\n",
       "VANUATU                                    14\n",
       "SRI LANKA                                  14\n",
       "MARSHALL ISLANDS                           13\n",
       "FRANCE                                     13\n",
       "IRAQ                                       12\n",
       "CANADA                                     12\n",
       "SOUTH ATLANTIC OCEAN                       12\n",
       "TURKEY                                     12\n",
       "VENEZUELA                                  11\n",
       "SENEGAL                                    11\n",
       "UNITED KINGDOM                             11\n",
       "MAURITIUS                                  10\n",
       "KENYA                                      10\n",
       "NEW GUINEA                                 10\n",
       "TAIWAN                                      9\n",
       "COLUMBIA                                    9\n",
       "ECUADOR                                     9\n",
       "THAILAND                                    8\n",
       "CHILE                                       8\n",
       "TANZANIA                                    8\n",
       "SOUTH KOREA                                 8\n",
       "MADAGASCAR                                  8\n",
       "CARIBBEAN SEA                               8\n",
       "SIERRA LEONE                                8\n",
       "SAMOA                                       8\n",
       "SCOTLAND                                    8\n",
       "INDIAN OCEAN                                7\n",
       "ISRAEL                                      7\n",
       "NORTH PACIFIC OCEAN                         7\n",
       "CHINA                                       7\n",
       "YEMEN                                       7\n",
       "SEYCHELLES                                  7\n",
       "DOMINICAN REPUBLIC                          7\n",
       "KIRIBATI                                    6\n",
       "OKINAWA                                     6\n",
       "LIBYA                                       6\n",
       "SOMALIA                                     6\n",
       "NEW BRITAIN                                 6\n",
       "SINGAPORE                                   6\n",
       "NICARAGUA                                   6\n",
       "BARBADOS                                    6\n",
       "MALAYSIA                                    5\n",
       "TURKS & CAICOS                              5\n",
       "AZORES                                      5\n",
       "MID ATLANTIC OCEAN                          5\n",
       "SAUDI ARABIA                                5\n",
       "MALTA                                       5\n",
       "PALAU                                       5\n",
       "HONDURAS                                    4\n",
       "RUSSIA                                      4\n",
       "GRENADA                                     4\n",
       "PERSIAN GULF                                4\n",
       "GUAM                                        4\n",
       "URUGUAY                                     4\n",
       "BURMA                                       4\n",
       "NORTH ATLANTIC OCEAN                        4\n",
       "SUDAN                                       4\n",
       "EL SALVADOR                                 4\n",
       "NIGERIA                                     4\n",
       "MONTENEGRO                                  3\n",
       " TONGA                                      3\n",
       "LEBANON                                     3\n",
       "MICRONESIA                                  3\n",
       "LIBERIA                                     3\n",
       "MARTINIQUE                                  3\n",
       "PORTUGAL                                    3\n",
       "BELIZE                                      3\n",
       "CEYLON                                      3\n",
       "AMERICAN SAMOA                              3\n",
       "HAITI                                       3\n",
       "GUYANA                                      3\n",
       "GUINEA                                      3\n",
       "CAPE VERDE                                  3\n",
       "TRINIDAD & TOBAGO                           3\n",
       "TUNISIA                                     3\n",
       "Fiji                                        3\n",
       "TOBAGO                                      2\n",
       "CENTRAL PACIFIC                             2\n",
       "CAYMAN ISLANDS                              2\n",
       "UNITED ARAB EMIRATES                        2\n",
       "NORWAY                                      2\n",
       "CRETE                                       2\n",
       "UNITED ARAB EMIRATES (UAE)                  2\n",
       "PACIFIC OCEAN                               2\n",
       "ANTIGUA                                     2\n",
       "WEST INDIES                                 2\n",
       "YEMEN                                       2\n",
       "JOHNSTON ISLAND                             2\n",
       "SOUTH PACIFIC OCEAN                         2\n",
       "MEDITERRANEAN SEA                           2\n",
       "NAMIBIA                                     2\n",
       "EGYPT                                       2\n",
       "ICELAND                                     2\n",
       "SOUTHWEST PACIFIC OCEAN                     2\n",
       "ST HELENA, British overseas territory       2\n",
       "TASMAN SEA                                  1\n",
       "SOUTH CHINA SEA                             1\n",
       "RED SEA                                     1\n",
       "WESTERN SAMOA                               1\n",
       "RED SEA / INDIAN OCEAN                      1\n",
       "SLOVENIA                                    1\n",
       "RED SEA?                                    1\n",
       "PUERTO RICO                                 1\n",
       "ST. MAARTIN                                 1\n",
       "TUVALU                                      1\n",
       "THE BALKANS                                 1\n",
       "REUNION ISLAND                              1\n",
       "ROATAN                                      1\n",
       "ST. MARTIN                                  1\n",
       "SUDAN?                                      1\n",
       "SWEDEN                                      1\n",
       "SYRIA                                       1\n",
       "SAN DOMINGO                                 1\n",
       "Seychelles                                  1\n",
       "Sierra Leone                                1\n",
       "SOLOMON ISLANDS / VANUATU                   1\n",
       " PHILIPPINES                                1\n",
       "PERU                                        1\n",
       "PARAGUAY                                    1\n",
       "EQUATORIAL GUINEA / CAMEROON                1\n",
       "EGYPT / ISRAEL                              1\n",
       "DJIBOUTI                                    1\n",
       "DIEGO GARCIA                                1\n",
       "Coast of AFRICA                             1\n",
       "CYPRUS                                      1\n",
       "CURACAO                                     1\n",
       "COOK ISLANDS                                1\n",
       "COMOROS                                     1\n",
       "CEYLON (SRI LANKA)                          1\n",
       "Between PORTUGAL & INDIA                    1\n",
       "BRITISH WEST INDIES                         1\n",
       "BRITISH VIRGIN ISLANDS                      1\n",
       "BRITISH NEW GUINEA                          1\n",
       "BRITISH ISLES                               1\n",
       "BAY OF BENGAL                               1\n",
       "BANGLADESH                                  1\n",
       "BAHREIN                                     1\n",
       "ASIA?                                       1\n",
       "ARUBA                                       1\n",
       "ARGENTINA                                   1\n",
       "ANGOLA                                      1\n",
       "ANDAMAN ISLANDS                             1\n",
       "ANDAMAN / NICOBAR ISLANDAS                  1\n",
       "ALGERIA                                     1\n",
       "AFRICA                                      1\n",
       "ADMIRALTY ISLANDS                           1\n",
       "FALKLAND ISLANDS                            1\n",
       "FEDERATED STATES OF MICRONESIA              1\n",
       "GABON                                       1\n",
       "MAYOTTE                                     1\n",
       "PALESTINIAN TERRITORIES                     1\n",
       "OCEAN                                       1\n",
       "NORTHERN MARIANA ISLANDS                    1\n",
       "NORTHERN ARABIAN SEA                        1\n",
       "NORTH SEA                                   1\n",
       "NORTH ATLANTIC OCEAN                        1\n",
       "NICARAGUA                                   1\n",
       "NEVIS                                       1\n",
       "NETHERLANDS ANTILLES                        1\n",
       "MONACO                                      1\n",
       "MID-PACIFC OCEAN                            1\n",
       "MEXICO                                      1\n",
       "MALDIVE ISLANDS                             1\n",
       "GEORGIA                                     1\n",
       "KUWAIT                                      1\n",
       "KOREA                                       1\n",
       "JAVA                                        1\n",
       "ITALY / CROATIA                             1\n",
       "IRELAND                                     1\n",
       "IRAN / IRAQ                                 1\n",
       "INDIAN OCEAN?                               1\n",
       "GULF OF ADEN                                1\n",
       "GUATEMALA                                   1\n",
       "GREENLAND                                   1\n",
       "GRAND CAYMAN                                1\n",
       "GHANA                                       1\n",
       "MALDIVES                                    1\n",
       "dtype: int64"
      ]
     },
     "execution_count": 34,
     "metadata": {},
     "output_type": "execute_result"
    }
   ],
   "source": [
    "df.value_counts([\"Country\"])"
   ]
  },
  {
   "cell_type": "code",
   "execution_count": 33,
   "id": "f4342876-60a6-4ba5-ab70-211fdf3de31c",
   "metadata": {},
   "outputs": [],
   "source": [
    "pd.options.display.max_rows=100"
   ]
  },
  {
   "cell_type": "markdown",
   "id": "82550afa-8dca-44f4-9eb5-a691f989d0a4",
   "metadata": {},
   "source": []
  },
  {
   "cell_type": "code",
   "execution_count": 21,
   "id": "059d6526-0246-4aa1-84be-6a93f23df7ec",
   "metadata": {},
   "outputs": [
    {
     "data": {
      "text/html": [
       "<div>\n",
       "<style scoped>\n",
       "    .dataframe tbody tr th:only-of-type {\n",
       "        vertical-align: middle;\n",
       "    }\n",
       "\n",
       "    .dataframe tbody tr th {\n",
       "        vertical-align: top;\n",
       "    }\n",
       "\n",
       "    .dataframe thead th {\n",
       "        text-align: right;\n",
       "    }\n",
       "</style>\n",
       "<table border=\"1\" class=\"dataframe\">\n",
       "  <thead>\n",
       "    <tr style=\"text-align: right;\">\n",
       "      <th></th>\n",
       "      <th>Case Number</th>\n",
       "      <th>Date</th>\n",
       "      <th>Year</th>\n",
       "      <th>Type</th>\n",
       "      <th>Country</th>\n",
       "      <th>Area</th>\n",
       "      <th>Location</th>\n",
       "      <th>Activity</th>\n",
       "      <th>Name</th>\n",
       "      <th>Sex</th>\n",
       "      <th>...</th>\n",
       "      <th>Fatal (Y/N)</th>\n",
       "      <th>Time</th>\n",
       "      <th>Species</th>\n",
       "      <th>Investigator or Source</th>\n",
       "      <th>pdf</th>\n",
       "      <th>href formula</th>\n",
       "      <th>href</th>\n",
       "      <th>Case Number.1</th>\n",
       "      <th>Case Number.2</th>\n",
       "      <th>original order</th>\n",
       "    </tr>\n",
       "  </thead>\n",
       "  <tbody>\n",
       "    <tr>\n",
       "      <th>34</th>\n",
       "      <td>2018.04.03</td>\n",
       "      <td>03-Apr-2018</td>\n",
       "      <td>2018.0</td>\n",
       "      <td>Unprovoked</td>\n",
       "      <td>SOUTH AFRICA</td>\n",
       "      <td>Eastern Cape Province</td>\n",
       "      <td>St. Francis Bay</td>\n",
       "      <td>Surfing</td>\n",
       "      <td>Ross Spowart</td>\n",
       "      <td>M</td>\n",
       "      <td>...</td>\n",
       "      <td>N</td>\n",
       "      <td>15h00</td>\n",
       "      <td>White shark</td>\n",
       "      <td>K. McMurray, TrackingSharks.com</td>\n",
       "      <td>2018.04.03-StFrancisBay.pdf</td>\n",
       "      <td>http://sharkattackfile.net/spreadsheets/pdf_di...</td>\n",
       "      <td>http://sharkattackfile.net/spreadsheets/pdf_di...</td>\n",
       "      <td>2018.04.02</td>\n",
       "      <td>2018.04.03</td>\n",
       "      <td>6269.0</td>\n",
       "    </tr>\n",
       "    <tr>\n",
       "      <th>117</th>\n",
       "      <td>2017.07.20.a</td>\n",
       "      <td>20-Jul-2017</td>\n",
       "      <td>2017.0</td>\n",
       "      <td>Unprovoked</td>\n",
       "      <td>USA</td>\n",
       "      <td>California</td>\n",
       "      <td>Seal Rock, Goleta Beach, Santa Barbara</td>\n",
       "      <td>SUP</td>\n",
       "      <td>Rolf Geyling</td>\n",
       "      <td>M</td>\n",
       "      <td>...</td>\n",
       "      <td>N</td>\n",
       "      <td>07h45</td>\n",
       "      <td>White shark, 8' to 10'</td>\n",
       "      <td>R. Collier, GSAF</td>\n",
       "      <td>2017.07.20.a-Geyling.pdf</td>\n",
       "      <td>http://sharkattackfile.net/spreadsheets/pdf_di...</td>\n",
       "      <td>http://sharkattackfile.net/spreadsheets/pdf_di...</td>\n",
       "      <td>2017/07.20.a</td>\n",
       "      <td>2017.07.20.a</td>\n",
       "      <td>6186.0</td>\n",
       "    </tr>\n",
       "  </tbody>\n",
       "</table>\n",
       "<p>2 rows × 22 columns</p>\n",
       "</div>"
      ],
      "text/plain": [
       "      Case Number         Date    Year        Type       Country  \\\n",
       "34     2018.04.03  03-Apr-2018  2018.0  Unprovoked  SOUTH AFRICA   \n",
       "117  2017.07.20.a  20-Jul-2017  2017.0  Unprovoked           USA   \n",
       "\n",
       "                      Area                                Location Activity  \\\n",
       "34   Eastern Cape Province                         St. Francis Bay  Surfing   \n",
       "117             California  Seal Rock, Goleta Beach, Santa Barbara      SUP   \n",
       "\n",
       "             Name Sex   ... Fatal (Y/N)   Time                Species   \\\n",
       "34   Ross Spowart    M  ...           N  15h00             White shark   \n",
       "117  Rolf Geyling    M  ...           N  07h45  White shark, 8' to 10'   \n",
       "\n",
       "              Investigator or Source                          pdf  \\\n",
       "34   K. McMurray, TrackingSharks.com  2018.04.03-StFrancisBay.pdf   \n",
       "117                 R. Collier, GSAF     2017.07.20.a-Geyling.pdf   \n",
       "\n",
       "                                          href formula  \\\n",
       "34   http://sharkattackfile.net/spreadsheets/pdf_di...   \n",
       "117  http://sharkattackfile.net/spreadsheets/pdf_di...   \n",
       "\n",
       "                                                  href Case Number.1  \\\n",
       "34   http://sharkattackfile.net/spreadsheets/pdf_di...    2018.04.02   \n",
       "117  http://sharkattackfile.net/spreadsheets/pdf_di...  2017/07.20.a   \n",
       "\n",
       "    Case Number.2 original order  \n",
       "34     2018.04.03         6269.0  \n",
       "117  2017.07.20.a         6186.0  \n",
       "\n",
       "[2 rows x 22 columns]"
      ]
     },
     "execution_count": 21,
     "metadata": {},
     "output_type": "execute_result"
    }
   ],
   "source": [
    "# para ver las diferencias entre esas dos columnas\n",
    "\n",
    "df.loc[(df['Case Number.1'] != df['Case Number.2'])]\n",
    "\n",
    "df.loc[(df['Case Number.1'] != df['Case Number.2'])].head(2)\n"
   ]
  },
  {
   "cell_type": "code",
   "execution_count": null,
   "id": "c20c706b-28ab-491f-a13a-736bd2fe0ff1",
   "metadata": {},
   "outputs": [],
   "source": []
  },
  {
   "cell_type": "code",
   "execution_count": null,
   "id": "4d568c41-6230-40d9-9432-f6ce0a441654",
   "metadata": {},
   "outputs": [],
   "source": [
    "diferencias_href = df.loc[(df['href'] != df['href formula'])]"
   ]
  },
  {
   "cell_type": "code",
   "execution_count": null,
   "id": "a3f3b2de-c7a1-4501-b168-28564272c03f",
   "metadata": {},
   "outputs": [],
   "source": []
  },
  {
   "cell_type": "code",
   "execution_count": 15,
   "id": "502a1db5-4710-4563-8378-c4f893b7147f",
   "metadata": {},
   "outputs": [
    {
     "data": {
      "text/plain": [
       "0    57\n",
       "1    11\n",
       "2    48\n",
       "Name: Age, dtype: object"
      ]
     },
     "execution_count": 15,
     "metadata": {},
     "output_type": "execute_result"
    }
   ],
   "source": [
    "df[\"Age\"].head(3)"
   ]
  },
  {
   "cell_type": "code",
   "execution_count": 16,
   "id": "8cdb120a-a61e-4df1-a5d5-6fe0c9b0e836",
   "metadata": {},
   "outputs": [
    {
     "data": {
      "text/plain": [
       "array(['57', '11', '48', nan, '18', '52', '15', '12', '32', '10', '21',\n",
       "       '34', '30', '60', '33', '29', '54', '41', '37', '56', '19', '25',\n",
       "       '69', '38', '55', '35', '46', '45', '14', '40s', '28', '20', '24',\n",
       "       '26', '49', '22', '7', '31', '17', '40', '13', '42', '3', '8',\n",
       "       '50', '16', '82', '73', '20s', '68', '51', '39', '58', 'Teen',\n",
       "       '47', '61', '65', '36', '66', '43', '60s', '9', '72', '59', '6',\n",
       "       '27', '64', '23', '71', '44', '62', '63', '70', '18 months', '53',\n",
       "       '30s', '50s', 'teen', '77', '74', '28 & 26', '5', '86', '18 or 20',\n",
       "       '12 or 13', '46 & 34', '28, 23 & 30', 'Teens', '36 & 26',\n",
       "       '8 or 10', '84', '\\xa0 ', ' ', '30 or 36', '6½', '21 & ?', '75',\n",
       "       '33 or 37', 'mid-30s', '23 & 20', ' 30', '7      &    31', ' 28',\n",
       "       '20?', \"60's\", '32 & 30', '16 to 18', '87', '67', 'Elderly',\n",
       "       'mid-20s', 'Ca. 33', '74 ', '45 ', '21 or 26', '20 ', '>50',\n",
       "       '18 to 22', 'adult', '9 & 12', '? & 19', '9 months', '25 to 35',\n",
       "       '23 & 26', '1', '(adult)', '33 & 37', '25 or 28',\n",
       "       '37, 67, 35, 27,  ? & 27', '21, 34,24 & 35', '30 & 32', '50 & 30',\n",
       "       '17 & 35', 'X', '\"middle-age\"', '13 or 18', '34 & 19', '33 & 26',\n",
       "       '2 to 3 months', 'MAKE LINE GREEN', ' 43', '81', '\"young\"',\n",
       "       '7 or 8', '78', '17 & 16', 'F', 'Both 11', '9 or 10', 'young',\n",
       "       '36 & 23', '  ', 'A.M.', '?    &   14', '10 or 12', '31 or 33',\n",
       "       '2½', '13 or 14'], dtype=object)"
      ]
     },
     "execution_count": 16,
     "metadata": {},
     "output_type": "execute_result"
    }
   ],
   "source": [
    "df[\"Age\"].unique()"
   ]
  },
  {
   "cell_type": "code",
   "execution_count": 17,
   "id": "dbd97f36-8b09-41bd-9349-fed4c6226311",
   "metadata": {},
   "outputs": [
    {
     "data": {
      "text/plain": [
       "array(['25-Jun-2018', '18-Jun-2018', '09-Jun-2018', ..., '1900-1905',\n",
       "       '1883-1889', '1845-1853'], dtype=object)"
      ]
     },
     "execution_count": 17,
     "metadata": {},
     "output_type": "execute_result"
    }
   ],
   "source": [
    "df[\"Date\"].unique()"
   ]
  },
  {
   "cell_type": "code",
   "execution_count": 18,
   "id": "b8989f1d-aae2-4498-af95-c054ae53800e",
   "metadata": {},
   "outputs": [
    {
     "data": {
      "text/html": [
       "<div>\n",
       "<style scoped>\n",
       "    .dataframe tbody tr th:only-of-type {\n",
       "        vertical-align: middle;\n",
       "    }\n",
       "\n",
       "    .dataframe tbody tr th {\n",
       "        vertical-align: top;\n",
       "    }\n",
       "\n",
       "    .dataframe thead th {\n",
       "        text-align: right;\n",
       "    }\n",
       "</style>\n",
       "<table border=\"1\" class=\"dataframe\">\n",
       "  <thead>\n",
       "    <tr style=\"text-align: right;\">\n",
       "      <th></th>\n",
       "      <th>Case Number</th>\n",
       "      <th>Date</th>\n",
       "      <th>Year</th>\n",
       "      <th>Type</th>\n",
       "      <th>Country</th>\n",
       "      <th>Area</th>\n",
       "      <th>Location</th>\n",
       "      <th>Activity</th>\n",
       "      <th>Name</th>\n",
       "      <th>Sex</th>\n",
       "      <th>...</th>\n",
       "      <th>Fatal (Y/N)</th>\n",
       "      <th>Time</th>\n",
       "      <th>Species</th>\n",
       "      <th>Investigator or Source</th>\n",
       "      <th>pdf</th>\n",
       "      <th>href formula</th>\n",
       "      <th>href</th>\n",
       "      <th>Case Number.1</th>\n",
       "      <th>Case Number.2</th>\n",
       "      <th>original order</th>\n",
       "    </tr>\n",
       "  </thead>\n",
       "  <tbody>\n",
       "    <tr>\n",
       "      <th>0</th>\n",
       "      <td>2018.06.25</td>\n",
       "      <td>25-Jun-2018</td>\n",
       "      <td>2018.0</td>\n",
       "      <td>Boating</td>\n",
       "      <td>USA</td>\n",
       "      <td>California</td>\n",
       "      <td>Oceanside, San Diego County</td>\n",
       "      <td>Paddling</td>\n",
       "      <td>Julie Wolfe</td>\n",
       "      <td>F</td>\n",
       "      <td>...</td>\n",
       "      <td>N</td>\n",
       "      <td>18h00</td>\n",
       "      <td>White shark</td>\n",
       "      <td>R. Collier, GSAF</td>\n",
       "      <td>2018.06.25-Wolfe.pdf</td>\n",
       "      <td>http://sharkattackfile.net/spreadsheets/pdf_di...</td>\n",
       "      <td>http://sharkattackfile.net/spreadsheets/pdf_di...</td>\n",
       "      <td>2018.06.25</td>\n",
       "      <td>2018.06.25</td>\n",
       "      <td>6303.0</td>\n",
       "    </tr>\n",
       "  </tbody>\n",
       "</table>\n",
       "<p>1 rows × 22 columns</p>\n",
       "</div>"
      ],
      "text/plain": [
       "  Case Number         Date    Year     Type Country        Area  \\\n",
       "0  2018.06.25  25-Jun-2018  2018.0  Boating     USA  California   \n",
       "\n",
       "                      Location  Activity         Name Sex   ... Fatal (Y/N)  \\\n",
       "0  Oceanside, San Diego County  Paddling  Julie Wolfe    F  ...           N   \n",
       "\n",
       "    Time     Species  Investigator or Source                   pdf  \\\n",
       "0  18h00  White shark       R. Collier, GSAF  2018.06.25-Wolfe.pdf   \n",
       "\n",
       "                                        href formula  \\\n",
       "0  http://sharkattackfile.net/spreadsheets/pdf_di...   \n",
       "\n",
       "                                                href Case Number.1  \\\n",
       "0  http://sharkattackfile.net/spreadsheets/pdf_di...    2018.06.25   \n",
       "\n",
       "  Case Number.2 original order  \n",
       "0    2018.06.25         6303.0  \n",
       "\n",
       "[1 rows x 22 columns]"
      ]
     },
     "execution_count": 18,
     "metadata": {},
     "output_type": "execute_result"
    }
   ],
   "source": [
    "#eiminamos las columnas \"basura\" que no tienen datos válidos\n",
    "#usamos el método drop\n",
    "\n",
    "df.drop(['Unnamed: 22','Unnamed: 23'], axis=1, inplace=True)\n",
    "df.head(1)"
   ]
  },
  {
   "cell_type": "code",
   "execution_count": 23,
   "id": "07e68413-5748-4577-98c2-dff1ada93f68",
   "metadata": {},
   "outputs": [
    {
     "data": {
      "text/plain": [
       "Index(['Case Number', 'Date', 'Year', 'Type', 'Country', 'Area', 'Location',\n",
       "       'Activity', 'Name', 'Sex ', 'Age', 'Injury', 'Fatal (Y/N)', 'Time',\n",
       "       'Species ', 'Investigator or Source', 'pdf', 'href formula', 'href',\n",
       "       'Case Number.1', 'Case Number.2', 'original order'],\n",
       "      dtype='object')"
      ]
     },
     "execution_count": 23,
     "metadata": {},
     "output_type": "execute_result"
    }
   ],
   "source": [
    "df.columns"
   ]
  },
  {
   "cell_type": "code",
   "execution_count": 24,
   "id": "8d811d75-37a5-46c1-81b1-c3c513272085",
   "metadata": {},
   "outputs": [],
   "source": [
    "df.drop(['pdf', 'href formula', 'href',\n",
    "       'Case Number.1', 'Case Number.2', 'original order'], axis= 1, inplace=True)"
   ]
  },
  {
   "cell_type": "code",
   "execution_count": 25,
   "id": "6973ac18-db74-4d8f-bd35-55401f231634",
   "metadata": {},
   "outputs": [
    {
     "data": {
      "text/plain": [
       "(6301, 16)"
      ]
     },
     "execution_count": 25,
     "metadata": {},
     "output_type": "execute_result"
    }
   ],
   "source": [
    "df.shape"
   ]
  },
  {
   "cell_type": "code",
   "execution_count": 26,
   "id": "b06e94bc-c99d-460c-95c9-42952261593d",
   "metadata": {},
   "outputs": [
    {
     "data": {
      "text/plain": [
       "Index(['Case Number', 'Date', 'Year', 'Type', 'Country', 'Area', 'Location',\n",
       "       'Activity', 'Name', 'Sex ', 'Age', 'Injury', 'Fatal (Y/N)', 'Time',\n",
       "       'Species ', 'Investigator or Source'],\n",
       "      dtype='object')"
      ]
     },
     "execution_count": 26,
     "metadata": {},
     "output_type": "execute_result"
    }
   ],
   "source": [
    "df.columns"
   ]
  },
  {
   "cell_type": "code",
   "execution_count": 27,
   "id": "9b5d4630-20f9-44c5-859d-045c13322a96",
   "metadata": {},
   "outputs": [
    {
     "name": "stdout",
     "output_type": "stream",
     "text": [
      "<class 'pandas.core.frame.DataFrame'>\n",
      "Int64Index: 6301 entries, 0 to 6301\n",
      "Data columns (total 16 columns):\n",
      " #   Column                  Non-Null Count  Dtype  \n",
      "---  ------                  --------------  -----  \n",
      " 0   Case Number             6301 non-null   object \n",
      " 1   Date                    6301 non-null   object \n",
      " 2   Year                    6299 non-null   float64\n",
      " 3   Type                    6297 non-null   object \n",
      " 4   Country                 6251 non-null   object \n",
      " 5   Area                    5846 non-null   object \n",
      " 6   Location                5761 non-null   object \n",
      " 7   Activity                5757 non-null   object \n",
      " 8   Name                    6091 non-null   object \n",
      " 9   Sex                     5736 non-null   object \n",
      " 10  Age                     3471 non-null   object \n",
      " 11  Injury                  6273 non-null   object \n",
      " 12  Fatal (Y/N)             5762 non-null   object \n",
      " 13  Time                    2948 non-null   object \n",
      " 14  Species                 3464 non-null   object \n",
      " 15  Investigator or Source  6284 non-null   object \n",
      "dtypes: float64(1), object(15)\n",
      "memory usage: 836.9+ KB\n"
     ]
    }
   ],
   "source": [
    "df.info()"
   ]
  },
  {
   "cell_type": "code",
   "execution_count": 28,
   "id": "679ec89e-dbf7-4233-9bfe-622df76070b8",
   "metadata": {},
   "outputs": [
    {
     "data": {
      "text/html": [
       "<div>\n",
       "<style scoped>\n",
       "    .dataframe tbody tr th:only-of-type {\n",
       "        vertical-align: middle;\n",
       "    }\n",
       "\n",
       "    .dataframe tbody tr th {\n",
       "        vertical-align: top;\n",
       "    }\n",
       "\n",
       "    .dataframe thead th {\n",
       "        text-align: right;\n",
       "    }\n",
       "</style>\n",
       "<table border=\"1\" class=\"dataframe\">\n",
       "  <thead>\n",
       "    <tr style=\"text-align: right;\">\n",
       "      <th></th>\n",
       "      <th>Case Number</th>\n",
       "      <th>Date</th>\n",
       "      <th>Year</th>\n",
       "      <th>Type</th>\n",
       "      <th>Country</th>\n",
       "      <th>Area</th>\n",
       "      <th>Location</th>\n",
       "      <th>Activity</th>\n",
       "      <th>Name</th>\n",
       "      <th>Sex</th>\n",
       "      <th>Age</th>\n",
       "      <th>Injury</th>\n",
       "      <th>Fatal (Y/N)</th>\n",
       "      <th>Time</th>\n",
       "      <th>Species</th>\n",
       "      <th>Investigator or Source</th>\n",
       "    </tr>\n",
       "  </thead>\n",
       "  <tbody>\n",
       "    <tr>\n",
       "      <th>5396</th>\n",
       "      <td>1910.12.25.R</td>\n",
       "      <td>Reported 25-Dec-1910</td>\n",
       "      <td>1910.0</td>\n",
       "      <td>Invalid</td>\n",
       "      <td>CROATIA</td>\n",
       "      <td>Primorje-Gorski Kotar County</td>\n",
       "      <td>Rijeka</td>\n",
       "      <td>NaN</td>\n",
       "      <td>male</td>\n",
       "      <td>M</td>\n",
       "      <td>NaN</td>\n",
       "      <td>FATAL?</td>\n",
       "      <td>NaN</td>\n",
       "      <td>NaN</td>\n",
       "      <td>Questionable</td>\n",
       "      <td>C. Moore. GSAF</td>\n",
       "    </tr>\n",
       "    <tr>\n",
       "      <th>3333</th>\n",
       "      <td>1972.05.28</td>\n",
       "      <td>28-May-1972</td>\n",
       "      <td>1972.0</td>\n",
       "      <td>Unprovoked</td>\n",
       "      <td>USA</td>\n",
       "      <td>California</td>\n",
       "      <td>Bird Rock, near Tomales Point, Marin County</td>\n",
       "      <td>Free diving for abalone</td>\n",
       "      <td>Helmut Himmrich</td>\n",
       "      <td>M</td>\n",
       "      <td>32</td>\n",
       "      <td>Bitten on legs &amp; buttock</td>\n",
       "      <td>N</td>\n",
       "      <td>13h30</td>\n",
       "      <td>White shark, 4.4 m to 5 m [14.5' to 16.5']</td>\n",
       "      <td>D. Miller &amp; R. Collier, R. Collier, pp.48-50; ...</td>\n",
       "    </tr>\n",
       "  </tbody>\n",
       "</table>\n",
       "</div>"
      ],
      "text/plain": [
       "       Case Number                  Date    Year        Type  Country  \\\n",
       "5396  1910.12.25.R  Reported 25-Dec-1910  1910.0     Invalid  CROATIA   \n",
       "3333    1972.05.28           28-May-1972  1972.0  Unprovoked      USA   \n",
       "\n",
       "                               Area  \\\n",
       "5396   Primorje-Gorski Kotar County   \n",
       "3333                     California   \n",
       "\n",
       "                                         Location                 Activity  \\\n",
       "5396                                       Rijeka                      NaN   \n",
       "3333  Bird Rock, near Tomales Point, Marin County  Free diving for abalone   \n",
       "\n",
       "                 Name Sex   Age                    Injury Fatal (Y/N)   Time  \\\n",
       "5396             male    M  NaN                    FATAL?         NaN    NaN   \n",
       "3333  Helmut Himmrich    M   32  Bitten on legs & buttock           N  13h30   \n",
       "\n",
       "                                         Species   \\\n",
       "5396                                 Questionable   \n",
       "3333  White shark, 4.4 m to 5 m [14.5' to 16.5']    \n",
       "\n",
       "                                 Investigator or Source  \n",
       "5396                                     C. Moore. GSAF  \n",
       "3333  D. Miller & R. Collier, R. Collier, pp.48-50; ...  "
      ]
     },
     "execution_count": 28,
     "metadata": {},
     "output_type": "execute_result"
    }
   ],
   "source": [
    "df.sample(2)"
   ]
  },
  {
   "cell_type": "code",
   "execution_count": 29,
   "id": "6e57e7ff-8005-48cf-a8ca-73a3210d9f06",
   "metadata": {},
   "outputs": [
    {
     "data": {
      "text/plain": [
       "array(['No injury to occupant, outrigger canoe and paddle damaged',\n",
       "       'Minor injury to left thigh',\n",
       "       'Injury to left lower leg from surfboard skeg', ...,\n",
       "       'FATAL, leg stripped of flesh  ',\n",
       "       'FATAL, knocked overboard by tail of shark & carried off by shark ',\n",
       "       'FATAL. \"Shark bit him in half, carrying away the lower extremities\" '],\n",
       "      dtype=object)"
      ]
     },
     "execution_count": 29,
     "metadata": {},
     "output_type": "execute_result"
    }
   ],
   "source": [
    "df[\"Injury\"].unique()"
   ]
  },
  {
   "cell_type": "code",
   "execution_count": 30,
   "id": "43d66124-998b-40f0-8672-cd7bff32c699",
   "metadata": {},
   "outputs": [
    {
     "data": {
      "text/plain": [
       "3736"
      ]
     },
     "execution_count": 30,
     "metadata": {},
     "output_type": "execute_result"
    }
   ],
   "source": [
    "df[\"Injury\"].nunique()"
   ]
  },
  {
   "cell_type": "code",
   "execution_count": null,
   "id": "641d405f-37a4-459c-b6ef-3b0072e7801c",
   "metadata": {},
   "outputs": [],
   "source": []
  },
  {
   "cell_type": "code",
   "execution_count": 31,
   "id": "0d928964-4c40-47e6-9c4a-a0d1dbbfef47",
   "metadata": {},
   "outputs": [],
   "source": [
    "df['Datetime'] = pd.to_datetime(df['Date'], errors ='coherce')"
   ]
  },
  {
   "cell_type": "code",
   "execution_count": 32,
   "id": "c9a62689-490f-4250-a7eb-e2777e9c4b2a",
   "metadata": {},
   "outputs": [
    {
     "name": "stdout",
     "output_type": "stream",
     "text": [
      "<class 'pandas.core.frame.DataFrame'>\n",
      "Int64Index: 6301 entries, 0 to 6301\n",
      "Data columns (total 17 columns):\n",
      " #   Column                  Non-Null Count  Dtype         \n",
      "---  ------                  --------------  -----         \n",
      " 0   Case Number             6301 non-null   object        \n",
      " 1   Date                    6301 non-null   object        \n",
      " 2   Year                    6299 non-null   float64       \n",
      " 3   Type                    6297 non-null   object        \n",
      " 4   Country                 6251 non-null   object        \n",
      " 5   Area                    5846 non-null   object        \n",
      " 6   Location                5761 non-null   object        \n",
      " 7   Activity                5757 non-null   object        \n",
      " 8   Name                    6091 non-null   object        \n",
      " 9   Sex                     5736 non-null   object        \n",
      " 10  Age                     3471 non-null   object        \n",
      " 11  Injury                  6273 non-null   object        \n",
      " 12  Fatal (Y/N)             5762 non-null   object        \n",
      " 13  Time                    2948 non-null   object        \n",
      " 14  Species                 3464 non-null   object        \n",
      " 15  Investigator or Source  6284 non-null   object        \n",
      " 16  Datetime                5458 non-null   datetime64[ns]\n",
      "dtypes: datetime64[ns](1), float64(1), object(15)\n",
      "memory usage: 886.1+ KB\n"
     ]
    }
   ],
   "source": [
    "df.info()\n"
   ]
  },
  {
   "cell_type": "code",
   "execution_count": null,
   "id": "aecd683d-4bdd-43d3-8217-fe0c3a7f9e07",
   "metadata": {},
   "outputs": [],
   "source": []
  },
  {
   "cell_type": "code",
   "execution_count": null,
   "id": "f624d19b-2bb0-4829-92d0-813d669ea0a4",
   "metadata": {},
   "outputs": [],
   "source": []
  },
  {
   "cell_type": "code",
   "execution_count": null,
   "id": "396b9082-3602-4586-bab1-3f303658333f",
   "metadata": {},
   "outputs": [],
   "source": [
    "df[\"Age\"].head(3)"
   ]
  },
  {
   "cell_type": "code",
   "execution_count": 1,
   "id": "802ee634-195e-4ae3-b908-452c8b3dbeb2",
   "metadata": {},
   "outputs": [
    {
     "ename": "NameError",
     "evalue": "name 'df' is not defined",
     "output_type": "error",
     "traceback": [
      "\u001b[1;31m---------------------------------------------------------------------------\u001b[0m",
      "\u001b[1;31mNameError\u001b[0m                                 Traceback (most recent call last)",
      "Input \u001b[1;32mIn [1]\u001b[0m, in \u001b[0;36m<cell line: 1>\u001b[1;34m()\u001b[0m\n\u001b[1;32m----> 1\u001b[0m \u001b[43mdf\u001b[49m[\u001b[38;5;124m\"\u001b[39m\u001b[38;5;124mAge\u001b[39m\u001b[38;5;124m\"\u001b[39m]\u001b[38;5;241m.\u001b[39munique()\n",
      "\u001b[1;31mNameError\u001b[0m: name 'df' is not defined"
     ]
    }
   ],
   "source": [
    "df[\"Age\"].unique()"
   ]
  },
  {
   "cell_type": "code",
   "execution_count": null,
   "id": "57825f8a-dc00-4864-933d-1392e6dc7939",
   "metadata": {},
   "outputs": [],
   "source": [
    "df[\"Date\"].unique()"
   ]
  },
  {
   "cell_type": "code",
   "execution_count": null,
   "id": "39824cab-6d7f-4625-9a2c-4cd2b6b98266",
   "metadata": {},
   "outputs": [],
   "source": [
    "\n",
    "df.head(1)"
   ]
  },
  {
   "cell_type": "code",
   "execution_count": null,
   "id": "a2524661-3795-47a9-9c69-ac27289c79eb",
   "metadata": {},
   "outputs": [],
   "source": [
    "df.columns"
   ]
  },
  {
   "cell_type": "code",
   "execution_count": null,
   "id": "183a7478-12da-48a2-84ac-c6e7f99fb874",
   "metadata": {},
   "outputs": [],
   "source": []
  },
  {
   "cell_type": "code",
   "execution_count": null,
   "id": "29bd9351-01de-4464-a703-e77698b06dd4",
   "metadata": {},
   "outputs": [],
   "source": [
    "df.shape"
   ]
  },
  {
   "cell_type": "code",
   "execution_count": null,
   "id": "a887dc0e-5321-420f-8e95-0dff34291097",
   "metadata": {},
   "outputs": [],
   "source": [
    "df.columns"
   ]
  },
  {
   "cell_type": "code",
   "execution_count": null,
   "id": "4ca18e70-ff22-4f86-89ee-21a2f7adf830",
   "metadata": {},
   "outputs": [],
   "source": [
    "df.info()"
   ]
  },
  {
   "cell_type": "code",
   "execution_count": null,
   "id": "56ec49fe-30c9-4552-af95-236d810129c1",
   "metadata": {},
   "outputs": [],
   "source": [
    "df.sample(2)"
   ]
  },
  {
   "cell_type": "markdown",
   "id": "04ae57d8-b759-4597-b051-2afce36a8292",
   "metadata": {},
   "source": [
    "# ejemplo de apply"
   ]
  },
  {
   "cell_type": "code",
   "execution_count": null,
   "id": "edb1b06d-09a4-4c03-902b-cc354a603e52",
   "metadata": {},
   "outputs": [],
   "source": [
    "def feet2cm(x):\n",
    "    (f,i) = x.split('-')\n",
    "    return 30.48 * int(f) + 2.54 * int(i)"
   ]
  },
  {
   "cell_type": "code",
   "execution_count": null,
   "id": "862b0cb9-3349-4b95-ba54-0da28c748ea6",
   "metadata": {},
   "outputs": [],
   "source": [
    "nba['altura_cm'] = nba.Height.apply(feet2cm)"
   ]
  },
  {
   "cell_type": "markdown",
   "id": "6845442f-81fd-4fa3-ad4e-b5e68a81765a",
   "metadata": {},
   "source": [
    "# pruebas con DATE"
   ]
  },
  {
   "cell_type": "code",
   "execution_count": 2,
   "id": "6d15d34b-98c6-4efd-a40e-61bd7faa6c9d",
   "metadata": {},
   "outputs": [
    {
     "name": "stdout",
     "output_type": "stream",
     "text": [
      "CURRENT DAY :  2022-05-12\n",
      "AFTER 5 DAYS DATE WILL BE :  2022-05-17\n"
     ]
    }
   ],
   "source": [
    "from datetime import date, timedelta\n",
    " \n",
    "today_date = date.today()\n",
    " \n",
    "print(\"CURRENT DAY : \", today_date)\n",
    " \n",
    "td = timedelta(5)\n",
    "print(\"AFTER 5 DAYS DATE WILL BE : \", today_date + td)"
   ]
  },
  {
   "cell_type": "code",
   "execution_count": 3,
   "id": "da90b3a2-64dd-45b8-8de8-fa14348af475",
   "metadata": {},
   "outputs": [
    {
     "data": {
      "text/plain": [
       "12"
      ]
     },
     "execution_count": 3,
     "metadata": {},
     "output_type": "execute_result"
    }
   ],
   "source": [
    "today_date.day"
   ]
  },
  {
   "cell_type": "code",
   "execution_count": 4,
   "id": "3d84e115-3328-4685-adf9-cc4705a4bf2e",
   "metadata": {},
   "outputs": [
    {
     "data": {
      "text/plain": [
       "5"
      ]
     },
     "execution_count": 4,
     "metadata": {},
     "output_type": "execute_result"
    }
   ],
   "source": [
    "today_date.month"
   ]
  },
  {
   "cell_type": "code",
   "execution_count": 5,
   "id": "b14f9bb5-d5ee-425c-94d8-b2a57a469baa",
   "metadata": {},
   "outputs": [
    {
     "data": {
      "text/plain": [
       "['__add__',\n",
       " '__class__',\n",
       " '__delattr__',\n",
       " '__dir__',\n",
       " '__doc__',\n",
       " '__eq__',\n",
       " '__format__',\n",
       " '__ge__',\n",
       " '__getattribute__',\n",
       " '__gt__',\n",
       " '__hash__',\n",
       " '__init__',\n",
       " '__init_subclass__',\n",
       " '__le__',\n",
       " '__lt__',\n",
       " '__ne__',\n",
       " '__new__',\n",
       " '__radd__',\n",
       " '__reduce__',\n",
       " '__reduce_ex__',\n",
       " '__repr__',\n",
       " '__rsub__',\n",
       " '__setattr__',\n",
       " '__sizeof__',\n",
       " '__str__',\n",
       " '__sub__',\n",
       " '__subclasshook__',\n",
       " 'ctime',\n",
       " 'day',\n",
       " 'fromisocalendar',\n",
       " 'fromisoformat',\n",
       " 'fromordinal',\n",
       " 'fromtimestamp',\n",
       " 'isocalendar',\n",
       " 'isoformat',\n",
       " 'isoweekday',\n",
       " 'max',\n",
       " 'min',\n",
       " 'month',\n",
       " 'replace',\n",
       " 'resolution',\n",
       " 'strftime',\n",
       " 'timetuple',\n",
       " 'today',\n",
       " 'toordinal',\n",
       " 'weekday',\n",
       " 'year']"
      ]
     },
     "execution_count": 5,
     "metadata": {},
     "output_type": "execute_result"
    }
   ],
   "source": [
    "dir(today_date)"
   ]
  },
  {
   "cell_type": "code",
   "execution_count": 12,
   "id": "59410ac1-8d72-45a3-b3f8-2c9f2dda1d0a",
   "metadata": {},
   "outputs": [
    {
     "data": {
      "text/plain": [
       "datetime.timedelta(days=1)"
      ]
     },
     "execution_count": 12,
     "metadata": {},
     "output_type": "execute_result"
    }
   ],
   "source": [
    "today_date.strftime("
   ]
  },
  {
   "cell_type": "code",
   "execution_count": null,
   "id": "f660ac64-e5c4-4538-b418-5121d6a7569a",
   "metadata": {},
   "outputs": [],
   "source": []
  }
 ],
 "metadata": {
  "kernelspec": {
   "display_name": "Python 3 (ipykernel)",
   "language": "python",
   "name": "python3"
  },
  "language_info": {
   "codemirror_mode": {
    "name": "ipython",
    "version": 3
   },
   "file_extension": ".py",
   "mimetype": "text/x-python",
   "name": "python",
   "nbconvert_exporter": "python",
   "pygments_lexer": "ipython3",
   "version": "3.9.12"
  }
 },
 "nbformat": 4,
 "nbformat_minor": 5
}
