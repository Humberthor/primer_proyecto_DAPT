{
 "cells": [
  {
   "cell_type": "markdown",
   "id": "aafb9618-69ce-4732-8bbe-aea5ff00f270",
   "metadata": {},
   "source": [
    "# Importar librerias y Dataset"
   ]
  },
  {
   "cell_type": "code",
   "execution_count": 1,
   "id": "986a6ce1-2ffe-4c18-830d-3213eb6ccec5",
   "metadata": {},
   "outputs": [],
   "source": [
    "import pandas as pd\n",
    "import numpy as np\n",
    "#import seaborn as sns\n",
    "import matplotlib\n",
    "import matplotlib.pyplot as plt\n",
    "import country_converter as coco"
   ]
  },
  {
   "cell_type": "code",
   "execution_count": 2,
   "id": "94685a3a-20cf-4c98-93c8-a0df3a305306",
   "metadata": {},
   "outputs": [],
   "source": [
    "path = r\"C:\\Users\\nuc_humbertore\\Ironhack\\Proyecto\\primer_proyecto_DAPT\\datos_proyecto\\attacks.csv\""
   ]
  },
  {
   "cell_type": "code",
   "execution_count": 3,
   "id": "37ee6552-26dc-482c-8d07-e62e9812c61e",
   "metadata": {},
   "outputs": [],
   "source": [
    "#df = pd.read_csv(r\"C:\\Users\\simbi\\Ironhack\\Proyecto\\datos_proyecto\\attacks.csv\", encoding =\"unicode_escape\")\n",
    "\n",
    "df = pd.read_csv(\"attacks.csv\", encoding =\"unicode_escape\")"
   ]
  },
  {
   "cell_type": "markdown",
   "id": "5e8c9f00-5045-42d3-a7da-9f7c3fa5ace8",
   "metadata": {
    "tags": []
   },
   "source": [
    "# Limpieza de los datos\n"
   ]
  },
  {
   "cell_type": "markdown",
   "id": "26ccaa2d-ce2c-484e-9dcc-04d3d3bf59d8",
   "metadata": {},
   "source": [
    "## 2.1 limpiar columnas de espacios"
   ]
  },
  {
   "cell_type": "code",
   "execution_count": 4,
   "id": "a42b6fea-8b54-445c-99e3-9c6576cd220a",
   "metadata": {},
   "outputs": [],
   "source": [
    "# limpiar columnas de espacios\n",
    "\n",
    "columnas = df.columns\n",
    "columnas = map(lambda x: x.strip(), columnas)\n",
    "df.columns = columnas"
   ]
  },
  {
   "cell_type": "markdown",
   "id": "31049af8-4a07-4b4c-b8dc-569c030feaf9",
   "metadata": {
    "tags": []
   },
   "source": [
    "## 2.2 identificar y eliminar las columnas inservibles"
   ]
  },
  {
   "cell_type": "code",
   "execution_count": 5,
   "id": "8dab7967-3f22-4b34-8c5f-33380ac8aae9",
   "metadata": {},
   "outputs": [
    {
     "data": {
      "text/plain": [
       "Index(['Case Number', 'Date', 'Year', 'Type', 'Country', 'Area', 'Location',\n",
       "       'Activity', 'Name', 'Sex', 'Age', 'Injury', 'Fatal (Y/N)', 'Time',\n",
       "       'Species', 'Investigator or Source', 'pdf', 'href formula', 'href',\n",
       "       'Case Number.1', 'Case Number.2', 'original order', 'Unnamed: 22',\n",
       "       'Unnamed: 23'],\n",
       "      dtype='object')"
      ]
     },
     "execution_count": 5,
     "metadata": {},
     "output_type": "execute_result"
    }
   ],
   "source": [
    "df.columns"
   ]
  },
  {
   "cell_type": "code",
   "execution_count": 6,
   "id": "82c59483-782d-4e30-8627-1b7f0f30de49",
   "metadata": {},
   "outputs": [],
   "source": [
    "#Después de una exploración del df borramos las columnas\n",
    "#con datos no numéricos y que no se pueden categorizar \n",
    "#P. ej.enlaces y códigos repetidos y columnas basura sin datos"
   ]
  },
  {
   "cell_type": "code",
   "execution_count": 7,
   "id": "b15e0d93-ad5d-499f-84a0-1cf9a321be1c",
   "metadata": {},
   "outputs": [],
   "source": [
    "df.drop(['Year', 'Type', 'Area', 'Location',\n",
    "       'Activity', 'Name', 'Injury', 'Time',\n",
    "       'Species', 'Investigator or Source', 'pdf', 'href formula', 'href',\n",
    "       'Case Number.1', 'Case Number.2', 'original order', 'Unnamed: 22',\n",
    "       'Unnamed: 23'], axis= 1, inplace=True)"
   ]
  },
  {
   "cell_type": "code",
   "execution_count": 8,
   "id": "4bd6a0d3-3204-4dd8-a55b-874fc84d46f4",
   "metadata": {},
   "outputs": [
    {
     "data": {
      "text/plain": [
       "Index(['Case Number', 'Date', 'Country', 'Sex', 'Age', 'Fatal (Y/N)'], dtype='object')"
      ]
     },
     "execution_count": 8,
     "metadata": {},
     "output_type": "execute_result"
    }
   ],
   "source": [
    "df.columns"
   ]
  },
  {
   "cell_type": "code",
   "execution_count": 9,
   "id": "fd528518-0254-485e-80a6-372c8433ad33",
   "metadata": {},
   "outputs": [
    {
     "data": {
      "text/plain": [
       "(25723, 6)"
      ]
     },
     "execution_count": 9,
     "metadata": {},
     "output_type": "execute_result"
    }
   ],
   "source": [
    "df.shape"
   ]
  },
  {
   "cell_type": "markdown",
   "id": "0307ff4e-4ac2-455b-bdcb-a65489a2ac15",
   "metadata": {},
   "source": [
    "## 2.2 filas"
   ]
  },
  {
   "cell_type": "markdown",
   "id": "2870ca77-7ece-4a43-b9e8-03bd8f76d087",
   "metadata": {},
   "source": [
    "## Borramos todas las filas con 100% de Nan"
   ]
  },
  {
   "cell_type": "code",
   "execution_count": 10,
   "id": "43518f83-6fee-4bf3-8736-5955ca108ab4",
   "metadata": {},
   "outputs": [],
   "source": [
    "df.dropna(how='all',inplace = True)"
   ]
  },
  {
   "cell_type": "code",
   "execution_count": 11,
   "id": "74cbe278-5ed2-4de6-a8ef-2501b868861a",
   "metadata": {},
   "outputs": [
    {
     "data": {
      "text/plain": [
       "[25722, 7121, 7128, 7127, 7126, 7125, 7124, 7123, 7122, 7120]"
      ]
     },
     "execution_count": 11,
     "metadata": {},
     "output_type": "execute_result"
    }
   ],
   "source": [
    "# para comprobar cuantos nulos hay por fila y listar los 10 que tienen más\n",
    "\n",
    "nulos = df.isnull().sum(axis=1)\n",
    "nulos.sort_values(ascending = False).head(10).index\n",
    "nul = nulos.sort_values(ascending = False).head(10).index\n",
    "list(nul)"
   ]
  },
  {
   "cell_type": "code",
   "execution_count": 12,
   "id": "3f745505-49b5-465a-bf24-a3a1e64f3639",
   "metadata": {},
   "outputs": [
    {
     "data": {
      "text/plain": [
       "(8703, 6)"
      ]
     },
     "execution_count": 12,
     "metadata": {},
     "output_type": "execute_result"
    }
   ],
   "source": [
    "df.shape"
   ]
  },
  {
   "cell_type": "markdown",
   "id": "07ce3c28-bb32-46e4-952f-bd71d9dcb139",
   "metadata": {},
   "source": [
    "## borramos los filas con menos de 5 valores que no son Null\n"
   ]
  },
  {
   "cell_type": "code",
   "execution_count": 13,
   "id": "570dd0a0-669d-4ffb-b40b-2e0cd06182b9",
   "metadata": {},
   "outputs": [],
   "source": [
    "#borramos los filas con menos de 10 valores que no son Null\n",
    "\n",
    "df.dropna(thresh=4, inplace=True)"
   ]
  },
  {
   "cell_type": "code",
   "execution_count": 14,
   "id": "9e329090-a2f4-4083-b9f8-99459eef5461",
   "metadata": {},
   "outputs": [
    {
     "data": {
      "text/plain": [
       "(6222, 6)"
      ]
     },
     "execution_count": 14,
     "metadata": {},
     "output_type": "execute_result"
    }
   ],
   "source": [
    "df.shape"
   ]
  },
  {
   "cell_type": "code",
   "execution_count": 15,
   "id": "3ef14690-d014-47e5-bb9d-01c37224fd73",
   "metadata": {},
   "outputs": [
    {
     "data": {
      "text/html": [
       "<div>\n",
       "<style scoped>\n",
       "    .dataframe tbody tr th:only-of-type {\n",
       "        vertical-align: middle;\n",
       "    }\n",
       "\n",
       "    .dataframe tbody tr th {\n",
       "        vertical-align: top;\n",
       "    }\n",
       "\n",
       "    .dataframe thead th {\n",
       "        text-align: right;\n",
       "    }\n",
       "</style>\n",
       "<table border=\"1\" class=\"dataframe\">\n",
       "  <thead>\n",
       "    <tr style=\"text-align: right;\">\n",
       "      <th></th>\n",
       "      <th>Case Number</th>\n",
       "      <th>Date</th>\n",
       "      <th>Country</th>\n",
       "      <th>Sex</th>\n",
       "      <th>Age</th>\n",
       "      <th>Fatal (Y/N)</th>\n",
       "    </tr>\n",
       "  </thead>\n",
       "  <tbody>\n",
       "    <tr>\n",
       "      <th>count</th>\n",
       "      <td>6221</td>\n",
       "      <td>6222</td>\n",
       "      <td>6178</td>\n",
       "      <td>5735</td>\n",
       "      <td>3471</td>\n",
       "      <td>5760</td>\n",
       "    </tr>\n",
       "    <tr>\n",
       "      <th>unique</th>\n",
       "      <td>6205</td>\n",
       "      <td>5362</td>\n",
       "      <td>211</td>\n",
       "      <td>6</td>\n",
       "      <td>157</td>\n",
       "      <td>8</td>\n",
       "    </tr>\n",
       "    <tr>\n",
       "      <th>top</th>\n",
       "      <td>1983.06.15</td>\n",
       "      <td>1957</td>\n",
       "      <td>USA</td>\n",
       "      <td>M</td>\n",
       "      <td>17</td>\n",
       "      <td>N</td>\n",
       "    </tr>\n",
       "    <tr>\n",
       "      <th>freq</th>\n",
       "      <td>2</td>\n",
       "      <td>11</td>\n",
       "      <td>2214</td>\n",
       "      <td>5092</td>\n",
       "      <td>154</td>\n",
       "      <td>4292</td>\n",
       "    </tr>\n",
       "  </tbody>\n",
       "</table>\n",
       "</div>"
      ],
      "text/plain": [
       "       Case Number  Date Country   Sex   Age Fatal (Y/N)\n",
       "count         6221  6222    6178  5735  3471        5760\n",
       "unique        6205  5362     211     6   157           8\n",
       "top     1983.06.15  1957     USA     M    17           N\n",
       "freq             2    11    2214  5092   154        4292"
      ]
     },
     "execution_count": 15,
     "metadata": {},
     "output_type": "execute_result"
    }
   ],
   "source": [
    "df.describe()"
   ]
  },
  {
   "cell_type": "markdown",
   "id": "381c6df6-dd10-455e-8787-58270dbcedbf",
   "metadata": {},
   "source": [
    "# 3 Dar formato a los datos"
   ]
  },
  {
   "cell_type": "markdown",
   "id": "7bc4dca1-5a8d-43ea-830e-3933fcb11c94",
   "metadata": {},
   "source": [
    "## Nornalizar columna \"Fatal (Y/N)\""
   ]
  },
  {
   "cell_type": "code",
   "execution_count": 16,
   "id": "1f23d914-137e-4d80-a477-3e8a94ca0a32",
   "metadata": {},
   "outputs": [
    {
     "data": {
      "text/plain": [
       "array(['N', 'Y', nan, 'M', 'UNKNOWN', '2017', ' N', 'N ', 'y'],\n",
       "      dtype=object)"
      ]
     },
     "execution_count": 16,
     "metadata": {},
     "output_type": "execute_result"
    }
   ],
   "source": [
    "df[\"Fatal (Y/N)\"].unique()"
   ]
  },
  {
   "cell_type": "code",
   "execution_count": 17,
   "id": "53ab4303-cfbe-464f-9795-5f3126fd762c",
   "metadata": {},
   "outputs": [],
   "source": [
    "#Eliminamos espacios\n",
    "df[\"Fatal (Y/N)\"] = df[\"Fatal (Y/N)\"].str.strip(to_strip=None)\n",
    "\n",
    "#lo pasamos todo a minúsculas\n",
    "df[\"Fatal (Y/N)\"]=df[\"Fatal (Y/N)\"].str.lower()\n",
    "\n",
    "#dejamos los \"n\" y los \"y\" y transformamos el resto en \"notknown\"\n",
    "df.loc[(df.loc[:, \"Fatal (Y/N)\"] != \"n\") & (df.loc[:, \"Fatal (Y/N)\"] != \"y\")] = \"notknown\""
   ]
  },
  {
   "cell_type": "code",
   "execution_count": 18,
   "id": "aa359338-8444-4e5e-942a-671c8bbbfcea",
   "metadata": {},
   "outputs": [
    {
     "data": {
      "text/plain": [
       "array(['n', 'y', 'notknown'], dtype=object)"
      ]
     },
     "execution_count": 18,
     "metadata": {},
     "output_type": "execute_result"
    }
   ],
   "source": [
    "df[\"Fatal (Y/N)\"].unique()"
   ]
  },
  {
   "cell_type": "markdown",
   "id": "d06753c6-4eee-47e9-8c7f-eee26cece3ec",
   "metadata": {},
   "source": [
    "## Nornalizar columna \"Sex\""
   ]
  },
  {
   "cell_type": "code",
   "execution_count": 19,
   "id": "328ff0cf-fce8-4e91-b265-24f87f3118d2",
   "metadata": {},
   "outputs": [
    {
     "data": {
      "text/plain": [
       "array(['F', 'M', 'notknown', nan, 'M ', 'lli', 'N', '.'], dtype=object)"
      ]
     },
     "execution_count": 19,
     "metadata": {},
     "output_type": "execute_result"
    }
   ],
   "source": [
    "df[\"Sex\"].unique()"
   ]
  },
  {
   "cell_type": "code",
   "execution_count": 20,
   "id": "b7c44935-f90e-4b6e-87db-19f6f0c38db2",
   "metadata": {},
   "outputs": [],
   "source": [
    "#Eliminamos espacios\n",
    "df[\"Sex\"] = df[\"Sex\"].str.strip(to_strip=None)\n",
    "\n",
    "#lo pasamos todo a minúsculas\n",
    "df[\"Sex\"]=df[\"Sex\"].str.lower()\n",
    "\n",
    "#dejamos las \"f\" y las \"m\" y transformamos el resto en \"notknown\"\n",
    "df.loc[(df.loc[:, 'Sex'] != \"f\") & (df.loc[:, 'Sex'] != \"m\")] = \"notknown\""
   ]
  },
  {
   "cell_type": "code",
   "execution_count": 21,
   "id": "6b00b928-b116-4f46-8969-12af1562dbed",
   "metadata": {},
   "outputs": [
    {
     "data": {
      "text/plain": [
       "array(['f', 'm', 'notknown'], dtype=object)"
      ]
     },
     "execution_count": 21,
     "metadata": {},
     "output_type": "execute_result"
    }
   ],
   "source": [
    "df[\"Sex\"].unique()"
   ]
  },
  {
   "cell_type": "code",
   "execution_count": null,
   "id": "23235509-550a-4d4a-a123-2897bd4940d3",
   "metadata": {},
   "outputs": [],
   "source": []
  },
  {
   "cell_type": "markdown",
   "id": "62eaa34c-5c72-4495-aca6-e08975d70670",
   "metadata": {
    "tags": []
   },
   "source": [
    "## Normalizar columna Age a int or float"
   ]
  },
  {
   "cell_type": "code",
   "execution_count": 22,
   "id": "59fdfb9a-4a23-40c8-a886-2e9271f876f3",
   "metadata": {},
   "outputs": [],
   "source": [
    "df[\"Age\"] = df.Age.str.strip()"
   ]
  },
  {
   "cell_type": "code",
   "execution_count": 23,
   "id": "a4dce3e5-f640-4b03-97fd-6b751c4ec22d",
   "metadata": {},
   "outputs": [],
   "source": [
    "df[\"Age_normalize\"] = pd.to_numeric(df['Age'], errors='coerce', downcast=\"integer\")"
   ]
  },
  {
   "cell_type": "code",
   "execution_count": null,
   "id": "0c465867-97d9-46d0-8f97-26ea2318ad89",
   "metadata": {},
   "outputs": [],
   "source": []
  },
  {
   "cell_type": "code",
   "execution_count": 24,
   "id": "69a85f87-ca22-4fc0-a497-690f4e0d344f",
   "metadata": {},
   "outputs": [],
   "source": [
    "df[\"Age_normalize\"].fillna(value = 0, inplace=True)"
   ]
  },
  {
   "cell_type": "code",
   "execution_count": 25,
   "id": "bebd86fb-1e70-487d-9670-e5c16002a455",
   "metadata": {},
   "outputs": [],
   "source": [
    "df[\"Age_normalize\"] = df[\"Age_normalize\"].astype(int)"
   ]
  },
  {
   "cell_type": "code",
   "execution_count": null,
   "id": "a2545099-ba23-4273-8f3b-392415f9c8b3",
   "metadata": {
    "tags": []
   },
   "outputs": [],
   "source": []
  },
  {
   "cell_type": "code",
   "execution_count": 26,
   "id": "e79ffcc5-c566-474f-9af0-6c6b0fb60b58",
   "metadata": {},
   "outputs": [
    {
     "data": {
      "text/plain": [
       "80"
      ]
     },
     "execution_count": 26,
     "metadata": {},
     "output_type": "execute_result"
    }
   ],
   "source": [
    "df[\"Age_normalize\"].nunique()"
   ]
  },
  {
   "cell_type": "code",
   "execution_count": 27,
   "id": "ff8f6986-43ff-4eb0-9e80-cd5c01b0e370",
   "metadata": {},
   "outputs": [
    {
     "data": {
      "text/plain": [
       "array([[<AxesSubplot:title={'center':'Age_normalize'}>]], dtype=object)"
      ]
     },
     "execution_count": 27,
     "metadata": {},
     "output_type": "execute_result"
    },
    {
     "data": {
      "image/png": "[encoded data removed]",
      "text/plain": [
       "<Figure size 1080x1080 with 1 Axes>"
      ]
     },
     "metadata": {
      "needs_background": "light"
     },
     "output_type": "display_data"
    }
   ],
   "source": [
    "df[df[\"Age_normalize\"] > 0].hist(legend=True,bins=70, figsize = [15,15])"
   ]
  },
  {
   "cell_type": "code",
   "execution_count": 28,
   "id": "e1cec1b3-8adb-484a-8bd3-07861864aca2",
   "metadata": {},
   "outputs": [
    {
     "data": {
      "text/plain": [
       "<AxesSubplot:>"
      ]
     },
     "execution_count": 28,
     "metadata": {},
     "output_type": "execute_result"
    },
    {
     "data": {
      "image/png": "[encoded data removed]",
      "text/plain": [
       "<Figure size 360x720 with 1 Axes>"
      ]
     },
     "metadata": {
      "needs_background": "light"
     },
     "output_type": "display_data"
    }
   ],
   "source": [
    "df[df[\"Age_normalize\"] > 0].boxplot(figsize=(5,10))"
   ]
  },
  {
   "cell_type": "code",
   "execution_count": 29,
   "id": "f805f867-194f-426a-b7fb-559096f7f5a1",
   "metadata": {},
   "outputs": [
    {
     "data": {
      "text/html": [
       "<div>\n",
       "<style scoped>\n",
       "    .dataframe tbody tr th:only-of-type {\n",
       "        vertical-align: middle;\n",
       "    }\n",
       "\n",
       "    .dataframe tbody tr th {\n",
       "        vertical-align: top;\n",
       "    }\n",
       "\n",
       "    .dataframe thead th {\n",
       "        text-align: right;\n",
       "    }\n",
       "</style>\n",
       "<table border=\"1\" class=\"dataframe\">\n",
       "  <thead>\n",
       "    <tr style=\"text-align: right;\">\n",
       "      <th></th>\n",
       "      <th>Age_normalize</th>\n",
       "    </tr>\n",
       "  </thead>\n",
       "  <tbody>\n",
       "    <tr>\n",
       "      <th>count</th>\n",
       "      <td>3112.000000</td>\n",
       "    </tr>\n",
       "    <tr>\n",
       "      <th>mean</th>\n",
       "      <td>27.287918</td>\n",
       "    </tr>\n",
       "    <tr>\n",
       "      <th>std</th>\n",
       "      <td>13.827193</td>\n",
       "    </tr>\n",
       "    <tr>\n",
       "      <th>min</th>\n",
       "      <td>1.000000</td>\n",
       "    </tr>\n",
       "    <tr>\n",
       "      <th>25%</th>\n",
       "      <td>17.000000</td>\n",
       "    </tr>\n",
       "    <tr>\n",
       "      <th>50%</th>\n",
       "      <td>24.000000</td>\n",
       "    </tr>\n",
       "    <tr>\n",
       "      <th>75%</th>\n",
       "      <td>35.000000</td>\n",
       "    </tr>\n",
       "    <tr>\n",
       "      <th>max</th>\n",
       "      <td>87.000000</td>\n",
       "    </tr>\n",
       "  </tbody>\n",
       "</table>\n",
       "</div>"
      ],
      "text/plain": [
       "       Age_normalize\n",
       "count    3112.000000\n",
       "mean       27.287918\n",
       "std        13.827193\n",
       "min         1.000000\n",
       "25%        17.000000\n",
       "50%        24.000000\n",
       "75%        35.000000\n",
       "max        87.000000"
      ]
     },
     "execution_count": 29,
     "metadata": {},
     "output_type": "execute_result"
    }
   ],
   "source": [
    "df[df[\"Age_normalize\"] > 0].describe()"
   ]
  },
  {
   "cell_type": "code",
   "execution_count": null,
   "id": "6320d27c-603c-4975-9e41-b2e525035ea1",
   "metadata": {},
   "outputs": [],
   "source": []
  },
  {
   "cell_type": "markdown",
   "id": "2d227ca6-e57c-43e3-bea7-691bd0b8f849",
   "metadata": {
    "tags": []
   },
   "source": [
    "## Normalizar columna Date a datetime"
   ]
  },
  {
   "cell_type": "code",
   "execution_count": 30,
   "id": "287eb3ca-9f8b-439d-8e65-7d72b405de1a",
   "metadata": {},
   "outputs": [
    {
     "data": {
      "text/plain": [
       "'\\nPara normalizar las fechas rellenamos los NaN con una fecha futura para \\ndespués poder excluirla facilmente a la hora de trabajr con los datos\\nde esa columna\\n\\nExclude_date= \"2030-01-01 00:00:00\"\\n\\n'"
      ]
     },
     "execution_count": 30,
     "metadata": {},
     "output_type": "execute_result"
    }
   ],
   "source": [
    "\"\"\"\n",
    "Para normalizar las fechas rellenamos los NaN con una fecha futura para \n",
    "después poder excluirla facilmente a la hora de trabajr con los datos\n",
    "de esa columna\n",
    "\n",
    "Exclude_date= \"2030-01-01 00:00:00\"\n",
    "\n",
    "\"\"\""
   ]
  },
  {
   "cell_type": "code",
   "execution_count": 31,
   "id": "d97f9d0f-f028-4f3e-b5ce-f8a9657ca658",
   "metadata": {},
   "outputs": [
    {
     "data": {
      "text/plain": [
       "0"
      ]
     },
     "execution_count": 31,
     "metadata": {},
     "output_type": "execute_result"
    }
   ],
   "source": [
    "df['Date'].isnull().sum()"
   ]
  },
  {
   "cell_type": "code",
   "execution_count": 32,
   "id": "7dce6cb1-df09-4b3b-9dc4-79f639cf5cdb",
   "metadata": {},
   "outputs": [
    {
     "data": {
      "text/plain": [
       "0       25-Jun-2018\n",
       "1       18-Jun-2018\n",
       "2       09-Jun-2018\n",
       "3       08-Jun-2018\n",
       "4       04-Jun-2018\n",
       "           ...     \n",
       "6297    Before 1903\n",
       "6298    Before 1903\n",
       "6299      1900-1905\n",
       "6300      1883-1889\n",
       "6301      1845-1853\n",
       "Name: Date, Length: 6222, dtype: object"
      ]
     },
     "execution_count": 32,
     "metadata": {},
     "output_type": "execute_result"
    }
   ],
   "source": [
    "df['Date']"
   ]
  },
  {
   "cell_type": "code",
   "execution_count": 33,
   "id": "a10d007a-51fd-4254-bd34-f3dda3bd3d0c",
   "metadata": {},
   "outputs": [],
   "source": [
    "#convertimos Date a datetime para la columna 'Date_normalize'\n",
    "\n",
    "df['Date_normalize'] = pd.to_datetime(df['Date'], errors ='coerce')"
   ]
  },
  {
   "cell_type": "code",
   "execution_count": 34,
   "id": "091b9646-0e2b-4af1-ae42-2ac1a05bbac3",
   "metadata": {},
   "outputs": [
    {
     "data": {
      "text/plain": [
       "1648"
      ]
     },
     "execution_count": 34,
     "metadata": {},
     "output_type": "execute_result"
    }
   ],
   "source": [
    "df['Date_normalize'].isnull().sum()"
   ]
  },
  {
   "cell_type": "code",
   "execution_count": 35,
   "id": "01d853b8-6f23-4744-bf5a-347c9a2a6a09",
   "metadata": {},
   "outputs": [
    {
     "data": {
      "text/plain": [
       "dtype('<M8[ns]')"
      ]
     },
     "execution_count": 35,
     "metadata": {},
     "output_type": "execute_result"
    }
   ],
   "source": [
    "df['Date_normalize'].dtypes"
   ]
  },
  {
   "cell_type": "code",
   "execution_count": 36,
   "id": "330870d4-44a1-46dd-bc1a-04b1b4956f14",
   "metadata": {},
   "outputs": [],
   "source": [
    "# Rellenanos los Nan con una fecha rara para poder filtrar luego. \n",
    "# OJO! esto convierte toda la columna en float\n",
    "Exclude_date = \"2030-01-01 00:00:00\"\n",
    "df['Date_normalize'].fillna(value = Exclude_date , inplace=True)"
   ]
  },
  {
   "cell_type": "code",
   "execution_count": 37,
   "id": "246280d5-058d-4d0a-b54d-0f2cca53afda",
   "metadata": {},
   "outputs": [
    {
     "data": {
      "text/plain": [
       "0      2018-06-25\n",
       "1      2018-06-18\n",
       "2      2018-06-09\n",
       "3      2018-06-08\n",
       "4      2018-06-04\n",
       "          ...    \n",
       "6297   2030-01-01\n",
       "6298   2030-01-01\n",
       "6299   2030-01-01\n",
       "6300   2030-01-01\n",
       "6301   2030-01-01\n",
       "Name: Date_normalize, Length: 6222, dtype: datetime64[ns]"
      ]
     },
     "execution_count": 37,
     "metadata": {},
     "output_type": "execute_result"
    }
   ],
   "source": [
    "df['Date_normalize']"
   ]
  },
  {
   "cell_type": "code",
   "execution_count": 38,
   "id": "2648bf9d-f37c-4fd3-b281-fb17edde02e6",
   "metadata": {},
   "outputs": [
    {
     "data": {
      "text/plain": [
       "0"
      ]
     },
     "execution_count": 38,
     "metadata": {},
     "output_type": "execute_result"
    }
   ],
   "source": [
    "df['Date_normalize'].isnull().sum()"
   ]
  },
  {
   "cell_type": "code",
   "execution_count": 39,
   "id": "3273e5a2-2798-489e-838d-09c2a111edf4",
   "metadata": {},
   "outputs": [
    {
     "data": {
      "text/plain": [
       "dtype('<M8[ns]')"
      ]
     },
     "execution_count": 39,
     "metadata": {},
     "output_type": "execute_result"
    }
   ],
   "source": [
    "df['Date_normalize'].dtypes"
   ]
  },
  {
   "cell_type": "code",
   "execution_count": 40,
   "id": "27076bdd-1152-455d-90cf-cc59f7f427b1",
   "metadata": {},
   "outputs": [],
   "source": [
    "#volvemos a convertir la columna de float a datetime \n",
    "df['Date_normalize'] = pd.to_datetime(df['Date_normalize'], errors ='coerce')"
   ]
  },
  {
   "cell_type": "code",
   "execution_count": 41,
   "id": "27eeaa13-91d9-4fa4-8fc3-125a22155324",
   "metadata": {},
   "outputs": [
    {
     "data": {
      "text/plain": [
       "0      2018-06-25\n",
       "1      2018-06-18\n",
       "2      2018-06-09\n",
       "3      2018-06-08\n",
       "4      2018-06-04\n",
       "          ...    \n",
       "6297   2030-01-01\n",
       "6298   2030-01-01\n",
       "6299   2030-01-01\n",
       "6300   2030-01-01\n",
       "6301   2030-01-01\n",
       "Name: Date_normalize, Length: 6222, dtype: datetime64[ns]"
      ]
     },
     "execution_count": 41,
     "metadata": {},
     "output_type": "execute_result"
    }
   ],
   "source": [
    "df['Date_normalize']"
   ]
  },
  {
   "cell_type": "code",
   "execution_count": 42,
   "id": "f0eb95ce-9b42-4233-ad52-9e8dfb217e29",
   "metadata": {},
   "outputs": [
    {
     "data": {
      "text/plain": [
       "0"
      ]
     },
     "execution_count": 42,
     "metadata": {},
     "output_type": "execute_result"
    }
   ],
   "source": [
    "df['Date_normalize'].isnull().sum()"
   ]
  },
  {
   "cell_type": "code",
   "execution_count": 43,
   "id": "e9dd4495-d3a0-4721-acba-66c81b9baedc",
   "metadata": {},
   "outputs": [
    {
     "data": {
      "text/plain": [
       "dtype('<M8[ns]')"
      ]
     },
     "execution_count": 43,
     "metadata": {},
     "output_type": "execute_result"
    }
   ],
   "source": [
    "df['Date_normalize'].dtypes"
   ]
  },
  {
   "cell_type": "code",
   "execution_count": 44,
   "id": "edad91d1-892e-4a68-bb89-3231244d20a9",
   "metadata": {},
   "outputs": [],
   "source": [
    "df['Year_Date'] = df['Date_normalize'].dt.year"
   ]
  },
  {
   "cell_type": "code",
   "execution_count": 45,
   "id": "11c1e162-fa24-426d-93cd-39ab692dd992",
   "metadata": {},
   "outputs": [
    {
     "data": {
      "text/plain": [
       "0"
      ]
     },
     "execution_count": 45,
     "metadata": {},
     "output_type": "execute_result"
    }
   ],
   "source": [
    "df['Year_Date'].isnull().sum()"
   ]
  },
  {
   "cell_type": "code",
   "execution_count": 46,
   "id": "57f0c3bd-6d9e-4a4e-9c75-b643b15f7c17",
   "metadata": {},
   "outputs": [],
   "source": [
    "df['Month_Date'] = df['Date_normalize'].dt.month"
   ]
  },
  {
   "cell_type": "code",
   "execution_count": 47,
   "id": "37c77fd8-6d73-4068-bdb6-6f0a989c7eb7",
   "metadata": {},
   "outputs": [],
   "source": [
    "df['Day_Date'] = df['Date_normalize'].dt.day_name()"
   ]
  },
  {
   "cell_type": "code",
   "execution_count": 48,
   "id": "7acc55e8-de00-4cc6-b5c6-1c12d0b134b6",
   "metadata": {},
   "outputs": [
    {
     "data": {
      "text/html": [
       "<div>\n",
       "<style scoped>\n",
       "    .dataframe tbody tr th:only-of-type {\n",
       "        vertical-align: middle;\n",
       "    }\n",
       "\n",
       "    .dataframe tbody tr th {\n",
       "        vertical-align: top;\n",
       "    }\n",
       "\n",
       "    .dataframe thead th {\n",
       "        text-align: right;\n",
       "    }\n",
       "</style>\n",
       "<table border=\"1\" class=\"dataframe\">\n",
       "  <thead>\n",
       "    <tr style=\"text-align: right;\">\n",
       "      <th></th>\n",
       "      <th>Case Number</th>\n",
       "      <th>Date</th>\n",
       "      <th>Country</th>\n",
       "      <th>Sex</th>\n",
       "      <th>Age</th>\n",
       "      <th>Fatal (Y/N)</th>\n",
       "      <th>Age_normalize</th>\n",
       "      <th>Date_normalize</th>\n",
       "      <th>Year_Date</th>\n",
       "      <th>Month_Date</th>\n",
       "      <th>Day_Date</th>\n",
       "    </tr>\n",
       "  </thead>\n",
       "  <tbody>\n",
       "    <tr>\n",
       "      <th>0</th>\n",
       "      <td>2018.06.25</td>\n",
       "      <td>25-Jun-2018</td>\n",
       "      <td>USA</td>\n",
       "      <td>f</td>\n",
       "      <td>57</td>\n",
       "      <td>n</td>\n",
       "      <td>57</td>\n",
       "      <td>2018-06-25</td>\n",
       "      <td>2018</td>\n",
       "      <td>6</td>\n",
       "      <td>Monday</td>\n",
       "    </tr>\n",
       "    <tr>\n",
       "      <th>1</th>\n",
       "      <td>2018.06.18</td>\n",
       "      <td>18-Jun-2018</td>\n",
       "      <td>USA</td>\n",
       "      <td>f</td>\n",
       "      <td>11</td>\n",
       "      <td>n</td>\n",
       "      <td>11</td>\n",
       "      <td>2018-06-18</td>\n",
       "      <td>2018</td>\n",
       "      <td>6</td>\n",
       "      <td>Monday</td>\n",
       "    </tr>\n",
       "    <tr>\n",
       "      <th>2</th>\n",
       "      <td>2018.06.09</td>\n",
       "      <td>09-Jun-2018</td>\n",
       "      <td>USA</td>\n",
       "      <td>m</td>\n",
       "      <td>48</td>\n",
       "      <td>n</td>\n",
       "      <td>48</td>\n",
       "      <td>2018-06-09</td>\n",
       "      <td>2018</td>\n",
       "      <td>6</td>\n",
       "      <td>Saturday</td>\n",
       "    </tr>\n",
       "  </tbody>\n",
       "</table>\n",
       "</div>"
      ],
      "text/plain": [
       "  Case Number         Date Country Sex Age Fatal (Y/N)  Age_normalize  \\\n",
       "0  2018.06.25  25-Jun-2018     USA   f  57           n             57   \n",
       "1  2018.06.18  18-Jun-2018     USA   f  11           n             11   \n",
       "2  2018.06.09  09-Jun-2018     USA   m  48           n             48   \n",
       "\n",
       "  Date_normalize  Year_Date  Month_Date  Day_Date  \n",
       "0     2018-06-25       2018           6    Monday  \n",
       "1     2018-06-18       2018           6    Monday  \n",
       "2     2018-06-09       2018           6  Saturday  "
      ]
     },
     "execution_count": 48,
     "metadata": {},
     "output_type": "execute_result"
    }
   ],
   "source": [
    "df.head(3)"
   ]
  },
  {
   "cell_type": "code",
   "execution_count": null,
   "id": "7a80d726-a060-4bdd-aa10-01ee0240e944",
   "metadata": {},
   "outputs": [],
   "source": []
  },
  {
   "cell_type": "code",
   "execution_count": 49,
   "id": "e7812bf9-4000-43e4-82b2-d54effed8c1a",
   "metadata": {},
   "outputs": [
    {
     "data": {
      "text/plain": [
       "209"
      ]
     },
     "execution_count": 49,
     "metadata": {},
     "output_type": "execute_result"
    }
   ],
   "source": [
    "df[\"Year_Date\"].nunique()"
   ]
  },
  {
   "cell_type": "code",
   "execution_count": null,
   "id": "2e8ef8c9-6fa1-4d3f-ab62-11e57307aa81",
   "metadata": {},
   "outputs": [],
   "source": []
  },
  {
   "cell_type": "markdown",
   "id": "2a99fefe-1c2c-4d72-9223-259b6d9ea786",
   "metadata": {},
   "source": [
    "\"\"\"\n",
    "para estudiar / hacer en el futuro:\n",
    "la manera en que si hay menos valores que x(en cantidad) en una columna esta pase a ser \"undefined\"\n",
    "o algo por el estilo. p ej en \"Type\" aparee Boatomg que es un error de tiping o Questionable que solo hay 2 valores \n",
    "\"\"\""
   ]
  },
  {
   "cell_type": "code",
   "execution_count": null,
   "id": "33ca7c68-d7aa-496f-91dc-217373ba07d5",
   "metadata": {},
   "outputs": [],
   "source": []
  },
  {
   "cell_type": "code",
   "execution_count": 51,
   "id": "a0c8d065-3055-4b9e-971c-5135a3d97e1f",
   "metadata": {},
   "outputs": [
    {
     "data": {
      "text/plain": [
       "'\\n\\n\\ndf[\"Country\"] = coco.convert(names=df[\"Country\"], to=\\'name_short\\')\\ndf[\"Country\"]=df[\"Country\"].str.lower()\\n\\n\\n\\n'"
      ]
     },
     "execution_count": 51,
     "metadata": {},
     "output_type": "execute_result"
    }
   ],
   "source": [
    "\n",
    "\"\"\"\n",
    "\n",
    "\n",
    "df[\"Country\"] = coco.convert(names=df[\"Country\"], to='name_short')\n",
    "df[\"Country\"]=df[\"Country\"].str.lower()\n",
    "\n",
    "\n",
    "\n",
    "\"\"\"\n"
   ]
  },
  {
   "cell_type": "code",
   "execution_count": 52,
   "id": "1fbddf9b-6240-43c0-b3da-e21605cf8f3f",
   "metadata": {},
   "outputs": [
    {
     "data": {
      "text/plain": [
       "'\\n\\n\\ndf[\"Country\"].nunique()\\n\\n'"
      ]
     },
     "execution_count": 52,
     "metadata": {},
     "output_type": "execute_result"
    }
   ],
   "source": [
    "\"\"\"\n",
    "\n",
    "\n",
    "df[\"Country\"].nunique()\n",
    "\n",
    "\"\"\""
   ]
  },
  {
   "cell_type": "code",
   "execution_count": 53,
   "id": "cc73b3b8-96a7-448d-aa0a-ba618a52d64d",
   "metadata": {},
   "outputs": [
    {
     "data": {
      "text/plain": [
       "<AxesSubplot:>"
      ]
     },
     "execution_count": 53,
     "metadata": {},
     "output_type": "execute_result"
    },
    {
     "data": {
      "image/png": "[encoded data removed]",
      "text/plain": [
       "<Figure size 1080x288 with 1 Axes>"
      ]
     },
     "metadata": {
      "needs_background": "light"
     },
     "output_type": "display_data"
    }
   ],
   "source": [
    "year_filtrado = df[(df.Year_Date < 2028)]\n",
    "#year_filtrado = df[df[\"Year_Date\"] != Exclude_date]\n",
    "#Exclude_date\n",
    "\n",
    "\n",
    "\n",
    "year_filtrado['Year_Date'].hist(legend=True,bins= 200, figsize = [15,4])"
   ]
  },
  {
   "cell_type": "code",
   "execution_count": null,
   "id": "6383e6fe-4bb6-4351-bb25-aeab87341e88",
   "metadata": {},
   "outputs": [],
   "source": []
  },
  {
   "cell_type": "code",
   "execution_count": 54,
   "id": "b0a457bb-74e9-46e5-bbf0-d9abc7882202",
   "metadata": {},
   "outputs": [
    {
     "data": {
      "text/plain": [
       "pandas.core.frame.DataFrame"
      ]
     },
     "execution_count": 54,
     "metadata": {},
     "output_type": "execute_result"
    }
   ],
   "source": [
    "type(year_filtrado)"
   ]
  },
  {
   "cell_type": "code",
   "execution_count": 55,
   "id": "a8529ddf-efd7-462d-9e9f-83629aa31d8c",
   "metadata": {},
   "outputs": [
    {
     "data": {
      "text/plain": [
       "(4574, 11)"
      ]
     },
     "execution_count": 55,
     "metadata": {},
     "output_type": "execute_result"
    }
   ],
   "source": [
    "year_filtrado.shape"
   ]
  },
  {
   "cell_type": "code",
   "execution_count": 56,
   "id": "c28a96ff-83dd-42e0-81c9-5fcb077545fc",
   "metadata": {},
   "outputs": [
    {
     "data": {
      "text/plain": [
       "Index(['Case Number', 'Date', 'Country', 'Sex', 'Age', 'Fatal (Y/N)',\n",
       "       'Age_normalize', 'Date_normalize', 'Year_Date', 'Month_Date',\n",
       "       'Day_Date'],\n",
       "      dtype='object')"
      ]
     },
     "execution_count": 56,
     "metadata": {},
     "output_type": "execute_result"
    }
   ],
   "source": [
    "df.columns"
   ]
  },
  {
   "cell_type": "code",
   "execution_count": null,
   "id": "17e131a3-9656-422e-a132-f0133a9acc67",
   "metadata": {},
   "outputs": [],
   "source": []
  },
  {
   "cell_type": "code",
   "execution_count": null,
   "id": "e873a0ac-00f8-48a1-9cca-4abb6e79ff94",
   "metadata": {},
   "outputs": [],
   "source": []
  },
  {
   "cell_type": "code",
   "execution_count": null,
   "id": "42d5c69a-67b1-43e3-8549-21cea37e89ea",
   "metadata": {},
   "outputs": [],
   "source": []
  },
  {
   "cell_type": "code",
   "execution_count": 57,
   "id": "82e9fc41-9d2e-4667-82a0-479392defcdf",
   "metadata": {},
   "outputs": [
    {
     "data": {
      "text/plain": [
       "array([[<AxesSubplot:title={'center':'Age_normalize'}>,\n",
       "        <AxesSubplot:title={'center':'Date_normalize'}>],\n",
       "       [<AxesSubplot:title={'center':'Year_Date'}>,\n",
       "        <AxesSubplot:title={'center':'Month_Date'}>]], dtype=object)"
      ]
     },
     "execution_count": 57,
     "metadata": {},
     "output_type": "execute_result"
    },
    {
     "data": {
      "image/png": "[encoded data removed]",
      "text/plain": [
       "<Figure size 1080x288 with 4 Axes>"
      ]
     },
     "metadata": {
      "needs_background": "light"
     },
     "output_type": "display_data"
    }
   ],
   "source": [
    "df[df['Year_Date'] != 2030].hist(legend=True,bins= 200, figsize = [15,4])"
   ]
  },
  {
   "cell_type": "code",
   "execution_count": 58,
   "id": "ef18b7bb-2833-4b8e-9977-a6ff61dd6201",
   "metadata": {},
   "outputs": [
    {
     "data": {
      "text/plain": [
       "<AxesSubplot:>"
      ]
     },
     "execution_count": 58,
     "metadata": {},
     "output_type": "execute_result"
    },
    {
     "data": {
      "image/png": "[encoded data removed]",
      "text/plain": [
       "<Figure size 720x288 with 1 Axes>"
      ]
     },
     "metadata": {
      "needs_background": "light"
     },
     "output_type": "display_data"
    }
   ],
   "source": [
    "year_filtrado['Month_Date'].hist(legend=True,bins= 200, figsize = [10,4])\n"
   ]
  },
  {
   "cell_type": "code",
   "execution_count": 59,
   "id": "936ea9c5-e825-4fdd-a27c-45fe8805ed36",
   "metadata": {},
   "outputs": [
    {
     "data": {
      "text/plain": [
       "<AxesSubplot:>"
      ]
     },
     "execution_count": 59,
     "metadata": {},
     "output_type": "execute_result"
    },
    {
     "data": {
      "image/png": "[encoded data removed]",
      "text/plain": [
       "<Figure size 720x288 with 1 Axes>"
      ]
     },
     "metadata": {
      "needs_background": "light"
     },
     "output_type": "display_data"
    }
   ],
   "source": [
    "year_filtrado['Day_Date'].hist(legend=True,bins= 200, figsize = [10,4])"
   ]
  },
  {
   "cell_type": "code",
   "execution_count": 60,
   "id": "7a055547-2faa-47fe-89e4-66cf631f79de",
   "metadata": {},
   "outputs": [
    {
     "data": {
      "text/plain": [
       "Case Number               object\n",
       "Date                      object\n",
       "Country                   object\n",
       "Sex                       object\n",
       "Age                       object\n",
       "Fatal (Y/N)               object\n",
       "Age_normalize              int32\n",
       "Date_normalize    datetime64[ns]\n",
       "Year_Date                  int64\n",
       "Month_Date                 int64\n",
       "Day_Date                  object\n",
       "dtype: object"
      ]
     },
     "execution_count": 60,
     "metadata": {},
     "output_type": "execute_result"
    }
   ],
   "source": [
    "df.dtypes"
   ]
  },
  {
   "cell_type": "code",
   "execution_count": 61,
   "id": "25c0fa27-e581-43a0-8964-c13287e02e73",
   "metadata": {},
   "outputs": [
    {
     "data": {
      "text/plain": [
       "pandas.core.frame.DataFrame"
      ]
     },
     "execution_count": 61,
     "metadata": {},
     "output_type": "execute_result"
    }
   ],
   "source": [
    "type(year_filtrado)\n",
    "\n",
    "# newdf = df[(df.Year_Date != 0)]"
   ]
  },
  {
   "cell_type": "code",
   "execution_count": 62,
   "id": "94d7e4d9-c84a-43c2-b556-c00374287eae",
   "metadata": {},
   "outputs": [
    {
     "data": {
      "text/plain": [
       "<AxesSubplot:>"
      ]
     },
     "execution_count": 62,
     "metadata": {},
     "output_type": "execute_result"
    },
    {
     "data": {
      "image/png": "[encoded data removed]",
      "text/plain": [
       "<Figure size 720x288 with 1 Axes>"
      ]
     },
     "metadata": {
      "needs_background": "light"
     },
     "output_type": "display_data"
    }
   ],
   "source": [
    "df['Sex'].hist(legend=True,bins= 200, figsize = [10,4])"
   ]
  },
  {
   "cell_type": "code",
   "execution_count": 63,
   "id": "5001b5fc-ce74-48fa-9241-c03a19a52a01",
   "metadata": {},
   "outputs": [
    {
     "data": {
      "text/html": [
       "<div>\n",
       "<style scoped>\n",
       "    .dataframe tbody tr th:only-of-type {\n",
       "        vertical-align: middle;\n",
       "    }\n",
       "\n",
       "    .dataframe tbody tr th {\n",
       "        vertical-align: top;\n",
       "    }\n",
       "\n",
       "    .dataframe thead th {\n",
       "        text-align: right;\n",
       "    }\n",
       "</style>\n",
       "<table border=\"1\" class=\"dataframe\">\n",
       "  <thead>\n",
       "    <tr style=\"text-align: right;\">\n",
       "      <th></th>\n",
       "      <th>Case Number</th>\n",
       "      <th>Date</th>\n",
       "      <th>Country</th>\n",
       "      <th>Sex</th>\n",
       "      <th>Age</th>\n",
       "      <th>Fatal (Y/N)</th>\n",
       "      <th>Age_normalize</th>\n",
       "      <th>Date_normalize</th>\n",
       "      <th>Year_Date</th>\n",
       "      <th>Month_Date</th>\n",
       "      <th>Day_Date</th>\n",
       "    </tr>\n",
       "  </thead>\n",
       "  <tbody>\n",
       "    <tr>\n",
       "      <th>6160</th>\n",
       "      <td>1703.03.26</td>\n",
       "      <td>26-Mar-1703</td>\n",
       "      <td>BARBADOS</td>\n",
       "      <td>m</td>\n",
       "      <td>19</td>\n",
       "      <td>n</td>\n",
       "      <td>19</td>\n",
       "      <td>1703-03-26</td>\n",
       "      <td>1703</td>\n",
       "      <td>3</td>\n",
       "      <td>Monday</td>\n",
       "    </tr>\n",
       "    <tr>\n",
       "      <th>6159</th>\n",
       "      <td>1721.06.00</td>\n",
       "      <td>June 1721</td>\n",
       "      <td>ITALY</td>\n",
       "      <td>m</td>\n",
       "      <td>NaN</td>\n",
       "      <td>y</td>\n",
       "      <td>0</td>\n",
       "      <td>1721-06-01</td>\n",
       "      <td>1721</td>\n",
       "      <td>6</td>\n",
       "      <td>Sunday</td>\n",
       "    </tr>\n",
       "    <tr>\n",
       "      <th>6155</th>\n",
       "      <td>1742.12.17</td>\n",
       "      <td>17-Dec-1742</td>\n",
       "      <td>NaN</td>\n",
       "      <td>m</td>\n",
       "      <td>NaN</td>\n",
       "      <td>y</td>\n",
       "      <td>0</td>\n",
       "      <td>1742-12-17</td>\n",
       "      <td>1742</td>\n",
       "      <td>12</td>\n",
       "      <td>Monday</td>\n",
       "    </tr>\n",
       "    <tr>\n",
       "      <th>6154</th>\n",
       "      <td>1748.00.00</td>\n",
       "      <td>1748</td>\n",
       "      <td>PANAMA</td>\n",
       "      <td>m</td>\n",
       "      <td>NaN</td>\n",
       "      <td>y</td>\n",
       "      <td>0</td>\n",
       "      <td>1748-01-01</td>\n",
       "      <td>1748</td>\n",
       "      <td>1</td>\n",
       "      <td>Monday</td>\n",
       "    </tr>\n",
       "    <tr>\n",
       "      <th>6152</th>\n",
       "      <td>1749.00.00</td>\n",
       "      <td>1749</td>\n",
       "      <td>CUBA</td>\n",
       "      <td>m</td>\n",
       "      <td>14</td>\n",
       "      <td>n</td>\n",
       "      <td>14</td>\n",
       "      <td>1749-01-01</td>\n",
       "      <td>1749</td>\n",
       "      <td>1</td>\n",
       "      <td>Wednesday</td>\n",
       "    </tr>\n",
       "    <tr>\n",
       "      <th>...</th>\n",
       "      <td>...</td>\n",
       "      <td>...</td>\n",
       "      <td>...</td>\n",
       "      <td>...</td>\n",
       "      <td>...</td>\n",
       "      <td>...</td>\n",
       "      <td>...</td>\n",
       "      <td>...</td>\n",
       "      <td>...</td>\n",
       "      <td>...</td>\n",
       "      <td>...</td>\n",
       "    </tr>\n",
       "    <tr>\n",
       "      <th>30</th>\n",
       "      <td>2018.04.14</td>\n",
       "      <td>14-Apr-2018</td>\n",
       "      <td>BAHAMAS</td>\n",
       "      <td>m</td>\n",
       "      <td>NaN</td>\n",
       "      <td>n</td>\n",
       "      <td>0</td>\n",
       "      <td>2018-04-14</td>\n",
       "      <td>2018</td>\n",
       "      <td>4</td>\n",
       "      <td>Saturday</td>\n",
       "    </tr>\n",
       "    <tr>\n",
       "      <th>29</th>\n",
       "      <td>2018.04.15.a</td>\n",
       "      <td>15-Apr-2018</td>\n",
       "      <td>AUSTRALIA</td>\n",
       "      <td>m</td>\n",
       "      <td>37</td>\n",
       "      <td>n</td>\n",
       "      <td>37</td>\n",
       "      <td>2018-04-15</td>\n",
       "      <td>2018</td>\n",
       "      <td>4</td>\n",
       "      <td>Sunday</td>\n",
       "    </tr>\n",
       "    <tr>\n",
       "      <th>28</th>\n",
       "      <td>2018.04.15.b</td>\n",
       "      <td>15-Apr-2018</td>\n",
       "      <td>AUSTRALIA</td>\n",
       "      <td>m</td>\n",
       "      <td>41</td>\n",
       "      <td>n</td>\n",
       "      <td>41</td>\n",
       "      <td>2018-04-15</td>\n",
       "      <td>2018</td>\n",
       "      <td>4</td>\n",
       "      <td>Sunday</td>\n",
       "    </tr>\n",
       "    <tr>\n",
       "      <th>40</th>\n",
       "      <td>2018.02.23</td>\n",
       "      <td>23-Feb-2018</td>\n",
       "      <td>AUSTRALIA</td>\n",
       "      <td>f</td>\n",
       "      <td>55</td>\n",
       "      <td>n</td>\n",
       "      <td>55</td>\n",
       "      <td>2018-02-23</td>\n",
       "      <td>2018</td>\n",
       "      <td>2</td>\n",
       "      <td>Friday</td>\n",
       "    </tr>\n",
       "    <tr>\n",
       "      <th>0</th>\n",
       "      <td>2018.06.25</td>\n",
       "      <td>25-Jun-2018</td>\n",
       "      <td>USA</td>\n",
       "      <td>f</td>\n",
       "      <td>57</td>\n",
       "      <td>n</td>\n",
       "      <td>57</td>\n",
       "      <td>2018-06-25</td>\n",
       "      <td>2018</td>\n",
       "      <td>6</td>\n",
       "      <td>Monday</td>\n",
       "    </tr>\n",
       "  </tbody>\n",
       "</table>\n",
       "<p>4574 rows × 11 columns</p>\n",
       "</div>"
      ],
      "text/plain": [
       "       Case Number         Date    Country Sex  Age Fatal (Y/N)  \\\n",
       "6160    1703.03.26  26-Mar-1703   BARBADOS   m   19           n   \n",
       "6159    1721.06.00    June 1721      ITALY   m  NaN           y   \n",
       "6155    1742.12.17  17-Dec-1742        NaN   m  NaN           y   \n",
       "6154    1748.00.00         1748     PANAMA   m  NaN           y   \n",
       "6152    1749.00.00         1749       CUBA   m   14           n   \n",
       "...            ...          ...        ...  ..  ...         ...   \n",
       "30      2018.04.14  14-Apr-2018    BAHAMAS   m  NaN           n   \n",
       "29    2018.04.15.a  15-Apr-2018  AUSTRALIA   m   37           n   \n",
       "28    2018.04.15.b  15-Apr-2018  AUSTRALIA   m   41           n   \n",
       "40      2018.02.23  23-Feb-2018  AUSTRALIA   f   55           n   \n",
       "0       2018.06.25  25-Jun-2018        USA   f   57           n   \n",
       "\n",
       "      Age_normalize Date_normalize  Year_Date  Month_Date   Day_Date  \n",
       "6160             19     1703-03-26       1703           3     Monday  \n",
       "6159              0     1721-06-01       1721           6     Sunday  \n",
       "6155              0     1742-12-17       1742          12     Monday  \n",
       "6154              0     1748-01-01       1748           1     Monday  \n",
       "6152             14     1749-01-01       1749           1  Wednesday  \n",
       "...             ...            ...        ...         ...        ...  \n",
       "30                0     2018-04-14       2018           4   Saturday  \n",
       "29               37     2018-04-15       2018           4     Sunday  \n",
       "28               41     2018-04-15       2018           4     Sunday  \n",
       "40               55     2018-02-23       2018           2     Friday  \n",
       "0                57     2018-06-25       2018           6     Monday  \n",
       "\n",
       "[4574 rows x 11 columns]"
      ]
     },
     "execution_count": 63,
     "metadata": {},
     "output_type": "execute_result"
    }
   ],
   "source": [
    "year_filtrado.sort_values(\"Year_Date\", ascending=True)"
   ]
  },
  {
   "cell_type": "code",
   "execution_count": 64,
   "id": "e48c57b9-c029-488e-8929-9001a5c0c2ab",
   "metadata": {},
   "outputs": [
    {
     "data": {
      "text/plain": [
       "Index(['Case Number', 'Date', 'Country', 'Sex', 'Age', 'Fatal (Y/N)',\n",
       "       'Age_normalize', 'Date_normalize', 'Year_Date', 'Month_Date',\n",
       "       'Day_Date'],\n",
       "      dtype='object')"
      ]
     },
     "execution_count": 64,
     "metadata": {},
     "output_type": "execute_result"
    }
   ],
   "source": [
    "df.columns"
   ]
  },
  {
   "cell_type": "markdown",
   "id": "1803d8cc-02b2-4c66-ab9e-7f4b02b082b9",
   "metadata": {},
   "source": [
    "## Sacar un Df con 2 columnas\n"
   ]
  },
  {
   "cell_type": "code",
   "execution_count": 65,
   "id": "211c4988-9478-4416-82b3-16ba4af412e7",
   "metadata": {},
   "outputs": [
    {
     "data": {
      "text/html": [
       "<div>\n",
       "<style scoped>\n",
       "    .dataframe tbody tr th:only-of-type {\n",
       "        vertical-align: middle;\n",
       "    }\n",
       "\n",
       "    .dataframe tbody tr th {\n",
       "        vertical-align: top;\n",
       "    }\n",
       "\n",
       "    .dataframe thead th {\n",
       "        text-align: right;\n",
       "    }\n",
       "</style>\n",
       "<table border=\"1\" class=\"dataframe\">\n",
       "  <thead>\n",
       "    <tr style=\"text-align: right;\">\n",
       "      <th></th>\n",
       "      <th>Year_Date</th>\n",
       "      <th>Age_normalize</th>\n",
       "    </tr>\n",
       "  </thead>\n",
       "  <tbody>\n",
       "    <tr>\n",
       "      <th>count</th>\n",
       "      <td>4574.000000</td>\n",
       "      <td>4574.000000</td>\n",
       "    </tr>\n",
       "    <tr>\n",
       "      <th>mean</th>\n",
       "      <td>1974.055969</td>\n",
       "      <td>17.911893</td>\n",
       "    </tr>\n",
       "    <tr>\n",
       "      <th>std</th>\n",
       "      <td>42.055267</td>\n",
       "      <td>17.164462</td>\n",
       "    </tr>\n",
       "    <tr>\n",
       "      <th>min</th>\n",
       "      <td>1703.000000</td>\n",
       "      <td>0.000000</td>\n",
       "    </tr>\n",
       "    <tr>\n",
       "      <th>25%</th>\n",
       "      <td>1955.000000</td>\n",
       "      <td>0.000000</td>\n",
       "    </tr>\n",
       "    <tr>\n",
       "      <th>50%</th>\n",
       "      <td>1988.000000</td>\n",
       "      <td>17.000000</td>\n",
       "    </tr>\n",
       "    <tr>\n",
       "      <th>75%</th>\n",
       "      <td>2007.000000</td>\n",
       "      <td>28.000000</td>\n",
       "    </tr>\n",
       "    <tr>\n",
       "      <th>max</th>\n",
       "      <td>2018.000000</td>\n",
       "      <td>87.000000</td>\n",
       "    </tr>\n",
       "  </tbody>\n",
       "</table>\n",
       "</div>"
      ],
      "text/plain": [
       "         Year_Date  Age_normalize\n",
       "count  4574.000000    4574.000000\n",
       "mean   1974.055969      17.911893\n",
       "std      42.055267      17.164462\n",
       "min    1703.000000       0.000000\n",
       "25%    1955.000000       0.000000\n",
       "50%    1988.000000      17.000000\n",
       "75%    2007.000000      28.000000\n",
       "max    2018.000000      87.000000"
      ]
     },
     "execution_count": 65,
     "metadata": {},
     "output_type": "execute_result"
    }
   ],
   "source": [
    "year_filtrado[['Year_Date','Age_normalize']].describe()"
   ]
  },
  {
   "cell_type": "markdown",
   "id": "44e7a715-0af7-42d1-bf1d-834db17f986b",
   "metadata": {},
   "source": [
    "filtrado de columnasplot"
   ]
  },
  {
   "cell_type": "code",
   "execution_count": 66,
   "id": "fab72f40-d570-47b4-9e30-15c9e6a0956b",
   "metadata": {},
   "outputs": [
    {
     "data": {
      "text/html": [
       "<div>\n",
       "<style scoped>\n",
       "    .dataframe tbody tr th:only-of-type {\n",
       "        vertical-align: middle;\n",
       "    }\n",
       "\n",
       "    .dataframe tbody tr th {\n",
       "        vertical-align: top;\n",
       "    }\n",
       "\n",
       "    .dataframe thead th {\n",
       "        text-align: right;\n",
       "    }\n",
       "</style>\n",
       "<table border=\"1\" class=\"dataframe\">\n",
       "  <thead>\n",
       "    <tr style=\"text-align: right;\">\n",
       "      <th></th>\n",
       "      <th>Case Number</th>\n",
       "      <th>Date</th>\n",
       "      <th>Country</th>\n",
       "      <th>Sex</th>\n",
       "      <th>Age</th>\n",
       "      <th>Fatal (Y/N)</th>\n",
       "      <th>Age_normalize</th>\n",
       "      <th>Date_normalize</th>\n",
       "      <th>Year_Date</th>\n",
       "      <th>Month_Date</th>\n",
       "      <th>Day_Date</th>\n",
       "    </tr>\n",
       "  </thead>\n",
       "  <tbody>\n",
       "    <tr>\n",
       "      <th>2</th>\n",
       "      <td>2018.06.09</td>\n",
       "      <td>09-Jun-2018</td>\n",
       "      <td>USA</td>\n",
       "      <td>m</td>\n",
       "      <td>48</td>\n",
       "      <td>n</td>\n",
       "      <td>48</td>\n",
       "      <td>2018-06-09</td>\n",
       "      <td>2018</td>\n",
       "      <td>6</td>\n",
       "      <td>Saturday</td>\n",
       "    </tr>\n",
       "    <tr>\n",
       "      <th>3</th>\n",
       "      <td>2018.06.08</td>\n",
       "      <td>08-Jun-2018</td>\n",
       "      <td>AUSTRALIA</td>\n",
       "      <td>m</td>\n",
       "      <td>NaN</td>\n",
       "      <td>n</td>\n",
       "      <td>0</td>\n",
       "      <td>2018-06-08</td>\n",
       "      <td>2018</td>\n",
       "      <td>6</td>\n",
       "      <td>Friday</td>\n",
       "    </tr>\n",
       "    <tr>\n",
       "      <th>4</th>\n",
       "      <td>2018.06.04</td>\n",
       "      <td>04-Jun-2018</td>\n",
       "      <td>MEXICO</td>\n",
       "      <td>m</td>\n",
       "      <td>NaN</td>\n",
       "      <td>n</td>\n",
       "      <td>0</td>\n",
       "      <td>2018-06-04</td>\n",
       "      <td>2018</td>\n",
       "      <td>6</td>\n",
       "      <td>Monday</td>\n",
       "    </tr>\n",
       "    <tr>\n",
       "      <th>5</th>\n",
       "      <td>2018.06.03.b</td>\n",
       "      <td>03-Jun-2018</td>\n",
       "      <td>AUSTRALIA</td>\n",
       "      <td>m</td>\n",
       "      <td>NaN</td>\n",
       "      <td>n</td>\n",
       "      <td>0</td>\n",
       "      <td>2018-06-03</td>\n",
       "      <td>2018</td>\n",
       "      <td>6</td>\n",
       "      <td>Sunday</td>\n",
       "    </tr>\n",
       "    <tr>\n",
       "      <th>6</th>\n",
       "      <td>2018.06.03.a</td>\n",
       "      <td>03-Jun-2018</td>\n",
       "      <td>BRAZIL</td>\n",
       "      <td>m</td>\n",
       "      <td>18</td>\n",
       "      <td>y</td>\n",
       "      <td>18</td>\n",
       "      <td>2018-06-03</td>\n",
       "      <td>2018</td>\n",
       "      <td>6</td>\n",
       "      <td>Sunday</td>\n",
       "    </tr>\n",
       "    <tr>\n",
       "      <th>...</th>\n",
       "      <td>...</td>\n",
       "      <td>...</td>\n",
       "      <td>...</td>\n",
       "      <td>...</td>\n",
       "      <td>...</td>\n",
       "      <td>...</td>\n",
       "      <td>...</td>\n",
       "      <td>...</td>\n",
       "      <td>...</td>\n",
       "      <td>...</td>\n",
       "      <td>...</td>\n",
       "    </tr>\n",
       "    <tr>\n",
       "      <th>6297</th>\n",
       "      <td>ND.0005</td>\n",
       "      <td>Before 1903</td>\n",
       "      <td>AUSTRALIA</td>\n",
       "      <td>m</td>\n",
       "      <td>NaN</td>\n",
       "      <td>y</td>\n",
       "      <td>0</td>\n",
       "      <td>2030-01-01</td>\n",
       "      <td>2030</td>\n",
       "      <td>1</td>\n",
       "      <td>Tuesday</td>\n",
       "    </tr>\n",
       "    <tr>\n",
       "      <th>6298</th>\n",
       "      <td>ND.0004</td>\n",
       "      <td>Before 1903</td>\n",
       "      <td>AUSTRALIA</td>\n",
       "      <td>m</td>\n",
       "      <td>NaN</td>\n",
       "      <td>y</td>\n",
       "      <td>0</td>\n",
       "      <td>2030-01-01</td>\n",
       "      <td>2030</td>\n",
       "      <td>1</td>\n",
       "      <td>Tuesday</td>\n",
       "    </tr>\n",
       "    <tr>\n",
       "      <th>6299</th>\n",
       "      <td>ND.0003</td>\n",
       "      <td>1900-1905</td>\n",
       "      <td>USA</td>\n",
       "      <td>m</td>\n",
       "      <td>NaN</td>\n",
       "      <td>y</td>\n",
       "      <td>0</td>\n",
       "      <td>2030-01-01</td>\n",
       "      <td>2030</td>\n",
       "      <td>1</td>\n",
       "      <td>Tuesday</td>\n",
       "    </tr>\n",
       "    <tr>\n",
       "      <th>6300</th>\n",
       "      <td>ND.0002</td>\n",
       "      <td>1883-1889</td>\n",
       "      <td>PANAMA</td>\n",
       "      <td>m</td>\n",
       "      <td>NaN</td>\n",
       "      <td>y</td>\n",
       "      <td>0</td>\n",
       "      <td>2030-01-01</td>\n",
       "      <td>2030</td>\n",
       "      <td>1</td>\n",
       "      <td>Tuesday</td>\n",
       "    </tr>\n",
       "    <tr>\n",
       "      <th>6301</th>\n",
       "      <td>ND.0001</td>\n",
       "      <td>1845-1853</td>\n",
       "      <td>CEYLON (SRI LANKA)</td>\n",
       "      <td>m</td>\n",
       "      <td>15</td>\n",
       "      <td>y</td>\n",
       "      <td>15</td>\n",
       "      <td>2030-01-01</td>\n",
       "      <td>2030</td>\n",
       "      <td>1</td>\n",
       "      <td>Tuesday</td>\n",
       "    </tr>\n",
       "  </tbody>\n",
       "</table>\n",
       "<p>4655 rows × 11 columns</p>\n",
       "</div>"
      ],
      "text/plain": [
       "       Case Number         Date             Country Sex  Age Fatal (Y/N)  \\\n",
       "2       2018.06.09  09-Jun-2018                 USA   m   48           n   \n",
       "3       2018.06.08  08-Jun-2018           AUSTRALIA   m  NaN           n   \n",
       "4       2018.06.04  04-Jun-2018              MEXICO   m  NaN           n   \n",
       "5     2018.06.03.b  03-Jun-2018           AUSTRALIA   m  NaN           n   \n",
       "6     2018.06.03.a  03-Jun-2018              BRAZIL   m   18           y   \n",
       "...            ...          ...                 ...  ..  ...         ...   \n",
       "6297       ND.0005  Before 1903           AUSTRALIA   m  NaN           y   \n",
       "6298       ND.0004  Before 1903           AUSTRALIA   m  NaN           y   \n",
       "6299       ND.0003    1900-1905                 USA   m  NaN           y   \n",
       "6300       ND.0002    1883-1889              PANAMA   m  NaN           y   \n",
       "6301       ND.0001    1845-1853  CEYLON (SRI LANKA)   m   15           y   \n",
       "\n",
       "      Age_normalize Date_normalize  Year_Date  Month_Date  Day_Date  \n",
       "2                48     2018-06-09       2018           6  Saturday  \n",
       "3                 0     2018-06-08       2018           6    Friday  \n",
       "4                 0     2018-06-04       2018           6    Monday  \n",
       "5                 0     2018-06-03       2018           6    Sunday  \n",
       "6                18     2018-06-03       2018           6    Sunday  \n",
       "...             ...            ...        ...         ...       ...  \n",
       "6297              0     2030-01-01       2030           1   Tuesday  \n",
       "6298              0     2030-01-01       2030           1   Tuesday  \n",
       "6299              0     2030-01-01       2030           1   Tuesday  \n",
       "6300              0     2030-01-01       2030           1   Tuesday  \n",
       "6301             15     2030-01-01       2030           1   Tuesday  \n",
       "\n",
       "[4655 rows x 11 columns]"
      ]
     },
     "execution_count": 66,
     "metadata": {},
     "output_type": "execute_result"
    }
   ],
   "source": [
    "#filtrar solo a los hombres\n",
    "df[df[\"Sex\"] == \"m\"]"
   ]
  },
  {
   "cell_type": "markdown",
   "id": "ec3eecb0-e58d-499f-9165-5125633394b9",
   "metadata": {},
   "source": [
    "# pruebas\n"
   ]
  },
  {
   "cell_type": "code",
   "execution_count": 67,
   "id": "81e66dcd-fcfb-4972-a8e3-507308718551",
   "metadata": {},
   "outputs": [
    {
     "data": {
      "text/html": [
       "<div>\n",
       "<style scoped>\n",
       "    .dataframe tbody tr th:only-of-type {\n",
       "        vertical-align: middle;\n",
       "    }\n",
       "\n",
       "    .dataframe tbody tr th {\n",
       "        vertical-align: top;\n",
       "    }\n",
       "\n",
       "    .dataframe thead th {\n",
       "        text-align: right;\n",
       "    }\n",
       "</style>\n",
       "<table border=\"1\" class=\"dataframe\">\n",
       "  <thead>\n",
       "    <tr style=\"text-align: right;\">\n",
       "      <th></th>\n",
       "      <th>Year_Date</th>\n",
       "      <th>Month_Date</th>\n",
       "    </tr>\n",
       "  </thead>\n",
       "  <tbody>\n",
       "    <tr>\n",
       "      <th>0</th>\n",
       "      <td>2018</td>\n",
       "      <td>6</td>\n",
       "    </tr>\n",
       "    <tr>\n",
       "      <th>1</th>\n",
       "      <td>2018</td>\n",
       "      <td>6</td>\n",
       "    </tr>\n",
       "    <tr>\n",
       "      <th>2</th>\n",
       "      <td>2018</td>\n",
       "      <td>6</td>\n",
       "    </tr>\n",
       "    <tr>\n",
       "      <th>3</th>\n",
       "      <td>2018</td>\n",
       "      <td>6</td>\n",
       "    </tr>\n",
       "    <tr>\n",
       "      <th>4</th>\n",
       "      <td>2018</td>\n",
       "      <td>6</td>\n",
       "    </tr>\n",
       "    <tr>\n",
       "      <th>...</th>\n",
       "      <td>...</td>\n",
       "      <td>...</td>\n",
       "    </tr>\n",
       "    <tr>\n",
       "      <th>6297</th>\n",
       "      <td>2030</td>\n",
       "      <td>1</td>\n",
       "    </tr>\n",
       "    <tr>\n",
       "      <th>6298</th>\n",
       "      <td>2030</td>\n",
       "      <td>1</td>\n",
       "    </tr>\n",
       "    <tr>\n",
       "      <th>6299</th>\n",
       "      <td>2030</td>\n",
       "      <td>1</td>\n",
       "    </tr>\n",
       "    <tr>\n",
       "      <th>6300</th>\n",
       "      <td>2030</td>\n",
       "      <td>1</td>\n",
       "    </tr>\n",
       "    <tr>\n",
       "      <th>6301</th>\n",
       "      <td>2030</td>\n",
       "      <td>1</td>\n",
       "    </tr>\n",
       "  </tbody>\n",
       "</table>\n",
       "<p>6222 rows × 2 columns</p>\n",
       "</div>"
      ],
      "text/plain": [
       "      Year_Date  Month_Date\n",
       "0          2018           6\n",
       "1          2018           6\n",
       "2          2018           6\n",
       "3          2018           6\n",
       "4          2018           6\n",
       "...         ...         ...\n",
       "6297       2030           1\n",
       "6298       2030           1\n",
       "6299       2030           1\n",
       "6300       2030           1\n",
       "6301       2030           1\n",
       "\n",
       "[6222 rows x 2 columns]"
      ]
     },
     "execution_count": 67,
     "metadata": {},
     "output_type": "execute_result"
    }
   ],
   "source": [
    "df_numerical = df.select_dtypes(include = [\"float64\", \"int64\"]) #o np.number, o \"number\"\n",
    "df_numerical"
   ]
  },
  {
   "cell_type": "code",
   "execution_count": 68,
   "id": "610a48d3-e922-4b17-8323-0bee0cc66b8d",
   "metadata": {},
   "outputs": [
    {
     "data": {
      "text/plain": [
       "<AxesSubplot:xlabel='Year_Date', ylabel='Month_Date'>"
      ]
     },
     "execution_count": 68,
     "metadata": {},
     "output_type": "execute_result"
    },
    {
     "data": {
      "image/png": "[encoded data removed]",
      "text/plain": [
       "<Figure size 432x288 with 1 Axes>"
      ]
     },
     "metadata": {
      "needs_background": "light"
     },
     "output_type": "display_data"
    }
   ],
   "source": [
    "df_numerical.plot(x = \"Year_Date\", y = \"Month_Date\", kind = \"scatter\")"
   ]
  },
  {
   "cell_type": "code",
   "execution_count": 69,
   "id": "c423afc3-2039-4dd9-995d-403c71cafee2",
   "metadata": {},
   "outputs": [
    {
     "ename": "SyntaxError",
     "evalue": "invalid syntax (2271129756.py, line 1)",
     "output_type": "error",
     "traceback": [
      "\u001b[1;36m  Input \u001b[1;32mIn [69]\u001b[1;36m\u001b[0m\n\u001b[1;33m    df[df[\"Sex == \"f\"]].plot(x =\"Year_Date\" , y = \"Age_normalize\", kind = \"scatter\")\u001b[0m\n\u001b[1;37m                                 ^\u001b[0m\n\u001b[1;31mSyntaxError\u001b[0m\u001b[1;31m:\u001b[0m invalid syntax\n"
     ]
    }
   ],
   "source": [
    "df[df[\"Sex == \"f\"]].plot(x =\"Year_Date\" , y = \"Age_normalize\", kind = \"scatter\")"
   ]
  },
  {
   "cell_type": "code",
   "execution_count": 70,
   "id": "55343be3-4dcf-401a-a081-c4625b32191d",
   "metadata": {},
   "outputs": [],
   "source": [
    "Mujeres = df[df['Sex'] == \"f\"]"
   ]
  },
  {
   "cell_type": "code",
   "execution_count": 71,
   "id": "90272a40-cb77-43a4-baea-3499bce29ed3",
   "metadata": {},
   "outputs": [
    {
     "data": {
      "text/html": [
       "<div>\n",
       "<style scoped>\n",
       "    .dataframe tbody tr th:only-of-type {\n",
       "        vertical-align: middle;\n",
       "    }\n",
       "\n",
       "    .dataframe tbody tr th {\n",
       "        vertical-align: top;\n",
       "    }\n",
       "\n",
       "    .dataframe thead th {\n",
       "        text-align: right;\n",
       "    }\n",
       "</style>\n",
       "<table border=\"1\" class=\"dataframe\">\n",
       "  <thead>\n",
       "    <tr style=\"text-align: right;\">\n",
       "      <th></th>\n",
       "      <th>Case Number</th>\n",
       "      <th>Date</th>\n",
       "      <th>Country</th>\n",
       "      <th>Sex</th>\n",
       "      <th>Age</th>\n",
       "      <th>Fatal (Y/N)</th>\n",
       "      <th>Age_normalize</th>\n",
       "      <th>Date_normalize</th>\n",
       "      <th>Year_Date</th>\n",
       "      <th>Month_Date</th>\n",
       "      <th>Day_Date</th>\n",
       "    </tr>\n",
       "  </thead>\n",
       "  <tbody>\n",
       "    <tr>\n",
       "      <th>0</th>\n",
       "      <td>2018.06.25</td>\n",
       "      <td>25-Jun-2018</td>\n",
       "      <td>USA</td>\n",
       "      <td>f</td>\n",
       "      <td>57</td>\n",
       "      <td>n</td>\n",
       "      <td>57</td>\n",
       "      <td>2018-06-25</td>\n",
       "      <td>2018</td>\n",
       "      <td>6</td>\n",
       "      <td>Monday</td>\n",
       "    </tr>\n",
       "    <tr>\n",
       "      <th>1</th>\n",
       "      <td>2018.06.18</td>\n",
       "      <td>18-Jun-2018</td>\n",
       "      <td>USA</td>\n",
       "      <td>f</td>\n",
       "      <td>11</td>\n",
       "      <td>n</td>\n",
       "      <td>11</td>\n",
       "      <td>2018-06-18</td>\n",
       "      <td>2018</td>\n",
       "      <td>6</td>\n",
       "      <td>Monday</td>\n",
       "    </tr>\n",
       "    <tr>\n",
       "      <th>14</th>\n",
       "      <td>2018.05.00</td>\n",
       "      <td>May 2018</td>\n",
       "      <td>AUSTRALIA</td>\n",
       "      <td>f</td>\n",
       "      <td>34</td>\n",
       "      <td>n</td>\n",
       "      <td>34</td>\n",
       "      <td>2018-05-01</td>\n",
       "      <td>2018</td>\n",
       "      <td>5</td>\n",
       "      <td>Tuesday</td>\n",
       "    </tr>\n",
       "    <tr>\n",
       "      <th>40</th>\n",
       "      <td>2018.02.23</td>\n",
       "      <td>23-Feb-2018</td>\n",
       "      <td>AUSTRALIA</td>\n",
       "      <td>f</td>\n",
       "      <td>55</td>\n",
       "      <td>n</td>\n",
       "      <td>55</td>\n",
       "      <td>2018-02-23</td>\n",
       "      <td>2018</td>\n",
       "      <td>2</td>\n",
       "      <td>Friday</td>\n",
       "    </tr>\n",
       "    <tr>\n",
       "      <th>43</th>\n",
       "      <td>2018.02.14</td>\n",
       "      <td>14-Feb-2018</td>\n",
       "      <td>AUSTRALIA</td>\n",
       "      <td>f</td>\n",
       "      <td>NaN</td>\n",
       "      <td>n</td>\n",
       "      <td>0</td>\n",
       "      <td>2018-02-14</td>\n",
       "      <td>2018</td>\n",
       "      <td>2</td>\n",
       "      <td>Wednesday</td>\n",
       "    </tr>\n",
       "  </tbody>\n",
       "</table>\n",
       "</div>"
      ],
      "text/plain": [
       "   Case Number         Date    Country Sex  Age Fatal (Y/N)  Age_normalize  \\\n",
       "0   2018.06.25  25-Jun-2018        USA   f   57           n             57   \n",
       "1   2018.06.18  18-Jun-2018        USA   f   11           n             11   \n",
       "14  2018.05.00     May 2018  AUSTRALIA   f   34           n             34   \n",
       "40  2018.02.23  23-Feb-2018  AUSTRALIA   f   55           n             55   \n",
       "43  2018.02.14  14-Feb-2018  AUSTRALIA   f  NaN           n              0   \n",
       "\n",
       "   Date_normalize  Year_Date  Month_Date   Day_Date  \n",
       "0      2018-06-25       2018           6     Monday  \n",
       "1      2018-06-18       2018           6     Monday  \n",
       "14     2018-05-01       2018           5    Tuesday  \n",
       "40     2018-02-23       2018           2     Friday  \n",
       "43     2018-02-14       2018           2  Wednesday  "
      ]
     },
     "execution_count": 71,
     "metadata": {},
     "output_type": "execute_result"
    }
   ],
   "source": [
    "Mujeres.head()"
   ]
  },
  {
   "cell_type": "code",
   "execution_count": null,
   "id": "35e353d8-eb66-4313-89f2-c6f9c94d1b81",
   "metadata": {},
   "outputs": [],
   "source": []
  },
  {
   "cell_type": "code",
   "execution_count": null,
   "id": "1f991c29-f254-4af9-97ff-834788a89d1d",
   "metadata": {},
   "outputs": [],
   "source": []
  },
  {
   "cell_type": "code",
   "execution_count": 72,
   "id": "a6370830-4c12-46d0-a7de-3646fc32d675",
   "metadata": {},
   "outputs": [
    {
     "ename": "NameError",
     "evalue": "name 'sns' is not defined",
     "output_type": "error",
     "traceback": [
      "\u001b[1;31m---------------------------------------------------------------------------\u001b[0m",
      "\u001b[1;31mNameError\u001b[0m                                 Traceback (most recent call last)",
      "Input \u001b[1;32mIn [72]\u001b[0m, in \u001b[0;36m<cell line: 1>\u001b[1;34m()\u001b[0m\n\u001b[1;32m----> 1\u001b[0m \u001b[43msns\u001b[49m\u001b[38;5;241m.\u001b[39mhistplot(data\u001b[38;5;241m=\u001b[39mdf, x\u001b[38;5;241m=\u001b[39m\u001b[38;5;124m\"\u001b[39m\u001b[38;5;124mFatal (Y/N)\u001b[39m\u001b[38;5;124m\"\u001b[39m, alpha\u001b[38;5;241m=\u001b[39m\u001b[38;5;241m0.5\u001b[39m)\n",
      "\u001b[1;31mNameError\u001b[0m: name 'sns' is not defined"
     ]
    }
   ],
   "source": [
    "sns.histplot(data=df, x=\"Fatal (Y/N)\", alpha=0.5)\n"
   ]
  },
  {
   "cell_type": "code",
   "execution_count": null,
   "id": "518a3583-9904-4543-b81a-ef2e0f99ebec",
   "metadata": {},
   "outputs": [],
   "source": []
  },
  {
   "cell_type": "code",
   "execution_count": null,
   "id": "211e8865-0c50-4c40-8bd5-ac42db58a6ef",
   "metadata": {},
   "outputs": [],
   "source": []
  },
  {
   "cell_type": "code",
   "execution_count": null,
   "id": "4d2feecc-94e2-4c0b-94e3-3c83e618a4fd",
   "metadata": {},
   "outputs": [],
   "source": [
    "df.columns"
   ]
  },
  {
   "cell_type": "code",
   "execution_count": 73,
   "id": "35a00194-e944-4dd8-8d01-bcb6bc207a96",
   "metadata": {},
   "outputs": [
    {
     "data": {
      "text/plain": [
       "Case Number               object\n",
       "Date                      object\n",
       "Country                   object\n",
       "Sex                       object\n",
       "Age                       object\n",
       "Fatal (Y/N)               object\n",
       "Age_normalize              int32\n",
       "Date_normalize    datetime64[ns]\n",
       "Year_Date                  int64\n",
       "Month_Date                 int64\n",
       "Day_Date                  object\n",
       "dtype: object"
      ]
     },
     "execution_count": 73,
     "metadata": {},
     "output_type": "execute_result"
    }
   ],
   "source": [
    "df.dtypes"
   ]
  },
  {
   "cell_type": "code",
   "execution_count": null,
   "id": "f39b902f-4fa1-47f6-afbf-07662099d9b7",
   "metadata": {},
   "outputs": [],
   "source": []
  },
  {
   "cell_type": "code",
   "execution_count": null,
   "id": "201ff48e-b1c2-459b-b753-da5b229a3545",
   "metadata": {},
   "outputs": [],
   "source": []
  },
  {
   "cell_type": "code",
   "execution_count": null,
   "id": "8875f4cc-18b5-4a6e-b7d5-501f9efa2814",
   "metadata": {},
   "outputs": [],
   "source": []
  },
  {
   "cell_type": "code",
   "execution_count": null,
   "id": "0c5d48c6-d519-45fe-8e8f-00322ebcf97c",
   "metadata": {},
   "outputs": [],
   "source": []
  },
  {
   "cell_type": "code",
   "execution_count": null,
   "id": "da63fea0-da26-4c5e-aec2-9dc04b95bc8a",
   "metadata": {},
   "outputs": [],
   "source": []
  },
  {
   "cell_type": "code",
   "execution_count": null,
   "id": "8369a7c8-11a8-495c-bc0b-594acdc385f1",
   "metadata": {},
   "outputs": [],
   "source": []
  },
  {
   "cell_type": "code",
   "execution_count": null,
   "id": "d5b515c4-b8d4-4804-a5e4-0729c3d782b4",
   "metadata": {},
   "outputs": [],
   "source": []
  },
  {
   "cell_type": "code",
   "execution_count": 74,
   "id": "4b9a0364-eb3d-4e60-acf5-557186a79464",
   "metadata": {},
   "outputs": [],
   "source": [
    "# df[df[\"Age_normalize\"] > 0]"
   ]
  },
  {
   "cell_type": "code",
   "execution_count": 75,
   "id": "f1189505-aac0-496c-a4e8-4b1566f24111",
   "metadata": {},
   "outputs": [
    {
     "data": {
      "text/plain": [
       "m           4655\n",
       "notknown     992\n",
       "f            575\n",
       "Name: Sex, dtype: int64"
      ]
     },
     "execution_count": 75,
     "metadata": {},
     "output_type": "execute_result"
    }
   ],
   "source": [
    "df['Sex'].value_counts()"
   ]
  },
  {
   "cell_type": "code",
   "execution_count": 76,
   "id": "863f9bc8-3f3f-4047-9d5d-920caea49eeb",
   "metadata": {},
   "outputs": [
    {
     "data": {
      "text/plain": [
       "n           3950\n",
       "y           1280\n",
       "notknown     992\n",
       "Name: Fatal (Y/N), dtype: int64"
      ]
     },
     "execution_count": 76,
     "metadata": {},
     "output_type": "execute_result"
    }
   ],
   "source": [
    "df['Fatal (Y/N)'].value_counts()"
   ]
  },
  {
   "cell_type": "code",
   "execution_count": 77,
   "id": "d24db2e2-7e79-4d3a-9f73-2f65c03eb14e",
   "metadata": {},
   "outputs": [
    {
     "data": {
      "text/plain": [
       "Index(['Case Number', 'Date', 'Country', 'Sex', 'Age', 'Fatal (Y/N)',\n",
       "       'Age_normalize', 'Date_normalize', 'Year_Date', 'Month_Date',\n",
       "       'Day_Date'],\n",
       "      dtype='object')"
      ]
     },
     "execution_count": 77,
     "metadata": {},
     "output_type": "execute_result"
    }
   ],
   "source": [
    "df.columns"
   ]
  },
  {
   "cell_type": "code",
   "execution_count": 78,
   "id": "3fdce201-64a6-4d25-9f07-337d3fabcac9",
   "metadata": {},
   "outputs": [
    {
     "data": {
      "text/plain": [
       "n           3950\n",
       "y           1280\n",
       "notknown     992\n",
       "Name: Fatal (Y/N), dtype: int64"
      ]
     },
     "execution_count": 78,
     "metadata": {},
     "output_type": "execute_result"
    }
   ],
   "source": [
    "df[\"Fatal (Y/N)\"].value_counts()"
   ]
  },
  {
   "cell_type": "code",
   "execution_count": 79,
   "id": "c908b75a-da1c-4b22-9133-b46635572bfc",
   "metadata": {},
   "outputs": [
    {
     "data": {
      "text/plain": [
       "<AxesSubplot:>"
      ]
     },
     "execution_count": 79,
     "metadata": {},
     "output_type": "execute_result"
    },
    {
     "data": {
      "image/png": "[encoded data removed]",
      "text/plain": [
       "<Figure size 432x288 with 1 Axes>"
      ]
     },
     "metadata": {
      "needs_background": "light"
     },
     "output_type": "display_data"
    }
   ],
   "source": [
    "year_filtrado[\"Month_Date\"].value_counts().plot()"
   ]
  },
  {
   "cell_type": "code",
   "execution_count": 80,
   "id": "b19df220-b1eb-4f1b-bba8-bb5014422fa0",
   "metadata": {},
   "outputs": [
    {
     "data": {
      "text/plain": [
       "<AxesSubplot:>"
      ]
     },
     "execution_count": 80,
     "metadata": {},
     "output_type": "execute_result"
    },
    {
     "data": {
      "image/png": "[encoded data removed]",
      "text/plain": [
       "<Figure size 432x288 with 1 Axes>"
      ]
     },
     "metadata": {
      "needs_background": "light"
     },
     "output_type": "display_data"
    }
   ],
   "source": [
    "df[\"Country\"].value_counts().nlargest(20).plot.bar()"
   ]
  },
  {
   "cell_type": "code",
   "execution_count": 81,
   "id": "6b5cd578-a972-4a46-aa6e-510b61468dcd",
   "metadata": {},
   "outputs": [
    {
     "name": "stdout",
     "output_type": "stream",
     "text": [
      "<class 'pandas.core.series.Series'>\n",
      "Int64Index: 6222 entries, 0 to 6301\n",
      "Series name: Country\n",
      "Non-Null Count  Dtype \n",
      "--------------  ----- \n",
      "6183 non-null   object\n",
      "dtypes: object(1)\n",
      "memory usage: 97.2+ KB\n"
     ]
    }
   ],
   "source": [
    "df[\"Country\"].info()"
   ]
  },
  {
   "cell_type": "code",
   "execution_count": 82,
   "id": "d4f45745-68b8-4e57-85a7-7d774859ad2f",
   "metadata": {},
   "outputs": [],
   "source": [
    "pd.set_option('display.max_rows', 10)"
   ]
  },
  {
   "cell_type": "code",
   "execution_count": 83,
   "id": "9e0f1119-be78-4813-b0a6-eef8af58db39",
   "metadata": {},
   "outputs": [
    {
     "data": {
      "text/plain": [
       "'\\n\\n\\nimport country_converter as coco\\n\\ndf[\"Country\"] = coco.convert(names=df[\"Country\"], to=\\'name_short\\')\\ndf[\"Country\"]=df[\"Country\"].str.lower()\\ndf[\"Country\"].value_counts()\\n\\n'"
      ]
     },
     "execution_count": 83,
     "metadata": {},
     "output_type": "execute_result"
    }
   ],
   "source": [
    "\"\"\"\n",
    "\n",
    "\n",
    "import country_converter as coco\n",
    "\n",
    "df[\"Country\"] = coco.convert(names=df[\"Country\"], to='name_short')\n",
    "df[\"Country\"]=df[\"Country\"].str.lower()\n",
    "df[\"Country\"].value_counts()\n",
    "\n",
    "\"\"\"\n"
   ]
  },
  {
   "cell_type": "code",
   "execution_count": 84,
   "id": "f5d5f50d-3d87-4062-835d-23810d8fcaa9",
   "metadata": {},
   "outputs": [
    {
     "data": {
      "text/plain": [
       "Index(['Case Number', 'Date', 'Country', 'Sex', 'Age', 'Fatal (Y/N)',\n",
       "       'Age_normalize', 'Date_normalize', 'Year_Date', 'Month_Date',\n",
       "       'Day_Date'],\n",
       "      dtype='object')"
      ]
     },
     "execution_count": 84,
     "metadata": {},
     "output_type": "execute_result"
    }
   ],
   "source": [
    "df.columns"
   ]
  },
  {
   "cell_type": "code",
   "execution_count": 85,
   "id": "960f15f1-7613-449c-8b53-85ae1c3a7060",
   "metadata": {},
   "outputs": [
    {
     "data": {
      "text/plain": [
       "<AxesSubplot:>"
      ]
     },
     "execution_count": 85,
     "metadata": {},
     "output_type": "execute_result"
    },
    {
     "data": {
      "image/png": "[encoded data removed]",
      "text/plain": [
       "<Figure size 432x288 with 1 Axes>"
      ]
     },
     "metadata": {
      "needs_background": "light"
     },
     "output_type": "display_data"
    }
   ],
   "source": [
    "df.Sex.value_counts().plot(kind='bar')"
   ]
  },
  {
   "cell_type": "code",
   "execution_count": 86,
   "id": "bb95a738-f4f7-4e0f-b1cd-1749a3c86676",
   "metadata": {},
   "outputs": [
    {
     "ename": "AttributeError",
     "evalue": "'DataFrame' object has no attribute 'Type'",
     "output_type": "error",
     "traceback": [
      "\u001b[1;31m---------------------------------------------------------------------------\u001b[0m",
      "\u001b[1;31mAttributeError\u001b[0m                            Traceback (most recent call last)",
      "Input \u001b[1;32mIn [86]\u001b[0m, in \u001b[0;36m<cell line: 1>\u001b[1;34m()\u001b[0m\n\u001b[1;32m----> 1\u001b[0m \u001b[43mdf\u001b[49m\u001b[38;5;241;43m.\u001b[39;49m\u001b[43mType\u001b[49m\u001b[38;5;241m.\u001b[39mvalue_counts()\u001b[38;5;241m.\u001b[39mplot(kind\u001b[38;5;241m=\u001b[39m\u001b[38;5;124m'\u001b[39m\u001b[38;5;124mbar\u001b[39m\u001b[38;5;124m'\u001b[39m)\n",
      "File \u001b[1;32m~\\anaconda3\\envs\\Ironhack\\lib\\site-packages\\pandas\\core\\generic.py:5575\u001b[0m, in \u001b[0;36mNDFrame.__getattr__\u001b[1;34m(self, name)\u001b[0m\n\u001b[0;32m   5568\u001b[0m \u001b[38;5;28;01mif\u001b[39;00m (\n\u001b[0;32m   5569\u001b[0m     name \u001b[38;5;129;01mnot\u001b[39;00m \u001b[38;5;129;01min\u001b[39;00m \u001b[38;5;28mself\u001b[39m\u001b[38;5;241m.\u001b[39m_internal_names_set\n\u001b[0;32m   5570\u001b[0m     \u001b[38;5;129;01mand\u001b[39;00m name \u001b[38;5;129;01mnot\u001b[39;00m \u001b[38;5;129;01min\u001b[39;00m \u001b[38;5;28mself\u001b[39m\u001b[38;5;241m.\u001b[39m_metadata\n\u001b[0;32m   5571\u001b[0m     \u001b[38;5;129;01mand\u001b[39;00m name \u001b[38;5;129;01mnot\u001b[39;00m \u001b[38;5;129;01min\u001b[39;00m \u001b[38;5;28mself\u001b[39m\u001b[38;5;241m.\u001b[39m_accessors\n\u001b[0;32m   5572\u001b[0m     \u001b[38;5;129;01mand\u001b[39;00m \u001b[38;5;28mself\u001b[39m\u001b[38;5;241m.\u001b[39m_info_axis\u001b[38;5;241m.\u001b[39m_can_hold_identifiers_and_holds_name(name)\n\u001b[0;32m   5573\u001b[0m ):\n\u001b[0;32m   5574\u001b[0m     \u001b[38;5;28;01mreturn\u001b[39;00m \u001b[38;5;28mself\u001b[39m[name]\n\u001b[1;32m-> 5575\u001b[0m \u001b[38;5;28;01mreturn\u001b[39;00m \u001b[38;5;28;43mobject\u001b[39;49m\u001b[38;5;241;43m.\u001b[39;49m\u001b[38;5;21;43m__getattribute__\u001b[39;49m\u001b[43m(\u001b[49m\u001b[38;5;28;43mself\u001b[39;49m\u001b[43m,\u001b[49m\u001b[43m \u001b[49m\u001b[43mname\u001b[49m\u001b[43m)\u001b[49m\n",
      "\u001b[1;31mAttributeError\u001b[0m: 'DataFrame' object has no attribute 'Type'"
     ]
    }
   ],
   "source": [
    "df.Type.value_counts().plot(kind='bar')"
   ]
  },
  {
   "cell_type": "code",
   "execution_count": null,
   "id": "d694a21f-0c0b-4c70-a9cf-d4e0462f2c4e",
   "metadata": {},
   "outputs": [],
   "source": [
    "df.reset_index().plot(\n",
    "    x=\"index\", y=[\"Month_Date\", \"Month_Date\"], kind=\"bar\"\n",
    ")\n",
    "plt.title(\"Mince Pie Consumption 18/19\")\n",
    "plt.xlabel(\"Family Member\")\n",
    "plt.ylabel(\"Pies Consumed\")"
   ]
  },
  {
   "cell_type": "code",
   "execution_count": null,
   "id": "c2e7079a-0a53-4055-a68e-44070ca0c6ab",
   "metadata": {},
   "outputs": [],
   "source": [
    "df[\"Year_Date\"].nunique()"
   ]
  },
  {
   "cell_type": "code",
   "execution_count": null,
   "id": "39ccb2e8-7fc2-44ab-ae3b-7022ecd99a16",
   "metadata": {},
   "outputs": [],
   "source": [
    "df.columns\n"
   ]
  },
  {
   "cell_type": "code",
   "execution_count": 87,
   "id": "cc599311-3189-44fc-aff3-01ecf2e60899",
   "metadata": {},
   "outputs": [],
   "source": [
    "sexo_muertes = df[['Sex','Fatal (Y/N)']]"
   ]
  },
  {
   "cell_type": "code",
   "execution_count": 88,
   "id": "9be64127-64ab-4dab-b180-41e3a2d9f036",
   "metadata": {},
   "outputs": [
    {
     "data": {
      "text/plain": [
       "Sex       Fatal (Y/N)\n",
       "m         n              3482\n",
       "          y              1173\n",
       "notknown  notknown        992\n",
       "f         n               468\n",
       "          y               107\n",
       "dtype: int64"
      ]
     },
     "execution_count": 88,
     "metadata": {},
     "output_type": "execute_result"
    }
   ],
   "source": [
    "sexo_muertes.value_counts(['Sex','Fatal (Y/N)'])"
   ]
  },
  {
   "cell_type": "code",
   "execution_count": 89,
   "id": "b3714264-7e01-4bef-a898-8540bd286972",
   "metadata": {},
   "outputs": [
    {
     "data": {
      "text/plain": [
       "Int64Index([   0,    1,    2,    3,    4,    5,    6,    7,    8,    9,\n",
       "            ...\n",
       "            6292, 6293, 6294, 6295, 6296, 6297, 6298, 6299, 6300, 6301],\n",
       "           dtype='int64', length=6222)"
      ]
     },
     "execution_count": 89,
     "metadata": {},
     "output_type": "execute_result"
    }
   ],
   "source": [
    "sexo_muertes.index"
   ]
  },
  {
   "cell_type": "code",
   "execution_count": 90,
   "id": "2fb70bb1-0c7e-4f96-97d6-39d400b631f0",
   "metadata": {},
   "outputs": [
    {
     "data": {
      "text/plain": [
       "Index(['Case Number', 'Date', 'Country', 'Sex', 'Age', 'Fatal (Y/N)',\n",
       "       'Age_normalize', 'Date_normalize', 'Year_Date', 'Month_Date',\n",
       "       'Day_Date'],\n",
       "      dtype='object')"
      ]
     },
     "execution_count": 90,
     "metadata": {},
     "output_type": "execute_result"
    }
   ],
   "source": [
    "df.columns"
   ]
  },
  {
   "cell_type": "code",
   "execution_count": 91,
   "id": "fbc546a7-1b1a-4131-abd0-2444f61cd372",
   "metadata": {},
   "outputs": [
    {
     "data": {
      "text/plain": [
       "Text(0, 0.5, 'Cantidad')"
      ]
     },
     "execution_count": 91,
     "metadata": {},
     "output_type": "execute_result"
    },
    {
     "data": {
      "image/png": "[encoded data removed]",
      "text/plain": [
       "<Figure size 432x288 with 1 Axes>"
      ]
     },
     "metadata": {
      "needs_background": "light"
     },
     "output_type": "display_data"
    }
   ],
   "source": [
    "from matplotlib import pyplot as plt\n",
    "plotdata = sexo_muertes.value_counts(['Sex','Fatal (Y/N)'])\n",
    "\n",
    "plotdata.plot(kind=\"bar\")\n",
    "plt.title(\"supervicencia por género\")\n",
    "plt.xlabel(\"Sexo\")\n",
    "plt.ylabel(\"Cantidad\")"
   ]
  },
  {
   "cell_type": "code",
   "execution_count": null,
   "id": "8ea81ec0-2a77-4737-93cb-11c4a23db2f7",
   "metadata": {},
   "outputs": [],
   "source": []
  },
  {
   "cell_type": "code",
   "execution_count": null,
   "id": "e9c60f27-718f-4147-9743-f25eb1c84ace",
   "metadata": {},
   "outputs": [],
   "source": []
  },
  {
   "cell_type": "code",
   "execution_count": null,
   "id": "fc4401df-0553-494e-b677-ab119b13521f",
   "metadata": {},
   "outputs": [],
   "source": []
  },
  {
   "cell_type": "code",
   "execution_count": 92,
   "id": "dd1c1e00-2c45-41af-8b30-bcb3d35f355c",
   "metadata": {},
   "outputs": [],
   "source": [
    "Mujeres = df[df['Sex'] == \"f\"]"
   ]
  },
  {
   "cell_type": "code",
   "execution_count": 93,
   "id": "889c2c5f-af25-4378-ae41-ededdf39ccd5",
   "metadata": {},
   "outputs": [
    {
     "data": {
      "text/plain": [
       "Sex\n",
       "m           4655\n",
       "notknown     992\n",
       "f            575\n",
       "dtype: int64"
      ]
     },
     "execution_count": 93,
     "metadata": {},
     "output_type": "execute_result"
    }
   ],
   "source": [
    "df.value_counts(\"Sex\")"
   ]
  },
  {
   "cell_type": "code",
   "execution_count": 94,
   "id": "63508fc8-e393-4d89-aef5-788cc1d2f50b",
   "metadata": {},
   "outputs": [
    {
     "data": {
      "text/plain": [
       "Fatal (Y/N)\n",
       "n    468\n",
       "y    107\n",
       "dtype: int64"
      ]
     },
     "execution_count": 94,
     "metadata": {},
     "output_type": "execute_result"
    }
   ],
   "source": [
    "Mujeres.value_counts('Fatal (Y/N)')"
   ]
  },
  {
   "cell_type": "code",
   "execution_count": 95,
   "id": "4246ec01-e3a7-442e-af6d-2a29a9c130bb",
   "metadata": {},
   "outputs": [],
   "source": [
    "Hombres = df[df['Sex'] == \"m\"]"
   ]
  },
  {
   "cell_type": "code",
   "execution_count": 96,
   "id": "679014b6-9d0f-4755-bd83-112aa751e156",
   "metadata": {},
   "outputs": [
    {
     "data": {
      "text/plain": [
       "Sex\n",
       "m           4655\n",
       "notknown     992\n",
       "f            575\n",
       "dtype: int64"
      ]
     },
     "execution_count": 96,
     "metadata": {},
     "output_type": "execute_result"
    }
   ],
   "source": [
    "df.value_counts(\"Sex\")"
   ]
  },
  {
   "cell_type": "code",
   "execution_count": 97,
   "id": "d44f1582-b6f9-47ed-98b5-1f48b6c1e783",
   "metadata": {},
   "outputs": [
    {
     "data": {
      "text/plain": [
       "Fatal (Y/N)\n",
       "n    3482\n",
       "y    1173\n",
       "dtype: int64"
      ]
     },
     "execution_count": 97,
     "metadata": {},
     "output_type": "execute_result"
    }
   ],
   "source": [
    "Hombres.value_counts('Fatal (Y/N)')"
   ]
  },
  {
   "cell_type": "code",
   "execution_count": 98,
   "id": "511437cc-a4e6-4b67-a619-7679f2a9a121",
   "metadata": {},
   "outputs": [
    {
     "data": {
      "text/plain": [
       "Text(0, 0.5, 'Cantidad')"
      ]
     },
     "execution_count": 98,
     "metadata": {},
     "output_type": "execute_result"
    },
    {
     "data": {
      "image/png": "[encoded data removed]",
      "text/plain": [
       "<Figure size 432x288 with 1 Axes>"
      ]
     },
     "metadata": {},
     "output_type": "display_data"
    }
   ],
   "source": [
    "from matplotlib import pyplot as plt\n",
    "plotdata = Mujeres.value_counts(['Sex','Fatal (Y/N)'])\n",
    "\n",
    "\n",
    "\n",
    "plotdata.plot(kind=\"pie\")\n",
    "plt.title(\"supervicencia por género\")\n",
    "plt.xlabel(\"Sexo\")\n",
    "plt.ylabel(\"Cantidad\")"
   ]
  },
  {
   "cell_type": "code",
   "execution_count": null,
   "id": "0dcc5945-979e-4f71-9a4c-d6840a068603",
   "metadata": {},
   "outputs": [],
   "source": []
  },
  {
   "cell_type": "code",
   "execution_count": null,
   "id": "d868de3b-4d8d-457e-9d24-6b41bc3aa893",
   "metadata": {},
   "outputs": [],
   "source": []
  },
  {
   "cell_type": "code",
   "execution_count": null,
   "id": "f933cc52-201b-4017-8907-e336a634aade",
   "metadata": {},
   "outputs": [],
   "source": []
  },
  {
   "cell_type": "code",
   "execution_count": 99,
   "id": "17d894bc-7566-4a2a-9375-ef70d98061d7",
   "metadata": {},
   "outputs": [
    {
     "data": {
      "text/plain": [
       "Text(0, 0.5, 'Cantidad')"
      ]
     },
     "execution_count": 99,
     "metadata": {},
     "output_type": "execute_result"
    },
    {
     "data": {
      "image/png": "[encoded data removed]",
      "text/plain": [
       "<Figure size 432x288 with 1 Axes>"
      ]
     },
     "metadata": {
      "needs_background": "light"
     },
     "output_type": "display_data"
    }
   ],
   "source": [
    "from matplotlib import pyplot as plt\n",
    "plotdata = sexo_muertes.value_counts(['Sex','Fatal (Y/N)'])\n",
    "\n",
    "plotdata.plot(kind=\"bar\")\n",
    "plt.title(\"supervicencia por género\")\n",
    "plt.xlabel(\"Sexo\")\n",
    "plt.ylabel(\"Cantidad\")"
   ]
  },
  {
   "cell_type": "code",
   "execution_count": 100,
   "id": "79f56e99-c391-44de-9ef5-bf36bfd53985",
   "metadata": {},
   "outputs": [
    {
     "data": {
      "image/png": "[encoded data removed]",
      "text/plain": [
       "<Figure size 432x288 with 1 Axes>"
      ]
     },
     "metadata": {
      "needs_background": "light"
     },
     "output_type": "display_data"
    }
   ],
   "source": [
    "\"\"\"\n",
    "df = pd.DataFrame([[5.1, 3.5, 0], [4.9, 3.0, 0], [7.0, 3.2, 1],\n",
    "\n",
    "                   [6.4, 3.2, 1], [5.9, 3.0, 2]],\n",
    "\n",
    "                  columns=['length', 'width', 'species'])\n",
    "\"\"\"\n",
    "ax1 = df.plot.scatter(x='Year_Date',\n",
    "\n",
    "                      y='Sex',\n",
    "\n",
    "                     c='DarkBlue')"
   ]
  },
  {
   "cell_type": "code",
   "execution_count": 101,
   "id": "59375c4d-5ee9-4030-92c1-224cd3d39c7e",
   "metadata": {},
   "outputs": [
    {
     "ename": "SyntaxError",
     "evalue": "invalid syntax (2600923550.py, line 13)",
     "output_type": "error",
     "traceback": [
      "\u001b[1;36m  Input \u001b[1;32mIn [101]\u001b[1;36m\u001b[0m\n\u001b[1;33m    s=400)\u001b[0m\n\u001b[1;37m    ^\u001b[0m\n\u001b[1;31mSyntaxError\u001b[0m\u001b[1;31m:\u001b[0m invalid syntax\n"
     ]
    }
   ],
   "source": [
    "\"\"\"\n",
    "df = pd.DataFrame([[5.1, 3.5, 0], [4.9, 3.0, 0], [7.0, 3.2, 1],\n",
    "\n",
    "                   [6.4, 3.2, 1], [5.9, 3.0, 2]],\n",
    "\n",
    "                  columns=['length', 'width', 'species'])\n",
    "\"\"\"\n",
    "bx1 = df.plot.scatter(x='Year_Date',\n",
    "\n",
    "                      y='Age_normalize',\n",
    "\n",
    "                     c='DarkBlue'\n",
    "                     s=400)"
   ]
  },
  {
   "cell_type": "code",
   "execution_count": null,
   "id": "6f97fa18-31c7-44f6-ac41-154104171171",
   "metadata": {},
   "outputs": [],
   "source": []
  },
  {
   "cell_type": "markdown",
   "id": "13856777-47e8-43ee-b89d-446442c47c70",
   "metadata": {},
   "source": [
    "# Ubicaciones por paises"
   ]
  },
  {
   "cell_type": "code",
   "execution_count": null,
   "id": "248e1bcb-9191-45b6-a530-84f7d913571c",
   "metadata": {
    "id": "b6906ca4-c879-451c-8c2a-c7156548e2ae",
    "outputId": "bd7e55ef-59ca-4b6b-c21d-8d6546ec4f95"
   },
   "outputs": [],
   "source": [
    "import country_converter as coco\n",
    "\n",
    "df[\"Country\"] = coco.convert(names=df[\"Country\"], to='name_short')\n",
    "df[\"Country\"]=df[\"Country\"].str.lower()\n",
    "df[\"Country\"].value_counts()"
   ]
  },
  {
   "cell_type": "code",
   "execution_count": null,
   "id": "8dadd481-8854-414a-8963-75bb7a24f155",
   "metadata": {},
   "outputs": [],
   "source": []
  },
  {
   "cell_type": "code",
   "execution_count": null,
   "id": "eeb7e09f-c510-4fc3-942c-deaf0b142ddb",
   "metadata": {
    "id": "45d81cce",
    "outputId": "cd6c47df-6ef9-4592-c9d3-e4046c0e6f47"
   },
   "outputs": [],
   "source": [
    "df[\"Year_Date\"]"
   ]
  },
  {
   "cell_type": "code",
   "execution_count": null,
   "id": "43118809-d3c3-44ca-ab27-98337ff1700d",
   "metadata": {
    "id": "80d233d4",
    "outputId": "209a0293-0b23-4693-9563-c4fc741cc3ed"
   },
   "outputs": [],
   "source": [
    "import matplotlib.pyplot as plt\n",
    "import seaborn as sns\n",
    "sns.set_theme()\n",
    "\n",
    "# Load the example flights dataset and convert to long-form\n",
    "attacks = sns.load_dataset(\"attacks\")\n",
    "attacks = attacks.pivot(\"month\", \"year\", \"passengers\")\n",
    "\n",
    "# Draw a heatmap with the numeric values in each cell\n",
    "f, ax = plt.subplots(figsize=(9, 6))\n",
    "sns.heatmap(flights, annot=True, fmt=\"d\", linewidths=.5, ax=ax)"
   ]
  },
  {
   "cell_type": "code",
   "execution_count": null,
   "id": "7bfb08f2-0586-4045-9be2-faa5b9f6eb40",
   "metadata": {
    "id": "ab1cedf8"
   },
   "outputs": [],
   "source": [
    "df[\"Year_Date\"]"
   ]
  },
  {
   "cell_type": "code",
   "execution_count": null,
   "id": "08e2fa1b-ac64-4ba2-a0da-78d4a7b7e8bb",
   "metadata": {
    "id": "78108d65"
   },
   "outputs": [],
   "source": [
    "def convertir (x):\n",
    "    for i in x:\n",
    "        if i < 1750:\n",
    "            i=\"1750\" \n",
    "        elif 1750<i<1800:\n",
    "            i= \"1800\"\n",
    "        elif 1800<i<1850:\n",
    "            i= \"1850\"\n",
    "        elif 1850<i<1900:\n",
    "            i=\"1900\"\n",
    "        elif 1900<i<1950:\n",
    "            i= \"1950\"\n",
    "        elif 1950<i<1975:\n",
    "            i=\"decada 1950-1975\""
   ]
  },
  {
   "cell_type": "code",
   "execution_count": null,
   "id": "4f0ddea9-6706-4d3d-a4f2-61ab15be306b",
   "metadata": {
    "id": "c388a8d8",
    "outputId": "339f0e4b-255d-4c29-82cf-e6f588de7806"
   },
   "outputs": [],
   "source": [
    "df[(df[\"Year_Date\"] > 1990) & (df[\"Year_Date\"]<2030)].Year_Date.hist(legend=True,bins=28, figsize = [15,4])"
   ]
  },
  {
   "cell_type": "code",
   "execution_count": null,
   "id": "49db14e6-7f58-48cc-9bfa-9989bebfbf22",
   "metadata": {
    "id": "116416c3",
    "outputId": "629b4834-035f-4395-f5a7-5ef3580a1629"
   },
   "outputs": [],
   "source": [
    "df[(df[\"Year_Date\"]<2030)].Year_Date.hist(legend=True,bins=28, figsize = [15,4])"
   ]
  },
  {
   "cell_type": "code",
   "execution_count": null,
   "id": "f756ff5c-648e-47cb-9363-1dc9796cc7a3",
   "metadata": {
    "id": "833b13c8",
    "outputId": "9f1ab26c-3d0a-4a7e-fd89-a652fc29532a"
   },
   "outputs": [],
   "source": [
    "df5=df[(df[\"Year_Date\"]<2030)].Year_Date.hist(legend=True,bins=28, figsize = [15,4])\n",
    "df[\"Year_Date\"].plot(kind=\"hist\", log=True)"
   ]
  },
  {
   "cell_type": "code",
   "execution_count": null,
   "id": "c799c761-77d0-434f-a623-d753bf6f065f",
   "metadata": {
    "id": "49bf3f85",
    "outputId": "d8a2e943-2e8b-4a4d-9eaa-f0fcce80bb55"
   },
   "outputs": [],
   "source": [
    "df.info()"
   ]
  },
  {
   "cell_type": "code",
   "execution_count": null,
   "id": "44126fab-8b0a-4dd9-8948-ec41b8b3d4d9",
   "metadata": {
    "id": "32f53ea1"
   },
   "outputs": [],
   "source": [
    "#correlaciones entre variables \n"
   ]
  },
  {
   "cell_type": "code",
   "execution_count": null,
   "id": "c8814c7e-80a8-4707-b4fd-0a7074260a95",
   "metadata": {
    "id": "730e7fbe",
    "outputId": "bbe220f1-d720-4eda-92b6-7d224229eb09"
   },
   "outputs": [],
   "source": [
    "df[\"Country\"].value_counts().nlargest(10).plot.bar()\n"
   ]
  },
  {
   "cell_type": "code",
   "execution_count": null,
   "id": "115eada2-3d36-478d-85c6-2cbf6db1239a",
   "metadata": {
    "id": "77672be9",
    "outputId": "fb423765-3040-4bc4-84d6-2a0f1331f697"
   },
   "outputs": [],
   "source": [
    "\n",
    "df.Activity"
   ]
  },
  {
   "cell_type": "code",
   "execution_count": null,
   "id": "f5d371b6-ce1b-4a6c-b5c4-d1764a00b107",
   "metadata": {
    "id": "fd2bb389",
    "outputId": "7abe01cf-1266-4ab7-f8d7-59630b855b3e"
   },
   "outputs": [],
   "source": [
    "#Contar cuanto representa a sobre b de los 10 principales \n",
    "a= df[\"Country\"].value_counts().nlargest(10).sum()\n",
    "b= df[\"Country\"].value_counts().sum()\n",
    "#df[\"Country\"]=\"not found\"].value_counts().sum()\n",
    "\n",
    "#c= a/b\n",
    "a/b\n"
   ]
  },
  {
   "cell_type": "code",
   "execution_count": null,
   "id": "70403794-7015-42e0-8ab9-ab48c646cbfa",
   "metadata": {
    "id": "9faf99f1",
    "outputId": "5bbfb12d-a6dd-462a-db7e-e5e949d631ae"
   },
   "outputs": [],
   "source": [
    "df"
   ]
  },
  {
   "cell_type": "code",
   "execution_count": null,
   "id": "d9c474aa-fcaf-4c68-b448-c35a381bf816",
   "metadata": {
    "id": "bc786498"
   },
   "outputs": [],
   "source": [
    "southern=[\"australia\", \"south africa\", \"papua new guinea\", \"brazil\", \"fiji\", \"reunion\", \"philippines\", \"new caledonia\", \"new zealand\",\"indonesia\", \"solomon islands\", \"french polynesia\"]\n",
    "\n",
    "northern= [\"united states\", \"mexico\", \"spain\", \"italy\", \"panama\", \"egypt\", \"japan\", \"hong kong\", \"jamaica\", \"greece\", \"croatia\", \"india\"]"
   ]
  },
  {
   "cell_type": "code",
   "execution_count": null,
   "id": "d49c0830-d3aa-48c0-a38e-51ee9cb8a297",
   "metadata": {
    "id": "33367ec7",
    "outputId": "a0ac66a3-ccfd-4df3-ecbf-da9c2009ca31"
   },
   "outputs": [
    {
     "data": {
      "text/html": [
       "<div>\n",
       "<style scoped>\n",
       "    .dataframe tbody tr th:only-of-type {\n",
       "        vertical-align: middle;\n",
       "    }\n",
       "\n",
       "    .dataframe tbody tr th {\n",
       "        vertical-align: top;\n",
       "    }\n",
       "\n",
       "    .dataframe thead th {\n",
       "        text-align: right;\n",
       "    }\n",
       "</style>\n",
       "<table border=\"1\" class=\"dataframe\">\n",
       "  <thead>\n",
       "    <tr style=\"text-align: right;\">\n",
       "      <th></th>\n",
       "      <th>Sex</th>\n",
       "      <th>Fatal (Y/N)</th>\n",
       "      <th>Date_normalize</th>\n",
       "      <th>Year_Date</th>\n",
       "      <th>Month_Date</th>\n",
       "      <th>Country</th>\n",
       "      <th>Day_Date</th>\n",
       "      <th>Age_normalize</th>\n",
       "      <th>Type</th>\n",
       "    </tr>\n",
       "  </thead>\n",
       "  <tbody>\n",
       "    <tr>\n",
       "      <th>0</th>\n",
       "      <td>f</td>\n",
       "      <td>n</td>\n",
       "      <td>2018-06-25</td>\n",
       "      <td>2018</td>\n",
       "      <td>6</td>\n",
       "      <td>united states</td>\n",
       "      <td>Monday</td>\n",
       "      <td>57</td>\n",
       "      <td>Boating</td>\n",
       "    </tr>\n",
       "    <tr>\n",
       "      <th>1</th>\n",
       "      <td>f</td>\n",
       "      <td>n</td>\n",
       "      <td>2018-06-18</td>\n",
       "      <td>2018</td>\n",
       "      <td>6</td>\n",
       "      <td>united states</td>\n",
       "      <td>Monday</td>\n",
       "      <td>11</td>\n",
       "      <td>Unprovoked</td>\n",
       "    </tr>\n",
       "    <tr>\n",
       "      <th>2</th>\n",
       "      <td>m</td>\n",
       "      <td>n</td>\n",
       "      <td>2018-06-09</td>\n",
       "      <td>2018</td>\n",
       "      <td>6</td>\n",
       "      <td>united states</td>\n",
       "      <td>Saturday</td>\n",
       "      <td>48</td>\n",
       "      <td>Invalid</td>\n",
       "    </tr>\n",
       "    <tr>\n",
       "      <th>3</th>\n",
       "      <td>m</td>\n",
       "      <td>n</td>\n",
       "      <td>2018-06-08</td>\n",
       "      <td>2018</td>\n",
       "      <td>6</td>\n",
       "      <td>australia</td>\n",
       "      <td>Friday</td>\n",
       "      <td>0</td>\n",
       "      <td>Unprovoked</td>\n",
       "    </tr>\n",
       "    <tr>\n",
       "      <th>4</th>\n",
       "      <td>m</td>\n",
       "      <td>n</td>\n",
       "      <td>2018-06-04</td>\n",
       "      <td>2018</td>\n",
       "      <td>6</td>\n",
       "      <td>mexico</td>\n",
       "      <td>Monday</td>\n",
       "      <td>0</td>\n",
       "      <td>Provoked</td>\n",
       "    </tr>\n",
       "    <tr>\n",
       "      <th>...</th>\n",
       "      <td>...</td>\n",
       "      <td>...</td>\n",
       "      <td>...</td>\n",
       "      <td>...</td>\n",
       "      <td>...</td>\n",
       "      <td>...</td>\n",
       "      <td>...</td>\n",
       "      <td>...</td>\n",
       "      <td>...</td>\n",
       "    </tr>\n",
       "    <tr>\n",
       "      <th>6297</th>\n",
       "      <td>m</td>\n",
       "      <td>y</td>\n",
       "      <td>2030-01-01</td>\n",
       "      <td>2030</td>\n",
       "      <td>1</td>\n",
       "      <td>australia</td>\n",
       "      <td>Tuesday</td>\n",
       "      <td>0</td>\n",
       "      <td>Unprovoked</td>\n",
       "    </tr>\n",
       "    <tr>\n",
       "      <th>6298</th>\n",
       "      <td>m</td>\n",
       "      <td>y</td>\n",
       "      <td>2030-01-01</td>\n",
       "      <td>2030</td>\n",
       "      <td>1</td>\n",
       "      <td>australia</td>\n",
       "      <td>Tuesday</td>\n",
       "      <td>0</td>\n",
       "      <td>Unprovoked</td>\n",
       "    </tr>\n",
       "    <tr>\n",
       "      <th>6299</th>\n",
       "      <td>m</td>\n",
       "      <td>y</td>\n",
       "      <td>2030-01-01</td>\n",
       "      <td>2030</td>\n",
       "      <td>1</td>\n",
       "      <td>united states</td>\n",
       "      <td>Tuesday</td>\n",
       "      <td>0</td>\n",
       "      <td>Unprovoked</td>\n",
       "    </tr>\n",
       "    <tr>\n",
       "      <th>6300</th>\n",
       "      <td>m</td>\n",
       "      <td>y</td>\n",
       "      <td>2030-01-01</td>\n",
       "      <td>2030</td>\n",
       "      <td>1</td>\n",
       "      <td>panama</td>\n",
       "      <td>Tuesday</td>\n",
       "      <td>0</td>\n",
       "      <td>Unprovoked</td>\n",
       "    </tr>\n",
       "    <tr>\n",
       "      <th>6301</th>\n",
       "      <td>m</td>\n",
       "      <td>y</td>\n",
       "      <td>2030-01-01</td>\n",
       "      <td>2030</td>\n",
       "      <td>1</td>\n",
       "      <td>sri lanka</td>\n",
       "      <td>Tuesday</td>\n",
       "      <td>15</td>\n",
       "      <td>Unprovoked</td>\n",
       "    </tr>\n",
       "  </tbody>\n",
       "</table>\n",
       "<p>6302 rows × 9 columns</p>\n",
       "</div>"
      ],
      "text/plain": [
       "     Sex Fatal (Y/N) Date_normalize  Year_Date  Month_Date        Country  \\\n",
       "0      f           n     2018-06-25       2018           6  united states   \n",
       "1      f           n     2018-06-18       2018           6  united states   \n",
       "2      m           n     2018-06-09       2018           6  united states   \n",
       "3      m           n     2018-06-08       2018           6      australia   \n",
       "4      m           n     2018-06-04       2018           6         mexico   \n",
       "...   ..         ...            ...        ...         ...            ...   \n",
       "6297   m           y     2030-01-01       2030           1      australia   \n",
       "6298   m           y     2030-01-01       2030           1      australia   \n",
       "6299   m           y     2030-01-01       2030           1  united states   \n",
       "6300   m           y     2030-01-01       2030           1         panama   \n",
       "6301   m           y     2030-01-01       2030           1      sri lanka   \n",
       "\n",
       "      Day_Date  Age_normalize        Type  \n",
       "0       Monday             57     Boating  \n",
       "1       Monday             11  Unprovoked  \n",
       "2     Saturday             48     Invalid  \n",
       "3       Friday              0  Unprovoked  \n",
       "4       Monday              0    Provoked  \n",
       "...        ...            ...         ...  \n",
       "6297   Tuesday              0  Unprovoked  \n",
       "6298   Tuesday              0  Unprovoked  \n",
       "6299   Tuesday              0  Unprovoked  \n",
       "6300   Tuesday              0  Unprovoked  \n",
       "6301   Tuesday             15  Unprovoked  \n",
       "\n",
       "[6302 rows x 9 columns]"
      ]
     },
     "execution_count": 123,
     "metadata": {},
     "output_type": "execute_result"
    }
   ],
   "source": [
    "df_trabajo = df[['Sex','Fatal (Y/N)', 'Date_normalize', 'Year_Date', 'Month_Date','Country','Day_Date', 'Age_normalize',\"Type\"]]\n",
    "df_trabajo"
   ]
  },
  {
   "cell_type": "code",
   "execution_count": null,
   "id": "12554efa-11b8-4b9a-8869-8ceccaa29258",
   "metadata": {
    "id": "7e4f4fff",
    "outputId": "97bfd056-29be-4770-9199-844aa0177ecf",
    "scrolled": true
   },
   "outputs": [
    {
     "ename": "TypeError",
     "evalue": "unsupported operand type(s) for &: 'str' and 'bool'",
     "output_type": "error",
     "traceback": [
      "\u001b[0;31m---------------------------------------------------------------------------\u001b[0m",
      "\u001b[0;31mTypeError\u001b[0m                                 Traceback (most recent call last)",
      "\u001b[0;32m~/opt/anaconda3/lib/python3.9/site-packages/pandas/core/ops/array_ops.py\u001b[0m in \u001b[0;36mna_logical_op\u001b[0;34m(x, y, op)\u001b[0m\n\u001b[1;32m    301\u001b[0m         \u001b[0;31m#  (xint or xbool) and (yint or bool)\u001b[0m\u001b[0;34m\u001b[0m\u001b[0;34m\u001b[0m\u001b[0m\n\u001b[0;32m--> 302\u001b[0;31m         \u001b[0mresult\u001b[0m \u001b[0;34m=\u001b[0m \u001b[0mop\u001b[0m\u001b[0;34m(\u001b[0m\u001b[0mx\u001b[0m\u001b[0;34m,\u001b[0m \u001b[0my\u001b[0m\u001b[0;34m)\u001b[0m\u001b[0;34m\u001b[0m\u001b[0;34m\u001b[0m\u001b[0m\n\u001b[0m\u001b[1;32m    303\u001b[0m     \u001b[0;32mexcept\u001b[0m \u001b[0mTypeError\u001b[0m\u001b[0;34m:\u001b[0m\u001b[0;34m\u001b[0m\u001b[0;34m\u001b[0m\u001b[0m\n",
      "\u001b[0;31mTypeError\u001b[0m: unsupported operand type(s) for &: 'str' and 'bool'",
      "\nDuring handling of the above exception, another exception occurred:\n",
      "\u001b[0;31mTypeError\u001b[0m                                 Traceback (most recent call last)",
      "\u001b[0;32m/var/folders/tf/rz5n948x1cg84z_rbyrb2m719v3wpn/T/ipykernel_43640/2087992319.py\u001b[0m in \u001b[0;36m<module>\u001b[0;34m\u001b[0m\n\u001b[0;32m----> 1\u001b[0;31m \u001b[0mdf_trabajo\u001b[0m\u001b[0;34m[\u001b[0m\u001b[0;34m(\u001b[0m\u001b[0mdf_trabajo\u001b[0m\u001b[0;34m[\u001b[0m\u001b[0;34m\"Day_Date\"\u001b[0m\u001b[0;34m]\u001b[0m\u001b[0;34m)\u001b[0m \u001b[0;34m&\u001b[0m \u001b[0;34m(\u001b[0m\u001b[0mdf_trabajo\u001b[0m\u001b[0;34m[\u001b[0m\u001b[0;34m\"Country\"\u001b[0m\u001b[0;34m]\u001b[0m\u001b[0;34m!=\u001b[0m\u001b[0;34m\"not found\"\u001b[0m\u001b[0;34m)\u001b[0m\u001b[0;34m]\u001b[0m\u001b[0;34m.\u001b[0m\u001b[0mvalue_counts\u001b[0m\u001b[0;34m(\u001b[0m\u001b[0;34m)\u001b[0m\u001b[0;34m.\u001b[0m\u001b[0mplot\u001b[0m\u001b[0;34m.\u001b[0m\u001b[0mbar\u001b[0m\u001b[0;34m(\u001b[0m\u001b[0;34m)\u001b[0m\u001b[0;34m\u001b[0m\u001b[0;34m\u001b[0m\u001b[0m\n\u001b[0m",
      "\u001b[0;32m~/opt/anaconda3/lib/python3.9/site-packages/pandas/core/ops/common.py\u001b[0m in \u001b[0;36mnew_method\u001b[0;34m(self, other)\u001b[0m\n\u001b[1;32m     67\u001b[0m         \u001b[0mother\u001b[0m \u001b[0;34m=\u001b[0m \u001b[0mitem_from_zerodim\u001b[0m\u001b[0;34m(\u001b[0m\u001b[0mother\u001b[0m\u001b[0;34m)\u001b[0m\u001b[0;34m\u001b[0m\u001b[0;34m\u001b[0m\u001b[0m\n\u001b[1;32m     68\u001b[0m \u001b[0;34m\u001b[0m\u001b[0m\n\u001b[0;32m---> 69\u001b[0;31m         \u001b[0;32mreturn\u001b[0m \u001b[0mmethod\u001b[0m\u001b[0;34m(\u001b[0m\u001b[0mself\u001b[0m\u001b[0;34m,\u001b[0m \u001b[0mother\u001b[0m\u001b[0;34m)\u001b[0m\u001b[0;34m\u001b[0m\u001b[0;34m\u001b[0m\u001b[0m\n\u001b[0m\u001b[1;32m     70\u001b[0m \u001b[0;34m\u001b[0m\u001b[0m\n\u001b[1;32m     71\u001b[0m     \u001b[0;32mreturn\u001b[0m \u001b[0mnew_method\u001b[0m\u001b[0;34m\u001b[0m\u001b[0;34m\u001b[0m\u001b[0m\n",
      "\u001b[0;32m~/opt/anaconda3/lib/python3.9/site-packages/pandas/core/arraylike.py\u001b[0m in \u001b[0;36m__and__\u001b[0;34m(self, other)\u001b[0m\n\u001b[1;32m     60\u001b[0m     \u001b[0;34m@\u001b[0m\u001b[0munpack_zerodim_and_defer\u001b[0m\u001b[0;34m(\u001b[0m\u001b[0;34m\"__and__\"\u001b[0m\u001b[0;34m)\u001b[0m\u001b[0;34m\u001b[0m\u001b[0;34m\u001b[0m\u001b[0m\n\u001b[1;32m     61\u001b[0m     \u001b[0;32mdef\u001b[0m \u001b[0m__and__\u001b[0m\u001b[0;34m(\u001b[0m\u001b[0mself\u001b[0m\u001b[0;34m,\u001b[0m \u001b[0mother\u001b[0m\u001b[0;34m)\u001b[0m\u001b[0;34m:\u001b[0m\u001b[0;34m\u001b[0m\u001b[0;34m\u001b[0m\u001b[0m\n\u001b[0;32m---> 62\u001b[0;31m         \u001b[0;32mreturn\u001b[0m \u001b[0mself\u001b[0m\u001b[0;34m.\u001b[0m\u001b[0m_logical_method\u001b[0m\u001b[0;34m(\u001b[0m\u001b[0mother\u001b[0m\u001b[0;34m,\u001b[0m \u001b[0moperator\u001b[0m\u001b[0;34m.\u001b[0m\u001b[0mand_\u001b[0m\u001b[0;34m)\u001b[0m\u001b[0;34m\u001b[0m\u001b[0;34m\u001b[0m\u001b[0m\n\u001b[0m\u001b[1;32m     63\u001b[0m \u001b[0;34m\u001b[0m\u001b[0m\n\u001b[1;32m     64\u001b[0m     \u001b[0;34m@\u001b[0m\u001b[0munpack_zerodim_and_defer\u001b[0m\u001b[0;34m(\u001b[0m\u001b[0;34m\"__rand__\"\u001b[0m\u001b[0;34m)\u001b[0m\u001b[0;34m\u001b[0m\u001b[0;34m\u001b[0m\u001b[0m\n",
      "\u001b[0;32m~/opt/anaconda3/lib/python3.9/site-packages/pandas/core/series.py\u001b[0m in \u001b[0;36m_logical_method\u001b[0;34m(self, other, op)\u001b[0m\n\u001b[1;32m   5511\u001b[0m         \u001b[0mrvalues\u001b[0m \u001b[0;34m=\u001b[0m \u001b[0mextract_array\u001b[0m\u001b[0;34m(\u001b[0m\u001b[0mother\u001b[0m\u001b[0;34m,\u001b[0m \u001b[0mextract_numpy\u001b[0m\u001b[0;34m=\u001b[0m\u001b[0;32mTrue\u001b[0m\u001b[0;34m,\u001b[0m \u001b[0mextract_range\u001b[0m\u001b[0;34m=\u001b[0m\u001b[0;32mTrue\u001b[0m\u001b[0;34m)\u001b[0m\u001b[0;34m\u001b[0m\u001b[0;34m\u001b[0m\u001b[0m\n\u001b[1;32m   5512\u001b[0m \u001b[0;34m\u001b[0m\u001b[0m\n\u001b[0;32m-> 5513\u001b[0;31m         \u001b[0mres_values\u001b[0m \u001b[0;34m=\u001b[0m \u001b[0mops\u001b[0m\u001b[0;34m.\u001b[0m\u001b[0mlogical_op\u001b[0m\u001b[0;34m(\u001b[0m\u001b[0mlvalues\u001b[0m\u001b[0;34m,\u001b[0m \u001b[0mrvalues\u001b[0m\u001b[0;34m,\u001b[0m \u001b[0mop\u001b[0m\u001b[0;34m)\u001b[0m\u001b[0;34m\u001b[0m\u001b[0;34m\u001b[0m\u001b[0m\n\u001b[0m\u001b[1;32m   5514\u001b[0m         \u001b[0;32mreturn\u001b[0m \u001b[0mself\u001b[0m\u001b[0;34m.\u001b[0m\u001b[0m_construct_result\u001b[0m\u001b[0;34m(\u001b[0m\u001b[0mres_values\u001b[0m\u001b[0;34m,\u001b[0m \u001b[0mname\u001b[0m\u001b[0;34m=\u001b[0m\u001b[0mres_name\u001b[0m\u001b[0;34m)\u001b[0m\u001b[0;34m\u001b[0m\u001b[0;34m\u001b[0m\u001b[0m\n\u001b[1;32m   5515\u001b[0m \u001b[0;34m\u001b[0m\u001b[0m\n",
      "\u001b[0;32m~/opt/anaconda3/lib/python3.9/site-packages/pandas/core/ops/array_ops.py\u001b[0m in \u001b[0;36mlogical_op\u001b[0;34m(left, right, op)\u001b[0m\n\u001b[1;32m    390\u001b[0m         \u001b[0mfiller\u001b[0m \u001b[0;34m=\u001b[0m \u001b[0mfill_int\u001b[0m \u001b[0;32mif\u001b[0m \u001b[0mis_self_int_dtype\u001b[0m \u001b[0;32mand\u001b[0m \u001b[0mis_other_int_dtype\u001b[0m \u001b[0;32melse\u001b[0m \u001b[0mfill_bool\u001b[0m\u001b[0;34m\u001b[0m\u001b[0;34m\u001b[0m\u001b[0m\n\u001b[1;32m    391\u001b[0m \u001b[0;34m\u001b[0m\u001b[0m\n\u001b[0;32m--> 392\u001b[0;31m         \u001b[0mres_values\u001b[0m \u001b[0;34m=\u001b[0m \u001b[0mna_logical_op\u001b[0m\u001b[0;34m(\u001b[0m\u001b[0mlvalues\u001b[0m\u001b[0;34m,\u001b[0m \u001b[0mrvalues\u001b[0m\u001b[0;34m,\u001b[0m \u001b[0mop\u001b[0m\u001b[0;34m)\u001b[0m\u001b[0;34m\u001b[0m\u001b[0;34m\u001b[0m\u001b[0m\n\u001b[0m\u001b[1;32m    393\u001b[0m         \u001b[0;31m# error: Cannot call function of unknown type\u001b[0m\u001b[0;34m\u001b[0m\u001b[0;34m\u001b[0m\u001b[0m\n\u001b[1;32m    394\u001b[0m         \u001b[0mres_values\u001b[0m \u001b[0;34m=\u001b[0m \u001b[0mfiller\u001b[0m\u001b[0;34m(\u001b[0m\u001b[0mres_values\u001b[0m\u001b[0;34m)\u001b[0m  \u001b[0;31m# type: ignore[operator]\u001b[0m\u001b[0;34m\u001b[0m\u001b[0;34m\u001b[0m\u001b[0m\n",
      "\u001b[0;32m~/opt/anaconda3/lib/python3.9/site-packages/pandas/core/ops/array_ops.py\u001b[0m in \u001b[0;36mna_logical_op\u001b[0;34m(x, y, op)\u001b[0m\n\u001b[1;32m    307\u001b[0m             \u001b[0mx\u001b[0m \u001b[0;34m=\u001b[0m \u001b[0mensure_object\u001b[0m\u001b[0;34m(\u001b[0m\u001b[0mx\u001b[0m\u001b[0;34m)\u001b[0m\u001b[0;34m\u001b[0m\u001b[0;34m\u001b[0m\u001b[0m\n\u001b[1;32m    308\u001b[0m             \u001b[0my\u001b[0m \u001b[0;34m=\u001b[0m \u001b[0mensure_object\u001b[0m\u001b[0;34m(\u001b[0m\u001b[0my\u001b[0m\u001b[0;34m)\u001b[0m\u001b[0;34m\u001b[0m\u001b[0;34m\u001b[0m\u001b[0m\n\u001b[0;32m--> 309\u001b[0;31m             \u001b[0mresult\u001b[0m \u001b[0;34m=\u001b[0m \u001b[0mlibops\u001b[0m\u001b[0;34m.\u001b[0m\u001b[0mvec_binop\u001b[0m\u001b[0;34m(\u001b[0m\u001b[0mx\u001b[0m\u001b[0;34m.\u001b[0m\u001b[0mravel\u001b[0m\u001b[0;34m(\u001b[0m\u001b[0;34m)\u001b[0m\u001b[0;34m,\u001b[0m \u001b[0my\u001b[0m\u001b[0;34m.\u001b[0m\u001b[0mravel\u001b[0m\u001b[0;34m(\u001b[0m\u001b[0;34m)\u001b[0m\u001b[0;34m,\u001b[0m \u001b[0mop\u001b[0m\u001b[0;34m)\u001b[0m\u001b[0;34m\u001b[0m\u001b[0;34m\u001b[0m\u001b[0m\n\u001b[0m\u001b[1;32m    310\u001b[0m         \u001b[0;32melse\u001b[0m\u001b[0;34m:\u001b[0m\u001b[0;34m\u001b[0m\u001b[0;34m\u001b[0m\u001b[0m\n\u001b[1;32m    311\u001b[0m             \u001b[0;31m# let null fall thru\u001b[0m\u001b[0;34m\u001b[0m\u001b[0;34m\u001b[0m\u001b[0m\n",
      "\u001b[0;32m~/opt/anaconda3/lib/python3.9/site-packages/pandas/_libs/ops.pyx\u001b[0m in \u001b[0;36mpandas._libs.ops.vec_binop\u001b[0;34m()\u001b[0m\n",
      "\u001b[0;32m~/opt/anaconda3/lib/python3.9/site-packages/pandas/_libs/ops.pyx\u001b[0m in \u001b[0;36mpandas._libs.ops.vec_binop\u001b[0;34m()\u001b[0m\n",
      "\u001b[0;31mTypeError\u001b[0m: unsupported operand type(s) for &: 'str' and 'bool'"
     ]
    }
   ],
   "source": [
    "df_trabajo[(df_trabajo[\"Day_Date\"]) & (df_trabajo[\"Country\"]!=\"not found\")].value_counts().plot.bar()"
   ]
  },
  {
   "cell_type": "code",
   "execution_count": null,
   "id": "78afa461-52a1-460f-a826-31c169466e4d",
   "metadata": {
    "id": "3c720bf7",
    "outputId": "03128798-6426-4a35-b416-89ee3ef41a3b"
   },
   "outputs": [
    {
     "data": {
      "text/plain": [
       "0.19834973024436686"
      ]
     },
     "execution_count": 129,
     "metadata": {},
     "output_type": "execute_result"
    }
   ],
   "source": [
    "t=df_trabajo[df_trabajo[\"Country\"]==\"not found\"].value_counts().sum()\n",
    "ar=df_trabajo[\"Country\"].value_counts().sum()\n",
    "t/ar"
   ]
  },
  {
   "cell_type": "code",
   "execution_count": null,
   "id": "bfd04f19-efaf-4889-aac2-e419d6541d90",
   "metadata": {
    "id": "5d769b44",
    "outputId": "2d4b9de5-57a8-4d32-f53f-ce5b019e7c8a"
   },
   "outputs": [
    {
     "data": {
      "text/plain": [
       "<AxesSubplot:>"
      ]
     },
     "execution_count": 135,
     "metadata": {},
     "output_type": "execute_result"
    },
    {
     "data": {
      "image/png": "[encoded data removed]",
      "text/plain": [
       "<Figure size 432x288 with 1 Axes>"
      ]
     },
     "metadata": {},
     "output_type": "display_data"
    }
   ],
   "source": [
    "#df_trabajo[\"Country\"].value_counts().nlargest(10).plot.bar()\n",
    "#df_trabajo[\"Country\"].value_counts().plot.bar()\n",
    "df_trabajo[\"Day_Date\"].value_counts().plot.bar()\n"
   ]
  },
  {
   "cell_type": "code",
   "execution_count": null,
   "id": "4ee548a9-e603-4f18-8500-4b357e4bd11f",
   "metadata": {
    "id": "0c10aa42",
    "outputId": "640759ad-13f1-49a2-c7e6-431620a47548"
   },
   "outputs": [
    {
     "data": {
      "text/html": [
       "<div>\n",
       "<style scoped>\n",
       "    .dataframe tbody tr th:only-of-type {\n",
       "        vertical-align: middle;\n",
       "    }\n",
       "\n",
       "    .dataframe tbody tr th {\n",
       "        vertical-align: top;\n",
       "    }\n",
       "\n",
       "    .dataframe thead th {\n",
       "        text-align: right;\n",
       "    }\n",
       "</style>\n",
       "<table border=\"1\" class=\"dataframe\">\n",
       "  <thead>\n",
       "    <tr style=\"text-align: right;\">\n",
       "      <th></th>\n",
       "      <th>Sex</th>\n",
       "      <th>Fatal (Y/N)</th>\n",
       "      <th>Date_normalize</th>\n",
       "      <th>Year_Date</th>\n",
       "      <th>Month_Date</th>\n",
       "      <th>Country</th>\n",
       "      <th>Day_Date</th>\n",
       "      <th>Age_normalize</th>\n",
       "      <th>Type</th>\n",
       "    </tr>\n",
       "  </thead>\n",
       "  <tbody>\n",
       "    <tr>\n",
       "      <th>0</th>\n",
       "      <td>f</td>\n",
       "      <td>n</td>\n",
       "      <td>2018-06-25</td>\n",
       "      <td>2018</td>\n",
       "      <td>6</td>\n",
       "      <td>united states</td>\n",
       "      <td>Monday</td>\n",
       "      <td>57</td>\n",
       "      <td>Boating</td>\n",
       "    </tr>\n",
       "    <tr>\n",
       "      <th>1</th>\n",
       "      <td>f</td>\n",
       "      <td>n</td>\n",
       "      <td>2018-06-18</td>\n",
       "      <td>2018</td>\n",
       "      <td>6</td>\n",
       "      <td>united states</td>\n",
       "      <td>Monday</td>\n",
       "      <td>11</td>\n",
       "      <td>Unprovoked</td>\n",
       "    </tr>\n",
       "    <tr>\n",
       "      <th>2</th>\n",
       "      <td>m</td>\n",
       "      <td>n</td>\n",
       "      <td>2018-06-09</td>\n",
       "      <td>2018</td>\n",
       "      <td>6</td>\n",
       "      <td>united states</td>\n",
       "      <td>Saturday</td>\n",
       "      <td>48</td>\n",
       "      <td>Invalid</td>\n",
       "    </tr>\n",
       "    <tr>\n",
       "      <th>3</th>\n",
       "      <td>m</td>\n",
       "      <td>n</td>\n",
       "      <td>2018-06-08</td>\n",
       "      <td>2018</td>\n",
       "      <td>6</td>\n",
       "      <td>australia</td>\n",
       "      <td>Friday</td>\n",
       "      <td>0</td>\n",
       "      <td>Unprovoked</td>\n",
       "    </tr>\n",
       "    <tr>\n",
       "      <th>4</th>\n",
       "      <td>m</td>\n",
       "      <td>n</td>\n",
       "      <td>2018-06-04</td>\n",
       "      <td>2018</td>\n",
       "      <td>6</td>\n",
       "      <td>mexico</td>\n",
       "      <td>Monday</td>\n",
       "      <td>0</td>\n",
       "      <td>Provoked</td>\n",
       "    </tr>\n",
       "    <tr>\n",
       "      <th>...</th>\n",
       "      <td>...</td>\n",
       "      <td>...</td>\n",
       "      <td>...</td>\n",
       "      <td>...</td>\n",
       "      <td>...</td>\n",
       "      <td>...</td>\n",
       "      <td>...</td>\n",
       "      <td>...</td>\n",
       "      <td>...</td>\n",
       "    </tr>\n",
       "    <tr>\n",
       "      <th>6297</th>\n",
       "      <td>m</td>\n",
       "      <td>y</td>\n",
       "      <td>2030-01-01</td>\n",
       "      <td>2030</td>\n",
       "      <td>1</td>\n",
       "      <td>australia</td>\n",
       "      <td>Tuesday</td>\n",
       "      <td>0</td>\n",
       "      <td>Unprovoked</td>\n",
       "    </tr>\n",
       "    <tr>\n",
       "      <th>6298</th>\n",
       "      <td>m</td>\n",
       "      <td>y</td>\n",
       "      <td>2030-01-01</td>\n",
       "      <td>2030</td>\n",
       "      <td>1</td>\n",
       "      <td>australia</td>\n",
       "      <td>Tuesday</td>\n",
       "      <td>0</td>\n",
       "      <td>Unprovoked</td>\n",
       "    </tr>\n",
       "    <tr>\n",
       "      <th>6299</th>\n",
       "      <td>m</td>\n",
       "      <td>y</td>\n",
       "      <td>2030-01-01</td>\n",
       "      <td>2030</td>\n",
       "      <td>1</td>\n",
       "      <td>united states</td>\n",
       "      <td>Tuesday</td>\n",
       "      <td>0</td>\n",
       "      <td>Unprovoked</td>\n",
       "    </tr>\n",
       "    <tr>\n",
       "      <th>6300</th>\n",
       "      <td>m</td>\n",
       "      <td>y</td>\n",
       "      <td>2030-01-01</td>\n",
       "      <td>2030</td>\n",
       "      <td>1</td>\n",
       "      <td>panama</td>\n",
       "      <td>Tuesday</td>\n",
       "      <td>0</td>\n",
       "      <td>Unprovoked</td>\n",
       "    </tr>\n",
       "    <tr>\n",
       "      <th>6301</th>\n",
       "      <td>m</td>\n",
       "      <td>y</td>\n",
       "      <td>2030-01-01</td>\n",
       "      <td>2030</td>\n",
       "      <td>1</td>\n",
       "      <td>sri lanka</td>\n",
       "      <td>Tuesday</td>\n",
       "      <td>15</td>\n",
       "      <td>Unprovoked</td>\n",
       "    </tr>\n",
       "  </tbody>\n",
       "</table>\n",
       "<p>6302 rows × 9 columns</p>\n",
       "</div>"
      ],
      "text/plain": [
       "     Sex Fatal (Y/N) Date_normalize  Year_Date  Month_Date        Country  \\\n",
       "0      f           n     2018-06-25       2018           6  united states   \n",
       "1      f           n     2018-06-18       2018           6  united states   \n",
       "2      m           n     2018-06-09       2018           6  united states   \n",
       "3      m           n     2018-06-08       2018           6      australia   \n",
       "4      m           n     2018-06-04       2018           6         mexico   \n",
       "...   ..         ...            ...        ...         ...            ...   \n",
       "6297   m           y     2030-01-01       2030           1      australia   \n",
       "6298   m           y     2030-01-01       2030           1      australia   \n",
       "6299   m           y     2030-01-01       2030           1  united states   \n",
       "6300   m           y     2030-01-01       2030           1         panama   \n",
       "6301   m           y     2030-01-01       2030           1      sri lanka   \n",
       "\n",
       "      Day_Date  Age_normalize        Type  \n",
       "0       Monday             57     Boating  \n",
       "1       Monday             11  Unprovoked  \n",
       "2     Saturday             48     Invalid  \n",
       "3       Friday              0  Unprovoked  \n",
       "4       Monday              0    Provoked  \n",
       "...        ...            ...         ...  \n",
       "6297   Tuesday              0  Unprovoked  \n",
       "6298   Tuesday              0  Unprovoked  \n",
       "6299   Tuesday              0  Unprovoked  \n",
       "6300   Tuesday              0  Unprovoked  \n",
       "6301   Tuesday             15  Unprovoked  \n",
       "\n",
       "[6302 rows x 9 columns]"
      ]
     },
     "execution_count": 136,
     "metadata": {},
     "output_type": "execute_result"
    }
   ],
   "source": [
    "df_trabajo"
   ]
  },
  {
   "cell_type": "code",
   "execution_count": null,
   "id": "f3d1928c-6dee-4bcf-bfa2-cc8df11c1095",
   "metadata": {
    "id": "b0eb872e",
    "outputId": "181855bd-3900-4ade-b842-abce82717935"
   },
   "outputs": [
    {
     "name": "stderr",
     "output_type": "stream",
     "text": [
      "*c* argument looks like a single numeric RGB or RGBA sequence, which should be avoided as value-mapping will have precedence in case its length matches with *x* & *y*.  Please use the *color* keyword-argument or provide a 2D array with a single row if you intend to specify the same RGB or RGBA value for all points.\n"
     ]
    },
    {
     "data": {
      "text/plain": [
       "<AxesSubplot:xlabel='Year_Date', ylabel='Age_normalize'>"
      ]
     },
     "execution_count": 137,
     "metadata": {},
     "output_type": "execute_result"
    },
    {
     "data": {
      "image/png": "[encoded data removed]",
      "text/plain": [
       "<Figure size 432x288 with 1 Axes>"
      ]
     },
     "metadata": {},
     "output_type": "display_data"
    }
   ],
   "source": [
    "df_trabajo[(df_trabajo[\"Year_Date\"] < 2030) & (df_trabajo[\"Age_normalize\"] > 0) & (df_trabajo[\"Year_Date\"] > 1950)].plot.scatter(x=\"Year_Date\", y=\"Age_normalize\")\n",
    "\n",
    "#df_trabajo2= df_trabajo[[\"Age_normalize\">\"0\"]]\n",
    "#df_trabajo3= df_trabajo2[[\"Year_Date\"]<\"2030\"]\n",
    "#df_trabajo.plot.scatter(x=\"Year_Date\", y=\"Age_normalize\")"
   ]
  },
  {
   "cell_type": "code",
   "execution_count": null,
   "id": "e1faad84-de4e-47f9-83f0-b84ad8ea3853",
   "metadata": {
    "id": "5b4c4b05",
    "outputId": "a863efde-ead6-4294-b5eb-d935ef4a9250"
   },
   "outputs": [
    {
     "name": "stderr",
     "output_type": "stream",
     "text": [
      "*c* argument looks like a single numeric RGB or RGBA sequence, which should be avoided as value-mapping will have precedence in case its length matches with *x* & *y*.  Please use the *color* keyword-argument or provide a 2D array with a single row if you intend to specify the same RGB or RGBA value for all points.\n"
     ]
    },
    {
     "data": {
      "text/plain": [
       "<AxesSubplot:xlabel='Year_Date', ylabel='Age_normalize'>"
      ]
     },
     "execution_count": 146,
     "metadata": {},
     "output_type": "execute_result"
    },
    {
     "data": {
      "image/png": "[encoded data removed]",
      "text/plain": [
       "<Figure size 432x288 with 1 Axes>"
      ]
     },
     "metadata": {},
     "output_type": "display_data"
    }
   ],
   "source": [
    "df_trabajo[(df_trabajo[\"Year_Date\"] < 2030) & (df_trabajo[\"Age_normalize\"] > 0)].plot.scatter(x=\"Year_Date\", y=\"Age_normalize\")\n"
   ]
  },
  {
   "cell_type": "code",
   "execution_count": null,
   "id": "c92d64eb-596d-4ecb-9e3a-7da609b66408",
   "metadata": {
    "id": "0931fde6",
    "outputId": "c2753e12-97ce-418f-dd3b-438b4af3254a"
   },
   "outputs": [
    {
     "name": "stderr",
     "output_type": "stream",
     "text": [
      "*c* argument looks like a single numeric RGB or RGBA sequence, which should be avoided as value-mapping will have precedence in case its length matches with *x* & *y*.  Please use the *color* keyword-argument or provide a 2D array with a single row if you intend to specify the same RGB or RGBA value for all points.\n"
     ]
    },
    {
     "data": {
      "text/plain": [
       "<AxesSubplot:xlabel='Year_Date', ylabel='Age_normalize'>"
      ]
     },
     "execution_count": 141,
     "metadata": {},
     "output_type": "execute_result"
    },
    {
     "data": {
      "image/png": "[encoded data removed]",
      "text/plain": [
       "<Figure size 432x288 with 1 Axes>"
      ]
     },
     "metadata": {},
     "output_type": "display_data"
    }
   ],
   "source": [
    "#df_trabajo[(df_trabajo[\"Year_Date\"] < 2030) & (df_trabajo[\"Age_normalize\"] > 0) & (df_trabajo[\"Year_Date\"] < 1950)].plot.scatter(x=\"Year_Date\", y=\"Age_normalize\")\n",
    "df_trabajo[(df_trabajo[\"Year_Date\"] < 2030) & (df_trabajo[\"Age_normalize\"] > 0) & (df_trabajo[\"Year_Date\"] < 1950)& (df_trabajo[\"Sex\"] == \"f\")].plot.scatter(x=\"Year_Date\", y=\"Age_normalize\")\n"
   ]
  },
  {
   "cell_type": "code",
   "execution_count": null,
   "id": "ecd79883-19dd-4bbe-8736-b27d33017fc9",
   "metadata": {
    "id": "355c0131",
    "outputId": "5e76f9ed-4014-4d1a-a789-ae8ca441b4e5"
   },
   "outputs": [
    {
     "name": "stderr",
     "output_type": "stream",
     "text": [
      "*c* argument looks like a single numeric RGB or RGBA sequence, which should be avoided as value-mapping will have precedence in case its length matches with *x* & *y*.  Please use the *color* keyword-argument or provide a 2D array with a single row if you intend to specify the same RGB or RGBA value for all points.\n"
     ]
    },
    {
     "data": {
      "text/plain": [
       "<AxesSubplot:xlabel='Year_Date', ylabel='Age_normalize'>"
      ]
     },
     "execution_count": 144,
     "metadata": {},
     "output_type": "execute_result"
    },
    {
     "data": {
      "image/png": "[encoded data removed]",
      "text/plain": [
       "<Figure size 432x288 with 1 Axes>"
      ]
     },
     "metadata": {},
     "output_type": "display_data"
    }
   ],
   "source": [
    "df_trabajo[(df_trabajo[\"Year_Date\"] < 2030) & (df_trabajo[\"Age_normalize\"] > 0) & (df_trabajo[\"Year_Date\"] < 1950)].plot.scatter(x=\"Year_Date\", y=\"Age_normalize\")\n"
   ]
  },
  {
   "cell_type": "code",
   "execution_count": null,
   "id": "bed404a2-cd14-4de7-8ef4-04cfbd5a982a",
   "metadata": {
    "id": "bec4860b",
    "outputId": "3e907fa7-9893-486d-e6e5-627d9ee5a9f9"
   },
   "outputs": [
    {
     "name": "stderr",
     "output_type": "stream",
     "text": [
      "*c* argument looks like a single numeric RGB or RGBA sequence, which should be avoided as value-mapping will have precedence in case its length matches with *x* & *y*.  Please use the *color* keyword-argument or provide a 2D array with a single row if you intend to specify the same RGB or RGBA value for all points.\n"
     ]
    },
    {
     "data": {
      "text/plain": [
       "<AxesSubplot:xlabel='Year_Date', ylabel='Age_normalize'>"
      ]
     },
     "execution_count": 145,
     "metadata": {},
     "output_type": "execute_result"
    },
    {
     "data": {
      "image/png": "[encoded data removed]",
      "text/plain": [
       "<Figure size 432x288 with 1 Axes>"
      ]
     },
     "metadata": {},
     "output_type": "display_data"
    }
   ],
   "source": [
    "df_trabajo[(df_trabajo[\"Year_Date\"] < 2030) & (df_trabajo[\"Age_normalize\"] > 0) & (df_trabajo[\"Year_Date\"] < 1950)& (df_trabajo[\"Year_Date\"] < 1950)& (df_trabajo[\"Sex\"] == \"m\")].plot.scatter(x=\"Year_Date\", y=\"Age_normalize\")\n"
   ]
  },
  {
   "cell_type": "code",
   "execution_count": null,
   "id": "23b68b2e-2e9f-4217-bf72-63e6b188142b",
   "metadata": {
    "id": "c1f14a04",
    "outputId": "95868927-625d-402e-b9fd-4b3e39e36037"
   },
   "outputs": [
    {
     "name": "stderr",
     "output_type": "stream",
     "text": [
      "*c* argument looks like a single numeric RGB or RGBA sequence, which should be avoided as value-mapping will have precedence in case its length matches with *x* & *y*.  Please use the *color* keyword-argument or provide a 2D array with a single row if you intend to specify the same RGB or RGBA value for all points.\n"
     ]
    },
    {
     "data": {
      "text/plain": [
       "<AxesSubplot:xlabel='Year_Date', ylabel='Age_normalize'>"
      ]
     },
     "execution_count": 139,
     "metadata": {},
     "output_type": "execute_result"
    },
    {
     "data": {
      "image/png": "[encoded data removed]",
      "text/plain": [
       "<Figure size 432x288 with 1 Axes>"
      ]
     },
     "metadata": {},
     "output_type": "display_data"
    }
   ],
   "source": [
    "# Dispersión de edad por Mujeres\n",
    "\n",
    "df_trabajo[(df_trabajo[\"Year_Date\"] < 2030) & (df_trabajo[\"Age_normalize\"] > 0) & (df_trabajo[\"Year_Date\"] > 1950)& (df_trabajo[\"Sex\"] == \"f\")].plot.scatter(x=\"Year_Date\", y=\"Age_normalize\")\n"
   ]
  },
  {
   "cell_type": "code",
   "execution_count": null,
   "id": "f150fe8a-6bf4-42bb-bde1-a56b936bc0ef",
   "metadata": {
    "id": "48d52f5a",
    "outputId": "ade171e5-b3a9-4b89-b4ff-3826acf4902f"
   },
   "outputs": [
    {
     "name": "stderr",
     "output_type": "stream",
     "text": [
      "*c* argument looks like a single numeric RGB or RGBA sequence, which should be avoided as value-mapping will have precedence in case its length matches with *x* & *y*.  Please use the *color* keyword-argument or provide a 2D array with a single row if you intend to specify the same RGB or RGBA value for all points.\n"
     ]
    },
    {
     "data": {
      "text/plain": [
       "<AxesSubplot:xlabel='Year_Date', ylabel='Age_normalize'>"
      ]
     },
     "execution_count": 140,
     "metadata": {},
     "output_type": "execute_result"
    },
    {
     "data": {
      "image/png": "[encoded data removed]",
      "text/plain": [
       "<Figure size 432x288 with 1 Axes>"
      ]
     },
     "metadata": {},
     "output_type": "display_data"
    }
   ],
   "source": [
    "#hombres edad con distribución anual\n",
    "df_trabajo[(df_trabajo[\"Year_Date\"] < 2030) & (df_trabajo[\"Age_normalize\"] > 0) & (df_trabajo[\"Year_Date\"] > 1950)& (df_trabajo[\"Sex\"] == \"m\")].plot.scatter(x=\"Year_Date\", y=\"Age_normalize\")\n"
   ]
  },
  {
   "cell_type": "code",
   "execution_count": null,
   "id": "44149c3a-185d-425e-8b8b-c2ee67139191",
   "metadata": {
    "id": "d679edbc"
   },
   "outputs": [],
   "source": [
    "southern=[\"australia\", \"south africa\", \"papua new guinea\", \"brazil\", \"fiji\", \"reunion\", \"philippines\", \"new caledonia\", \"new zealand\",\"indonesia\", \"solomon islands\", \"french polynesia\"]\n",
    "#df[\"Country\"].value_counts().sum()\n",
    "df.Country.isin(southern).value_counts"
   ]
  },
  {
   "cell_type": "code",
   "execution_count": null,
   "id": "9f9e115d-37ea-42c1-a5f2-087a6f82049d",
   "metadata": {
    "id": "94c20f70",
    "scrolled": true
   },
   "outputs": [],
   "source": [
    "df_south1= df_trabajo[((df_trabajo[\"Country\"]==\"australia\") | (df_trabajo[\"Country\"]==\"south africa\")) | (df_trabajo[\"Country\"]==\"papua new guinea\")]\n",
    "df_south2= df_south1[df_south1[\"Year_Date\"]<2030]\n",
    "df_south2[\"Day_Date\"].value_counts().plot.bar()"
   ]
  },
  {
   "cell_type": "code",
   "execution_count": null,
   "id": "cd7552bf-d6f2-40fb-9a19-39dc4af145d2",
   "metadata": {
    "id": "75bbab9a"
   },
   "outputs": [],
   "source": [
    "df_south2[\"Month_Date\"].value_counts()"
   ]
  },
  {
   "cell_type": "code",
   "execution_count": null,
   "id": "2b5aeedd-10a8-47e1-84de-98ac7a159ba0",
   "metadata": {
    "id": "feaf89da"
   },
   "outputs": [],
   "source": [
    "df_south2[\"Month_Date\"].value_counts().sort_index().plot.bar()"
   ]
  },
  {
   "cell_type": "code",
   "execution_count": null,
   "id": "64bf1f36-c003-4359-9578-1933ad30ef3d",
   "metadata": {
    "id": "523eebb0"
   },
   "outputs": [],
   "source": [
    "meses=[1,2,11,12]\n",
    "rsl2 = df_south2[df_south2['Month_Date'].isin(meses)]\n",
    "f= rsl2.value_counts().sum()\n",
    "d=df_south2.value_counts().sum()\n",
    "f/d"
   ]
  },
  {
   "cell_type": "code",
   "execution_count": null,
   "id": "e9305653-2f0f-436b-b70f-d9f2d4748c36",
   "metadata": {
    "id": "d01dac9d"
   },
   "outputs": [],
   "source": [
    "df_north1= df[((df[\"Country\"]==\"united states\") | (df[\"Country\"]==\"bahamas\")) | (df[\"Country\"]==\"mexico\")]\n",
    "df_north2= df_north1[df_north1[\"Year_Date\"]<2030]\n",
    "df_north2[\"Day_Date\"].value_counts().plot.bar()"
   ]
  },
  {
   "cell_type": "code",
   "execution_count": null,
   "id": "211ee0bc-72df-4ab5-afb5-0d0cf156b4d9",
   "metadata": {
    "colab": {
     "base_uri": "https://localhost:8080/",
     "height": 169
    },
    "id": "6550485e",
    "outputId": "c5ce2a83-5693-449d-cf86-3e6a9554baef"
   },
   "outputs": [
    {
     "ename": "NameError",
     "evalue": "ignored",
     "output_type": "error",
     "traceback": [
      "\u001b[0;31m---------------------------------------------------------------------------\u001b[0m",
      "\u001b[0;31mNameError\u001b[0m                                 Traceback (most recent call last)",
      "\u001b[0;32m<ipython-input-1-d99070cf1699>\u001b[0m in \u001b[0;36m<module>\u001b[0;34m()\u001b[0m\n\u001b[0;32m----> 1\u001b[0;31m \u001b[0mdf_north2\u001b[0m\u001b[0;34m[\u001b[0m\u001b[0;34m\"Month_Date\"\u001b[0m\u001b[0;34m]\u001b[0m\u001b[0;34m.\u001b[0m\u001b[0mvalue_counts\u001b[0m\u001b[0;34m(\u001b[0m\u001b[0;34m)\u001b[0m\u001b[0;34m.\u001b[0m\u001b[0msort_index\u001b[0m\u001b[0;34m(\u001b[0m\u001b[0;34m)\u001b[0m\u001b[0;34m.\u001b[0m\u001b[0mplot\u001b[0m\u001b[0;34m.\u001b[0m\u001b[0mbar\u001b[0m\u001b[0;34m(\u001b[0m\u001b[0;34m)\u001b[0m\u001b[0;34m\u001b[0m\u001b[0;34m\u001b[0m\u001b[0m\n\u001b[0m",
      "\u001b[0;31mNameError\u001b[0m: name 'df_north2' is not defined"
     ]
    }
   ],
   "source": [
    "df_north2[\"Month_Date\"].value_counts().sort_index().plot.bar()"
   ]
  },
  {
   "cell_type": "code",
   "execution_count": null,
   "id": "8b2944aa-33f0-4156-8877-126ebe5a6a89",
   "metadata": {
    "id": "14cb7d3e"
   },
   "outputs": [],
   "source": [
    "meses=[6,7,8,9]\n",
    "\n",
    "d=df_north2.value_counts().sum()\n",
    "df_north2.isin(meses).value_counts().sum()\n",
    "#df_north2[[\"Month_Date\"],meses ].value_counts()\n",
    "#value_list = [\"apple\"]\n",
    "#boolean_series = df.fruit.isin(value_list)\n",
    "#filtered_df = df[boolean_series]"
   ]
  },
  {
   "cell_type": "code",
   "execution_count": null,
   "id": "294d80fe-739d-4fa6-9788-876cb7894dbe",
   "metadata": {
    "id": "f3a4d452"
   },
   "outputs": [],
   "source": [
    "meses=[6,7,8,9]\n",
    "rsl = df_north2[df_north2['Month_Date'].isin(meses)]\n",
    "f= rsl.value_counts().sum()\n",
    "d=df_north2.value_counts().sum()\n",
    "#De ataques que ocurren en 4 meses en el hemisferio norte \n",
    "f/d"
   ]
  },
  {
   "cell_type": "code",
   "execution_count": null,
   "id": "2c9e9600-bec8-4dd2-bb8e-e55ad05e151f",
   "metadata": {
    "id": "799093c2",
    "outputId": "80b29a30-bbfe-40b2-dd2a-bf5590fb9f64"
   },
   "outputs": [
    {
     "data": {
      "text/plain": [
       "Case Number                        2018.06.25\n",
       "Date                              25-Jun-2018\n",
       "Year                                   2018.0\n",
       "Type                                  Boating\n",
       "Country                         united states\n",
       "Area                               California\n",
       "Location          Oceanside, San Diego County\n",
       "Activity                             Paddling\n",
       "Sex                                         f\n",
       "Age                                        57\n",
       "Fatal (Y/N)                                 n\n",
       "Time                                    18h00\n",
       "original order                         6303.0\n",
       "Age_normalize                              57\n",
       "Date_normalize            2018-06-25 00:00:00\n",
       "Year_Date                                2018\n",
       "Month_Date                                  6\n",
       "Day_Date                               Monday\n",
       "Name: 0, dtype: object"
      ]
     },
     "execution_count": 155,
     "metadata": {},
     "output_type": "execute_result"
    }
   ],
   "source": [
    "df.loc[0]"
   ]
  },
  {
   "cell_type": "code",
   "execution_count": null,
   "id": "0c911ae5-879e-4e2c-9af0-47ce1daf782f",
   "metadata": {
    "colab": {
     "base_uri": "https://localhost:8080/",
     "height": 133
    },
    "id": "961bf23a",
    "outputId": "4fa8b767-0880-4acb-bd22-0f245944e769"
   },
   "outputs": [
    {
     "ename": "SyntaxError",
     "evalue": "ignored",
     "output_type": "error",
     "traceback": [
      "\u001b[0;36m  File \u001b[0;32m\"<ipython-input-2-584fd5c4bbf2>\"\u001b[0;36m, line \u001b[0;32m3\u001b[0m\n\u001b[0;31m    rsl.groupby(['Day_Date']).sum().plot(kind='pie' y=\"\")\u001b[0m\n\u001b[0m                                                    ^\u001b[0m\n\u001b[0;31mSyntaxError\u001b[0m\u001b[0;31m:\u001b[0m invalid syntax\n"
     ]
    }
   ],
   "source": [
    "#rsl.plot.pie(y='Day_Date', title=\"Title\", legend=False, autopct='%1.1f%%', explode=(0, 0, 0.1),shadow=True, startangle=0\n",
    "            \n",
    "rsl.groupby(['Day_Date']).sum().plot(kind='pie' y=\"\") "
   ]
  },
  {
   "cell_type": "code",
   "execution_count": null,
   "id": "355f386d-ae99-4719-b50a-702bed219cf1",
   "metadata": {
    "id": "a923aace"
   },
   "outputs": [],
   "source": [
    "df_north3= df_north2.sort_values(by='Month_Date', ascending=True).sort_index()\n",
    "df_north3[\"Month_Date\"].value_counts().sort_index().plot.bar()"
   ]
  },
  {
   "cell_type": "code",
   "execution_count": null,
   "id": "0cfbafc6-da04-41e4-836f-5da57bac1e22",
   "metadata": {
    "id": "42314a5b"
   },
   "outputs": [],
   "source": [
    "df2 = df.groupby(['Name', 'Abuse/NFF'])['Name'].count().unstack('Abuse/NFF').fillna(0)\n",
    "df2[['abuse','nff']].plot(kind='bar', stacked=True)"
   ]
  },
  {
   "cell_type": "code",
   "execution_count": null,
   "id": "69efd70b-b234-472f-b205-2c801e6bb536",
   "metadata": {
    "id": "846d63d4",
    "outputId": "40bf661e-c871-4c89-e3a1-a09fe7e22a31"
   },
   "outputs": [
    {
     "data": {
      "text/plain": [
       "array(['f', 'm', 'notknown'], dtype=object)"
      ]
     },
     "execution_count": 191,
     "metadata": {},
     "output_type": "execute_result"
    }
   ],
   "source": [
    "df_trabajo[\"Sex\"].unique()"
   ]
  },
  {
   "cell_type": "code",
   "execution_count": null,
   "id": "e69a4918-c9dd-4306-abf0-24ed29599876",
   "metadata": {
    "id": "0ab4fcb1",
    "outputId": "9888fb60-e83b-42ba-bb61-1b688e855e5c"
   },
   "outputs": [
    {
     "data": {
      "text/plain": [
       "array(['f', 'm', 'notknown'], dtype=object)"
      ]
     },
     "execution_count": 199,
     "metadata": {},
     "output_type": "execute_result"
    }
   ],
   "source": [
    "#df_trabajo2=df_trabajo[(df_trabajo[\"Sex\"]==\"f\")&(df_trabajo[\"Sex\"]==\"m\")]\n",
    "\n",
    "df_trabajo[(df_trabajo[\"Sex\"]!=\"notknown\")]\n",
    "df_trabajo[\"Sex\"].unique()"
   ]
  },
  {
   "cell_type": "code",
   "execution_count": null,
   "id": "23d72917-c7c5-421f-ac01-d68571521244",
   "metadata": {
    "id": "59dd98aa",
    "outputId": "422b4e4e-a359-482a-9c7a-1941ffaccead"
   },
   "outputs": [
    {
     "data": {
      "text/plain": [
       "<AxesSubplot:xlabel='Fatal (Y/N)'>"
      ]
     },
     "execution_count": 209,
     "metadata": {},
     "output_type": "execute_result"
    },
    {
     "data": {
      "image/png": "[encoded data removed]",
      "text/plain": [
       "<Figure size 432x288 with 1 Axes>"
      ]
     },
     "metadata": {},
     "output_type": "display_data"
    }
   ],
   "source": [
    "#Stacked Male and female como de fatal es \n",
    "\n",
    "df2 = df_trabajo.groupby(['Sex', 'Fatal (Y/N)'])['Fatal (Y/N)'].count().unstack('Sex').fillna(0)\n",
    "df2.drop(\"notknown\", inplace=True)\n",
    "df2.drop(labels=\"notknown\", axis=1, inplace=True)\n",
    "#(labels=\"deathes\", axis=1)\n",
    "df2[['m','f']].plot(kind='bar', stacked=True)"
   ]
  },
  {
   "cell_type": "code",
   "execution_count": null,
   "id": "a697d430-0275-4cdc-9ab5-fff8107e886e",
   "metadata": {
    "id": "6d468292",
    "outputId": "10339b55-3570-47f4-b329-5d11c494a631"
   },
   "outputs": [
    {
     "data": {
      "text/plain": [
       "<AxesSubplot:xlabel='Fatal (Y/N)'>"
      ]
     },
     "execution_count": 221,
     "metadata": {},
     "output_type": "execute_result"
    },
    {
     "data": {
      "image/png": "[encoded data removed]",
      "text/plain": [
       "<Figure size 432x288 with 1 Axes>"
      ]
     },
     "metadata": {},
     "output_type": "display_data"
    }
   ],
   "source": [
    "#Stacked Male and female como de fatal es \n",
    "\n",
    "df4 = df_trabajo.groupby(['Type', 'Fatal (Y/N)'])['Fatal (Y/N)'].count().unstack('Type').fillna(0)\n",
    "df4.drop(\"notknown\", inplace=True)\n",
    "df4.drop(labels=\"notknown\", axis=1, inplace=True)\n",
    "#(labels=\"deathes\", axis=1)\n",
    "df4.plot(kind='bar', stacked=True)"
   ]
  },
  {
   "cell_type": "code",
   "execution_count": null,
   "id": "88a44db1-7d4d-479a-a19e-4fc1b42bf958",
   "metadata": {
    "id": "a78ef1a7",
    "outputId": "502757cd-b5c9-4c95-d4ff-39a52de1c391"
   },
   "outputs": [
    {
     "data": {
      "text/plain": [
       "<AxesSubplot:xlabel='Type'>"
      ]
     },
     "execution_count": 224,
     "metadata": {},
     "output_type": "execute_result"
    },
    {
     "data": {
      "image/png": "[encoded data removed]",
      "text/plain": [
       "<Figure size 432x288 with 1 Axes>"
      ]
     },
     "metadata": {},
     "output_type": "display_data"
    }
   ],
   "source": [
    "df4 = df_trabajo.groupby(['Sex', 'Type'])['Type'].count().unstack('Sex').fillna(0)\n",
    "df4.drop(\"notknown\", inplace=True)\n",
    "df4.drop(labels=\"notknown\", axis=1, inplace=True)\n",
    "#(labels=\"deathes\", axis=1)\n",
    "df4.plot(kind='bar', stacked=True)"
   ]
  },
  {
   "cell_type": "code",
   "execution_count": null,
   "id": "ded3c46e-44df-4093-a565-998be94e824c",
   "metadata": {
    "id": "82775db0",
    "outputId": "acb0f72a-6921-439b-9b95-b17ea65dc16b"
   },
   "outputs": [
    {
     "data": {
      "text/html": [
       "<div>\n",
       "<style scoped>\n",
       "    .dataframe tbody tr th:only-of-type {\n",
       "        vertical-align: middle;\n",
       "    }\n",
       "\n",
       "    .dataframe tbody tr th {\n",
       "        vertical-align: top;\n",
       "    }\n",
       "\n",
       "    .dataframe thead th {\n",
       "        text-align: right;\n",
       "    }\n",
       "</style>\n",
       "<table border=\"1\" class=\"dataframe\">\n",
       "  <thead>\n",
       "    <tr style=\"text-align: right;\">\n",
       "      <th></th>\n",
       "      <th>Sex</th>\n",
       "      <th>Fatal (Y/N)</th>\n",
       "      <th>Date_normalize</th>\n",
       "      <th>Year_Date</th>\n",
       "      <th>Month_Date</th>\n",
       "      <th>Country</th>\n",
       "      <th>Day_Date</th>\n",
       "      <th>Age_normalize</th>\n",
       "      <th>Type</th>\n",
       "    </tr>\n",
       "  </thead>\n",
       "  <tbody>\n",
       "    <tr>\n",
       "      <th>0</th>\n",
       "      <td>f</td>\n",
       "      <td>n</td>\n",
       "      <td>2018-06-25</td>\n",
       "      <td>2018</td>\n",
       "      <td>6</td>\n",
       "      <td>united states</td>\n",
       "      <td>Monday</td>\n",
       "      <td>57</td>\n",
       "      <td>Boating</td>\n",
       "    </tr>\n",
       "    <tr>\n",
       "      <th>1</th>\n",
       "      <td>f</td>\n",
       "      <td>n</td>\n",
       "      <td>2018-06-18</td>\n",
       "      <td>2018</td>\n",
       "      <td>6</td>\n",
       "      <td>united states</td>\n",
       "      <td>Monday</td>\n",
       "      <td>11</td>\n",
       "      <td>Unprovoked</td>\n",
       "    </tr>\n",
       "    <tr>\n",
       "      <th>2</th>\n",
       "      <td>m</td>\n",
       "      <td>n</td>\n",
       "      <td>2018-06-09</td>\n",
       "      <td>2018</td>\n",
       "      <td>6</td>\n",
       "      <td>united states</td>\n",
       "      <td>Saturday</td>\n",
       "      <td>48</td>\n",
       "      <td>Invalid</td>\n",
       "    </tr>\n",
       "    <tr>\n",
       "      <th>3</th>\n",
       "      <td>m</td>\n",
       "      <td>n</td>\n",
       "      <td>2018-06-08</td>\n",
       "      <td>2018</td>\n",
       "      <td>6</td>\n",
       "      <td>australia</td>\n",
       "      <td>Friday</td>\n",
       "      <td>0</td>\n",
       "      <td>Unprovoked</td>\n",
       "    </tr>\n",
       "    <tr>\n",
       "      <th>4</th>\n",
       "      <td>m</td>\n",
       "      <td>n</td>\n",
       "      <td>2018-06-04</td>\n",
       "      <td>2018</td>\n",
       "      <td>6</td>\n",
       "      <td>mexico</td>\n",
       "      <td>Monday</td>\n",
       "      <td>0</td>\n",
       "      <td>Provoked</td>\n",
       "    </tr>\n",
       "    <tr>\n",
       "      <th>...</th>\n",
       "      <td>...</td>\n",
       "      <td>...</td>\n",
       "      <td>...</td>\n",
       "      <td>...</td>\n",
       "      <td>...</td>\n",
       "      <td>...</td>\n",
       "      <td>...</td>\n",
       "      <td>...</td>\n",
       "      <td>...</td>\n",
       "    </tr>\n",
       "    <tr>\n",
       "      <th>6297</th>\n",
       "      <td>m</td>\n",
       "      <td>y</td>\n",
       "      <td>2030-01-01</td>\n",
       "      <td>2030</td>\n",
       "      <td>1</td>\n",
       "      <td>australia</td>\n",
       "      <td>Tuesday</td>\n",
       "      <td>0</td>\n",
       "      <td>Unprovoked</td>\n",
       "    </tr>\n",
       "    <tr>\n",
       "      <th>6298</th>\n",
       "      <td>m</td>\n",
       "      <td>y</td>\n",
       "      <td>2030-01-01</td>\n",
       "      <td>2030</td>\n",
       "      <td>1</td>\n",
       "      <td>australia</td>\n",
       "      <td>Tuesday</td>\n",
       "      <td>0</td>\n",
       "      <td>Unprovoked</td>\n",
       "    </tr>\n",
       "    <tr>\n",
       "      <th>6299</th>\n",
       "      <td>m</td>\n",
       "      <td>y</td>\n",
       "      <td>2030-01-01</td>\n",
       "      <td>2030</td>\n",
       "      <td>1</td>\n",
       "      <td>united states</td>\n",
       "      <td>Tuesday</td>\n",
       "      <td>0</td>\n",
       "      <td>Unprovoked</td>\n",
       "    </tr>\n",
       "    <tr>\n",
       "      <th>6300</th>\n",
       "      <td>m</td>\n",
       "      <td>y</td>\n",
       "      <td>2030-01-01</td>\n",
       "      <td>2030</td>\n",
       "      <td>1</td>\n",
       "      <td>panama</td>\n",
       "      <td>Tuesday</td>\n",
       "      <td>0</td>\n",
       "      <td>Unprovoked</td>\n",
       "    </tr>\n",
       "    <tr>\n",
       "      <th>6301</th>\n",
       "      <td>m</td>\n",
       "      <td>y</td>\n",
       "      <td>2030-01-01</td>\n",
       "      <td>2030</td>\n",
       "      <td>1</td>\n",
       "      <td>sri lanka</td>\n",
       "      <td>Tuesday</td>\n",
       "      <td>15</td>\n",
       "      <td>Unprovoked</td>\n",
       "    </tr>\n",
       "  </tbody>\n",
       "</table>\n",
       "<p>6302 rows × 9 columns</p>\n",
       "</div>"
      ],
      "text/plain": [
       "     Sex Fatal (Y/N) Date_normalize  Year_Date  Month_Date        Country  \\\n",
       "0      f           n     2018-06-25       2018           6  united states   \n",
       "1      f           n     2018-06-18       2018           6  united states   \n",
       "2      m           n     2018-06-09       2018           6  united states   \n",
       "3      m           n     2018-06-08       2018           6      australia   \n",
       "4      m           n     2018-06-04       2018           6         mexico   \n",
       "...   ..         ...            ...        ...         ...            ...   \n",
       "6297   m           y     2030-01-01       2030           1      australia   \n",
       "6298   m           y     2030-01-01       2030           1      australia   \n",
       "6299   m           y     2030-01-01       2030           1  united states   \n",
       "6300   m           y     2030-01-01       2030           1         panama   \n",
       "6301   m           y     2030-01-01       2030           1      sri lanka   \n",
       "\n",
       "      Day_Date  Age_normalize        Type  \n",
       "0       Monday             57     Boating  \n",
       "1       Monday             11  Unprovoked  \n",
       "2     Saturday             48     Invalid  \n",
       "3       Friday              0  Unprovoked  \n",
       "4       Monday              0    Provoked  \n",
       "...        ...            ...         ...  \n",
       "6297   Tuesday              0  Unprovoked  \n",
       "6298   Tuesday              0  Unprovoked  \n",
       "6299   Tuesday              0  Unprovoked  \n",
       "6300   Tuesday              0  Unprovoked  \n",
       "6301   Tuesday             15  Unprovoked  \n",
       "\n",
       "[6302 rows x 9 columns]"
      ]
     },
     "execution_count": 212,
     "metadata": {},
     "output_type": "execute_result"
    }
   ],
   "source": [
    "df_trabajo"
   ]
  },
  {
   "cell_type": "code",
   "execution_count": null,
   "id": "5cda214b-c539-4c46-8fd7-9647930d9cc5",
   "metadata": {
    "id": "8fedbbb7",
    "outputId": "c5f9ab2d-b4f5-4614-8b28-29f82627da9f"
   },
   "outputs": [
    {
     "data": {
      "text/plain": [
       "<AxesSubplot:xlabel='Year_Date'>"
      ]
     },
     "execution_count": 214,
     "metadata": {},
     "output_type": "execute_result"
    },
    {
     "data": {
      "image/png": "[encoded data removed]",
      "text/plain": [
       "<Figure size 432x288 with 1 Axes>"
      ]
     },
     "metadata": {},
     "output_type": "display_data"
    }
   ],
   "source": [
    "\n",
    "# Información sobre año y sexo \n",
    "\n",
    "df3 = df_trabajo.groupby(['Sex', 'Year_Date'])['Year_Date'].count().unstack('Sex').fillna(0)\n",
    "#df2.drop(\"notknown\", inplace=True)\n",
    "#df2.drop(labels=\"notknown\", axis=1, inplace=True)\n",
    "#(labels=\"deathes\", axis=1)\n",
    "df3[['m','f']].plot(kind='bar', stacked=True)"
   ]
  },
  {
   "cell_type": "code",
   "execution_count": null,
   "id": "21ac6f6e-1d1a-4910-a0a0-cd3424ea5a3b",
   "metadata": {
    "id": "a5b43d6a",
    "outputId": "91f2bae0-8772-443a-d8af-b5b00e0991fe"
   },
   "outputs": [
    {
     "ename": "ValueError",
     "evalue": "Grouper for 'Sex' not 1-dimensional",
     "output_type": "error",
     "traceback": [
      "\u001b[0;31m---------------------------------------------------------------------------\u001b[0m",
      "\u001b[0;31mValueError\u001b[0m                                Traceback (most recent call last)",
      "\u001b[0;32m/var/folders/tf/rz5n948x1cg84z_rbyrb2m719v3wpn/T/ipykernel_43640/2737695442.py\u001b[0m in \u001b[0;36m<module>\u001b[0;34m\u001b[0m\n\u001b[0;32m----> 1\u001b[0;31m \u001b[0mpivot\u001b[0m \u001b[0;34m=\u001b[0m \u001b[0mpd\u001b[0m\u001b[0;34m.\u001b[0m\u001b[0mpivot_table\u001b[0m\u001b[0;34m(\u001b[0m\u001b[0mdata\u001b[0m\u001b[0;34m=\u001b[0m\u001b[0mdf\u001b[0m\u001b[0;34m,\u001b[0m \u001b[0mindex\u001b[0m\u001b[0;34m=\u001b[0m\u001b[0;34m[\u001b[0m\u001b[0;34m'Sex'\u001b[0m\u001b[0;34m]\u001b[0m\u001b[0;34m,\u001b[0m \u001b[0mcolumns\u001b[0m\u001b[0;34m=\u001b[0m\u001b[0;34m[\u001b[0m\u001b[0;34m'Fatal (Y/N)'\u001b[0m\u001b[0;34m]\u001b[0m\u001b[0;34m,\u001b[0m \u001b[0mvalues\u001b[0m\u001b[0;34m=\u001b[0m\u001b[0;34m(\u001b[0m\u001b[0;34m\"Sex\"\u001b[0m\u001b[0;34m)\u001b[0m\u001b[0;34m,\u001b[0m \u001b[0maggfunc\u001b[0m\u001b[0;34m=\u001b[0m\u001b[0;34m\"count\"\u001b[0m\u001b[0;34m)\u001b[0m\u001b[0;34m\u001b[0m\u001b[0;34m\u001b[0m\u001b[0m\n\u001b[0m",
      "\u001b[0;32m~/opt/anaconda3/lib/python3.9/site-packages/pandas/core/reshape/pivot.py\u001b[0m in \u001b[0;36mpivot_table\u001b[0;34m(data, values, index, columns, aggfunc, fill_value, margins, dropna, margins_name, observed, sort)\u001b[0m\n\u001b[1;32m     93\u001b[0m         \u001b[0;32mreturn\u001b[0m \u001b[0mtable\u001b[0m\u001b[0;34m.\u001b[0m\u001b[0m__finalize__\u001b[0m\u001b[0;34m(\u001b[0m\u001b[0mdata\u001b[0m\u001b[0;34m,\u001b[0m \u001b[0mmethod\u001b[0m\u001b[0;34m=\u001b[0m\u001b[0;34m\"pivot_table\"\u001b[0m\u001b[0;34m)\u001b[0m\u001b[0;34m\u001b[0m\u001b[0;34m\u001b[0m\u001b[0m\n\u001b[1;32m     94\u001b[0m \u001b[0;34m\u001b[0m\u001b[0m\n\u001b[0;32m---> 95\u001b[0;31m     table = __internal_pivot_table(\n\u001b[0m\u001b[1;32m     96\u001b[0m         \u001b[0mdata\u001b[0m\u001b[0;34m,\u001b[0m\u001b[0;34m\u001b[0m\u001b[0;34m\u001b[0m\u001b[0m\n\u001b[1;32m     97\u001b[0m         \u001b[0mvalues\u001b[0m\u001b[0;34m,\u001b[0m\u001b[0;34m\u001b[0m\u001b[0;34m\u001b[0m\u001b[0m\n",
      "\u001b[0;32m~/opt/anaconda3/lib/python3.9/site-packages/pandas/core/reshape/pivot.py\u001b[0m in \u001b[0;36m__internal_pivot_table\u001b[0;34m(data, values, index, columns, aggfunc, fill_value, margins, dropna, margins_name, observed, sort)\u001b[0m\n\u001b[1;32m    162\u001b[0m         \u001b[0mvalues\u001b[0m \u001b[0;34m=\u001b[0m \u001b[0mlist\u001b[0m\u001b[0;34m(\u001b[0m\u001b[0mvalues\u001b[0m\u001b[0;34m)\u001b[0m\u001b[0;34m\u001b[0m\u001b[0;34m\u001b[0m\u001b[0m\n\u001b[1;32m    163\u001b[0m \u001b[0;34m\u001b[0m\u001b[0m\n\u001b[0;32m--> 164\u001b[0;31m     \u001b[0mgrouped\u001b[0m \u001b[0;34m=\u001b[0m \u001b[0mdata\u001b[0m\u001b[0;34m.\u001b[0m\u001b[0mgroupby\u001b[0m\u001b[0;34m(\u001b[0m\u001b[0mkeys\u001b[0m\u001b[0;34m,\u001b[0m \u001b[0mobserved\u001b[0m\u001b[0;34m=\u001b[0m\u001b[0mobserved\u001b[0m\u001b[0;34m,\u001b[0m \u001b[0msort\u001b[0m\u001b[0;34m=\u001b[0m\u001b[0msort\u001b[0m\u001b[0;34m)\u001b[0m\u001b[0;34m\u001b[0m\u001b[0;34m\u001b[0m\u001b[0m\n\u001b[0m\u001b[1;32m    165\u001b[0m     \u001b[0magged\u001b[0m \u001b[0;34m=\u001b[0m \u001b[0mgrouped\u001b[0m\u001b[0;34m.\u001b[0m\u001b[0magg\u001b[0m\u001b[0;34m(\u001b[0m\u001b[0maggfunc\u001b[0m\u001b[0;34m)\u001b[0m\u001b[0;34m\u001b[0m\u001b[0;34m\u001b[0m\u001b[0m\n\u001b[1;32m    166\u001b[0m     \u001b[0;32mif\u001b[0m \u001b[0mdropna\u001b[0m \u001b[0;32mand\u001b[0m \u001b[0misinstance\u001b[0m\u001b[0;34m(\u001b[0m\u001b[0magged\u001b[0m\u001b[0;34m,\u001b[0m \u001b[0mABCDataFrame\u001b[0m\u001b[0;34m)\u001b[0m \u001b[0;32mand\u001b[0m \u001b[0mlen\u001b[0m\u001b[0;34m(\u001b[0m\u001b[0magged\u001b[0m\u001b[0;34m.\u001b[0m\u001b[0mcolumns\u001b[0m\u001b[0;34m)\u001b[0m\u001b[0;34m:\u001b[0m\u001b[0;34m\u001b[0m\u001b[0;34m\u001b[0m\u001b[0m\n",
      "\u001b[0;32m~/opt/anaconda3/lib/python3.9/site-packages/pandas/core/frame.py\u001b[0m in \u001b[0;36mgroupby\u001b[0;34m(self, by, axis, level, as_index, sort, group_keys, squeeze, observed, dropna)\u001b[0m\n\u001b[1;32m   7629\u001b[0m         \u001b[0;31m# error: Argument \"squeeze\" to \"DataFrameGroupBy\" has incompatible type\u001b[0m\u001b[0;34m\u001b[0m\u001b[0;34m\u001b[0m\u001b[0m\n\u001b[1;32m   7630\u001b[0m         \u001b[0;31m# \"Union[bool, NoDefault]\"; expected \"bool\"\u001b[0m\u001b[0;34m\u001b[0m\u001b[0;34m\u001b[0m\u001b[0m\n\u001b[0;32m-> 7631\u001b[0;31m         return DataFrameGroupBy(\n\u001b[0m\u001b[1;32m   7632\u001b[0m             \u001b[0mobj\u001b[0m\u001b[0;34m=\u001b[0m\u001b[0mself\u001b[0m\u001b[0;34m,\u001b[0m\u001b[0;34m\u001b[0m\u001b[0;34m\u001b[0m\u001b[0m\n\u001b[1;32m   7633\u001b[0m             \u001b[0mkeys\u001b[0m\u001b[0;34m=\u001b[0m\u001b[0mby\u001b[0m\u001b[0;34m,\u001b[0m\u001b[0;34m\u001b[0m\u001b[0;34m\u001b[0m\u001b[0m\n",
      "\u001b[0;32m~/opt/anaconda3/lib/python3.9/site-packages/pandas/core/groupby/groupby.py\u001b[0m in \u001b[0;36m__init__\u001b[0;34m(self, obj, keys, axis, level, grouper, exclusions, selection, as_index, sort, group_keys, squeeze, observed, mutated, dropna)\u001b[0m\n\u001b[1;32m    887\u001b[0m             \u001b[0;32mfrom\u001b[0m \u001b[0mpandas\u001b[0m\u001b[0;34m.\u001b[0m\u001b[0mcore\u001b[0m\u001b[0;34m.\u001b[0m\u001b[0mgroupby\u001b[0m\u001b[0;34m.\u001b[0m\u001b[0mgrouper\u001b[0m \u001b[0;32mimport\u001b[0m \u001b[0mget_grouper\u001b[0m\u001b[0;34m\u001b[0m\u001b[0;34m\u001b[0m\u001b[0m\n\u001b[1;32m    888\u001b[0m \u001b[0;34m\u001b[0m\u001b[0m\n\u001b[0;32m--> 889\u001b[0;31m             grouper, exclusions, obj = get_grouper(\n\u001b[0m\u001b[1;32m    890\u001b[0m                 \u001b[0mobj\u001b[0m\u001b[0;34m,\u001b[0m\u001b[0;34m\u001b[0m\u001b[0;34m\u001b[0m\u001b[0m\n\u001b[1;32m    891\u001b[0m                 \u001b[0mkeys\u001b[0m\u001b[0;34m,\u001b[0m\u001b[0;34m\u001b[0m\u001b[0;34m\u001b[0m\u001b[0m\n",
      "\u001b[0;32m~/opt/anaconda3/lib/python3.9/site-packages/pandas/core/groupby/grouper.py\u001b[0m in \u001b[0;36mget_grouper\u001b[0;34m(obj, key, axis, level, sort, observed, mutated, validate, dropna)\u001b[0m\n\u001b[1;32m    855\u001b[0m                     \u001b[0;31m# non-unique columns; raise here to get the name in the\u001b[0m\u001b[0;34m\u001b[0m\u001b[0;34m\u001b[0m\u001b[0m\n\u001b[1;32m    856\u001b[0m                     \u001b[0;31m# exception message\u001b[0m\u001b[0;34m\u001b[0m\u001b[0;34m\u001b[0m\u001b[0m\n\u001b[0;32m--> 857\u001b[0;31m                     \u001b[0;32mraise\u001b[0m \u001b[0mValueError\u001b[0m\u001b[0;34m(\u001b[0m\u001b[0;34mf\"Grouper for '{name}' not 1-dimensional\"\u001b[0m\u001b[0;34m)\u001b[0m\u001b[0;34m\u001b[0m\u001b[0;34m\u001b[0m\u001b[0m\n\u001b[0m\u001b[1;32m    858\u001b[0m                 \u001b[0mexclusions\u001b[0m\u001b[0;34m.\u001b[0m\u001b[0madd\u001b[0m\u001b[0;34m(\u001b[0m\u001b[0mname\u001b[0m\u001b[0;34m)\u001b[0m\u001b[0;34m\u001b[0m\u001b[0;34m\u001b[0m\u001b[0m\n\u001b[1;32m    859\u001b[0m             \u001b[0;32melif\u001b[0m \u001b[0mobj\u001b[0m\u001b[0;34m.\u001b[0m\u001b[0m_is_level_reference\u001b[0m\u001b[0;34m(\u001b[0m\u001b[0mgpr\u001b[0m\u001b[0;34m,\u001b[0m \u001b[0maxis\u001b[0m\u001b[0;34m=\u001b[0m\u001b[0maxis\u001b[0m\u001b[0;34m)\u001b[0m\u001b[0;34m:\u001b[0m\u001b[0;34m\u001b[0m\u001b[0;34m\u001b[0m\u001b[0m\n",
      "\u001b[0;31mValueError\u001b[0m: Grouper for 'Sex' not 1-dimensional"
     ]
    }
   ],
   "source": [
    "pivot = pd.pivot_table(data=df, index=['Sex'], columns=['Fatal (Y/N)'], values=(\"Sex\"), aggfunc=\"count\")"
   ]
  },
  {
   "cell_type": "code",
   "execution_count": null,
   "id": "46f37e1a-8d75-4ed4-9030-e3982186e882",
   "metadata": {
    "id": "c647a8eb",
    "outputId": "3bcce14e-0bb7-4a36-d823-6bd8bf272099"
   },
   "outputs": [
    {
     "data": {
      "text/html": [
       "<div>\n",
       "<style scoped>\n",
       "    .dataframe tbody tr th:only-of-type {\n",
       "        vertical-align: middle;\n",
       "    }\n",
       "\n",
       "    .dataframe tbody tr th {\n",
       "        vertical-align: top;\n",
       "    }\n",
       "\n",
       "    .dataframe thead th {\n",
       "        text-align: right;\n",
       "    }\n",
       "</style>\n",
       "<table border=\"1\" class=\"dataframe\">\n",
       "  <thead>\n",
       "    <tr style=\"text-align: right;\">\n",
       "      <th></th>\n",
       "      <th>Case Number</th>\n",
       "      <th>Date</th>\n",
       "      <th>Year</th>\n",
       "      <th>Type</th>\n",
       "      <th>Country</th>\n",
       "      <th>Area</th>\n",
       "      <th>Location</th>\n",
       "      <th>Activity</th>\n",
       "      <th>Sex</th>\n",
       "      <th>Age</th>\n",
       "      <th>Fatal (Y/N)</th>\n",
       "      <th>Time</th>\n",
       "      <th>original order</th>\n",
       "      <th>Age_normalize</th>\n",
       "      <th>Date_normalize</th>\n",
       "      <th>Year_Date</th>\n",
       "      <th>Month_Date</th>\n",
       "      <th>Day_Date</th>\n",
       "    </tr>\n",
       "  </thead>\n",
       "  <tbody>\n",
       "    <tr>\n",
       "      <th>0</th>\n",
       "      <td>2018.06.25</td>\n",
       "      <td>25-Jun-2018</td>\n",
       "      <td>2018.0</td>\n",
       "      <td>Boating</td>\n",
       "      <td>united states</td>\n",
       "      <td>California</td>\n",
       "      <td>Oceanside, San Diego County</td>\n",
       "      <td>Paddling</td>\n",
       "      <td>f</td>\n",
       "      <td>57</td>\n",
       "      <td>n</td>\n",
       "      <td>18h00</td>\n",
       "      <td>6303.0</td>\n",
       "      <td>57</td>\n",
       "      <td>2018-06-25</td>\n",
       "      <td>2018</td>\n",
       "      <td>6</td>\n",
       "      <td>Monday</td>\n",
       "    </tr>\n",
       "    <tr>\n",
       "      <th>1</th>\n",
       "      <td>2018.06.18</td>\n",
       "      <td>18-Jun-2018</td>\n",
       "      <td>2018.0</td>\n",
       "      <td>Unprovoked</td>\n",
       "      <td>united states</td>\n",
       "      <td>Georgia</td>\n",
       "      <td>St. Simon Island, Glynn County</td>\n",
       "      <td>Standing</td>\n",
       "      <td>f</td>\n",
       "      <td>11</td>\n",
       "      <td>n</td>\n",
       "      <td>14h00  -15h00</td>\n",
       "      <td>6302.0</td>\n",
       "      <td>11</td>\n",
       "      <td>2018-06-18</td>\n",
       "      <td>2018</td>\n",
       "      <td>6</td>\n",
       "      <td>Monday</td>\n",
       "    </tr>\n",
       "    <tr>\n",
       "      <th>2</th>\n",
       "      <td>2018.06.09</td>\n",
       "      <td>09-Jun-2018</td>\n",
       "      <td>2018.0</td>\n",
       "      <td>Invalid</td>\n",
       "      <td>united states</td>\n",
       "      <td>Hawaii</td>\n",
       "      <td>Habush, Oahu</td>\n",
       "      <td>Surfing</td>\n",
       "      <td>m</td>\n",
       "      <td>48</td>\n",
       "      <td>n</td>\n",
       "      <td>07h45</td>\n",
       "      <td>6301.0</td>\n",
       "      <td>48</td>\n",
       "      <td>2018-06-09</td>\n",
       "      <td>2018</td>\n",
       "      <td>6</td>\n",
       "      <td>Saturday</td>\n",
       "    </tr>\n",
       "    <tr>\n",
       "      <th>3</th>\n",
       "      <td>2018.06.08</td>\n",
       "      <td>08-Jun-2018</td>\n",
       "      <td>2018.0</td>\n",
       "      <td>Unprovoked</td>\n",
       "      <td>australia</td>\n",
       "      <td>New South Wales</td>\n",
       "      <td>Arrawarra Headland</td>\n",
       "      <td>Surfing</td>\n",
       "      <td>m</td>\n",
       "      <td>NaN</td>\n",
       "      <td>n</td>\n",
       "      <td>NaN</td>\n",
       "      <td>6300.0</td>\n",
       "      <td>0</td>\n",
       "      <td>2018-06-08</td>\n",
       "      <td>2018</td>\n",
       "      <td>6</td>\n",
       "      <td>Friday</td>\n",
       "    </tr>\n",
       "    <tr>\n",
       "      <th>4</th>\n",
       "      <td>2018.06.04</td>\n",
       "      <td>04-Jun-2018</td>\n",
       "      <td>2018.0</td>\n",
       "      <td>Provoked</td>\n",
       "      <td>mexico</td>\n",
       "      <td>Colima</td>\n",
       "      <td>La Ticla</td>\n",
       "      <td>Free diving</td>\n",
       "      <td>m</td>\n",
       "      <td>NaN</td>\n",
       "      <td>n</td>\n",
       "      <td>NaN</td>\n",
       "      <td>6299.0</td>\n",
       "      <td>0</td>\n",
       "      <td>2018-06-04</td>\n",
       "      <td>2018</td>\n",
       "      <td>6</td>\n",
       "      <td>Monday</td>\n",
       "    </tr>\n",
       "    <tr>\n",
       "      <th>...</th>\n",
       "      <td>...</td>\n",
       "      <td>...</td>\n",
       "      <td>...</td>\n",
       "      <td>...</td>\n",
       "      <td>...</td>\n",
       "      <td>...</td>\n",
       "      <td>...</td>\n",
       "      <td>...</td>\n",
       "      <td>...</td>\n",
       "      <td>...</td>\n",
       "      <td>...</td>\n",
       "      <td>...</td>\n",
       "      <td>...</td>\n",
       "      <td>...</td>\n",
       "      <td>...</td>\n",
       "      <td>...</td>\n",
       "      <td>...</td>\n",
       "      <td>...</td>\n",
       "    </tr>\n",
       "    <tr>\n",
       "      <th>6297</th>\n",
       "      <td>ND.0005</td>\n",
       "      <td>Before 1903</td>\n",
       "      <td>0.0</td>\n",
       "      <td>Unprovoked</td>\n",
       "      <td>australia</td>\n",
       "      <td>Western Australia</td>\n",
       "      <td>Roebuck Bay</td>\n",
       "      <td>Diving</td>\n",
       "      <td>m</td>\n",
       "      <td>NaN</td>\n",
       "      <td>y</td>\n",
       "      <td>NaN</td>\n",
       "      <td>6.0</td>\n",
       "      <td>0</td>\n",
       "      <td>2030-01-01</td>\n",
       "      <td>2030</td>\n",
       "      <td>1</td>\n",
       "      <td>Tuesday</td>\n",
       "    </tr>\n",
       "    <tr>\n",
       "      <th>6298</th>\n",
       "      <td>ND.0004</td>\n",
       "      <td>Before 1903</td>\n",
       "      <td>0.0</td>\n",
       "      <td>Unprovoked</td>\n",
       "      <td>australia</td>\n",
       "      <td>Western Australia</td>\n",
       "      <td>NaN</td>\n",
       "      <td>Pearl diving</td>\n",
       "      <td>m</td>\n",
       "      <td>NaN</td>\n",
       "      <td>y</td>\n",
       "      <td>NaN</td>\n",
       "      <td>5.0</td>\n",
       "      <td>0</td>\n",
       "      <td>2030-01-01</td>\n",
       "      <td>2030</td>\n",
       "      <td>1</td>\n",
       "      <td>Tuesday</td>\n",
       "    </tr>\n",
       "    <tr>\n",
       "      <th>6299</th>\n",
       "      <td>ND.0003</td>\n",
       "      <td>1900-1905</td>\n",
       "      <td>0.0</td>\n",
       "      <td>Unprovoked</td>\n",
       "      <td>united states</td>\n",
       "      <td>North Carolina</td>\n",
       "      <td>Ocracoke Inlet</td>\n",
       "      <td>Swimming</td>\n",
       "      <td>m</td>\n",
       "      <td>NaN</td>\n",
       "      <td>y</td>\n",
       "      <td>NaN</td>\n",
       "      <td>4.0</td>\n",
       "      <td>0</td>\n",
       "      <td>2030-01-01</td>\n",
       "      <td>2030</td>\n",
       "      <td>1</td>\n",
       "      <td>Tuesday</td>\n",
       "    </tr>\n",
       "    <tr>\n",
       "      <th>6300</th>\n",
       "      <td>ND.0002</td>\n",
       "      <td>1883-1889</td>\n",
       "      <td>0.0</td>\n",
       "      <td>Unprovoked</td>\n",
       "      <td>panama</td>\n",
       "      <td>NaN</td>\n",
       "      <td>Panama Bay 8ºN, 79ºW</td>\n",
       "      <td>NaN</td>\n",
       "      <td>m</td>\n",
       "      <td>NaN</td>\n",
       "      <td>y</td>\n",
       "      <td>NaN</td>\n",
       "      <td>3.0</td>\n",
       "      <td>0</td>\n",
       "      <td>2030-01-01</td>\n",
       "      <td>2030</td>\n",
       "      <td>1</td>\n",
       "      <td>Tuesday</td>\n",
       "    </tr>\n",
       "    <tr>\n",
       "      <th>6301</th>\n",
       "      <td>ND.0001</td>\n",
       "      <td>1845-1853</td>\n",
       "      <td>0.0</td>\n",
       "      <td>Unprovoked</td>\n",
       "      <td>sri lanka</td>\n",
       "      <td>Eastern Province</td>\n",
       "      <td>Below the English fort, Trincomalee</td>\n",
       "      <td>Swimming</td>\n",
       "      <td>m</td>\n",
       "      <td>15</td>\n",
       "      <td>y</td>\n",
       "      <td>NaN</td>\n",
       "      <td>2.0</td>\n",
       "      <td>15</td>\n",
       "      <td>2030-01-01</td>\n",
       "      <td>2030</td>\n",
       "      <td>1</td>\n",
       "      <td>Tuesday</td>\n",
       "    </tr>\n",
       "  </tbody>\n",
       "</table>\n",
       "<p>6302 rows × 18 columns</p>\n",
       "</div>"
      ],
      "text/plain": [
       "     Case Number         Date    Year        Type        Country  \\\n",
       "0     2018.06.25  25-Jun-2018  2018.0     Boating  united states   \n",
       "1     2018.06.18  18-Jun-2018  2018.0  Unprovoked  united states   \n",
       "2     2018.06.09  09-Jun-2018  2018.0     Invalid  united states   \n",
       "3     2018.06.08  08-Jun-2018  2018.0  Unprovoked      australia   \n",
       "4     2018.06.04  04-Jun-2018  2018.0    Provoked         mexico   \n",
       "...          ...          ...     ...         ...            ...   \n",
       "6297     ND.0005  Before 1903     0.0  Unprovoked      australia   \n",
       "6298     ND.0004  Before 1903     0.0  Unprovoked      australia   \n",
       "6299     ND.0003    1900-1905     0.0  Unprovoked  united states   \n",
       "6300     ND.0002    1883-1889     0.0  Unprovoked         panama   \n",
       "6301     ND.0001    1845-1853     0.0  Unprovoked      sri lanka   \n",
       "\n",
       "                   Area                             Location      Activity  \\\n",
       "0            California          Oceanside, San Diego County      Paddling   \n",
       "1               Georgia       St. Simon Island, Glynn County      Standing   \n",
       "2                Hawaii                         Habush, Oahu       Surfing   \n",
       "3       New South Wales                   Arrawarra Headland       Surfing   \n",
       "4                Colima                             La Ticla   Free diving   \n",
       "...                 ...                                  ...           ...   \n",
       "6297  Western Australia                          Roebuck Bay        Diving   \n",
       "6298  Western Australia                                  NaN  Pearl diving   \n",
       "6299     North Carolina                       Ocracoke Inlet      Swimming   \n",
       "6300                NaN                 Panama Bay 8ºN, 79ºW           NaN   \n",
       "6301   Eastern Province  Below the English fort, Trincomalee      Swimming   \n",
       "\n",
       "     Sex  Age Fatal (Y/N)           Time original order  Age_normalize  \\\n",
       "0      f   57           n          18h00         6303.0             57   \n",
       "1      f   11           n  14h00  -15h00         6302.0             11   \n",
       "2      m   48           n          07h45         6301.0             48   \n",
       "3      m  NaN           n            NaN         6300.0              0   \n",
       "4      m  NaN           n            NaN         6299.0              0   \n",
       "...   ..  ...         ...            ...            ...            ...   \n",
       "6297   m  NaN           y            NaN            6.0              0   \n",
       "6298   m  NaN           y            NaN            5.0              0   \n",
       "6299   m  NaN           y            NaN            4.0              0   \n",
       "6300   m  NaN           y            NaN            3.0              0   \n",
       "6301   m   15           y            NaN            2.0             15   \n",
       "\n",
       "     Date_normalize  Year_Date  Month_Date  Day_Date  \n",
       "0        2018-06-25       2018           6    Monday  \n",
       "1        2018-06-18       2018           6    Monday  \n",
       "2        2018-06-09       2018           6  Saturday  \n",
       "3        2018-06-08       2018           6    Friday  \n",
       "4        2018-06-04       2018           6    Monday  \n",
       "...             ...        ...         ...       ...  \n",
       "6297     2030-01-01       2030           1   Tuesday  \n",
       "6298     2030-01-01       2030           1   Tuesday  \n",
       "6299     2030-01-01       2030           1   Tuesday  \n",
       "6300     2030-01-01       2030           1   Tuesday  \n",
       "6301     2030-01-01       2030           1   Tuesday  \n",
       "\n",
       "[6302 rows x 18 columns]"
      ]
     },
     "execution_count": 165,
     "metadata": {},
     "output_type": "execute_result"
    }
   ],
   "source": [
    "df"
   ]
  },
  {
   "cell_type": "code",
   "execution_count": null,
   "id": "686bb7be-e0c2-400d-84db-af8b7d1ca674",
   "metadata": {
    "id": "de36cf8a",
    "outputId": "0ccc83c2-b06b-4305-85fd-b50820bba611"
   },
   "outputs": [
    {
     "ename": "SyntaxError",
     "evalue": "invalid syntax (1028444526.py, line 1)",
     "output_type": "error",
     "traceback": [
      "\u001b[0;36m  File \u001b[0;32m\"/var/folders/tf/rz5n948x1cg84z_rbyrb2m719v3wpn/T/ipykernel_43640/1028444526.py\"\u001b[0;36m, line \u001b[0;32m1\u001b[0m\n\u001b[0;31m    df.groupby(\"Sex\").agg(\"Fatal (Y/N)\":[\"count\"])\u001b[0m\n\u001b[0m                                       ^\u001b[0m\n\u001b[0;31mSyntaxError\u001b[0m\u001b[0;31m:\u001b[0m invalid syntax\n"
     ]
    }
   ],
   "source": [
    "df.groupby(\"Sex\").agg(\"Fatal (Y/N)\":[\"count\"])"
   ]
  },
  {
   "cell_type": "code",
   "execution_count": null,
   "id": "6ee70d76-e1b0-4ba3-94b0-eee5d451aa8d",
   "metadata": {
    "id": "91949e94",
    "outputId": "d041438f-67e8-4224-feb0-3f60771f5bc2"
   },
   "outputs": [
    {
     "ename": "TypeError",
     "evalue": "lower() got an unexpected keyword argument 'inplace'",
     "output_type": "error",
     "traceback": [
      "\u001b[0;31m---------------------------------------------------------------------------\u001b[0m",
      "\u001b[0;31mTypeError\u001b[0m                                 Traceback (most recent call last)",
      "\u001b[0;32m/var/folders/tf/rz5n948x1cg84z_rbyrb2m719v3wpn/T/ipykernel_43640/2283975469.py\u001b[0m in \u001b[0;36m<module>\u001b[0;34m\u001b[0m\n\u001b[1;32m      1\u001b[0m \u001b[0;31m#Fish consumption per country and year\u001b[0m\u001b[0;34m\u001b[0m\u001b[0;34m\u001b[0m\u001b[0m\n\u001b[1;32m      2\u001b[0m \u001b[0mdf15\u001b[0m \u001b[0;34m=\u001b[0m \u001b[0mpd\u001b[0m\u001b[0;34m.\u001b[0m\u001b[0mread_csv\u001b[0m\u001b[0;34m(\u001b[0m\u001b[0;34mr\"/Users/luis.florit/Documents/Ironhackdev/Proyecto 1/fish-and-seafood-consumption-per-capita.csv\"\u001b[0m\u001b[0;34m,\u001b[0m \u001b[0mencoding\u001b[0m \u001b[0;34m=\u001b[0m\u001b[0;34m\"unicode_escape\"\u001b[0m\u001b[0;34m)\u001b[0m\u001b[0;34m\u001b[0m\u001b[0;34m\u001b[0m\u001b[0m\n\u001b[0;32m----> 3\u001b[0;31m \u001b[0mdf15\u001b[0m\u001b[0;34m[\u001b[0m\u001b[0;34m\"Entity\"\u001b[0m\u001b[0;34m]\u001b[0m\u001b[0;34m.\u001b[0m\u001b[0mstr\u001b[0m\u001b[0;34m.\u001b[0m\u001b[0mlower\u001b[0m\u001b[0;34m(\u001b[0m\u001b[0minplace\u001b[0m\u001b[0;34m=\u001b[0m\u001b[0;32mTrue\u001b[0m\u001b[0;34m)\u001b[0m\u001b[0;34m\u001b[0m\u001b[0;34m\u001b[0m\u001b[0m\n\u001b[0m",
      "\u001b[0;32m~/opt/anaconda3/lib/python3.9/site-packages/pandas/core/strings/accessor.py\u001b[0m in \u001b[0;36mwrapper\u001b[0;34m(self, *args, **kwargs)\u001b[0m\n\u001b[1;32m    114\u001b[0m                 )\n\u001b[1;32m    115\u001b[0m                 \u001b[0;32mraise\u001b[0m \u001b[0mTypeError\u001b[0m\u001b[0;34m(\u001b[0m\u001b[0mmsg\u001b[0m\u001b[0;34m)\u001b[0m\u001b[0;34m\u001b[0m\u001b[0;34m\u001b[0m\u001b[0m\n\u001b[0;32m--> 116\u001b[0;31m             \u001b[0;32mreturn\u001b[0m \u001b[0mfunc\u001b[0m\u001b[0;34m(\u001b[0m\u001b[0mself\u001b[0m\u001b[0;34m,\u001b[0m \u001b[0;34m*\u001b[0m\u001b[0margs\u001b[0m\u001b[0;34m,\u001b[0m \u001b[0;34m**\u001b[0m\u001b[0mkwargs\u001b[0m\u001b[0;34m)\u001b[0m\u001b[0;34m\u001b[0m\u001b[0;34m\u001b[0m\u001b[0m\n\u001b[0m\u001b[1;32m    117\u001b[0m \u001b[0;34m\u001b[0m\u001b[0m\n\u001b[1;32m    118\u001b[0m         \u001b[0mwrapper\u001b[0m\u001b[0;34m.\u001b[0m\u001b[0m__name__\u001b[0m \u001b[0;34m=\u001b[0m \u001b[0mfunc_name\u001b[0m\u001b[0;34m\u001b[0m\u001b[0;34m\u001b[0m\u001b[0m\n",
      "\u001b[0;31mTypeError\u001b[0m: lower() got an unexpected keyword argument 'inplace'"
     ]
    }
   ],
   "source": [
    "#Fish consumption per country and year\n",
    "df15 = pd.read_csv(r\"/Users/luis.florit/Documents/Ironhackdev/Proyecto 1/fish-and-seafood-consumption-per-capita.csv\", encoding =\"unicode_escape\")\n",
    "\n"
   ]
  },
  {
   "cell_type": "code",
   "execution_count": null,
   "id": "aa7ad1eb-e82b-45c7-b7e1-b098e34f23c1",
   "metadata": {
    "id": "1043f50e",
    "outputId": "1c119bad-15ba-49ea-8848-7313c32d72d0"
   },
   "outputs": [
    {
     "data": {
      "text/html": [
       "<div>\n",
       "<style scoped>\n",
       "    .dataframe tbody tr th:only-of-type {\n",
       "        vertical-align: middle;\n",
       "    }\n",
       "\n",
       "    .dataframe tbody tr th {\n",
       "        vertical-align: top;\n",
       "    }\n",
       "\n",
       "    .dataframe thead th {\n",
       "        text-align: right;\n",
       "    }\n",
       "</style>\n",
       "<table border=\"1\" class=\"dataframe\">\n",
       "  <thead>\n",
       "    <tr style=\"text-align: right;\">\n",
       "      <th></th>\n",
       "      <th>Entity</th>\n",
       "      <th>Code</th>\n",
       "      <th>Year</th>\n",
       "      <th>Fish, Seafood- Food supply quantity (kg/capita/yr) (FAO, 2020)</th>\n",
       "    </tr>\n",
       "  </thead>\n",
       "  <tbody>\n",
       "    <tr>\n",
       "      <th>0</th>\n",
       "      <td>Afghanistan</td>\n",
       "      <td>AFG</td>\n",
       "      <td>1961</td>\n",
       "      <td>0.03</td>\n",
       "    </tr>\n",
       "    <tr>\n",
       "      <th>1</th>\n",
       "      <td>Afghanistan</td>\n",
       "      <td>AFG</td>\n",
       "      <td>1962</td>\n",
       "      <td>0.03</td>\n",
       "    </tr>\n",
       "    <tr>\n",
       "      <th>2</th>\n",
       "      <td>Afghanistan</td>\n",
       "      <td>AFG</td>\n",
       "      <td>1963</td>\n",
       "      <td>0.03</td>\n",
       "    </tr>\n",
       "    <tr>\n",
       "      <th>3</th>\n",
       "      <td>Afghanistan</td>\n",
       "      <td>AFG</td>\n",
       "      <td>1964</td>\n",
       "      <td>0.03</td>\n",
       "    </tr>\n",
       "    <tr>\n",
       "      <th>4</th>\n",
       "      <td>Afghanistan</td>\n",
       "      <td>AFG</td>\n",
       "      <td>1965</td>\n",
       "      <td>0.03</td>\n",
       "    </tr>\n",
       "    <tr>\n",
       "      <th>...</th>\n",
       "      <td>...</td>\n",
       "      <td>...</td>\n",
       "      <td>...</td>\n",
       "      <td>...</td>\n",
       "    </tr>\n",
       "    <tr>\n",
       "      <th>11023</th>\n",
       "      <td>Zimbabwe</td>\n",
       "      <td>ZWE</td>\n",
       "      <td>2013</td>\n",
       "      <td>2.82</td>\n",
       "    </tr>\n",
       "    <tr>\n",
       "      <th>11024</th>\n",
       "      <td>Zimbabwe</td>\n",
       "      <td>ZWE</td>\n",
       "      <td>2014</td>\n",
       "      <td>3.39</td>\n",
       "    </tr>\n",
       "    <tr>\n",
       "      <th>11025</th>\n",
       "      <td>Zimbabwe</td>\n",
       "      <td>ZWE</td>\n",
       "      <td>2015</td>\n",
       "      <td>3.82</td>\n",
       "    </tr>\n",
       "    <tr>\n",
       "      <th>11026</th>\n",
       "      <td>Zimbabwe</td>\n",
       "      <td>ZWE</td>\n",
       "      <td>2016</td>\n",
       "      <td>3.79</td>\n",
       "    </tr>\n",
       "    <tr>\n",
       "      <th>11027</th>\n",
       "      <td>Zimbabwe</td>\n",
       "      <td>ZWE</td>\n",
       "      <td>2017</td>\n",
       "      <td>3.73</td>\n",
       "    </tr>\n",
       "  </tbody>\n",
       "</table>\n",
       "<p>11028 rows × 4 columns</p>\n",
       "</div>"
      ],
      "text/plain": [
       "            Entity Code  Year  \\\n",
       "0      Afghanistan  AFG  1961   \n",
       "1      Afghanistan  AFG  1962   \n",
       "2      Afghanistan  AFG  1963   \n",
       "3      Afghanistan  AFG  1964   \n",
       "4      Afghanistan  AFG  1965   \n",
       "...            ...  ...   ...   \n",
       "11023     Zimbabwe  ZWE  2013   \n",
       "11024     Zimbabwe  ZWE  2014   \n",
       "11025     Zimbabwe  ZWE  2015   \n",
       "11026     Zimbabwe  ZWE  2016   \n",
       "11027     Zimbabwe  ZWE  2017   \n",
       "\n",
       "       Fish, Seafood- Food supply quantity (kg/capita/yr) (FAO, 2020)  \n",
       "0                                                   0.03               \n",
       "1                                                   0.03               \n",
       "2                                                   0.03               \n",
       "3                                                   0.03               \n",
       "4                                                   0.03               \n",
       "...                                                  ...               \n",
       "11023                                               2.82               \n",
       "11024                                               3.39               \n",
       "11025                                               3.82               \n",
       "11026                                               3.79               \n",
       "11027                                               3.73               \n",
       "\n",
       "[11028 rows x 4 columns]"
      ]
     },
     "execution_count": 229,
     "metadata": {},
     "output_type": "execute_result"
    }
   ],
   "source": [
    "df15"
   ]
  },
  {
   "cell_type": "code",
   "execution_count": null,
   "id": "25f5cb8b-cab4-4dae-9af8-4a286b5fc1d0",
   "metadata": {
    "id": "79340339",
    "outputId": "d4a38cfa-0b7f-4df5-de8f-e6e7f410ec44"
   },
   "outputs": [
    {
     "data": {
      "text/html": [
       "<div>\n",
       "<style scoped>\n",
       "    .dataframe tbody tr th:only-of-type {\n",
       "        vertical-align: middle;\n",
       "    }\n",
       "\n",
       "    .dataframe tbody tr th {\n",
       "        vertical-align: top;\n",
       "    }\n",
       "\n",
       "    .dataframe thead th {\n",
       "        text-align: right;\n",
       "    }\n",
       "</style>\n",
       "<table border=\"1\" class=\"dataframe\">\n",
       "  <thead>\n",
       "    <tr style=\"text-align: right;\">\n",
       "      <th></th>\n",
       "      <th>Country</th>\n",
       "      <th>Code</th>\n",
       "      <th>Year</th>\n",
       "      <th>kg</th>\n",
       "    </tr>\n",
       "  </thead>\n",
       "  <tbody>\n",
       "    <tr>\n",
       "      <th>0</th>\n",
       "      <td>afghanistan</td>\n",
       "      <td>AFG</td>\n",
       "      <td>1961</td>\n",
       "      <td>0.03</td>\n",
       "    </tr>\n",
       "    <tr>\n",
       "      <th>1</th>\n",
       "      <td>afghanistan</td>\n",
       "      <td>AFG</td>\n",
       "      <td>1962</td>\n",
       "      <td>0.03</td>\n",
       "    </tr>\n",
       "    <tr>\n",
       "      <th>2</th>\n",
       "      <td>afghanistan</td>\n",
       "      <td>AFG</td>\n",
       "      <td>1963</td>\n",
       "      <td>0.03</td>\n",
       "    </tr>\n",
       "    <tr>\n",
       "      <th>3</th>\n",
       "      <td>afghanistan</td>\n",
       "      <td>AFG</td>\n",
       "      <td>1964</td>\n",
       "      <td>0.03</td>\n",
       "    </tr>\n",
       "    <tr>\n",
       "      <th>4</th>\n",
       "      <td>afghanistan</td>\n",
       "      <td>AFG</td>\n",
       "      <td>1965</td>\n",
       "      <td>0.03</td>\n",
       "    </tr>\n",
       "    <tr>\n",
       "      <th>...</th>\n",
       "      <td>...</td>\n",
       "      <td>...</td>\n",
       "      <td>...</td>\n",
       "      <td>...</td>\n",
       "    </tr>\n",
       "    <tr>\n",
       "      <th>11023</th>\n",
       "      <td>zimbabwe</td>\n",
       "      <td>ZWE</td>\n",
       "      <td>2013</td>\n",
       "      <td>2.82</td>\n",
       "    </tr>\n",
       "    <tr>\n",
       "      <th>11024</th>\n",
       "      <td>zimbabwe</td>\n",
       "      <td>ZWE</td>\n",
       "      <td>2014</td>\n",
       "      <td>3.39</td>\n",
       "    </tr>\n",
       "    <tr>\n",
       "      <th>11025</th>\n",
       "      <td>zimbabwe</td>\n",
       "      <td>ZWE</td>\n",
       "      <td>2015</td>\n",
       "      <td>3.82</td>\n",
       "    </tr>\n",
       "    <tr>\n",
       "      <th>11026</th>\n",
       "      <td>zimbabwe</td>\n",
       "      <td>ZWE</td>\n",
       "      <td>2016</td>\n",
       "      <td>3.79</td>\n",
       "    </tr>\n",
       "    <tr>\n",
       "      <th>11027</th>\n",
       "      <td>zimbabwe</td>\n",
       "      <td>ZWE</td>\n",
       "      <td>2017</td>\n",
       "      <td>3.73</td>\n",
       "    </tr>\n",
       "  </tbody>\n",
       "</table>\n",
       "<p>11028 rows × 4 columns</p>\n",
       "</div>"
      ],
      "text/plain": [
       "           Country Code  Year    kg\n",
       "0      afghanistan  AFG  1961  0.03\n",
       "1      afghanistan  AFG  1962  0.03\n",
       "2      afghanistan  AFG  1963  0.03\n",
       "3      afghanistan  AFG  1964  0.03\n",
       "4      afghanistan  AFG  1965  0.03\n",
       "...            ...  ...   ...   ...\n",
       "11023     zimbabwe  ZWE  2013  2.82\n",
       "11024     zimbabwe  ZWE  2014  3.39\n",
       "11025     zimbabwe  ZWE  2015  3.82\n",
       "11026     zimbabwe  ZWE  2016  3.79\n",
       "11027     zimbabwe  ZWE  2017  3.73\n",
       "\n",
       "[11028 rows x 4 columns]"
      ]
     },
     "execution_count": 245,
     "metadata": {},
     "output_type": "execute_result"
    }
   ],
   "source": [
    "df15.rename(columns = {'Fish, Seafood- Food supply quantity (kg/capita/yr) (FAO, 2020)':'kg'}, inplace = True)\n",
    "df15.rename(columns = {'Entity':'Country'}, inplace = True)\n",
    "\n",
    "df15[\"Country\"]=df15[\"Country\"].str.lower()\n",
    "df15"
   ]
  },
  {
   "cell_type": "code",
   "execution_count": null,
   "id": "6ed22117-322c-4fc9-9ee0-74c5a7bc136e",
   "metadata": {
    "id": "5ff0ce40",
    "outputId": "f37c6fc2-6089-4280-cf04-10a6f69d5745"
   },
   "outputs": [
    {
     "ename": "TypeError",
     "evalue": "nlargest() missing 1 required positional argument: 'columns'",
     "output_type": "error",
     "traceback": [
      "\u001b[0;31m---------------------------------------------------------------------------\u001b[0m",
      "\u001b[0;31mTypeError\u001b[0m                                 Traceback (most recent call last)",
      "\u001b[0;32m/var/folders/tf/rz5n948x1cg84z_rbyrb2m719v3wpn/T/ipykernel_43640/3291014111.py\u001b[0m in \u001b[0;36m<module>\u001b[0;34m\u001b[0m\n\u001b[0;32m----> 1\u001b[0;31m \u001b[0mdf15\u001b[0m\u001b[0;34m.\u001b[0m\u001b[0mgroupby\u001b[0m\u001b[0;34m(\u001b[0m\u001b[0mby\u001b[0m\u001b[0;34m=\u001b[0m\u001b[0;34m[\u001b[0m\u001b[0;34m\"Country\"\u001b[0m\u001b[0;34m]\u001b[0m\u001b[0;34m,\u001b[0m \u001b[0mdropna\u001b[0m\u001b[0;34m=\u001b[0m\u001b[0;32mFalse\u001b[0m\u001b[0;34m)\u001b[0m\u001b[0;34m.\u001b[0m\u001b[0msum\u001b[0m\u001b[0;34m(\u001b[0m\u001b[0;34m)\u001b[0m\u001b[0;34m.\u001b[0m\u001b[0mnlargest\u001b[0m\u001b[0;34m(\u001b[0m\u001b[0;36m10\u001b[0m\u001b[0;34m)\u001b[0m\u001b[0;34m.\u001b[0m\u001b[0mplot\u001b[0m\u001b[0;34m.\u001b[0m\u001b[0mbar\u001b[0m\u001b[0;34m(\u001b[0m\u001b[0;34m)\u001b[0m\u001b[0;34m\u001b[0m\u001b[0;34m\u001b[0m\u001b[0m\n\u001b[0m\u001b[1;32m      2\u001b[0m \u001b[0;31m#df15[\"Country\"].sum().nlargest(10).plot.bar()\u001b[0m\u001b[0;34m\u001b[0m\u001b[0;34m\u001b[0m\u001b[0m\n",
      "\u001b[0;31mTypeError\u001b[0m: nlargest() missing 1 required positional argument: 'columns'"
     ]
    }
   ],
   "source": [
    "df15.groupby(by=[\"Country\"], dropna=False).sum().nlargest(10).plot.bar()\n",
    "#df15[\"Country\"].sum().nlargest(10).plot.bar()\n"
   ]
  }
 ],
 "metadata": {
  "kernelspec": {
   "display_name": "Python 3 (ipykernel)",
   "language": "python",
   "name": "python3"
  },
  "language_info": {
   "codemirror_mode": {
    "name": "ipython",
    "version": 3
   },
   "file_extension": ".py",
   "mimetype": "text/x-python",
   "name": "python",
   "nbconvert_exporter": "python",
   "pygments_lexer": "ipython3",
   "version": "3.9.12"
  }
 },
 "nbformat": 4,
 "nbformat_minor": 5
}
