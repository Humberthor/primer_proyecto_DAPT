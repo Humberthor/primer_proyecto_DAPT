{
 "cells": [
  {
   "cell_type": "markdown",
   "id": "347eec0b-2727-459b-b998-95d20ed73a72",
   "metadata": {
    "tags": []
   },
   "source": [
    "# Tipos de analisis"
   ]
  },
  {
   "cell_type": "code",
   "execution_count": null,
   "id": "c5f2b1aa-76d3-4d5b-9139-42da02fd3d13",
   "metadata": {},
   "outputs": [],
   "source": []
  },
  {
   "cell_type": "markdown",
   "id": "9d2a786f-38a0-443d-94df-99670c2c5e87",
   "metadata": {
    "tags": []
   },
   "source": [
    "![Tipos de analisis](https://tudashboard.com/wp-content/uploads/2020/11/info-tipos-de-analisis-de-datos.jpg)"
   ]
  },
  {
   "cell_type": "markdown",
   "id": "82d12d2d-00e9-4b8a-bdf1-40d45c39597b",
   "metadata": {},
   "source": [
    "# nota:\n",
    "cuidado! el verano en EEUU no es el mismo que en Australia\n",
    "efecto poblacional. posible distorsión por región"
   ]
  },
  {
   "cell_type": "code",
   "execution_count": null,
   "id": "8e8b5400-c26b-4996-8a9b-75855bb035f2",
   "metadata": {},
   "outputs": [],
   "source": []
  }
 ],
 "metadata": {
  "kernelspec": {
   "display_name": "Python 3 (ipykernel)",
   "language": "python",
   "name": "python3"
  },
  "language_info": {
   "codemirror_mode": {
    "name": "ipython",
    "version": 3
   },
   "file_extension": ".py",
   "mimetype": "text/x-python",
   "name": "python",
   "nbconvert_exporter": "python",
   "pygments_lexer": "ipython3",
   "version": "3.9.12"
  }
 },
 "nbformat": 4,
 "nbformat_minor": 5
}
